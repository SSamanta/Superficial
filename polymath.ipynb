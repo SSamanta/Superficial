{
 "cells": [
  {
   "cell_type": "markdown",
   "metadata": {},
   "source": [
    "# The PolyMath Computer proof\n",
    "\n",
    "We generate a proof similar to that generated during the PolyMath 14 project. "
   ]
  },
  {
   "cell_type": "code",
   "execution_count": 1,
   "metadata": {},
   "outputs": [
    {
     "data": {
      "text/plain": [
       "\u001b[32mimport \u001b[39m\u001b[36m$cp.$                 \n",
       "\n",
       "\u001b[39m\n",
       "\u001b[32mimport \u001b[39m\u001b[36mfreegroups._, Word._, ProofFinder._, LinearNormProofs._\n",
       "\u001b[39m\n",
       "\u001b[32mimport \u001b[39m\u001b[36mscala.util._\n",
       "\n",
       "\u001b[39m"
      ]
     },
     "execution_count": 1,
     "metadata": {},
     "output_type": "execute_result"
    }
   ],
   "source": [
    "import $cp.bin.`polymath.jar`\n",
    "\n",
    "import freegroups._, Word._, ProofFinder._, LinearNormProofs._\n",
    "import scala.util._\n",
    "\n",
    "repl.pprinter() = {\n",
    "  val p = repl.pprinter()\n",
    "  p.copy(\n",
    "    additionalHandlers = p.additionalHandlers.orElse {\n",
    "      wordHandler\n",
    "    }\n",
    "  )\n",
    "}"
   ]
  },
  {
   "cell_type": "code",
   "execution_count": 2,
   "metadata": {},
   "outputs": [
    {
     "name": "stderr",
     "output_type": "stream",
     "text": [
      "Refined using homogeneity; word: aba̅b̅a, exponent: 1\n",
      "Refined using homogeneity; word: aba̅b̅a, exponent: 2\n",
      "Refined using homogeneity; word: aba̅b̅a, exponent: 3\n",
      "Refined using homogeneity; word: aba̅b̅a, exponent: 4\n",
      "Refined using homogeneity; word: aba̅b̅a, exponent: 5\n",
      "Refined using homogeneity; word: aba̅b̅a, exponent: 6\n",
      "Refined using homogeneity; word: aba̅b̅a, exponent: 7\n",
      "Refined using homogeneity; word: aba̅b̅a, exponent: 8\n",
      "Refined using homogeneity; word: aba̅b̅a, exponent: 9\n",
      "Refined using homogeneity; word: aba̅b̅a, exponent: 10\n",
      "Refined using homogeneity; word: aba̅b̅a, exponent: 11\n",
      "Refined using homogeneity; word: aba̅b̅a, exponent: 12\n",
      "Refined using homogeneity; word: aba̅b̅a, exponent: 13\n",
      "Refined using homogeneity; word: aba̅b̅a, exponent: 14\n",
      "Refined using homogeneity; word: aba̅b̅a, exponent: 15\n",
      "Refined using homogeneity; word: aba̅b̅a, exponent: 16\n"
     ]
    },
    {
     "data": {
      "text/html": [
       "<div class=\"jp-RenderedText\">\n",
       "<pre><code><span style=\"color: rgb(0, 187, 187)\"><span class=\"ansi-cyan-fg\">proofFuture</span></span>: <span style=\"color: rgb(0, 187, 0)\"><span class=\"ansi-green-fg\">monix</span></span>.<span style=\"color: rgb(0, 187, 0)\"><span class=\"ansi-green-fg\">execution</span></span>.<span style=\"color: rgb(0, 187, 0)\"><span class=\"ansi-green-fg\">CancelableFuture</span></span>[(<span style=\"color: rgb(0, 187, 0)\"><span class=\"ansi-green-fg\">String</span></span>, <span style=\"color: rgb(0, 187, 0)\"><span class=\"ansi-green-fg\">String</span></span>)] = <span style=\"color: rgb(0, 187, 0)\"><span class=\"ansi-green-fg\"><style>@keyframes fadein { from { opacity: 0; } to { opacity: 1; } }</style><span style=\"animation: fadein 2s;\"><span style=\"color: yellow\"><span class=\"ansi-yellow-fg\">Success</span></span>(\n",
       "  (\n",
       "    <span style=\"color: rgb(0, 187, 0)\"><span class=\"ansi-green-fg\">\n",
       "## Proof output \n",
       "\n",
       "1. |b| ≤ 1.0\n",
       "2. |a̅ba| ≤ 1.0 using |b| ≤ 1.0\n",
       "3. |a| ≤ 1.0\n",
       "4. |bab̅| ≤ 1.0 using |a| ≤ 1.0\n",
       "5. |b̅| ≤ 1.0\n",
       "6. |ab̅a̅| ≤ 1.0 using |b̅| ≤ 1.0\n",
       "7. |a̅b̅a| ≤ 1.0 using |a̅b̅a| ≤ 1.0 and |e| ≤ 0.0\n",
       "8. |b̅aba̅b̅a| ≤ 2.0 using |b̅ab| ≤ 1.0 and |a̅b̅a| ≤ 1.0\n",
       "9. |ab̅aba̅b̅aa̅| ≤ 2.0 using |b̅aba̅b̅a| ≤ 2.0\n",
       "10. |a̅| ≤ 1.0\n",
       "11. |b̅a̅b| ≤ 1.0 using |a̅| ≤ 1.0\n",
       "12. |b̅ab| ≤ 1.0 using |b̅ab| ≤ 1.0 and |e| ≤ 0.0\n",
       "13. |aba̅b̅ab| ≤ 2.0 using |aba̅| ≤ 1.0 and |b̅ab| ≤ 1.0\n",
       "14. |a̅aba̅b̅aba| ≤ 2.0 using |aba̅b̅ab| ≤ 2.0\n",
       "15. |aaba̅b̅aba̅| ≤ 2.0 using |aaba̅b̅aba̅| ≤ 2.0 and |e| ≤ 0.0\n",
       "16. |ba̅b̅aaba̅b̅aba̅| ≤ 3.0 using |ba̅b̅| ≤ 1.0 and |aaba̅b̅aba̅| ≤ 2.0\n",
       "17. |a̅b̅aba̅b̅aaba̅b̅aba̅| ≤ 4.0 using |a̅b̅a| ≤ 1.0 and |ba̅b̅aaba̅b̅aba̅| ≤ 3.0\n",
       "18. |b̅a̅b̅aba̅b̅aaba̅b̅aba̅b| ≤ 4.0 using |a̅b̅aba̅b̅aaba̅b̅aba̅| ≤ 4.0\n",
       "19. |ba̅b̅aba̅b̅aaba̅b̅aba̅b̅aaba̅b̅aba̅| ≤ 6.0 using |ba̅b̅aba̅b̅aaba̅b̅aba̅b̅| ≤ 4.0 and |aaba̅b̅aba̅| ≤ 2.0\n",
       "20. |a̅b̅aba̅b̅aaba̅b̅aba̅b̅aaba̅b̅aba̅b̅aaba̅b̅aba̅| ≤ 8.0 using |a̅b̅aba̅b̅aa| ≤ 2.0 and |ba̅b̅aba̅b̅aaba̅b̅aba̅b̅aaba̅b̅aba̅| ≤ 6.0\n",
       "21. |b̅a̅b̅aba̅b̅aaba̅b̅aba̅b̅aaba̅b̅aba̅b̅aaba̅b̅aba̅b| ≤ 8.0 using |a̅b̅aba̅b̅aaba̅b̅aba̅b̅aaba̅b̅aba̅b̅aaba̅b̅aba̅| ≤ 8.0\n",
       "22. |ba̅b̅aba̅b̅aaba̅b̅aba̅b̅aaba̅b̅aba̅b̅aaba̅b̅aba̅b̅aaba̅b̅aba̅| ≤ 10.0 using |ba̅b̅aba̅b̅aaba̅b̅aba̅b̅aaba̅b̅aba̅b̅aaba̅b̅aba̅b̅| ≤ 8.0 and |aaba̅b̅aba̅| ≤ 2.0\n",
       "23. |a̅b̅aba̅b̅aaba̅b̅aba̅b̅aaba̅b̅aba̅b̅aaba̅b̅aba̅b̅aaba̅b̅aba̅b̅aaba̅b̅aba̅| ≤ 12.0 using |a̅b̅aba̅b̅aa| ≤ 2.0 and |ba̅b̅aba̅b̅aaba̅b̅aba̅b̅aaba̅b̅aba̅b̅aaba̅b̅aba̅b̅aaba̅b̅aba̅| ≤ 10.0\n",
       "24. |b̅a̅b̅aba̅b̅aaba̅b̅aba̅b̅aaba̅b̅aba̅b̅aaba̅b̅aba̅b̅aaba̅b̅aba̅b̅aaba̅b̅aba̅b| ≤ 12.0 using |a̅b̅aba̅b̅aaba̅b̅aba̅b̅aaba̅b̅aba̅b̅aaba̅b̅aba̅b̅aaba̅b̅aba̅b̅aaba̅b̅aba̅| ≤ 12.0\n",
       "</span></span>...</span></span></span></code></pre>\n",
       "</div>"
      ],
      "text/plain": [
       "\u001b[36mproofFuture\u001b[39m: \u001b[32mmonix\u001b[39m.\u001b[32mexecution\u001b[39m.\u001b[32mCancelableFuture\u001b[39m[(\u001b[32mString\u001b[39m, \u001b[32mString\u001b[39m)] = \u001b[32m\u001b[33mSuccess\u001b[39m(\n",
       "  (\n",
       "    \u001b[32m\n",
       "## Proof output \n",
       "\n",
       "1. |b| ≤ 1.0\n",
       "2. |a̅ba| ≤ 1.0 using |b| ≤ 1.0\n",
       "3. |a| ≤ 1.0\n",
       "4. |bab̅| ≤ 1.0 using |a| ≤ 1.0\n",
       "5. |b̅| ≤ 1.0\n",
       "6. |ab̅a̅| ≤ 1.0 using |b̅| ≤ 1.0\n",
       "7. |a̅b̅a| ≤ 1.0 using |a̅b̅a| ≤ 1.0 and |e| ≤ 0.0\n",
       "8. |b̅aba̅b̅a| ≤ 2.0 using |b̅ab| ≤ 1.0 and |a̅b̅a| ≤ 1.0\n",
       "9. |ab̅aba̅b̅aa̅| ≤ 2.0 using |b̅aba̅b̅a| ≤ 2.0\n",
       "10. |a̅| ≤ 1.0\n",
       "11. |b̅a̅b| ≤ 1.0 using |a̅| ≤ 1.0\n",
       "12. |b̅ab| ≤ 1.0 using |b̅ab| ≤ 1.0 and |e| ≤ 0.0\n",
       "13. |aba̅b̅ab| ≤ 2.0 using |aba̅| ≤ 1.0 and |b̅ab| ≤ 1.0\n",
       "14. |a̅aba̅b̅aba| ≤ 2.0 using |aba̅b̅ab| ≤ 2.0\n",
       "15. |aaba̅b̅aba̅| ≤ 2.0 using |aaba̅b̅aba̅| ≤ 2.0 and |e| ≤ 0.0\n",
       "16. |ba̅b̅aaba̅b̅aba̅| ≤ 3.0 using |ba̅b̅| ≤ 1.0 and |aaba̅b̅aba̅| ≤ 2.0\n",
       "17. |a̅b̅aba̅b̅aaba̅b̅aba̅| ≤ 4.0 using |a̅b̅a| ≤ 1.0 and |ba̅b̅aaba̅b̅aba̅| ≤ 3.0\n",
       "18. |b̅a̅b̅aba̅b̅aaba̅b̅aba̅b| ≤ 4.0 using |a̅b̅aba̅b̅aaba̅b̅aba̅| ≤ 4.0\n",
       "19. |ba̅b̅aba̅b̅aaba̅b̅aba̅b̅aaba̅b̅aba̅| ≤ 6.0 using |ba̅b̅aba̅b̅aaba̅b̅aba̅b̅| ≤ 4.0 and |aaba̅b̅aba̅| ≤ 2.0\n",
       "20. |a̅b̅aba̅b̅aaba̅b̅aba̅b̅aaba̅b̅aba̅b̅aaba̅b̅aba̅| ≤ 8.0 using |a̅b̅aba̅b̅aa| ≤ 2.0 and |ba̅b̅aba̅b̅aaba̅b̅aba̅b̅aaba̅b̅aba̅| ≤ 6.0\n",
       "21. |b̅a̅b̅aba̅b̅aaba̅b̅aba̅b̅aaba̅b̅aba̅b̅aaba̅b̅aba̅b| ≤ 8.0 using |a̅b̅aba̅b̅aaba̅b̅aba̅b̅aaba̅b̅aba̅b̅aaba̅b̅aba̅| ≤ 8.0\n",
       "22. |ba̅b̅aba̅b̅aaba̅b̅aba̅b̅aaba̅b̅aba̅b̅aaba̅b̅aba̅b̅aaba̅b̅aba̅| ≤ 10.0 using |ba̅b̅aba̅b̅aaba̅b̅aba̅b̅aaba̅b̅aba̅b̅aaba̅b̅aba̅b̅| ≤ 8.0 and |aaba̅b̅aba̅| ≤ 2.0\n",
       "23. |a̅b̅aba̅b̅aaba̅b̅aba̅b̅aaba̅b̅aba̅b̅aaba̅b̅aba̅b̅aaba̅b̅aba̅b̅aaba̅b̅aba̅| ≤ 12.0 using |a̅b̅aba̅b̅aa| ≤ 2.0 and |ba̅b̅aba̅b̅aaba̅b̅aba̅b̅aaba̅b̅aba̅b̅aaba̅b̅aba̅b̅aaba̅b̅aba̅| ≤ 10.0\n",
       "24. |b̅a̅b̅aba̅b̅aaba̅b̅aba̅b̅aaba̅b̅aba̅b̅aaba̅b̅aba̅b̅aaba̅b̅aba̅b̅aaba̅b̅aba̅b| ≤ 12.0 using |a̅b̅aba̅b̅aaba̅b̅aba̅b̅aaba̅b̅aba̅b̅aaba̅b̅aba̅b̅aaba̅b̅aba̅b̅aaba̅b̅aba̅| ≤ 12.0\n",
       "\u001b[39m...\u001b[39m"
      ]
     },
     "metadata": {},
     "output_type": "display_data"
    }
   ],
   "source": [
    "val proofFuture = getProofOutputFuture"
   ]
  },
  {
   "cell_type": "markdown",
   "metadata": {},
   "source": [
    "## Viewing the proof\n",
    "\n",
    "* The proof below is formatted in unicode."
   ]
  },
  {
   "cell_type": "code",
   "execution_count": 3,
   "metadata": {},
   "outputs": [
    {
     "data": {
      "text/markdown": [
       "\n",
       "## Proof output \n",
       "\n",
       "1. |b| ≤ 1.0\n",
       "2. |a̅ba| ≤ 1.0 using |b| ≤ 1.0\n",
       "3. |a| ≤ 1.0\n",
       "4. |bab̅| ≤ 1.0 using |a| ≤ 1.0\n",
       "5. |b̅| ≤ 1.0\n",
       "6. |ab̅a̅| ≤ 1.0 using |b̅| ≤ 1.0\n",
       "7. |a̅b̅a| ≤ 1.0 using |a̅b̅a| ≤ 1.0 and |e| ≤ 0.0\n",
       "8. |b̅aba̅b̅a| ≤ 2.0 using |b̅ab| ≤ 1.0 and |a̅b̅a| ≤ 1.0\n",
       "9. |ab̅aba̅b̅aa̅| ≤ 2.0 using |b̅aba̅b̅a| ≤ 2.0\n",
       "10. |a̅| ≤ 1.0\n",
       "11. |b̅a̅b| ≤ 1.0 using |a̅| ≤ 1.0\n",
       "12. |b̅ab| ≤ 1.0 using |b̅ab| ≤ 1.0 and |e| ≤ 0.0\n",
       "13. |aba̅b̅ab| ≤ 2.0 using |aba̅| ≤ 1.0 and |b̅ab| ≤ 1.0\n",
       "14. |a̅aba̅b̅aba| ≤ 2.0 using |aba̅b̅ab| ≤ 2.0\n",
       "15. |aaba̅b̅aba̅| ≤ 2.0 using |aaba̅b̅aba̅| ≤ 2.0 and |e| ≤ 0.0\n",
       "16. |ba̅b̅aaba̅b̅aba̅| ≤ 3.0 using |ba̅b̅| ≤ 1.0 and |aaba̅b̅aba̅| ≤ 2.0\n",
       "17. |a̅b̅aba̅b̅aaba̅b̅aba̅| ≤ 4.0 using |a̅b̅a| ≤ 1.0 and |ba̅b̅aaba̅b̅aba̅| ≤ 3.0\n",
       "18. |b̅a̅b̅aba̅b̅aaba̅b̅aba̅b| ≤ 4.0 using |a̅b̅aba̅b̅aaba̅b̅aba̅| ≤ 4.0\n",
       "19. |ba̅b̅aba̅b̅aaba̅b̅aba̅b̅aaba̅b̅aba̅| ≤ 6.0 using |ba̅b̅aba̅b̅aaba̅b̅aba̅b̅| ≤ 4.0 and |aaba̅b̅aba̅| ≤ 2.0\n",
       "20. |a̅b̅aba̅b̅aaba̅b̅aba̅b̅aaba̅b̅aba̅b̅aaba̅b̅aba̅| ≤ 8.0 using |a̅b̅aba̅b̅aa| ≤ 2.0 and |ba̅b̅aba̅b̅aaba̅b̅aba̅b̅aaba̅b̅aba̅| ≤ 6.0\n",
       "21. |b̅a̅b̅aba̅b̅aaba̅b̅aba̅b̅aaba̅b̅aba̅b̅aaba̅b̅aba̅b| ≤ 8.0 using |a̅b̅aba̅b̅aaba̅b̅aba̅b̅aaba̅b̅aba̅b̅aaba̅b̅aba̅| ≤ 8.0\n",
       "22. |ba̅b̅aba̅b̅aaba̅b̅aba̅b̅aaba̅b̅aba̅b̅aaba̅b̅aba̅b̅aaba̅b̅aba̅| ≤ 10.0 using |ba̅b̅aba̅b̅aaba̅b̅aba̅b̅aaba̅b̅aba̅b̅aaba̅b̅aba̅b̅| ≤ 8.0 and |aaba̅b̅aba̅| ≤ 2.0\n",
       "23. |a̅b̅aba̅b̅aaba̅b̅aba̅b̅aaba̅b̅aba̅b̅aaba̅b̅aba̅b̅aaba̅b̅aba̅b̅aaba̅b̅aba̅| ≤ 12.0 using |a̅b̅aba̅b̅aa| ≤ 2.0 and |ba̅b̅aba̅b̅aaba̅b̅aba̅b̅aaba̅b̅aba̅b̅aaba̅b̅aba̅b̅aaba̅b̅aba̅| ≤ 10.0\n",
       "24. |b̅a̅b̅aba̅b̅aaba̅b̅aba̅b̅aaba̅b̅aba̅b̅aaba̅b̅aba̅b̅aaba̅b̅aba̅b̅aaba̅b̅aba̅b| ≤ 12.0 using |a̅b̅aba̅b̅aaba̅b̅aba̅b̅aaba̅b̅aba̅b̅aaba̅b̅aba̅b̅aaba̅b̅aba̅b̅aaba̅b̅aba̅| ≤ 12.0\n",
       "25. |ba̅b̅aba̅b̅aaba̅b̅aba̅b̅aaba̅b̅aba̅b̅aaba̅b̅aba̅b̅aaba̅b̅aba̅b̅aaba̅b̅aba̅b̅aaba̅b̅aba̅| ≤ 14.0 using |ba̅b̅aba̅b̅aaba̅b̅aba̅b̅aaba̅b̅aba̅b̅aaba̅b̅aba̅b̅aaba̅b̅aba̅b̅aaba̅b̅aba̅b̅| ≤ 12.0 and |aaba̅b̅aba̅| ≤ 2.0\n",
       "26. |a̅b̅aba̅b̅aaba̅b̅aba̅b̅aaba̅b̅aba̅b̅aaba̅b̅aba̅b̅aaba̅b̅aba̅b̅aaba̅b̅aba̅b̅aaba̅b̅aba̅b̅aaba̅b̅aba̅| ≤ 16.0 using |a̅b̅aba̅b̅aa| ≤ 2.0 and |ba̅b̅aba̅b̅aaba̅b̅aba̅b̅aaba̅b̅aba̅b̅aaba̅b̅aba̅b̅aaba̅b̅aba̅b̅aaba̅b̅aba̅b̅aaba̅b̅aba̅| ≤ 14.0\n",
       "27. |b̅a̅b̅aba̅b̅aaba̅b̅aba̅b̅aaba̅b̅aba̅b̅aaba̅b̅aba̅b̅aaba̅b̅aba̅b̅aaba̅b̅aba̅b̅aaba̅b̅aba̅b̅aaba̅b̅aba̅b| ≤ 16.0 using |a̅b̅aba̅b̅aaba̅b̅aba̅b̅aaba̅b̅aba̅b̅aaba̅b̅aba̅b̅aaba̅b̅aba̅b̅aaba̅b̅aba̅b̅aaba̅b̅aba̅b̅aaba̅b̅aba̅| ≤ 16.0\n",
       "28. |ba̅b̅aba̅b̅aaba̅b̅aba̅b̅aaba̅b̅aba̅b̅aaba̅b̅aba̅b̅aaba̅b̅aba̅b̅aaba̅b̅aba̅b̅aaba̅b̅aba̅b̅aaba̅b̅aba̅b̅aaba̅b̅aba̅| ≤ 18.0 using |ba̅b̅aba̅b̅aaba̅b̅aba̅b̅aaba̅b̅aba̅b̅aaba̅b̅aba̅b̅aaba̅b̅aba̅b̅aaba̅b̅aba̅b̅aaba̅b̅aba̅b̅aaba̅b̅aba̅b̅| ≤ 16.0 and |aaba̅b̅aba̅| ≤ 2.0\n",
       "29. |a̅b̅aba̅b̅aaba̅b̅aba̅b̅aaba̅b̅aba̅b̅aaba̅b̅aba̅b̅aaba̅b̅aba̅b̅aaba̅b̅aba̅b̅aaba̅b̅aba̅b̅aaba̅b̅aba̅b̅aaba̅b̅aba̅b̅aaba̅b̅aba̅| ≤ 20.0 using |a̅b̅aba̅b̅aa| ≤ 2.0 and |ba̅b̅aba̅b̅aaba̅b̅aba̅b̅aaba̅b̅aba̅b̅aaba̅b̅aba̅b̅aaba̅b̅aba̅b̅aaba̅b̅aba̅b̅aaba̅b̅aba̅b̅aaba̅b̅aba̅b̅aaba̅b̅aba̅| ≤ 18.0\n",
       "30. |b̅a̅b̅aba̅b̅aaba̅b̅aba̅b̅aaba̅b̅aba̅b̅aaba̅b̅aba̅b̅aaba̅b̅aba̅b̅aaba̅b̅aba̅b̅aaba̅b̅aba̅b̅aaba̅b̅aba̅b̅aaba̅b̅aba̅b̅aaba̅b̅aba̅b| ≤ 20.0 using |a̅b̅aba̅b̅aaba̅b̅aba̅b̅aaba̅b̅aba̅b̅aaba̅b̅aba̅b̅aaba̅b̅aba̅b̅aaba̅b̅aba̅b̅aaba̅b̅aba̅b̅aaba̅b̅aba̅b̅aaba̅b̅aba̅b̅aaba̅b̅aba̅| ≤ 20.0\n",
       "31. |ba̅b̅aba̅b̅aaba̅b̅aba̅b̅aaba̅b̅aba̅b̅aaba̅b̅aba̅b̅aaba̅b̅aba̅b̅aaba̅b̅aba̅b̅aaba̅b̅aba̅b̅aaba̅b̅aba̅b̅aaba̅b̅aba̅b̅aaba̅b̅aba̅b̅aaba̅b̅aba̅| ≤ 22.0 using |ba̅b̅aba̅b̅aaba̅b̅aba̅b̅aaba̅b̅aba̅b̅aaba̅b̅aba̅b̅aaba̅b̅aba̅b̅aaba̅b̅aba̅b̅aaba̅b̅aba̅b̅aaba̅b̅aba̅b̅aaba̅b̅aba̅b̅aaba̅b̅aba̅b̅| ≤ 20.0 and |aaba̅b̅aba̅| ≤ 2.0\n",
       "32. |a̅b̅aba̅b̅aaba̅b̅aba̅b̅aaba̅b̅aba̅b̅aaba̅b̅aba̅b̅aaba̅b̅aba̅b̅aaba̅b̅aba̅b̅aaba̅b̅aba̅b̅aaba̅b̅aba̅b̅aaba̅b̅aba̅b̅aaba̅b̅aba̅b̅aaba̅b̅aba̅b̅aaba̅b̅aba̅| ≤ 24.0 using |a̅b̅aba̅b̅aa| ≤ 2.0 and |ba̅b̅aba̅b̅aaba̅b̅aba̅b̅aaba̅b̅aba̅b̅aaba̅b̅aba̅b̅aaba̅b̅aba̅b̅aaba̅b̅aba̅b̅aaba̅b̅aba̅b̅aaba̅b̅aba̅b̅aaba̅b̅aba̅b̅aaba̅b̅aba̅b̅aaba̅b̅aba̅| ≤ 22.0\n",
       "33. |b̅a̅b̅aba̅b̅aaba̅b̅aba̅b̅aaba̅b̅aba̅b̅aaba̅b̅aba̅b̅aaba̅b̅aba̅b̅aaba̅b̅aba̅b̅aaba̅b̅aba̅b̅aaba̅b̅aba̅b̅aaba̅b̅aba̅b̅aaba̅b̅aba̅b̅aaba̅b̅aba̅b̅aaba̅b̅aba̅b| ≤ 24.0 using |a̅b̅aba̅b̅aaba̅b̅aba̅b̅aaba̅b̅aba̅b̅aaba̅b̅aba̅b̅aaba̅b̅aba̅b̅aaba̅b̅aba̅b̅aaba̅b̅aba̅b̅aaba̅b̅aba̅b̅aaba̅b̅aba̅b̅aaba̅b̅aba̅b̅aaba̅b̅aba̅b̅aaba̅b̅aba̅| ≤ 24.0\n",
       "34. |ba̅b̅aba̅b̅aaba̅b̅aba̅b̅aaba̅b̅aba̅b̅aaba̅b̅aba̅b̅aaba̅b̅aba̅b̅aaba̅b̅aba̅b̅aaba̅b̅aba̅b̅aaba̅b̅aba̅b̅aaba̅b̅aba̅b̅aaba̅b̅aba̅b̅aaba̅b̅aba̅b̅aaba̅b̅aba̅b̅aaba̅b̅aba̅| ≤ 26.0 using |ba̅b̅aba̅b̅aaba̅b̅aba̅b̅aaba̅b̅aba̅b̅aaba̅b̅aba̅b̅aaba̅b̅aba̅b̅aaba̅b̅aba̅b̅aaba̅b̅aba̅b̅aaba̅b̅aba̅b̅aaba̅b̅aba̅b̅aaba̅b̅aba̅b̅aaba̅b̅aba̅b̅aaba̅b̅aba̅b̅| ≤ 24.0 and |aaba̅b̅aba̅| ≤ 2.0\n",
       "35. |a̅b̅aba̅b̅aaba̅b̅aba̅b̅aaba̅b̅aba̅b̅aaba̅b̅aba̅b̅aaba̅b̅aba̅b̅aaba̅b̅aba̅b̅aaba̅b̅aba̅b̅aaba̅b̅aba̅b̅aaba̅b̅aba̅b̅aaba̅b̅aba̅b̅aaba̅b̅aba̅b̅aaba̅b̅aba̅b̅aaba̅b̅aba̅b̅aaba̅b̅aba̅| ≤ 28.0 using |a̅b̅aba̅b̅aa| ≤ 2.0 and |ba̅b̅aba̅b̅aaba̅b̅aba̅b̅aaba̅b̅aba̅b̅aaba̅b̅aba̅b̅aaba̅b̅aba̅b̅aaba̅b̅aba̅b̅aaba̅b̅aba̅b̅aaba̅b̅aba̅b̅aaba̅b̅aba̅b̅aaba̅b̅aba̅b̅aaba̅b̅aba̅b̅aaba̅b̅aba̅b̅aaba̅b̅aba̅| ≤ 26.0\n",
       "36. |b̅a̅b̅aba̅b̅aaba̅b̅aba̅b̅aaba̅b̅aba̅b̅aaba̅b̅aba̅b̅aaba̅b̅aba̅b̅aaba̅b̅aba̅b̅aaba̅b̅aba̅b̅aaba̅b̅aba̅b̅aaba̅b̅aba̅b̅aaba̅b̅aba̅b̅aaba̅b̅aba̅b̅aaba̅b̅aba̅b̅aaba̅b̅aba̅b̅aaba̅b̅aba̅b| ≤ 28.0 using |a̅b̅aba̅b̅aaba̅b̅aba̅b̅aaba̅b̅aba̅b̅aaba̅b̅aba̅b̅aaba̅b̅aba̅b̅aaba̅b̅aba̅b̅aaba̅b̅aba̅b̅aaba̅b̅aba̅b̅aaba̅b̅aba̅b̅aaba̅b̅aba̅b̅aaba̅b̅aba̅b̅aaba̅b̅aba̅b̅aaba̅b̅aba̅b̅aaba̅b̅aba̅| ≤ 28.0\n",
       "37. |ba̅b̅aba̅b̅aaba̅b̅aba̅b̅aaba̅b̅aba̅b̅aaba̅b̅aba̅b̅aaba̅b̅aba̅b̅aaba̅b̅aba̅b̅aaba̅b̅aba̅b̅aaba̅b̅aba̅b̅aaba̅b̅aba̅b̅aaba̅b̅aba̅b̅aaba̅b̅aba̅b̅aaba̅b̅aba̅b̅aaba̅b̅aba̅b̅aaba̅b̅aba̅b̅aaba̅b̅aba̅| ≤ 30.0 using |ba̅b̅aba̅b̅aaba̅b̅aba̅b̅aaba̅b̅aba̅b̅aaba̅b̅aba̅b̅aaba̅b̅aba̅b̅aaba̅b̅aba̅b̅aaba̅b̅aba̅b̅aaba̅b̅aba̅b̅aaba̅b̅aba̅b̅aaba̅b̅aba̅b̅aaba̅b̅aba̅b̅aaba̅b̅aba̅b̅aaba̅b̅aba̅b̅aaba̅b̅aba̅b̅| ≤ 28.0 and |aaba̅b̅aba̅| ≤ 2.0\n",
       "38. |a̅b̅aba̅b̅aaba̅b̅aba̅b̅aaba̅b̅aba̅b̅aaba̅b̅aba̅b̅aaba̅b̅aba̅b̅aaba̅b̅aba̅b̅aaba̅b̅aba̅b̅aaba̅b̅aba̅b̅aaba̅b̅aba̅b̅aaba̅b̅aba̅b̅aaba̅b̅aba̅b̅aaba̅b̅aba̅b̅aaba̅b̅aba̅b̅aaba̅b̅aba̅b̅aaba̅b̅aba̅b̅aaba̅b̅aba̅| ≤ 32.0 using |a̅b̅aba̅b̅aa| ≤ 2.0 and |ba̅b̅aba̅b̅aaba̅b̅aba̅b̅aaba̅b̅aba̅b̅aaba̅b̅aba̅b̅aaba̅b̅aba̅b̅aaba̅b̅aba̅b̅aaba̅b̅aba̅b̅aaba̅b̅aba̅b̅aaba̅b̅aba̅b̅aaba̅b̅aba̅b̅aaba̅b̅aba̅b̅aaba̅b̅aba̅b̅aaba̅b̅aba̅b̅aaba̅b̅aba̅b̅aaba̅b̅aba̅| ≤ 30.0\n",
       "39. |b̅a̅b̅aba̅b̅aaba̅b̅aba̅b̅aaba̅b̅aba̅b̅aaba̅b̅aba̅b̅aaba̅b̅aba̅b̅aaba̅b̅aba̅b̅aaba̅b̅aba̅b̅aaba̅b̅aba̅b̅aaba̅b̅aba̅b̅aaba̅b̅aba̅b̅aaba̅b̅aba̅b̅aaba̅b̅aba̅b̅aaba̅b̅aba̅b̅aaba̅b̅aba̅b̅aaba̅b̅aba̅b̅aaba̅b̅aba̅b| ≤ 32.0 using |a̅b̅aba̅b̅aaba̅b̅aba̅b̅aaba̅b̅aba̅b̅aaba̅b̅aba̅b̅aaba̅b̅aba̅b̅aaba̅b̅aba̅b̅aaba̅b̅aba̅b̅aaba̅b̅aba̅b̅aaba̅b̅aba̅b̅aaba̅b̅aba̅b̅aaba̅b̅aba̅b̅aaba̅b̅aba̅b̅aaba̅b̅aba̅b̅aaba̅b̅aba̅b̅aaba̅b̅aba̅b̅aaba̅b̅aba̅| ≤ 32.0\n",
       "40. |ba̅b̅aba̅b̅aaba̅b̅aba̅b̅aaba̅b̅aba̅b̅aaba̅b̅aba̅b̅aaba̅b̅aba̅b̅aaba̅b̅aba̅b̅aaba̅b̅aba̅b̅aaba̅b̅aba̅b̅aaba̅b̅aba̅b̅aaba̅b̅aba̅b̅aaba̅b̅aba̅b̅aaba̅b̅aba̅b̅aaba̅b̅aba̅b̅aaba̅b̅aba̅b̅aaba̅b̅aba̅b̅aaba̅b̅aba̅b̅aaba̅b̅aba̅| ≤ 34.0 using |ba̅b̅aba̅b̅aaba̅b̅aba̅b̅aaba̅b̅aba̅b̅aaba̅b̅aba̅b̅aaba̅b̅aba̅b̅aaba̅b̅aba̅b̅aaba̅b̅aba̅b̅aaba̅b̅aba̅b̅aaba̅b̅aba̅b̅aaba̅b̅aba̅b̅aaba̅b̅aba̅b̅aaba̅b̅aba̅b̅aaba̅b̅aba̅b̅aaba̅b̅aba̅b̅aaba̅b̅aba̅b̅aaba̅b̅aba̅b̅| ≤ 32.0 and |aaba̅b̅aba̅| ≤ 2.0\n",
       "41. |a̅b̅aba̅b̅aaba̅b̅aba̅b̅aaba̅b̅aba̅b̅aaba̅b̅aba̅b̅aaba̅b̅aba̅b̅aaba̅b̅aba̅b̅aaba̅b̅aba̅b̅aaba̅b̅aba̅b̅aaba̅b̅aba̅b̅aaba̅b̅aba̅b̅aaba̅b̅aba̅b̅aaba̅b̅aba̅b̅aaba̅b̅aba̅b̅aaba̅b̅aba̅b̅aaba̅b̅aba̅b̅aaba̅b̅aba̅b̅aaba̅b̅aba̅b̅aaba̅b̅aba̅| ≤ 36.0 using |a̅b̅aba̅b̅aa| ≤ 2.0 and |ba̅b̅aba̅b̅aaba̅b̅aba̅b̅aaba̅b̅aba̅b̅aaba̅b̅aba̅b̅aaba̅b̅aba̅b̅aaba̅b̅aba̅b̅aaba̅b̅aba̅b̅aaba̅b̅aba̅b̅aaba̅b̅aba̅b̅aaba̅b̅aba̅b̅aaba̅b̅aba̅b̅aaba̅b̅aba̅b̅aaba̅b̅aba̅b̅aaba̅b̅aba̅b̅aaba̅b̅aba̅b̅aaba̅b̅aba̅b̅aaba̅b̅aba̅| ≤ 34.0\n",
       "42. |b̅a̅b̅aba̅b̅aaba̅b̅aba̅b̅aaba̅b̅aba̅b̅aaba̅b̅aba̅b̅aaba̅b̅aba̅b̅aaba̅b̅aba̅b̅aaba̅b̅aba̅b̅aaba̅b̅aba̅b̅aaba̅b̅aba̅b̅aaba̅b̅aba̅b̅aaba̅b̅aba̅b̅aaba̅b̅aba̅b̅aaba̅b̅aba̅b̅aaba̅b̅aba̅b̅aaba̅b̅aba̅b̅aaba̅b̅aba̅b̅aaba̅b̅aba̅b̅aaba̅b̅aba̅b| ≤ 36.0 using |a̅b̅aba̅b̅aaba̅b̅aba̅b̅aaba̅b̅aba̅b̅aaba̅b̅aba̅b̅aaba̅b̅aba̅b̅aaba̅b̅aba̅b̅aaba̅b̅aba̅b̅aaba̅b̅aba̅b̅aaba̅b̅aba̅b̅aaba̅b̅aba̅b̅aaba̅b̅aba̅b̅aaba̅b̅aba̅b̅aaba̅b̅aba̅b̅aaba̅b̅aba̅b̅aaba̅b̅aba̅b̅aaba̅b̅aba̅b̅aaba̅b̅aba̅b̅aaba̅b̅aba̅| ≤ 36.0\n",
       "43. |ba̅b̅aba̅b̅aaba̅b̅aba̅b̅aaba̅b̅aba̅b̅aaba̅b̅aba̅b̅aaba̅b̅aba̅b̅aaba̅b̅aba̅b̅aaba̅b̅aba̅b̅aaba̅b̅aba̅b̅aaba̅b̅aba̅b̅aaba̅b̅aba̅b̅aaba̅b̅aba̅b̅aaba̅b̅aba̅b̅aaba̅b̅aba̅b̅aaba̅b̅aba̅b̅aaba̅b̅aba̅b̅aaba̅b̅aba̅b̅aaba̅b̅aba̅b̅aaba̅b̅aba̅b̅aaba̅b̅aba̅| ≤ 38.0 using |ba̅b̅aba̅b̅aaba̅b̅aba̅b̅aaba̅b̅aba̅b̅aaba̅b̅aba̅b̅aaba̅b̅aba̅b̅aaba̅b̅aba̅b̅aaba̅b̅aba̅b̅aaba̅b̅aba̅b̅aaba̅b̅aba̅b̅aaba̅b̅aba̅b̅aaba̅b̅aba̅b̅aaba̅b̅aba̅b̅aaba̅b̅aba̅b̅aaba̅b̅aba̅b̅aaba̅b̅aba̅b̅aaba̅b̅aba̅b̅aaba̅b̅aba̅b̅aaba̅b̅aba̅b̅| ≤ 36.0 and |aaba̅b̅aba̅| ≤ 2.0\n",
       "44. |a̅b̅aba̅b̅aaba̅b̅aba̅b̅aaba̅b̅aba̅b̅aaba̅b̅aba̅b̅aaba̅b̅aba̅b̅aaba̅b̅aba̅b̅aaba̅b̅aba̅b̅aaba̅b̅aba̅b̅aaba̅b̅aba̅b̅aaba̅b̅aba̅b̅aaba̅b̅aba̅b̅aaba̅b̅aba̅b̅aaba̅b̅aba̅b̅aaba̅b̅aba̅b̅aaba̅b̅aba̅b̅aaba̅b̅aba̅b̅aaba̅b̅aba̅b̅aaba̅b̅aba̅b̅aaba̅b̅aba̅b̅aaba̅b̅aba̅| ≤ 40.0 using |a̅b̅aba̅b̅aa| ≤ 2.0 and |ba̅b̅aba̅b̅aaba̅b̅aba̅b̅aaba̅b̅aba̅b̅aaba̅b̅aba̅b̅aaba̅b̅aba̅b̅aaba̅b̅aba̅b̅aaba̅b̅aba̅b̅aaba̅b̅aba̅b̅aaba̅b̅aba̅b̅aaba̅b̅aba̅b̅aaba̅b̅aba̅b̅aaba̅b̅aba̅b̅aaba̅b̅aba̅b̅aaba̅b̅aba̅b̅aaba̅b̅aba̅b̅aaba̅b̅aba̅b̅aaba̅b̅aba̅b̅aaba̅b̅aba̅b̅aaba̅b̅aba̅| ≤ 38.0\n",
       "45. |b̅a̅b̅aba̅b̅aaba̅b̅aba̅b̅aaba̅b̅aba̅b̅aaba̅b̅aba̅b̅aaba̅b̅aba̅b̅aaba̅b̅aba̅b̅aaba̅b̅aba̅b̅aaba̅b̅aba̅b̅aaba̅b̅aba̅b̅aaba̅b̅aba̅b̅aaba̅b̅aba̅b̅aaba̅b̅aba̅b̅aaba̅b̅aba̅b̅aaba̅b̅aba̅b̅aaba̅b̅aba̅b̅aaba̅b̅aba̅b̅aaba̅b̅aba̅b̅aaba̅b̅aba̅b̅aaba̅b̅aba̅b̅aaba̅b̅aba̅b| ≤ 40.0 using |a̅b̅aba̅b̅aaba̅b̅aba̅b̅aaba̅b̅aba̅b̅aaba̅b̅aba̅b̅aaba̅b̅aba̅b̅aaba̅b̅aba̅b̅aaba̅b̅aba̅b̅aaba̅b̅aba̅b̅aaba̅b̅aba̅b̅aaba̅b̅aba̅b̅aaba̅b̅aba̅b̅aaba̅b̅aba̅b̅aaba̅b̅aba̅b̅aaba̅b̅aba̅b̅aaba̅b̅aba̅b̅aaba̅b̅aba̅b̅aaba̅b̅aba̅b̅aaba̅b̅aba̅b̅aaba̅b̅aba̅b̅aaba̅b̅aba̅| ≤ 40.0\n",
       "46. |ba̅b̅aba̅b̅aaba̅b̅aba̅b̅aaba̅b̅aba̅b̅aaba̅b̅aba̅b̅aaba̅b̅aba̅b̅aaba̅b̅aba̅b̅aaba̅b̅aba̅b̅aaba̅b̅aba̅b̅aaba̅b̅aba̅b̅aaba̅b̅aba̅b̅aaba̅b̅aba̅b̅aaba̅b̅aba̅b̅aaba̅b̅aba̅b̅aaba̅b̅aba̅b̅aaba̅b̅aba̅b̅aaba̅b̅aba̅b̅aaba̅b̅aba̅b̅aaba̅b̅aba̅b̅aaba̅b̅aba̅b̅aaba̅b̅aba̅b̅a| ≤ 41.0 using |ba̅b̅aba̅b̅aaba̅b̅aba̅b̅aaba̅b̅aba̅b̅aaba̅b̅aba̅b̅aaba̅b̅aba̅b̅aaba̅b̅aba̅b̅aaba̅b̅aba̅b̅aaba̅b̅aba̅b̅aaba̅b̅aba̅b̅aaba̅b̅aba̅b̅aaba̅b̅aba̅b̅aaba̅b̅aba̅b̅aaba̅b̅aba̅b̅aaba̅b̅aba̅b̅aaba̅b̅aba̅b̅aaba̅b̅aba̅b̅aaba̅b̅aba̅b̅aaba̅b̅aba̅b̅aaba̅b̅aba̅b̅aaba̅b̅aba̅b̅| ≤ 40.0 and |a| ≤ 1.0\n",
       "47. |aba̅b̅aba̅b̅aaba̅b̅aba̅b̅aaba̅b̅aba̅b̅aaba̅b̅aba̅b̅aaba̅b̅aba̅b̅aaba̅b̅aba̅b̅aaba̅b̅aba̅b̅aaba̅b̅aba̅b̅aaba̅b̅aba̅b̅aaba̅b̅aba̅b̅aaba̅b̅aba̅b̅aaba̅b̅aba̅b̅aaba̅b̅aba̅b̅aaba̅b̅aba̅b̅aaba̅b̅aba̅b̅aaba̅b̅aba̅b̅aaba̅b̅aba̅b̅aaba̅b̅aba̅b̅aaba̅b̅aba̅b̅aaba̅b̅aba̅b̅a| ≤ 42.0 using |a| ≤ 1.0 and |ba̅b̅aba̅b̅aaba̅b̅aba̅b̅aaba̅b̅aba̅b̅aaba̅b̅aba̅b̅aaba̅b̅aba̅b̅aaba̅b̅aba̅b̅aaba̅b̅aba̅b̅aaba̅b̅aba̅b̅aaba̅b̅aba̅b̅aaba̅b̅aba̅b̅aaba̅b̅aba̅b̅aaba̅b̅aba̅b̅aaba̅b̅aba̅b̅aaba̅b̅aba̅b̅aaba̅b̅aba̅b̅aaba̅b̅aba̅b̅aaba̅b̅aba̅b̅aaba̅b̅aba̅b̅aaba̅b̅aba̅b̅aaba̅b̅aba̅b̅a| ≤ 41.0\n",
       "48. |aba̅b̅aba̅b̅a| ≤ 2.1 using |aba̅b̅aba̅b̅aaba̅b̅aba̅b̅aaba̅b̅aba̅b̅aaba̅b̅aba̅b̅aaba̅b̅aba̅b̅aaba̅b̅aba̅b̅aaba̅b̅aba̅b̅aaba̅b̅aba̅b̅aaba̅b̅aba̅b̅aaba̅b̅aba̅b̅aaba̅b̅aba̅b̅aaba̅b̅aba̅b̅aaba̅b̅aba̅b̅aaba̅b̅aba̅b̅aaba̅b̅aba̅b̅aaba̅b̅aba̅b̅aaba̅b̅aba̅b̅aaba̅b̅aba̅b̅aaba̅b̅aba̅b̅aaba̅b̅aba̅b̅a| ≤ 42.0 by taking 20th power\n",
       "49. |baba̅b̅aba̅b̅ab̅| ≤ 2.1 using |aba̅b̅aba̅b̅a| ≤ 2.1\n",
       "50. |aba̅| ≤ 1.0 using |aba̅| ≤ 1.0 and |e| ≤ 0.0\n",
       "51. |a̅b̅aaba̅| ≤ 2.0 using |a̅b̅a| ≤ 1.0 and |aba̅| ≤ 1.0\n",
       "52. |b̅a̅b̅aaba̅b| ≤ 2.0 using |a̅b̅aaba̅| ≤ 2.0\n",
       "53. |aa| ≤ 2.0 using |a| ≤ 1.0 and |a| ≤ 1.0\n",
       "54. |baab̅| ≤ 2.0 using |aa| ≤ 2.0\n",
       "55. |b̅aab| ≤ 2.0 using |b̅aab| ≤ 2.0 and |e| ≤ 0.0\n",
       "56. |aba̅b̅aab| ≤ 3.0 using |aba̅| ≤ 1.0 and |b̅aab| ≤ 2.0\n",
       "57. |a̅aba̅b̅aaba| ≤ 3.0 using |aba̅b̅aab| ≤ 3.0\n",
       "58. |b̅aaba̅b̅a| ≤ 3.0 using |b̅aab| ≤ 2.0 and |a̅b̅a| ≤ 1.0\n",
       "59. |ab̅aaba̅b̅aa̅| ≤ 3.0 using |b̅aaba̅b̅a| ≤ 3.0\n",
       "60. |aaba̅b̅aaba̅b̅aab| ≤ 5.0 using |aaba̅b̅aaba̅| ≤ 3.0 and |b̅aab| ≤ 2.0\n",
       "61. |ba̅b̅aaba̅b̅aaba̅b̅aaba̅b̅aab| ≤ 7.0 using |ba̅b̅aaba̅b̅| ≤ 2.0 and |aaba̅b̅aaba̅b̅aab| ≤ 5.0\n",
       "62. |a̅ba̅b̅aaba̅b̅aaba̅b̅aaba̅b̅aaba| ≤ 7.0 using |ba̅b̅aaba̅b̅aaba̅b̅aaba̅b̅aab| ≤ 7.0\n",
       "63. |aba̅b̅aaba̅b̅aaba̅b̅aaba̅b̅aaba̅| ≤ 7.0 using |aba̅b̅aaba̅b̅aaba̅b̅aaba̅b̅aaba̅| ≤ 7.0 and |e| ≤ 0.0\n",
       "64. |a̅b̅aaba̅b̅aaba̅b̅aaba̅b̅aaba̅b̅aaba̅| ≤ 8.0 using |a̅b̅a| ≤ 1.0 and |aba̅b̅aaba̅b̅aaba̅b̅aaba̅b̅aaba̅| ≤ 7.0\n",
       "65. |b̅a̅b̅aaba̅b̅aaba̅b̅aaba̅b̅aaba̅b̅aaba̅b| ≤ 8.0 using |a̅b̅aaba̅b̅aaba̅b̅aaba̅b̅aaba̅b̅aaba̅| ≤ 8.0\n",
       "66. |ba̅b̅aaba̅b̅aaba̅b̅aaba̅b̅aaba̅b̅aaba̅b̅| ≤ 8.0 using |ba̅b̅aaba̅b̅aaba̅b̅aaba̅b̅aaba̅b̅aaba̅b̅| ≤ 8.0 and |e| ≤ 0.0\n",
       "67. |a̅b̅aaba̅b̅aaba̅b̅aaba̅b̅aaba̅b̅aaba̅b̅aaba̅b̅aaba̅b̅| ≤ 11.0 using |a̅b̅aaba̅b̅aa| ≤ 3.0 and |ba̅b̅aaba̅b̅aaba̅b̅aaba̅b̅aaba̅b̅aaba̅b̅| ≤ 8.0\n",
       "68. |b̅aaba̅b̅aaba̅b̅aaba̅b̅aaba̅b̅aaba̅b̅aaba̅b̅aaba̅b̅aaba̅b̅| ≤ 13.0 using |b̅aab| ≤ 2.0 and |a̅b̅aaba̅b̅aaba̅b̅aaba̅b̅aaba̅b̅aaba̅b̅aaba̅b̅aaba̅b̅| ≤ 11.0\n",
       "69. |ab̅aaba̅b̅aaba̅b̅aaba̅b̅aaba̅b̅aaba̅b̅aaba̅b̅aaba̅b̅aaba̅b̅a̅| ≤ 13.0 using |b̅aaba̅b̅aaba̅b̅aaba̅b̅aaba̅b̅aaba̅b̅aaba̅b̅aaba̅b̅aaba̅b̅| ≤ 13.0\n",
       "70. |a̅b̅aaba̅b̅aaba̅b̅aaba̅b̅aaba̅b̅aaba̅b̅aaba̅b̅aaba̅b̅aaba̅b̅a| ≤ 13.0 using |a̅b̅aaba̅b̅aaba̅b̅aaba̅b̅aaba̅b̅aaba̅b̅aaba̅b̅aaba̅b̅aaba̅b̅a| ≤ 13.0 and |e| ≤ 0.0\n",
       "71. |b̅aaba̅b̅aaba̅b̅aaba̅b̅aaba̅b̅aaba̅b̅aaba̅b̅aaba̅b̅aaba̅b̅aaba̅b̅a| ≤ 15.0 using |b̅aab| ≤ 2.0 and |a̅b̅aaba̅b̅aaba̅b̅aaba̅b̅aaba̅b̅aaba̅b̅aaba̅b̅aaba̅b̅aaba̅b̅a| ≤ 13.0\n",
       "72. |ab̅aaba̅b̅aaba̅b̅aaba̅b̅aaba̅b̅aaba̅b̅aaba̅b̅aaba̅b̅aaba̅b̅aaba̅b̅aa̅| ≤ 15.0 using |b̅aaba̅b̅aaba̅b̅aaba̅b̅aaba̅b̅aaba̅b̅aaba̅b̅aaba̅b̅aaba̅b̅aaba̅b̅a| ≤ 15.0\n",
       "73. |a̅b̅aaba̅b̅aaba̅b̅aaba̅b̅aaba̅b̅aaba̅b̅aaba̅b̅aaba̅b̅aaba̅b̅aaba̅b̅aa| ≤ 15.0 using |a̅b̅aaba̅b̅aaba̅b̅aaba̅b̅aaba̅b̅aaba̅b̅aaba̅b̅aaba̅b̅aaba̅b̅aaba̅b̅aa| ≤ 15.0 and |e| ≤ 0.0\n",
       "74. |b̅aaba̅b̅aaba̅b̅aaba̅b̅aaba̅b̅aaba̅b̅aaba̅b̅aaba̅b̅aaba̅b̅aaba̅b̅aaba̅b̅aa| ≤ 17.0 using |b̅aab| ≤ 2.0 and |a̅b̅aaba̅b̅aaba̅b̅aaba̅b̅aaba̅b̅aaba̅b̅aaba̅b̅aaba̅b̅aaba̅b̅aaba̅b̅aa| ≤ 15.0\n",
       "75. |aaba̅b̅aaba̅b̅aaba̅b̅aaba̅b̅aaba̅b̅aaba̅b̅aaba̅b̅aaba̅b̅aaba̅b̅aaba̅b̅aaba̅b̅aaba̅b̅aa| ≤ 20.0 using |aaba̅b̅aaba̅| ≤ 3.0 and |b̅aaba̅b̅aaba̅b̅aaba̅b̅aaba̅b̅aaba̅b̅aaba̅b̅aaba̅b̅aaba̅b̅aaba̅b̅aaba̅b̅aa| ≤ 17.0\n",
       "76. |baaba̅b̅aaba̅b̅aaba̅b̅aaba̅b̅aaba̅b̅aaba̅b̅aaba̅b̅aaba̅b̅aaba̅b̅aaba̅b̅aaba̅b̅aaba̅b̅aab̅| ≤ 20.0 using |aaba̅b̅aaba̅b̅aaba̅b̅aaba̅b̅aaba̅b̅aaba̅b̅aaba̅b̅aaba̅b̅aaba̅b̅aaba̅b̅aaba̅b̅aaba̅b̅aa| ≤ 20.0\n",
       "77. |b̅aaba̅b̅aaba̅b̅aaba̅b̅aaba̅b̅aaba̅b̅aaba̅b̅aaba̅b̅aaba̅b̅aaba̅b̅aaba̅b̅aaba̅b̅aaba̅b̅aab| ≤ 20.0 using |b̅aaba̅b̅aaba̅b̅aaba̅b̅aaba̅b̅aaba̅b̅aaba̅b̅aaba̅b̅aaba̅b̅aaba̅b̅aaba̅b̅aaba̅b̅aaba̅b̅aab| ≤ 20.0 and |e| ≤ 0.0\n",
       "78. |aaba̅b̅aaba̅b̅aaba̅b̅aaba̅b̅aaba̅b̅aaba̅b̅aaba̅b̅aaba̅b̅aaba̅b̅aaba̅b̅aaba̅b̅aaba̅b̅aaba̅b̅aaba̅b̅aab| ≤ 23.0 using |aaba̅b̅aaba̅| ≤ 3.0 and |b̅aaba̅b̅aaba̅b̅aaba̅b̅aaba̅b̅aaba̅b̅aaba̅b̅aaba̅b̅aaba̅b̅aaba̅b̅aaba̅b̅aaba̅b̅aaba̅b̅aab| ≤ 20.0\n",
       "79. |ba̅b̅aaba̅b̅aaba̅b̅aaba̅b̅aaba̅b̅aaba̅b̅aaba̅b̅aaba̅b̅aaba̅b̅aaba̅b̅aaba̅b̅aaba̅b̅aaba̅b̅aaba̅b̅aaba̅b̅aaba̅b̅aab| ≤ 25.0 using |ba̅b̅aaba̅b̅| ≤ 2.0 and |aaba̅b̅aaba̅b̅aaba̅b̅aaba̅b̅aaba̅b̅aaba̅b̅aaba̅b̅aaba̅b̅aaba̅b̅aaba̅b̅aaba̅b̅aaba̅b̅aaba̅b̅aaba̅b̅aab| ≤ 23.0\n",
       "80. |a̅ba̅b̅aaba̅b̅aaba̅b̅aaba̅b̅aaba̅b̅aaba̅b̅aaba̅b̅aaba̅b̅aaba̅b̅aaba̅b̅aaba̅b̅aaba̅b̅aaba̅b̅aaba̅b̅aaba̅b̅aaba̅b̅aaba| ≤ 25.0 using |ba̅b̅aaba̅b̅aaba̅b̅aaba̅b̅aaba̅b̅aaba̅b̅aaba̅b̅aaba̅b̅aaba̅b̅aaba̅b̅aaba̅b̅aaba̅b̅aaba̅b̅aaba̅b̅aaba̅b̅aaba̅b̅aab| ≤ 25.0\n",
       "81. |aba̅b̅aaba̅b̅aaba̅b̅aaba̅b̅aaba̅b̅aaba̅b̅aaba̅b̅aaba̅b̅aaba̅b̅aaba̅b̅aaba̅b̅aaba̅b̅aaba̅b̅aaba̅b̅aaba̅b̅aaba̅b̅aaba̅| ≤ 25.0 using |aba̅b̅aaba̅b̅aaba̅b̅aaba̅b̅aaba̅b̅aaba̅b̅aaba̅b̅aaba̅b̅aaba̅b̅aaba̅b̅aaba̅b̅aaba̅b̅aaba̅b̅aaba̅b̅aaba̅b̅aaba̅b̅aaba̅| ≤ 25.0 and |e| ≤ 0.0\n",
       "82. |a̅b̅aaba̅b̅aaba̅b̅aaba̅b̅aaba̅b̅aaba̅b̅aaba̅b̅aaba̅b̅aaba̅b̅aaba̅b̅aaba̅b̅aaba̅b̅aaba̅b̅aaba̅b̅aaba̅b̅aaba̅b̅aaba̅b̅aaba̅| ≤ 26.0 using |a̅b̅a| ≤ 1.0 and |aba̅b̅aaba̅b̅aaba̅b̅aaba̅b̅aaba̅b̅aaba̅b̅aaba̅b̅aaba̅b̅aaba̅b̅aaba̅b̅aaba̅b̅aaba̅b̅aaba̅b̅aaba̅b̅aaba̅b̅aaba̅b̅aaba̅| ≤ 25.0\n",
       "83. |b̅a̅b̅aaba̅b̅aaba̅b̅aaba̅b̅aaba̅b̅aaba̅b̅aaba̅b̅aaba̅b̅aaba̅b̅aaba̅b̅aaba̅b̅aaba̅b̅aaba̅b̅aaba̅b̅aaba̅b̅aaba̅b̅aaba̅b̅aaba̅b| ≤ 26.0 using |a̅b̅aaba̅b̅aaba̅b̅aaba̅b̅aaba̅b̅aaba̅b̅aaba̅b̅aaba̅b̅aaba̅b̅aaba̅b̅aaba̅b̅aaba̅b̅aaba̅b̅aaba̅b̅aaba̅b̅aaba̅b̅aaba̅b̅aaba̅| ≤ 26.0\n",
       "84. |ba̅b̅aaba̅b̅aaba̅b̅aaba̅b̅aaba̅b̅aaba̅b̅aaba̅b̅aaba̅b̅aaba̅b̅aaba̅b̅aaba̅b̅aaba̅b̅aaba̅b̅aaba̅b̅aaba̅b̅aaba̅b̅aaba̅b̅aaba̅b̅a| ≤ 27.0 using |ba̅b̅aaba̅b̅aaba̅b̅aaba̅b̅aaba̅b̅aaba̅b̅aaba̅b̅aaba̅b̅aaba̅b̅aaba̅b̅aaba̅b̅aaba̅b̅aaba̅b̅aaba̅b̅aaba̅b̅aaba̅b̅aaba̅b̅aaba̅b̅| ≤ 26.0 and |a| ≤ 1.0\n",
       "85. |aba̅b̅aaba̅b̅aaba̅b̅aaba̅b̅aaba̅b̅aaba̅b̅aaba̅b̅aaba̅b̅aaba̅b̅aaba̅b̅aaba̅b̅aaba̅b̅aaba̅b̅aaba̅b̅aaba̅b̅aaba̅b̅aaba̅b̅aaba̅b̅a| ≤ 28.0 using |a| ≤ 1.0 and |ba̅b̅aaba̅b̅aaba̅b̅aaba̅b̅aaba̅b̅aaba̅b̅aaba̅b̅aaba̅b̅aaba̅b̅aaba̅b̅aaba̅b̅aaba̅b̅aaba̅b̅aaba̅b̅aaba̅b̅aaba̅b̅aaba̅b̅aaba̅b̅a| ≤ 27.0\n",
       "86. |aba̅b̅a| ≤ 1.5555555555555556 using |aba̅b̅aaba̅b̅aaba̅b̅aaba̅b̅aaba̅b̅aaba̅b̅aaba̅b̅aaba̅b̅aaba̅b̅aaba̅b̅aaba̅b̅aaba̅b̅aaba̅b̅aaba̅b̅aaba̅b̅aaba̅b̅aaba̅b̅aaba̅b̅a| ≤ 28.0 by taking 18th power\n",
       "87. |baba̅b̅ab̅| ≤ 1.5555555555555556 using |aba̅b̅a| ≤ 1.5555555555555556\n",
       "88. |b̅aba̅b̅ab| ≤ 1.5555555555555556 using |b̅aba̅b̅ab| ≤ 1.5555555555555556 and |e| ≤ 0.0\n",
       "89. |aba̅b̅aba̅b̅ab| ≤ 2.5555555555555554 using |aba̅| ≤ 1.0 and |b̅aba̅b̅ab| ≤ 1.5555555555555556\n",
       "90. |a̅aba̅b̅aba̅b̅aba| ≤ 2.5555555555555554 using |aba̅b̅aba̅b̅ab| ≤ 2.5555555555555554\n",
       "91. |b̅aba̅b̅aba̅b̅ab| ≤ 2.1 using |b̅aba̅b̅aba̅b̅ab| ≤ 2.1 and |e| ≤ 0.0\n",
       "92. |aaba̅b̅aba̅b̅aba̅b̅aba̅b̅aba̅b̅ab| ≤ 4.655555555555555 using |aaba̅b̅aba̅b̅aba̅| ≤ 2.5555555555555554 and |b̅aba̅b̅aba̅b̅ab| ≤ 2.1\n",
       "93. |ba̅b̅aaba̅b̅aba̅b̅aba̅b̅aba̅b̅aba̅b̅ab| ≤ 5.655555555555555 using |ba̅b̅| ≤ 1.0 and |aaba̅b̅aba̅b̅aba̅b̅aba̅b̅aba̅b̅ab| ≤ 4.655555555555555\n",
       "94. |a̅ba̅b̅aaba̅b̅aba̅b̅aba̅b̅aba̅b̅aba̅b̅aba| ≤ 5.655555555555555 using |ba̅b̅aaba̅b̅aba̅b̅aba̅b̅aba̅b̅aba̅b̅ab| ≤ 5.655555555555555\n",
       "95. |aba̅b̅aba̅b̅aba̅b̅ab| ≤ 3.1 using |aba̅| ≤ 1.0 and |b̅aba̅b̅aba̅b̅ab| ≤ 2.1\n",
       "96. |a̅aba̅b̅aba̅b̅aba̅b̅aba| ≤ 3.1 using |aba̅b̅aba̅b̅aba̅b̅ab| ≤ 3.1\n",
       "97. |b̅aba̅b̅aba̅b̅aba̅b̅a| ≤ 3.1 using |b̅aba̅b̅aba̅b̅ab| ≤ 2.1 and |a̅b̅a| ≤ 1.0\n",
       "98. |ab̅aba̅b̅aba̅b̅aba̅b̅aa̅| ≤ 3.1 using |b̅aba̅b̅aba̅b̅aba̅b̅a| ≤ 3.1\n",
       "99. |ba̅b̅| ≤ 1.0 using |ba̅b̅| ≤ 1.0 and |e| ≤ 0.0\n",
       "100. |a̅b̅aba̅b̅aba̅b̅aba̅b̅aaba̅b̅| ≤ 4.1 using |a̅b̅aba̅b̅aba̅b̅aba̅b̅aa| ≤ 3.1 and |ba̅b̅| ≤ 1.0\n",
       "101. |b̅aba̅b̅aba̅b̅aba̅b̅aba̅b̅aba̅b̅aaba̅b̅| ≤ 5.655555555555555 using |b̅aba̅b̅ab| ≤ 1.5555555555555556 and |a̅b̅aba̅b̅aba̅b̅aba̅b̅aaba̅b̅| ≤ 4.1\n",
       "102. |ab̅aba̅b̅aba̅b̅aba̅b̅aba̅b̅aba̅b̅aaba̅b̅a̅| ≤ 5.655555555555555 using |b̅aba̅b̅aba̅b̅aba̅b̅aba̅b̅aba̅b̅aaba̅b̅| ≤ 5.655555555555555\n",
       "103. |ba̅b̅aba̅b̅aba̅b̅aba̅b̅ab| ≤ 4.1 using |ba̅b̅| ≤ 1.0 and |aba̅b̅aba̅b̅aba̅b̅ab| ≤ 3.1\n",
       "104. |a̅ba̅b̅aba̅b̅aba̅b̅aba̅b̅aba| ≤ 4.1 using |ba̅b̅aba̅b̅aba̅b̅aba̅b̅ab| ≤ 4.1\n",
       "105. |aba̅b̅aba̅b̅aba̅b̅aba̅b̅aba̅| ≤ 4.1 using |aba̅b̅aba̅b̅aba̅b̅aba̅b̅aba̅| ≤ 4.1 and |e| ≤ 0.0\n",
       "106. |ba̅b̅aba̅b̅aba̅b̅aba̅b̅aba̅b̅aba̅| ≤ 5.1 using |ba̅b̅| ≤ 1.0 and |aba̅b̅aba̅b̅aba̅b̅aba̅b̅aba̅| ≤ 4.1\n",
       "107. |a̅b̅aba̅b̅aba̅b̅aba̅b̅aaba̅b̅aba̅b̅aba̅b̅aba̅b̅aba̅b̅aba̅| ≤ 8.2 using |a̅b̅aba̅b̅aba̅b̅aba̅b̅aa| ≤ 3.1 and |ba̅b̅aba̅b̅aba̅b̅aba̅b̅aba̅b̅aba̅| ≤ 5.1\n",
       "108. |b̅a̅b̅aba̅b̅aba̅b̅aba̅b̅aaba̅b̅aba̅b̅aba̅b̅aba̅b̅aba̅b̅aba̅b| ≤ 8.2 using |a̅b̅aba̅b̅aba̅b̅aba̅b̅aaba̅b̅aba̅b̅aba̅b̅aba̅b̅aba̅b̅aba̅| ≤ 8.2\n",
       "109. |ba̅b̅aba̅b̅aba̅b̅aba̅b̅aaba̅b̅aba̅b̅aba̅b̅aba̅b̅aba̅b̅aba̅b̅aaba̅b̅aba̅b̅aba̅b̅aba̅b̅aba̅b̅ab| ≤ 12.855555555555554 using |ba̅b̅aba̅b̅aba̅b̅aba̅b̅aaba̅b̅aba̅b̅aba̅b̅aba̅b̅aba̅b̅aba̅b̅| ≤ 8.2 and |aaba̅b̅aba̅b̅aba̅b̅aba̅b̅aba̅b̅ab| ≤ 4.655555555555555\n",
       "110. |a̅ba̅b̅aba̅b̅aba̅b̅aba̅b̅aaba̅b̅aba̅b̅aba̅b̅aba̅b̅aba̅b̅aba̅b̅aaba̅b̅aba̅b̅aba̅b̅aba̅b̅aba̅b̅aba| ≤ 12.855555555555554 using |ba̅b̅aba̅b̅aba̅b̅aba̅b̅aaba̅b̅aba̅b̅aba̅b̅aba̅b̅aba̅b̅aba̅b̅aaba̅b̅aba̅b̅aba̅b̅aba̅b̅aba̅b̅ab| ≤ 12.855555555555554\n",
       "111. |aba̅b̅aba̅b̅aba̅b̅aba̅b̅aaba̅b̅aba̅b̅aba̅b̅aba̅b̅aba̅b̅aba̅b̅aaba̅b̅aba̅b̅aba̅b̅aba̅b̅aba̅b̅aba̅| ≤ 12.855555555555554 using |aba̅b̅aba̅b̅aba̅b̅aba̅b̅aaba̅b̅aba̅b̅aba̅b̅aba̅b̅aba̅b̅aba̅b̅aaba̅b̅aba̅b̅aba̅b̅aba̅b̅aba̅b̅aba̅| ≤ 12.855555555555554 and |e| ≤ 0.0\n",
       "112. |ba̅b̅aba̅b̅aba̅b̅aba̅b̅aba̅b̅aaba̅b̅aba̅b̅aba̅b̅aba̅b̅aba̅b̅aba̅b̅aaba̅b̅aba̅b̅aba̅b̅aba̅b̅aba̅b̅aba̅| ≤ 13.855555555555554 using |ba̅b̅| ≤ 1.0 and |aba̅b̅aba̅b̅aba̅b̅aba̅b̅aaba̅b̅aba̅b̅aba̅b̅aba̅b̅aba̅b̅aba̅b̅aaba̅b̅aba̅b̅aba̅b̅aba̅b̅aba̅b̅aba̅| ≤ 12.855555555555554\n",
       "113. |a̅b̅aba̅b̅aba̅b̅aba̅b̅aba̅b̅aba̅b̅aaba̅b̅aba̅b̅aba̅b̅aba̅b̅aba̅b̅aba̅b̅aaba̅b̅aba̅b̅aba̅b̅aba̅b̅aba̅b̅aba̅b̅aaba̅b̅aba̅b̅aba̅b̅aba̅b̅aba̅b̅aba̅| ≤ 19.51111111111111 using |a̅b̅aba̅b̅aba̅b̅aba̅b̅aba̅b̅aba̅b̅aaba̅b̅a| ≤ 5.655555555555555 and |ba̅b̅aba̅b̅aba̅b̅aba̅b̅aba̅b̅aaba̅b̅aba̅b̅aba̅b̅aba̅b̅aba̅b̅aba̅b̅aaba̅b̅aba̅b̅aba̅b̅aba̅b̅aba̅b̅aba̅| ≤ 13.855555555555554\n",
       "114. |b̅a̅b̅aba̅b̅aba̅b̅aba̅b̅aba̅b̅aba̅b̅aaba̅b̅aba̅b̅aba̅b̅aba̅b̅aba̅b̅aba̅b̅aaba̅b̅aba̅b̅aba̅b̅aba̅b̅aba̅b̅aba̅b̅aaba̅b̅aba̅b̅aba̅b̅aba̅b̅aba̅b̅aba̅b| ≤ 19.51111111111111 using |a̅b̅aba̅b̅aba̅b̅aba̅b̅aba̅b̅aba̅b̅aaba̅b̅aba̅b̅aba̅b̅aba̅b̅aba̅b̅aba̅b̅aaba̅b̅aba̅b̅aba̅b̅aba̅b̅aba̅b̅aba̅b̅aaba̅b̅aba̅b̅aba̅b̅aba̅b̅aba̅b̅aba̅| ≤ 19.51111111111111\n",
       "115. |ba̅b̅aba̅b̅aba̅b̅aba̅b̅aba̅b̅aba̅b̅aaba̅b̅aba̅b̅aba̅b̅aba̅b̅aba̅b̅aba̅b̅aaba̅b̅aba̅b̅aba̅b̅aba̅b̅aba̅b̅aba̅b̅aaba̅b̅aba̅b̅aba̅b̅aba̅b̅aba̅b̅aba̅b̅aaba̅b̅aba̅b̅aba̅b̅aba̅b̅aba̅b̅ab| ≤ 24.166666666666664 using |ba̅b̅aba̅b̅aba̅b̅aba̅b̅aba̅b̅aba̅b̅aaba̅b̅aba̅b̅aba̅b̅aba̅b̅aba̅b̅aba̅b̅aaba̅b̅aba̅b̅aba̅b̅aba̅b̅aba̅b̅aba̅b̅aaba̅b̅aba̅b̅aba̅b̅aba̅b̅aba̅b̅aba̅b̅| ≤ 19.51111111111111 and |aaba̅b̅aba̅b̅aba̅b̅aba̅b̅aba̅b̅ab| ≤ 4.655555555555555\n",
       "116. |a̅ba̅b̅aba̅b̅aba̅b̅aba̅b̅aba̅b̅aba̅b̅aaba̅b̅aba̅b̅aba̅b̅aba̅b̅aba̅b̅aba̅b̅aaba̅b̅aba̅b̅aba̅b̅aba̅b̅aba̅b̅aba̅b̅aaba̅b̅aba̅b̅aba̅b̅aba̅b̅aba̅b̅aba̅b̅aaba̅b̅aba̅b̅aba̅b̅aba̅b̅aba̅b̅aba| ≤ 24.166666666666664 using |ba̅b̅aba̅b̅aba̅b̅aba̅b̅aba̅b̅aba̅b̅aaba̅b̅aba̅b̅aba̅b̅aba̅b̅aba̅b̅aba̅b̅aaba̅b̅aba̅b̅aba̅b̅aba̅b̅aba̅b̅aba̅b̅aaba̅b̅aba̅b̅aba̅b̅aba̅b̅aba̅b̅aba̅b̅aaba̅b̅aba̅b̅aba̅b̅aba̅b̅aba̅b̅ab| ≤ 24.166666666666664\n",
       "117. |aaba̅b̅aba̅b̅aba̅b̅aba̅b̅aba̅b̅a| ≤ 5.1 using |aaba̅b̅aba̅| ≤ 2.0 and |b̅aba̅b̅aba̅b̅aba̅b̅a| ≤ 3.1\n",
       "118. |baaba̅b̅aba̅b̅aba̅b̅aba̅b̅aba̅b̅ab̅| ≤ 5.1 using |aaba̅b̅aba̅b̅aba̅b̅aba̅b̅aba̅b̅a| ≤ 5.1\n",
       "119. |b̅aaba̅b̅aba̅b̅aba̅b̅aba̅b̅aba̅b̅aba̅b̅a| ≤ 6.1 using |b̅aaba̅b̅aba̅b̅aba̅b̅aba̅b̅aba̅b̅ab| ≤ 5.1 and |a̅b̅a| ≤ 1.0\n",
       "120. |ab̅aaba̅b̅aba̅b̅aba̅b̅aba̅b̅aba̅b̅aba̅b̅aa̅| ≤ 6.1 using |b̅aaba̅b̅aba̅b̅aba̅b̅aba̅b̅aba̅b̅aba̅b̅a| ≤ 6.1\n",
       "121. |a̅b̅aaba̅b̅aba̅b̅aba̅b̅aba̅b̅aba̅b̅aba̅b̅aa| ≤ 6.1 using |a̅b̅aaba̅b̅aba̅b̅aba̅b̅aba̅b̅aba̅b̅aba̅b̅aa| ≤ 6.1 and |e| ≤ 0.0\n",
       "122. |b̅aba̅b̅aba̅b̅aba̅b̅aaba̅b̅aba̅b̅aba̅b̅aba̅b̅aba̅b̅aba̅b̅aa| ≤ 8.2 using |b̅aba̅b̅aba̅b̅ab| ≤ 2.1 and |a̅b̅aaba̅b̅aba̅b̅aba̅b̅aba̅b̅aba̅b̅aba̅b̅aa| ≤ 6.1\n",
       "123. |aaba̅b̅aba̅b̅aba̅b̅aba̅b̅aba̅b̅aba̅b̅aaba̅b̅aba̅b̅aba̅b̅aba̅b̅aba̅b̅aba̅b̅aa| ≤ 10.755555555555555 using |aaba̅b̅aba̅b̅aba̅| ≤ 2.5555555555555554 and |b̅aba̅b̅aba̅b̅aba̅b̅aaba̅b̅aba̅b̅aba̅b̅aba̅b̅aba̅b̅aba̅b̅aa| ≤ 8.2\n",
       "124. |baaba̅b̅aba̅b̅aba̅b̅aba̅b̅aba̅b̅aba̅b̅aaba̅b̅aba̅b̅aba̅b̅aba̅b̅aba̅b̅aba̅b̅aab̅| ≤ 10.755555555555555 using |aaba̅b̅aba̅b̅aba̅b̅aba̅b̅aba̅b̅aba̅b̅aaba̅b̅aba̅b̅aba̅b̅aba̅b̅aba̅b̅aba̅b̅aa| ≤ 10.755555555555555\n",
       "125. |b̅aaba̅b̅aba̅b̅aba̅b̅aba̅b̅aba̅b̅aba̅b̅aaba̅b̅aba̅b̅aba̅b̅aba̅b̅aba̅b̅aba̅b̅aab| ≤ 10.755555555555555 using |b̅aaba̅b̅aba̅b̅aba̅b̅aba̅b̅aba̅b̅aba̅b̅aaba̅b̅aba̅b̅aba̅b̅aba̅b̅aba̅b̅aba̅b̅aab| ≤ 10.755555555555555 and |e| ≤ 0.0\n",
       "126. |aba̅b̅aba̅b̅aba̅b̅aba̅b̅aba̅b̅aba̅b̅aaba̅b̅aba̅b̅aba̅b̅aba̅b̅aba̅b̅aba̅b̅aaba̅b̅aba̅b̅aba̅b̅aba̅b̅aba̅b̅aba̅b̅aaba̅b̅aba̅b̅aba̅b̅aba̅b̅aba̅b̅aba̅b̅aaba̅b̅aba̅b̅aba̅b̅aba̅b̅aba̅b̅aba̅b̅aaba̅b̅aba̅b̅aba̅b̅aba̅b̅aba̅b̅aba̅b̅aaba̅b̅aba̅b̅aba̅b̅aba̅b̅aba̅b̅aba̅b̅aab| ≤ 34.92222222222222 using |aba̅b̅aba̅b̅aba̅b̅aba̅b̅aba̅b̅aba̅b̅aaba̅b̅aba̅b̅aba̅b̅aba̅b̅aba̅b̅aba̅b̅aaba̅b̅aba̅b̅aba̅b̅aba̅b̅aba̅b̅aba̅b̅aaba̅b̅aba̅b̅aba̅b̅aba̅b̅aba̅b̅aba̅b̅aaba̅b̅aba̅b̅aba̅b̅aba̅b̅aba̅b̅aba̅| ≤ 24.166666666666664 and |b̅aaba̅b̅aba̅b̅aba̅b̅aba̅b̅aba̅b̅aba̅b̅aaba̅b̅aba̅b̅aba̅b̅aba̅b̅aba̅b̅aba̅b̅aab| ≤ 10.755555555555555\n",
       "127. |a̅aba̅b̅aba̅b̅aba̅b̅aba̅b̅aba̅b̅aba̅b̅aaba̅b̅aba̅b̅aba̅b̅aba̅b̅aba̅b̅aba̅b̅aaba̅b̅aba̅b̅aba̅b̅aba̅b̅aba̅b̅aba̅b̅aaba̅b̅aba̅b̅aba̅b̅aba̅b̅aba̅b̅aba̅b̅aaba̅b̅aba̅b̅aba̅b̅aba̅b̅aba̅b̅aba̅b̅aaba̅b̅aba̅b̅aba̅b̅aba̅b̅aba̅b̅aba̅b̅aaba̅b̅aba̅b̅aba̅b̅aba̅b̅aba̅b̅aba̅b̅aaba| ≤ 34.92222222222222 using |aba̅b̅aba̅b̅aba̅b̅aba̅b̅aba̅b̅aba̅b̅aaba̅b̅aba̅b̅aba̅b̅aba̅b̅aba̅b̅aba̅b̅aaba̅b̅aba̅b̅aba̅b̅aba̅b̅aba̅b̅aba̅b̅aaba̅b̅aba̅b̅aba̅b̅aba̅b̅aba̅b̅aba̅b̅aaba̅b̅aba̅b̅aba̅b̅aba̅b̅aba̅b̅aba̅b̅aaba̅b̅aba̅b̅aba̅b̅aba̅b̅aba̅b̅aba̅b̅aaba̅b̅aba̅b̅aba̅b̅aba̅b̅aba̅b̅aba̅b̅aab| ≤ 34.92222222222222\n",
       "128. |b̅aba̅b̅aba̅b̅a| ≤ 2.5555555555555554 using |b̅aba̅b̅ab| ≤ 1.5555555555555556 and |a̅b̅a| ≤ 1.0\n",
       "129. |ab̅aba̅b̅aba̅b̅aa̅| ≤ 2.5555555555555554 using |b̅aba̅b̅aba̅b̅a| ≤ 2.5555555555555554\n",
       "130. |a̅b̅aba̅b̅aba̅b̅aa| ≤ 2.5555555555555554 using |a̅b̅aba̅b̅aba̅b̅aa| ≤ 2.5555555555555554 and |e| ≤ 0.0\n",
       "131. |b̅aba̅b̅aba̅b̅aba̅b̅aba̅b̅aba̅b̅aa| ≤ 4.655555555555555 using |b̅aba̅b̅aba̅b̅ab| ≤ 2.1 and |a̅b̅aba̅b̅aba̅b̅aa| ≤ 2.5555555555555554\n",
       "132. |aaba̅b̅aba̅b̅aba̅b̅aba̅b̅aba̅b̅aba̅b̅aaba̅b̅aba̅b̅aba̅b̅aba̅b̅aba̅b̅aba̅b̅aaba̅b̅aba̅b̅aba̅b̅aba̅b̅aba̅b̅aba̅b̅aaba̅b̅aba̅b̅aba̅b̅aba̅b̅aba̅b̅aba̅b̅aaba̅b̅aba̅b̅aba̅b̅aba̅b̅aba̅b̅aba̅b̅aaba̅b̅aba̅b̅aba̅b̅aba̅b̅aba̅b̅aba̅b̅aaba̅b̅aba̅b̅aba̅b̅aba̅b̅aba̅b̅aba̅b̅aaba̅b̅aba̅b̅aba̅b̅aba̅b̅aba̅b̅aba̅b̅aa| ≤ 39.57777777777777 using |aaba̅b̅aba̅b̅aba̅b̅aba̅b̅aba̅b̅aba̅b̅aaba̅b̅aba̅b̅aba̅b̅aba̅b̅aba̅b̅aba̅b̅aaba̅b̅aba̅b̅aba̅b̅aba̅b̅aba̅b̅aba̅b̅aaba̅b̅aba̅b̅aba̅b̅aba̅b̅aba̅b̅aba̅b̅aaba̅b̅aba̅b̅aba̅b̅aba̅b̅aba̅b̅aba̅b̅aaba̅b̅aba̅b̅aba̅b̅aba̅b̅aba̅b̅aba̅b̅aaba̅b̅aba̅b̅aba̅b̅aba̅b̅aba̅b̅aba̅b̅aaba̅| ≤ 34.92222222222222 and |b̅aba̅b̅aba̅b̅aba̅b̅aba̅b̅aba̅b̅aa| ≤ 4.655555555555555\n",
       "133. |baaba̅b̅aba̅b̅aba̅b̅aba̅b̅aba̅b̅aba̅b̅aaba̅b̅aba̅b̅aba̅b̅aba̅b̅aba̅b̅aba̅b̅aaba̅b̅aba̅b̅aba̅b̅aba̅b̅aba̅b̅aba̅b̅aaba̅b̅aba̅b̅aba̅b̅aba̅b̅aba̅b̅aba̅b̅aaba̅b̅aba̅b̅aba̅b̅aba̅b̅aba̅b̅aba̅b̅aaba̅b̅aba̅b̅aba̅b̅aba̅b̅aba̅b̅aba̅b̅aaba̅b̅aba̅b̅aba̅b̅aba̅b̅aba̅b̅aba̅b̅aaba̅b̅aba̅b̅aba̅b̅aba̅b̅aba̅b̅aba̅b̅aab̅| ≤ 39.57777777777777 using |aaba̅b̅aba̅b̅aba̅b̅aba̅b̅aba̅b̅aba̅b̅aaba̅b̅aba̅b̅aba̅b̅aba̅b̅aba̅b̅aba̅b̅aaba̅b̅aba̅b̅aba̅b̅aba̅b̅aba̅b̅aba̅b̅aaba̅b̅aba̅b̅aba̅b̅aba̅b̅aba̅b̅aba̅b̅aaba̅b̅aba̅b̅aba̅b̅aba̅b̅aba̅b̅aba̅b̅aaba̅b̅aba̅b̅aba̅b̅aba̅b̅aba̅b̅aba̅b̅aaba̅b̅aba̅b̅aba̅b̅aba̅b̅aba̅b̅aba̅b̅aaba̅b̅aba̅b̅aba̅b̅aba̅b̅aba̅b̅aba̅b̅aa| ≤ 39.57777777777777\n",
       "134. |b̅aaba̅b̅aba̅b̅aba̅b̅aba̅b̅aba̅b̅aba̅b̅aaba̅b̅aba̅b̅aba̅b̅aba̅b̅aba̅b̅aba̅b̅aaba̅b̅aba̅b̅aba̅b̅aba̅b̅aba̅b̅aba̅b̅aaba̅b̅aba̅b̅aba̅b̅aba̅b̅aba̅b̅aba̅b̅aaba̅b̅aba̅b̅aba̅b̅aba̅b̅aba̅b̅aba̅b̅aaba̅b̅aba̅b̅aba̅b̅aba̅b̅aba̅b̅aba̅b̅aaba̅b̅aba̅b̅aba̅b̅aba̅b̅aba̅b̅aba̅b̅aaba̅b̅aba̅b̅aba̅b̅aba̅b̅aba̅b̅aba̅b̅aab| ≤ 39.57777777777777 using |b̅aaba̅b̅aba̅b̅aba̅b̅aba̅b̅aba̅b̅aba̅b̅aaba̅b̅aba̅b̅aba̅b̅aba̅b̅aba̅b̅aba̅b̅aaba̅b̅aba̅b̅aba̅b̅aba̅b̅aba̅b̅aba̅b̅aaba̅b̅aba̅b̅aba̅b̅aba̅b̅aba̅b̅aba̅b̅aaba̅b̅aba̅b̅aba̅b̅aba̅b̅aba̅b̅aba̅b̅aaba̅b̅aba̅b̅aba̅b̅aba̅b̅aba̅b̅aba̅b̅aaba̅b̅aba̅b̅aba̅b̅aba̅b̅aba̅b̅aba̅b̅aaba̅b̅aba̅b̅aba̅b̅aba̅b̅aba̅b̅aba̅b̅aab| ≤ 39.57777777777777 and |e| ≤ 0.0\n",
       "135. |aba̅b̅aaba̅b̅aba̅b̅aba̅b̅aba̅b̅aba̅b̅aba̅b̅aaba̅b̅aba̅b̅aba̅b̅aba̅b̅aba̅b̅aba̅b̅aaba̅b̅aba̅b̅aba̅b̅aba̅b̅aba̅b̅aba̅b̅aaba̅b̅aba̅b̅aba̅b̅aba̅b̅aba̅b̅aba̅b̅aaba̅b̅aba̅b̅aba̅b̅aba̅b̅aba̅b̅aba̅b̅aaba̅b̅aba̅b̅aba̅b̅aba̅b̅aba̅b̅aba̅b̅aaba̅b̅aba̅b̅aba̅b̅aba̅b̅aba̅b̅aba̅b̅aaba̅b̅aba̅b̅aba̅b̅aba̅b̅aba̅b̅aba̅b̅aaba̅b̅aba̅b̅aba̅b̅aba̅b̅aba̅b̅aba̅b̅aab| ≤ 45.23333333333332 using |aba̅b̅aaba̅b̅aba̅b̅aba̅b̅aba̅b̅aba̅b̅aba̅| ≤ 5.655555555555555 and |b̅aaba̅b̅aba̅b̅aba̅b̅aba̅b̅aba̅b̅aba̅b̅aaba̅b̅aba̅b̅aba̅b̅aba̅b̅aba̅b̅aba̅b̅aaba̅b̅aba̅b̅aba̅b̅aba̅b̅aba̅b̅aba̅b̅aaba̅b̅aba̅b̅aba̅b̅aba̅b̅aba̅b̅aba̅b̅aaba̅b̅aba̅b̅aba̅b̅aba̅b̅aba̅b̅aba̅b̅aaba̅b̅aba̅b̅aba̅b̅aba̅b̅aba̅b̅aba̅b̅aaba̅b̅aba̅b̅aba̅b̅aba̅b̅aba̅b̅aba̅b̅aaba̅b̅aba̅b̅aba̅b̅aba̅b̅aba̅b̅aba̅b̅aab| ≤ 39.57777777777777\n",
       "136. |ba̅b̅aba̅b̅aaba̅b̅aba̅b̅aba̅b̅aba̅b̅aba̅b̅aba̅b̅aaba̅b̅aba̅b̅aba̅b̅aba̅b̅aba̅b̅aba̅b̅aaba̅b̅aba̅b̅aba̅b̅aba̅b̅aba̅b̅aba̅b̅aaba̅b̅aba̅b̅aba̅b̅aba̅b̅aba̅b̅aba̅b̅aaba̅b̅aba̅b̅aba̅b̅aba̅b̅aba̅b̅aba̅b̅aaba̅b̅aba̅b̅aba̅b̅aba̅b̅aba̅b̅aba̅b̅aaba̅b̅aba̅b̅aba̅b̅aba̅b̅aba̅b̅aba̅b̅aaba̅b̅aba̅b̅aba̅b̅aba̅b̅aba̅b̅aba̅b̅aaba̅b̅aba̅b̅aba̅b̅aba̅b̅aba̅b̅aba̅b̅aab| ≤ 46.23333333333332 using |ba̅b̅| ≤ 1.0 and |aba̅b̅aaba̅b̅aba̅b̅aba̅b̅aba̅b̅aba̅b̅aba̅b̅aaba̅b̅aba̅b̅aba̅b̅aba̅b̅aba̅b̅aba̅b̅aaba̅b̅aba̅b̅aba̅b̅aba̅b̅aba̅b̅aba̅b̅aaba̅b̅aba̅b̅aba̅b̅aba̅b̅aba̅b̅aba̅b̅aaba̅b̅aba̅b̅aba̅b̅aba̅b̅aba̅b̅aba̅b̅aaba̅b̅aba̅b̅aba̅b̅aba̅b̅aba̅b̅aba̅b̅aaba̅b̅aba̅b̅aba̅b̅aba̅b̅aba̅b̅aba̅b̅aaba̅b̅aba̅b̅aba̅b̅aba̅b̅aba̅b̅aba̅b̅aaba̅b̅aba̅b̅aba̅b̅aba̅b̅aba̅b̅aba̅b̅aab| ≤ 45.23333333333332\n",
       "137. |a̅ba̅b̅aba̅b̅aaba̅b̅aba̅b̅aba̅b̅aba̅b̅aba̅b̅aba̅b̅aaba̅b̅aba̅b̅aba̅b̅aba̅b̅aba̅b̅aba̅b̅aaba̅b̅aba̅b̅aba̅b̅aba̅b̅aba̅b̅aba̅b̅aaba̅b̅aba̅b̅aba̅b̅aba̅b̅aba̅b̅aba̅b̅aaba̅b̅aba̅b̅aba̅b̅aba̅b̅aba̅b̅aba̅b̅aaba̅b̅aba̅b̅aba̅b̅aba̅b̅aba̅b̅aba̅b̅aaba̅b̅aba̅b̅aba̅b̅aba̅b̅aba̅b̅aba̅b̅aaba̅b̅aba̅b̅aba̅b̅aba̅b̅aba̅b̅aba̅b̅aaba̅b̅aba̅b̅aba̅b̅aba̅b̅aba̅b̅aba̅b̅aaba| ≤ 46.23333333333332 using |ba̅b̅aba̅b̅aaba̅b̅aba̅b̅aba̅b̅aba̅b̅aba̅b̅aba̅b̅aaba̅b̅aba̅b̅aba̅b̅aba̅b̅aba̅b̅aba̅b̅aaba̅b̅aba̅b̅aba̅b̅aba̅b̅aba̅b̅aba̅b̅aaba̅b̅aba̅b̅aba̅b̅aba̅b̅aba̅b̅aba̅b̅aaba̅b̅aba̅b̅aba̅b̅aba̅b̅aba̅b̅aba̅b̅aaba̅b̅aba̅b̅aba̅b̅aba̅b̅aba̅b̅aba̅b̅aaba̅b̅aba̅b̅aba̅b̅aba̅b̅aba̅b̅aba̅b̅aaba̅b̅aba̅b̅aba̅b̅aba̅b̅aba̅b̅aba̅b̅aaba̅b̅aba̅b̅aba̅b̅aba̅b̅aba̅b̅aba̅b̅aab| ≤ 46.23333333333332\n",
       "138. |aba̅b̅aba̅b̅aaba̅b̅aba̅b̅aba̅b̅aba̅b̅aba̅b̅aba̅b̅aaba̅b̅aba̅b̅aba̅b̅aba̅b̅aba̅b̅aba̅b̅aaba̅b̅aba̅b̅aba̅b̅aba̅b̅aba̅b̅aba̅b̅aaba̅b̅aba̅b̅aba̅b̅aba̅b̅aba̅b̅aba̅b̅aaba̅b̅aba̅b̅aba̅b̅aba̅b̅aba̅b̅aba̅b̅aaba̅b̅aba̅b̅aba̅b̅aba̅b̅aba̅b̅aba̅b̅aaba̅b̅aba̅b̅aba̅b̅aba̅b̅aba̅b̅aba̅b̅aaba̅b̅aba̅b̅aba̅b̅aba̅b̅aba̅b̅aba̅b̅aaba̅b̅aba̅b̅aba̅b̅aba̅b̅aba̅b̅aba̅b̅aaba̅b̅aba̅b̅aba̅b̅aba̅b̅aba̅b̅aba̅b̅aa| ≤ 50.88888888888887 using |aba̅b̅aba̅b̅aaba̅b̅aba̅b̅aba̅b̅aba̅b̅aba̅b̅aba̅b̅aaba̅b̅aba̅b̅aba̅b̅aba̅b̅aba̅b̅aba̅b̅aaba̅b̅aba̅b̅aba̅b̅aba̅b̅aba̅b̅aba̅b̅aaba̅b̅aba̅b̅aba̅b̅aba̅b̅aba̅b̅aba̅b̅aaba̅b̅aba̅b̅aba̅b̅aba̅b̅aba̅b̅aba̅b̅aaba̅b̅aba̅b̅aba̅b̅aba̅b̅aba̅b̅aba̅b̅aaba̅b̅aba̅b̅aba̅b̅aba̅b̅aba̅b̅aba̅b̅aaba̅b̅aba̅b̅aba̅b̅aba̅b̅aba̅b̅aba̅b̅aaba̅b̅aba̅b̅aba̅b̅aba̅b̅aba̅b̅aba̅b̅aaba̅| ≤ 46.23333333333332 and |b̅aba̅b̅aba̅b̅aba̅b̅aba̅b̅aba̅b̅aa| ≤ 4.655555555555555\n",
       "139. |baba̅b̅aba̅b̅aaba̅b̅aba̅b̅aba̅b̅aba̅b̅aba̅b̅aba̅b̅aaba̅b̅aba̅b̅aba̅b̅aba̅b̅aba̅b̅aba̅b̅aaba̅b̅aba̅b̅aba̅b̅aba̅b̅aba̅b̅aba̅b̅aaba̅b̅aba̅b̅aba̅b̅aba̅b̅aba̅b̅aba̅b̅aaba̅b̅aba̅b̅aba̅b̅aba̅b̅aba̅b̅aba̅b̅aaba̅b̅aba̅b̅aba̅b̅aba̅b̅aba̅b̅aba̅b̅aaba̅b̅aba̅b̅aba̅b̅aba̅b̅aba̅b̅aba̅b̅aaba̅b̅aba̅b̅aba̅b̅aba̅b̅aba̅b̅aba̅b̅aaba̅b̅aba̅b̅aba̅b̅aba̅b̅aba̅b̅aba̅b̅aaba̅b̅aba̅b̅aba̅b̅aba̅b̅aba̅b̅aba̅b̅aab̅| ≤ 50.88888888888887 using |aba̅b̅aba̅b̅aaba̅b̅aba̅b̅aba̅b̅aba̅b̅aba̅b̅aba̅b̅aaba̅b̅aba̅b̅aba̅b̅aba̅b̅aba̅b̅aba̅b̅aaba̅b̅aba̅b̅aba̅b̅aba̅b̅aba̅b̅aba̅b̅aaba̅b̅aba̅b̅aba̅b̅aba̅b̅aba̅b̅aba̅b̅aaba̅b̅aba̅b̅aba̅b̅aba̅b̅aba̅b̅aba̅b̅aaba̅b̅aba̅b̅aba̅b̅aba̅b̅aba̅b̅aba̅b̅aaba̅b̅aba̅b̅aba̅b̅aba̅b̅aba̅b̅aba̅b̅aaba̅b̅aba̅b̅aba̅b̅aba̅b̅aba̅b̅aba̅b̅aaba̅b̅aba̅b̅aba̅b̅aba̅b̅aba̅b̅aba̅b̅aaba̅b̅aba̅b̅aba̅b̅aba̅b̅aba̅b̅aba̅b̅aa| ≤ 50.88888888888887\n",
       "140. |a̅b̅aba̅b̅aba̅b̅aba̅b̅aba̅b̅aba̅b̅aaba̅b̅a| ≤ 5.655555555555555 using |a̅b̅aba̅b̅aba̅b̅aba̅b̅aba̅b̅aba̅b̅aaba̅b̅a| ≤ 5.655555555555555 and |e| ≤ 0.0\n",
       "141. |b̅aba̅b̅aba̅b̅aaba̅b̅aba̅b̅aba̅b̅aba̅b̅aba̅b̅aba̅b̅aaba̅b̅aba̅b̅aba̅b̅aba̅b̅aba̅b̅aba̅b̅aaba̅b̅aba̅b̅aba̅b̅aba̅b̅aba̅b̅aba̅b̅aaba̅b̅aba̅b̅aba̅b̅aba̅b̅aba̅b̅aba̅b̅aaba̅b̅aba̅b̅aba̅b̅aba̅b̅aba̅b̅aba̅b̅aaba̅b̅aba̅b̅aba̅b̅aba̅b̅aba̅b̅aba̅b̅aaba̅b̅aba̅b̅aba̅b̅aba̅b̅aba̅b̅aba̅b̅aaba̅b̅aba̅b̅aba̅b̅aba̅b̅aba̅b̅aba̅b̅aaba̅b̅aba̅b̅aba̅b̅aba̅b̅aba̅b̅aba̅b̅aaba̅b̅aba̅b̅aba̅b̅aba̅b̅aba̅b̅aba̅b̅aaba̅b̅aba̅b̅aba̅b̅aba̅b̅aba̅b̅aba̅b̅aaba̅b̅a| ≤ 56.54444444444442 using |b̅aba̅b̅aba̅b̅aaba̅b̅aba̅b̅aba̅b̅aba̅b̅aba̅b̅aba̅b̅aaba̅b̅aba̅b̅aba̅b̅aba̅b̅aba̅b̅aba̅b̅aaba̅b̅aba̅b̅aba̅b̅aba̅b̅aba̅b̅aba̅b̅aaba̅b̅aba̅b̅aba̅b̅aba̅b̅aba̅b̅aba̅b̅aaba̅b̅aba̅b̅aba̅b̅aba̅b̅aba̅b̅aba̅b̅aaba̅b̅aba̅b̅aba̅b̅aba̅b̅aba̅b̅aba̅b̅aaba̅b̅aba̅b̅aba̅b̅aba̅b̅aba̅b̅aba̅b̅aaba̅b̅aba̅b̅aba̅b̅aba̅b̅aba̅b̅aba̅b̅aaba̅b̅aba̅b̅aba̅b̅aba̅b̅aba̅b̅aba̅b̅aaba̅b̅aba̅b̅aba̅b̅aba̅b̅aba̅b̅aba̅b̅aab| ≤ 50.88888888888887 and |a̅b̅aba̅b̅aba̅b̅aba̅b̅aba̅b̅aba̅b̅aaba̅b̅a| ≤ 5.655555555555555\n",
       "142. |aaba̅b̅aba̅b̅aba̅b̅aba̅b̅aba̅b̅aba̅b̅aaba̅b̅aba̅b̅aba̅b̅aba̅b̅aba̅b̅aba̅b̅aaba̅b̅aba̅b̅aba̅b̅aba̅b̅aba̅b̅aba̅b̅aaba̅b̅aba̅b̅aba̅b̅aba̅b̅aba̅b̅aba̅b̅aaba̅b̅aba̅b̅aba̅b̅aba̅b̅aba̅b̅aba̅b̅aaba̅b̅aba̅b̅aba̅b̅aba̅b̅aba̅b̅aba̅b̅aaba̅b̅aba̅b̅aba̅b̅aba̅b̅aba̅b̅aba̅b̅aaba̅b̅aba̅b̅aba̅b̅aba̅b̅aba̅b̅aba̅b̅aaba̅b̅aba̅b̅aba̅b̅aba̅b̅aba̅b̅aba̅b̅aaba̅b̅aba̅b̅aba̅b̅aba̅b̅aba̅b̅aba̅b̅aaba̅b̅aba̅b̅aba̅b̅aba̅b̅aba̅b̅aba̅b̅aaba̅b̅aba̅b̅aba̅b̅aba̅b̅aba̅b̅aba̅b̅aaba̅b̅a| ≤ 59.644444444444424 using |aaba̅b̅aba̅b̅aba̅b̅aba̅| ≤ 3.1 and |b̅aba̅b̅aba̅b̅aaba̅b̅aba̅b̅aba̅b̅aba̅b̅aba̅b̅aba̅b̅aaba̅b̅aba̅b̅aba̅b̅aba̅b̅aba̅b̅aba̅b̅aaba̅b̅aba̅b̅aba̅b̅aba̅b̅aba̅b̅aba̅b̅aaba̅b̅aba̅b̅aba̅b̅aba̅b̅aba̅b̅aba̅b̅aaba̅b̅aba̅b̅aba̅b̅aba̅b̅aba̅b̅aba̅b̅aaba̅b̅aba̅b̅aba̅b̅aba̅b̅aba̅b̅aba̅b̅aaba̅b̅aba̅b̅aba̅b̅aba̅b̅aba̅b̅aba̅b̅aaba̅b̅aba̅b̅aba̅b̅aba̅b̅aba̅b̅aba̅b̅aaba̅b̅aba̅b̅aba̅b̅aba̅b̅aba̅b̅aba̅b̅aaba̅b̅aba̅b̅aba̅b̅aba̅b̅aba̅b̅aba̅b̅aaba̅b̅aba̅b̅aba̅b̅aba̅b̅aba̅b̅aba̅b̅aaba̅b̅a| ≤ 56.54444444444442\n",
       "143. |baaba̅b̅aba̅b̅aba̅b̅aba̅b̅aba̅b̅aba̅b̅aaba̅b̅aba̅b̅aba̅b̅aba̅b̅aba̅b̅aba̅b̅aaba̅b̅aba̅b̅aba̅b̅aba̅b̅aba̅b̅aba̅b̅aaba̅b̅aba̅b̅aba̅b̅aba̅b̅aba̅b̅aba̅b̅aaba̅b̅aba̅b̅aba̅b̅aba̅b̅aba̅b̅aba̅b̅aaba̅b̅aba̅b̅aba̅b̅aba̅b̅aba̅b̅aba̅b̅aaba̅b̅aba̅b̅aba̅b̅aba̅b̅aba̅b̅aba̅b̅aaba̅b̅aba̅b̅aba̅b̅aba̅b̅aba̅b̅aba̅b̅aaba̅b̅aba̅b̅aba̅b̅aba̅b̅aba̅b̅aba̅b̅aaba̅b̅aba̅b̅aba̅b̅aba̅b̅aba̅b̅aba̅b̅aaba̅b̅aba̅b̅aba̅b̅aba̅b̅aba̅b̅aba̅b̅aaba̅b̅aba̅b̅aba̅b̅aba̅b̅aba̅b̅aba̅b̅aaba̅b̅ab̅| ≤ 59.644444444444424 using |aaba̅b̅aba̅b̅aba̅b̅aba̅b̅aba̅b̅aba̅b̅aaba̅b̅aba̅b̅aba̅b̅aba̅b̅aba̅b̅aba̅b̅aaba̅b̅aba̅b̅aba̅b̅aba̅b̅aba̅b̅aba̅b̅aaba̅b̅aba̅b̅aba̅b̅aba̅b̅aba̅b̅aba̅b̅aaba̅b̅aba̅b̅aba̅b̅aba̅b̅aba̅b̅aba̅b̅aaba̅b̅aba̅b̅aba̅b̅aba̅b̅aba̅b̅aba̅b̅aaba̅b̅aba̅b̅aba̅b̅aba̅b̅aba̅b̅aba̅b̅aaba̅b̅aba̅b̅aba̅b̅aba̅b̅aba̅b̅aba̅b̅aaba̅b̅aba̅b̅aba̅b̅aba̅b̅aba̅b̅aba̅b̅aaba̅b̅aba̅b̅aba̅b̅aba̅b̅aba̅b̅aba̅b̅aaba̅b̅aba̅b̅aba̅b̅aba̅b̅aba̅b̅aba̅b̅aaba̅b̅aba̅b̅aba̅b̅aba̅b̅aba̅b̅aba̅b̅aaba̅b̅a| ≤ 59.644444444444424\n",
       "144. |a̅b̅aba̅b̅| ≤ 2.0 using |a̅b̅a| ≤ 1.0 and |ba̅b̅| ≤ 1.0\n",
       "145. |b̅aba̅b̅aba̅b̅aba̅b̅aba̅b̅| ≤ 4.1 using |b̅aba̅b̅aba̅b̅ab| ≤ 2.1 and |a̅b̅aba̅b̅| ≤ 2.0\n",
       "146. |ab̅aba̅b̅aba̅b̅aba̅b̅aba̅b̅a̅| ≤ 4.1 using |b̅aba̅b̅aba̅b̅aba̅b̅aba̅b̅| ≤ 4.1\n",
       "147. |a̅b̅aba̅b̅aba̅b̅aba̅b̅aba̅b̅a| ≤ 4.1 using |a̅b̅aba̅b̅aba̅b̅aba̅b̅aba̅b̅a| ≤ 4.1 and |e| ≤ 0.0\n",
       "148. |b̅aaba̅b̅aba̅b̅aba̅b̅aba̅b̅aba̅b̅aba̅b̅aaba̅b̅aba̅b̅aba̅b̅aba̅b̅aba̅b̅aba̅b̅aaba̅b̅aba̅b̅aba̅b̅aba̅b̅aba̅b̅aba̅b̅aaba̅b̅aba̅b̅aba̅b̅aba̅b̅aba̅b̅aba̅b̅aaba̅b̅aba̅b̅aba̅b̅aba̅b̅aba̅b̅aba̅b̅aaba̅b̅aba̅b̅aba̅b̅aba̅b̅aba̅b̅aba̅b̅aaba̅b̅aba̅b̅aba̅b̅aba̅b̅aba̅b̅aba̅b̅aaba̅b̅aba̅b̅aba̅b̅aba̅b̅aba̅b̅aba̅b̅aaba̅b̅aba̅b̅aba̅b̅aba̅b̅aba̅b̅aba̅b̅aaba̅b̅aba̅b̅aba̅b̅aba̅b̅aba̅b̅aba̅b̅aaba̅b̅aba̅b̅aba̅b̅aba̅b̅aba̅b̅aba̅b̅aaba̅b̅aba̅b̅aba̅b̅aba̅b̅aba̅b̅aba̅b̅aaba̅b̅aba̅b̅aba̅b̅aba̅b̅aba̅b̅aba̅b̅a| ≤ 63.744444444444426 using |b̅aaba̅b̅aba̅b̅aba̅b̅aba̅b̅aba̅b̅aba̅b̅aaba̅b̅aba̅b̅aba̅b̅aba̅b̅aba̅b̅aba̅b̅aaba̅b̅aba̅b̅aba̅b̅aba̅b̅aba̅b̅aba̅b̅aaba̅b̅aba̅b̅aba̅b̅aba̅b̅aba̅b̅aba̅b̅aaba̅b̅aba̅b̅aba̅b̅aba̅b̅aba̅b̅aba̅b̅aaba̅b̅aba̅b̅aba̅b̅aba̅b̅aba̅b̅aba̅b̅aaba̅b̅aba̅b̅aba̅b̅aba̅b̅aba̅b̅aba̅b̅aaba̅b̅aba̅b̅aba̅b̅aba̅b̅aba̅b̅aba̅b̅aaba̅b̅aba̅b̅aba̅b̅aba̅b̅aba̅b̅aba̅b̅aaba̅b̅aba̅b̅aba̅b̅aba̅b̅aba̅b̅aba̅b̅aaba̅b̅aba̅b̅aba̅b̅aba̅b̅aba̅b̅aba̅b̅aaba̅b̅aba̅b̅aba̅b̅aba̅b̅aba̅b̅aba̅b̅aaba̅b̅ab| ≤ 59.644444444444424 and |a̅b̅aba̅b̅aba̅b̅aba̅b̅aba̅b̅a| ≤ 4.1\n",
       "149. |ab̅aaba̅b̅aba̅b̅aba̅b̅aba̅b̅aba̅b̅aba̅b̅aaba̅b̅aba̅b̅aba̅b̅aba̅b̅aba̅b̅aba̅b̅aaba̅b̅aba̅b̅aba̅b̅aba̅b̅aba̅b̅aba̅b̅aaba̅b̅aba̅b̅aba̅b̅aba̅b̅aba̅b̅aba̅b̅aaba̅b̅aba̅b̅aba̅b̅aba̅b̅aba̅b̅aba̅b̅aaba̅b̅aba̅b̅aba̅b̅aba̅b̅aba̅b̅aba̅b̅aaba̅b̅aba̅b̅aba̅b̅aba̅b̅aba̅b̅aba̅b̅aaba̅b̅aba̅b̅aba̅b̅aba̅b̅aba̅b̅aba̅b̅aaba̅b̅aba̅b̅aba̅b̅aba̅b̅aba̅b̅aba̅b̅aaba̅b̅aba̅b̅aba̅b̅aba̅b̅aba̅b̅aba̅b̅aaba̅b̅aba̅b̅aba̅b̅aba̅b̅aba̅b̅aba̅b̅aaba̅b̅aba̅b̅aba̅b̅aba̅b̅aba̅b̅aba̅b̅aaba̅b̅aba̅b̅aba̅b̅aba̅b̅aba̅b̅aba̅b̅aa̅| ≤ 63.744444444444426 using |b̅aaba̅b̅aba̅b̅aba̅b̅aba̅b̅aba̅b̅aba̅b̅aaba̅b̅aba̅b̅aba̅b̅aba̅b̅aba̅b̅aba̅b̅aaba̅b̅aba̅b̅aba̅b̅aba̅b̅aba̅b̅aba̅b̅aaba̅b̅aba̅b̅aba̅b̅aba̅b̅aba̅b̅aba̅b̅aaba̅b̅aba̅b̅aba̅b̅aba̅b̅aba̅b̅aba̅b̅aaba̅b̅aba̅b̅aba̅b̅aba̅b̅aba̅b̅aba̅b̅aaba̅b̅aba̅b̅aba̅b̅aba̅b̅aba̅b̅aba̅b̅aaba̅b̅aba̅b̅aba̅b̅aba̅b̅aba̅b̅aba̅b̅aaba̅b̅aba̅b̅aba̅b̅aba̅b̅aba̅b̅aba̅b̅aaba̅b̅aba̅b̅aba̅b̅aba̅b̅aba̅b̅aba̅b̅aaba̅b̅aba̅b̅aba̅b̅aba̅b̅aba̅b̅aba̅b̅aaba̅b̅aba̅b̅aba̅b̅aba̅b̅aba̅b̅aba̅b̅aaba̅b̅aba̅b̅aba̅b̅aba̅b̅aba̅b̅aba̅b̅a| ≤ 63.744444444444426\n",
       "150. |a̅b̅aaba̅b̅aba̅b̅aba̅b̅aba̅b̅aba̅b̅aba̅b̅aaba̅b̅aba̅b̅aba̅b̅aba̅b̅aba̅b̅aba̅b̅aaba̅b̅aba̅b̅aba̅b̅aba̅b̅aba̅b̅aba̅b̅aaba̅b̅aba̅b̅aba̅b̅aba̅b̅aba̅b̅aba̅b̅aaba̅b̅aba̅b̅aba̅b̅aba̅b̅aba̅b̅aba̅b̅aaba̅b̅aba̅b̅aba̅b̅aba̅b̅aba̅b̅aba̅b̅aaba̅b̅aba̅b̅aba̅b̅aba̅b̅aba̅b̅aba̅b̅aaba̅b̅aba̅b̅aba̅b̅aba̅b̅aba̅b̅aba̅b̅aaba̅b̅aba̅b̅aba̅b̅aba̅b̅aba̅b̅aba̅b̅aaba̅b̅aba̅b̅aba̅b̅aba̅b̅aba̅b̅aba̅b̅aaba̅b̅aba̅b̅aba̅b̅aba̅b̅aba̅b̅aba̅b̅aaba̅b̅aba̅b̅aba̅b̅aba̅b̅aba̅b̅aba̅b̅aaba̅b̅aba̅b̅aba̅b̅aba̅b̅aba̅b̅aba̅b̅aa| ≤ 63.744444444444426 using |a̅b̅aaba̅b̅aba̅b̅aba̅b̅aba̅b̅aba̅b̅aba̅b̅aaba̅b̅aba̅b̅aba̅b̅aba̅b̅aba̅b̅aba̅b̅aaba̅b̅aba̅b̅aba̅b̅aba̅b̅aba̅b̅aba̅b̅aaba̅b̅aba̅b̅aba̅b̅aba̅b̅aba̅b̅aba̅b̅aaba̅b̅aba̅b̅aba̅b̅aba̅b̅aba̅b̅aba̅b̅aaba̅b̅aba̅b̅aba̅b̅aba̅b̅aba̅b̅aba̅b̅aaba̅b̅aba̅b̅aba̅b̅aba̅b̅aba̅b̅aba̅b̅aaba̅b̅aba̅b̅aba̅b̅aba̅b̅aba̅b̅aba̅b̅aaba̅b̅aba̅b̅aba̅b̅aba̅b̅aba̅b̅aba̅b̅aaba̅b̅aba̅b̅aba̅b̅aba̅b̅aba̅b̅aba̅b̅aaba̅b̅aba̅b̅aba̅b̅aba̅b̅aba̅b̅aba̅b̅aaba̅b̅aba̅b̅aba̅b̅aba̅b̅aba̅b̅aba̅b̅aaba̅b̅aba̅b̅aba̅b̅aba̅b̅aba̅b̅aba̅b̅aa| ≤ 63.744444444444426 and |e| ≤ 0.0\n",
       "151. |b̅aba̅b̅aba̅b̅aba̅b̅aaba̅b̅aba̅b̅aba̅b̅aba̅b̅aba̅b̅aba̅b̅aaba̅b̅aba̅b̅aba̅b̅aba̅b̅aba̅b̅aba̅b̅aaba̅b̅aba̅b̅aba̅b̅aba̅b̅aba̅b̅aba̅b̅aaba̅b̅aba̅b̅aba̅b̅aba̅b̅aba̅b̅aba̅b̅aaba̅b̅aba̅b̅aba̅b̅aba̅b̅aba̅b̅aba̅b̅aaba̅b̅aba̅b̅aba̅b̅aba̅b̅aba̅b̅aba̅b̅aaba̅b̅aba̅b̅aba̅b̅aba̅b̅aba̅b̅aba̅b̅aaba̅b̅aba̅b̅aba̅b̅aba̅b̅aba̅b̅aba̅b̅aaba̅b̅aba̅b̅aba̅b̅aba̅b̅aba̅b̅aba̅b̅aaba̅b̅aba̅b̅aba̅b̅aba̅b̅aba̅b̅aba̅b̅aaba̅b̅aba̅b̅aba̅b̅aba̅b̅aba̅b̅aba̅b̅aaba̅b̅aba̅b̅aba̅b̅aba̅b̅aba̅b̅aba̅b̅aaba̅b̅aba̅b̅aba̅b̅aba̅b̅aba̅b̅aba̅b̅aa| ≤ 65.84444444444442 using |b̅aba̅b̅aba̅b̅ab| ≤ 2.1 and |a̅b̅aaba̅b̅aba̅b̅aba̅b̅aba̅b̅aba̅b̅aba̅b̅aaba̅b̅aba̅b̅aba̅b̅aba̅b̅aba̅b̅aba̅b̅aaba̅b̅aba̅b̅aba̅b̅aba̅b̅aba̅b̅aba̅b̅aaba̅b̅aba̅b̅aba̅b̅aba̅b̅aba̅b̅aba̅b̅aaba̅b̅aba̅b̅aba̅b̅aba̅b̅aba̅b̅aba̅b̅aaba̅b̅aba̅b̅aba̅b̅aba̅b̅aba̅b̅aba̅b̅aaba̅b̅aba̅b̅aba̅b̅aba̅b̅aba̅b̅aba̅b̅aaba̅b̅aba̅b̅aba̅b̅aba̅b̅aba̅b̅aba̅b̅aaba̅b̅aba̅b̅aba̅b̅aba̅b̅aba̅b̅aba̅b̅aaba̅b̅aba̅b̅aba̅b̅aba̅b̅aba̅b̅aba̅b̅aaba̅b̅aba̅b̅aba̅b̅aba̅b̅aba̅b̅aba̅b̅aaba̅b̅aba̅b̅aba̅b̅aba̅b̅aba̅b̅aba̅b̅aaba̅b̅aba̅b̅aba̅b̅aba̅b̅aba̅b̅aba̅b̅aa| ≤ 63.744444444444426\n",
       "152. |aaba̅b̅aba̅b̅aba̅b̅aba̅b̅aba̅b̅aba̅b̅aaba̅b̅aba̅b̅aba̅b̅aba̅b̅aba̅b̅aba̅b̅aaba̅b̅aba̅b̅aba̅b̅aba̅b̅aba̅b̅aba̅b̅aaba̅b̅aba̅b̅aba̅b̅aba̅b̅aba̅b̅aba̅b̅aaba̅b̅aba̅b̅aba̅b̅aba̅b̅aba̅b̅aba̅b̅aaba̅b̅aba̅b̅aba̅b̅aba̅b̅aba̅b̅aba̅b̅aaba̅b̅aba̅b̅aba̅b̅aba̅b̅aba̅b̅aba̅b̅aaba̅b̅aba̅b̅aba̅b̅aba̅b̅aba̅b̅aba̅b̅aaba̅b̅aba̅b̅aba̅b̅aba̅b̅aba̅b̅aba̅b̅aaba̅b̅aba̅b̅aba̅b̅aba̅b̅aba̅b̅aba̅b̅aaba̅b̅aba̅b̅aba̅b̅aba̅b̅aba̅b̅aba̅b̅aaba̅b̅aba̅b̅aba̅b̅aba̅b̅aba̅b̅aba̅b̅aaba̅b̅aba̅b̅aba̅b̅aba̅b̅aba̅b̅aba̅b̅aaba̅b̅aba̅b̅aba̅b̅aba̅b̅aba̅b̅aba̅b̅aa| ≤ 68.39999999999998 using |aaba̅b̅aba̅b̅aba̅| ≤ 2.5555555555555554 and |b̅aba̅b̅aba̅b̅aba̅b̅aaba̅b̅aba̅b̅aba̅b̅aba̅b̅aba̅b̅aba̅b̅aaba̅b̅aba̅b̅aba̅b̅aba̅b̅aba̅b̅aba̅b̅aaba̅b̅aba̅b̅aba̅b̅aba̅b̅aba̅b̅aba̅b̅aaba̅b̅aba̅b̅aba̅b̅aba̅b̅aba̅b̅aba̅b̅aaba̅b̅aba̅b̅aba̅b̅aba̅b̅aba̅b̅aba̅b̅aaba̅b̅aba̅b̅aba̅b̅aba̅b̅aba̅b̅aba̅b̅aaba̅b̅aba̅b̅aba̅b̅aba̅b̅aba̅b̅aba̅b̅aaba̅b̅aba̅b̅aba̅b̅aba̅b̅aba̅b̅aba̅b̅aaba̅b̅aba̅b̅aba̅b̅aba̅b̅aba̅b̅aba̅b̅aaba̅b̅aba̅b̅aba̅b̅aba̅b̅aba̅b̅aba̅b̅aaba̅b̅aba̅b̅aba̅b̅aba̅b̅aba̅b̅aba̅b̅aaba̅b̅aba̅b̅aba̅b̅aba̅b̅aba̅b̅aba̅b̅aaba̅b̅aba̅b̅aba̅b̅aba̅b̅aba̅b̅aba̅b̅aa| ≤ 65.84444444444442\n",
       "153. |baaba̅b̅aba̅b̅aba̅b̅aba̅b̅aba̅b̅aba̅b̅aaba̅b̅aba̅b̅aba̅b̅aba̅b̅aba̅b̅aba̅b̅aaba̅b̅aba̅b̅aba̅b̅aba̅b̅aba̅b̅aba̅b̅aaba̅b̅aba̅b̅aba̅b̅aba̅b̅aba̅b̅aba̅b̅aaba̅b̅aba̅b̅aba̅b̅aba̅b̅aba̅b̅aba̅b̅aaba̅b̅aba̅b̅aba̅b̅aba̅b̅aba̅b̅aba̅b̅aaba̅b̅aba̅b̅aba̅b̅aba̅b̅aba̅b̅aba̅b̅aaba̅b̅aba̅b̅aba̅b̅aba̅b̅aba̅b̅aba̅b̅aaba̅b̅aba̅b̅aba̅b̅aba̅b̅aba̅b̅aba̅b̅aaba̅b̅aba̅b̅aba̅b̅aba̅b̅aba̅b̅aba̅b̅aaba̅b̅aba̅b̅aba̅b̅aba̅b̅aba̅b̅aba̅b̅aaba̅b̅aba̅b̅aba̅b̅aba̅b̅aba̅b̅aba̅b̅aaba̅b̅aba̅b̅aba̅b̅aba̅b̅aba̅b̅aba̅b̅aaba̅b̅aba̅b̅aba̅b̅aba̅b̅aba̅b̅aba̅b̅aab̅| ≤ 68.39999999999998 using |aaba̅b̅aba̅b̅aba̅b̅aba̅b̅aba̅b̅aba̅b̅aaba̅b̅aba̅b̅aba̅b̅aba̅b̅aba̅b̅aba̅b̅aaba̅b̅aba̅b̅aba̅b̅aba̅b̅aba̅b̅aba̅b̅aaba̅b̅aba̅b̅aba̅b̅aba̅b̅aba̅b̅aba̅b̅aaba̅b̅aba̅b̅aba̅b̅aba̅b̅aba̅b̅aba̅b̅aaba̅b̅aba̅b̅aba̅b̅aba̅b̅aba̅b̅aba̅b̅aaba̅b̅aba̅b̅aba̅b̅aba̅b̅aba̅b̅aba̅b̅aaba̅b̅aba̅b̅aba̅b̅aba̅b̅aba̅b̅aba̅b̅aaba̅b̅aba̅b̅aba̅b̅aba̅b̅aba̅b̅aba̅b̅aaba̅b̅aba̅b̅aba̅b̅aba̅b̅aba̅b̅aba̅b̅aaba̅b̅aba̅b̅aba̅b̅aba̅b̅aba̅b̅aba̅b̅aaba̅b̅aba̅b̅aba̅b̅aba̅b̅aba̅b̅aba̅b̅aaba̅b̅aba̅b̅aba̅b̅aba̅b̅aba̅b̅aba̅b̅aaba̅b̅aba̅b̅aba̅b̅aba̅b̅aba̅b̅aba̅b̅aa| ≤ 68.39999999999998\n",
       "154. |b̅aaba̅b̅aba̅b̅aba̅b̅aba̅b̅aba̅b̅aba̅b̅aaba̅b̅aba̅b̅aba̅b̅aba̅b̅aba̅b̅aba̅b̅aaba̅b̅aba̅b̅aba̅b̅aba̅b̅aba̅b̅aba̅b̅aaba̅b̅aba̅b̅aba̅b̅aba̅b̅aba̅b̅aba̅b̅aaba̅b̅aba̅b̅aba̅b̅aba̅b̅aba̅b̅aba̅b̅aaba̅b̅aba̅b̅aba̅b̅aba̅b̅aba̅b̅aba̅b̅aaba̅b̅aba̅b̅aba̅b̅aba̅b̅aba̅b̅aba̅b̅aaba̅b̅aba̅b̅aba̅b̅aba̅b̅aba̅b̅aba̅b̅aaba̅b̅aba̅b̅aba̅b̅aba̅b̅aba̅b̅aba̅b̅aaba̅b̅aba̅b̅aba̅b̅aba̅b̅aba̅b̅aba̅b̅aaba̅b̅aba̅b̅aba̅b̅aba̅b̅aba̅b̅aba̅b̅aaba̅b̅aba̅b̅aba̅b̅aba̅b̅aba̅b̅aba̅b̅aaba̅b̅aba̅b̅aba̅b̅aba̅b̅aba̅b̅aba̅b̅aaba̅b̅aba̅b̅aba̅b̅aba̅b̅aba̅b̅aba̅b̅aab| ≤ 68.39999999999998 using |b̅aaba̅b̅aba̅b̅aba̅b̅aba̅b̅aba̅b̅aba̅b̅aaba̅b̅aba̅b̅aba̅b̅aba̅b̅aba̅b̅aba̅b̅aaba̅b̅aba̅b̅aba̅b̅aba̅b̅aba̅b̅aba̅b̅aaba̅b̅aba̅b̅aba̅b̅aba̅b̅aba̅b̅aba̅b̅aaba̅b̅aba̅b̅aba̅b̅aba̅b̅aba̅b̅aba̅b̅aaba̅b̅aba̅b̅aba̅b̅aba̅b̅aba̅b̅aba̅b̅aaba̅b̅aba̅b̅aba̅b̅aba̅b̅aba̅b̅aba̅b̅aaba̅b̅aba̅b̅aba̅b̅aba̅b̅aba̅b̅aba̅b̅aaba̅b̅aba̅b̅aba̅b̅aba̅b̅aba̅b̅aba̅b̅aaba̅b̅aba̅b̅aba̅b̅aba̅b̅aba̅b̅aba̅b̅aaba̅b̅aba̅b̅aba̅b̅aba̅b̅aba̅b̅aba̅b̅aaba̅b̅aba̅b̅aba̅b̅aba̅b̅aba̅b̅aba̅b̅aaba̅b̅aba̅b̅aba̅b̅aba̅b̅aba̅b̅aba̅b̅aaba̅b̅aba̅b̅aba̅b̅aba̅b̅aba̅b̅aba̅b̅aab| ≤ 68.39999999999998 and |e| ≤ 0.0\n",
       "155. |aba̅b̅aaba̅b̅aba̅b̅aba̅b̅aba̅b̅aba̅b̅aba̅b̅aaba̅b̅aba̅b̅aba̅b̅aba̅b̅aba̅b̅aba̅b̅aaba̅b̅aba̅b̅aba̅b̅aba̅b̅aba̅b̅aba̅b̅aaba̅b̅aba̅b̅aba̅b̅aba̅b̅aba̅b̅aba̅b̅aaba̅b̅aba̅b̅aba̅b̅aba̅b̅aba̅b̅aba̅b̅aaba̅b̅aba̅b̅aba̅b̅aba̅b̅aba̅b̅aba̅b̅aaba̅b̅aba̅b̅aba̅b̅aba̅b̅aba̅b̅aba̅b̅aaba̅b̅aba̅b̅aba̅b̅aba̅b̅aba̅b̅aba̅b̅aaba̅b̅aba̅b̅aba̅b̅aba̅b̅aba̅b̅aba̅b̅aaba̅b̅aba̅b̅aba̅b̅aba̅b̅aba̅b̅aba̅b̅aaba̅b̅aba̅b̅aba̅b̅aba̅b̅aba̅b̅aba̅b̅aaba̅b̅aba̅b̅aba̅b̅aba̅b̅aba̅b̅aba̅b̅aaba̅b̅aba̅b̅aba̅b̅aba̅b̅aba̅b̅aba̅b̅aaba̅b̅aba̅b̅aba̅b̅aba̅b̅aba̅b̅aba̅b̅aaba̅b̅aba̅b̅aba̅b̅aba̅b̅aba̅b̅aba̅b̅aab| ≤ 74.05555555555553 using |aba̅b̅aaba̅b̅aba̅b̅aba̅b̅aba̅b̅aba̅b̅aba̅| ≤ 5.655555555555555 and |b̅aaba̅b̅aba̅b̅aba̅b̅aba̅b̅aba̅b̅aba̅b̅aaba̅b̅aba̅b̅aba̅b̅aba̅b̅aba̅b̅aba̅b̅aaba̅b̅aba̅b̅aba̅b̅aba̅b̅aba̅b̅aba̅b̅aaba̅b̅aba̅b̅aba̅b̅aba̅b̅aba̅b̅aba̅b̅aaba̅b̅aba̅b̅aba̅b̅aba̅b̅aba̅b̅aba̅b̅aaba̅b̅aba̅b̅aba̅b̅aba̅b̅aba̅b̅aba̅b̅aaba̅b̅aba̅b̅aba̅b̅aba̅b̅aba̅b̅aba̅b̅aaba̅b̅aba̅b̅aba̅b̅aba̅b̅aba̅b̅aba̅b̅aaba̅b̅aba̅b̅aba̅b̅aba̅b̅aba̅b̅aba̅b̅aaba̅b̅aba̅b̅aba̅b̅aba̅b̅aba̅b̅aba̅b̅aaba̅b̅aba̅b̅aba̅b̅aba̅b̅aba̅b̅aba̅b̅aaba̅b̅aba̅b̅aba̅b̅aba̅b̅aba̅b̅aba̅b̅aaba̅b̅aba̅b̅aba̅b̅aba̅b̅aba̅b̅aba̅b̅aaba̅b̅aba̅b̅aba̅b̅aba̅b̅aba̅b̅aba̅b̅aab| ≤ 68.39999999999998\n",
       "156. |ba̅b̅aba̅b̅aaba̅b̅aba̅b̅aba̅b̅aba̅b̅aba̅b̅aba̅b̅aaba̅b̅aba̅b̅aba̅b̅aba̅b̅aba̅b̅aba̅b̅aaba̅b̅aba̅b̅aba̅b̅aba̅b̅aba̅b̅aba̅b̅aaba̅b̅aba̅b̅aba̅b̅aba̅b̅aba̅b̅aba̅b̅aaba̅b̅aba̅b̅aba̅b̅aba̅b̅aba̅b̅aba̅b̅aaba̅b̅aba̅b̅aba̅b̅aba̅b̅aba̅b̅aba̅b̅aaba̅b̅aba̅b̅aba̅b̅aba̅b̅aba̅b̅aba̅b̅aaba̅b̅aba̅b̅aba̅b̅aba̅b̅aba̅b̅aba̅b̅aaba̅b̅aba̅b̅aba̅b̅aba̅b̅aba̅b̅aba̅b̅aaba̅b̅aba̅b̅aba̅b̅aba̅b̅aba̅b̅aba̅b̅aaba̅b̅aba̅b̅aba̅b̅aba̅b̅aba̅b̅aba̅b̅aaba̅b̅aba̅b̅aba̅b̅aba̅b̅aba̅b̅aba̅b̅aaba̅b̅aba̅b̅aba̅b̅aba̅b̅aba̅b̅aba̅b̅aaba̅b̅aba̅b̅aba̅b̅aba̅b̅aba̅b̅aba̅b̅aaba̅b̅aba̅b̅aba̅b̅aba̅b̅aba̅b̅aba̅b̅aab| ≤ 75.05555555555553 using |ba̅b̅| ≤ 1.0 and |aba̅b̅aaba̅b̅aba̅b̅aba̅b̅aba̅b̅aba̅b̅aba̅b̅aaba̅b̅aba̅b̅aba̅b̅aba̅b̅aba̅b̅aba̅b̅aaba̅b̅aba̅b̅aba̅b̅aba̅b̅aba̅b̅aba̅b̅aaba̅b̅aba̅b̅aba̅b̅aba̅b̅aba̅b̅aba̅b̅aaba̅b̅aba̅b̅aba̅b̅aba̅b̅aba̅b̅aba̅b̅aaba̅b̅aba̅b̅aba̅b̅aba̅b̅aba̅b̅aba̅b̅aaba̅b̅aba̅b̅aba̅b̅aba̅b̅aba̅b̅aba̅b̅aaba̅b̅aba̅b̅aba̅b̅aba̅b̅aba̅b̅aba̅b̅aaba̅b̅aba̅b̅aba̅b̅aba̅b̅aba̅b̅aba̅b̅aaba̅b̅aba̅b̅aba̅b̅aba̅b̅aba̅b̅aba̅b̅aaba̅b̅aba̅b̅aba̅b̅aba̅b̅aba̅b̅aba̅b̅aaba̅b̅aba̅b̅aba̅b̅aba̅b̅aba̅b̅aba̅b̅aaba̅b̅aba̅b̅aba̅b̅aba̅b̅aba̅b̅aba̅b̅aaba̅b̅aba̅b̅aba̅b̅aba̅b̅aba̅b̅aba̅b̅aaba̅b̅aba̅b̅aba̅b̅aba̅b̅aba̅b̅aba̅b̅aab| ≤ 74.05555555555553\n",
       "157. |a̅ba̅b̅aba̅b̅aaba̅b̅aba̅b̅aba̅b̅aba̅b̅aba̅b̅aba̅b̅aaba̅b̅aba̅b̅aba̅b̅aba̅b̅aba̅b̅aba̅b̅aaba̅b̅aba̅b̅aba̅b̅aba̅b̅aba̅b̅aba̅b̅aaba̅b̅aba̅b̅aba̅b̅aba̅b̅aba̅b̅aba̅b̅aaba̅b̅aba̅b̅aba̅b̅aba̅b̅aba̅b̅aba̅b̅aaba̅b̅aba̅b̅aba̅b̅aba̅b̅aba̅b̅aba̅b̅aaba̅b̅aba̅b̅aba̅b̅aba̅b̅aba̅b̅aba̅b̅aaba̅b̅aba̅b̅aba̅b̅aba̅b̅aba̅b̅aba̅b̅aaba̅b̅aba̅b̅aba̅b̅aba̅b̅aba̅b̅aba̅b̅aaba̅b̅aba̅b̅aba̅b̅aba̅b̅aba̅b̅aba̅b̅aaba̅b̅aba̅b̅aba̅b̅aba̅b̅aba̅b̅aba̅b̅aaba̅b̅aba̅b̅aba̅b̅aba̅b̅aba̅b̅aba̅b̅aaba̅b̅aba̅b̅aba̅b̅aba̅b̅aba̅b̅aba̅b̅aaba̅b̅aba̅b̅aba̅b̅aba̅b̅aba̅b̅aba̅b̅aaba̅b̅aba̅b̅aba̅b̅aba̅b̅aba̅b̅aba̅b̅aaba| ≤ 75.05555555555553 using |ba̅b̅aba̅b̅aaba̅b̅aba̅b̅aba̅b̅aba̅b̅aba̅b̅aba̅b̅aaba̅b̅aba̅b̅aba̅b̅aba̅b̅aba̅b̅aba̅b̅aaba̅b̅aba̅b̅aba̅b̅aba̅b̅aba̅b̅aba̅b̅aaba̅b̅aba̅b̅aba̅b̅aba̅b̅aba̅b̅aba̅b̅aaba̅b̅aba̅b̅aba̅b̅aba̅b̅aba̅b̅aba̅b̅aaba̅b̅aba̅b̅aba̅b̅aba̅b̅aba̅b̅aba̅b̅aaba̅b̅aba̅b̅aba̅b̅aba̅b̅aba̅b̅aba̅b̅aaba̅b̅aba̅b̅aba̅b̅aba̅b̅aba̅b̅aba̅b̅aaba̅b̅aba̅b̅aba̅b̅aba̅b̅aba̅b̅aba̅b̅aaba̅b̅aba̅b̅aba̅b̅aba̅b̅aba̅b̅aba̅b̅aaba̅b̅aba̅b̅aba̅b̅aba̅b̅aba̅b̅aba̅b̅aaba̅b̅aba̅b̅aba̅b̅aba̅b̅aba̅b̅aba̅b̅aaba̅b̅aba̅b̅aba̅b̅aba̅b̅aba̅b̅aba̅b̅aaba̅b̅aba̅b̅aba̅b̅aba̅b̅aba̅b̅aba̅b̅aaba̅b̅aba̅b̅aba̅b̅aba̅b̅aba̅b̅aba̅b̅aab| ≤ 75.05555555555553\n",
       "158. |aba̅b̅aba̅b̅aaba̅b̅aba̅b̅aba̅b̅aba̅b̅aba̅b̅aba̅b̅aaba̅b̅aba̅b̅aba̅b̅aba̅b̅aba̅b̅aba̅b̅aaba̅b̅aba̅b̅aba̅b̅aba̅b̅aba̅b̅aba̅b̅aaba̅b̅aba̅b̅aba̅b̅aba̅b̅aba̅b̅aba̅b̅aaba̅b̅aba̅b̅aba̅b̅aba̅b̅aba̅b̅aba̅b̅aaba̅b̅aba̅b̅aba̅b̅aba̅b̅aba̅b̅aba̅b̅aaba̅b̅aba̅b̅aba̅b̅aba̅b̅aba̅b̅aba̅b̅aaba̅b̅aba̅b̅aba̅b̅aba̅b̅aba̅b̅aba̅b̅aaba̅b̅aba̅b̅aba̅b̅aba̅b̅aba̅b̅aba̅b̅aaba̅b̅aba̅b̅aba̅b̅aba̅b̅aba̅b̅aba̅b̅aaba̅b̅aba̅b̅aba̅b̅aba̅b̅aba̅b̅aba̅b̅aaba̅b̅aba̅b̅aba̅b̅aba̅b̅aba̅b̅aba̅b̅aaba̅b̅aba̅b̅aba̅b̅aba̅b̅aba̅b̅aba̅b̅aaba̅b̅aba̅b̅aba̅b̅aba̅b̅aba̅b̅aba̅b̅aaba̅b̅aba̅b̅aba̅b̅aba̅b̅aba̅b̅aba̅b̅aaba̅b̅aba̅b̅aba̅b̅aba̅b̅aba̅b̅aba̅b̅aa| ≤ 79.71111111111108 using |aba̅b̅aba̅b̅aaba̅b̅aba̅b̅aba̅b̅aba̅b̅aba̅b̅aba̅b̅aaba̅b̅aba̅b̅aba̅b̅aba̅b̅aba̅b̅aba̅b̅aaba̅b̅aba̅b̅aba̅b̅aba̅b̅aba̅b̅aba̅b̅aaba̅b̅aba̅b̅aba̅b̅aba̅b̅aba̅b̅aba̅b̅aaba̅b̅aba̅b̅aba̅b̅aba̅b̅aba̅b̅aba̅b̅aaba̅b̅aba̅b̅aba̅b̅aba̅b̅aba̅b̅aba̅b̅aaba̅b̅aba̅b̅aba̅b̅aba̅b̅aba̅b̅aba̅b̅aaba̅b̅aba̅b̅aba̅b̅aba̅b̅aba̅b̅aba̅b̅aaba̅b̅aba̅b̅aba̅b̅aba̅b̅aba̅b̅aba̅b̅aaba̅b̅aba̅b̅aba̅b̅aba̅b̅aba̅b̅aba̅b̅aaba̅b̅aba̅b̅aba̅b̅aba̅b̅aba̅b̅aba̅b̅aaba̅b̅aba̅b̅aba̅b̅aba̅b̅aba̅b̅aba̅b̅aaba̅b̅aba̅b̅aba̅b̅aba̅b̅aba̅b̅aba̅b̅aaba̅b̅aba̅b̅aba̅b̅aba̅b̅aba̅b̅aba̅b̅aaba̅b̅aba̅b̅aba̅b̅aba̅b̅aba̅b̅aba̅b̅aaba̅| ≤ 75.05555555555553 and |b̅aba̅b̅aba̅b̅aba̅b̅aba̅b̅aba̅b̅aa| ≤ 4.655555555555555\n",
       "159. |baba̅b̅aba̅b̅aaba̅b̅aba̅b̅aba̅b̅aba̅b̅aba̅b̅aba̅b̅aaba̅b̅aba̅b̅aba̅b̅aba̅b̅aba̅b̅aba̅b̅aaba̅b̅aba̅b̅aba̅b̅aba̅b̅aba̅b̅aba̅b̅aaba̅b̅aba̅b̅aba̅b̅aba̅b̅aba̅b̅aba̅b̅aaba̅b̅aba̅b̅aba̅b̅aba̅b̅aba̅b̅aba̅b̅aaba̅b̅aba̅b̅aba̅b̅aba̅b̅aba̅b̅aba̅b̅aaba̅b̅aba̅b̅aba̅b̅aba̅b̅aba̅b̅aba̅b̅aaba̅b̅aba̅b̅aba̅b̅aba̅b̅aba̅b̅aba̅b̅aaba̅b̅aba̅b̅aba̅b̅aba̅b̅aba̅b̅aba̅b̅aaba̅b̅aba̅b̅aba̅b̅aba̅b̅aba̅b̅aba̅b̅aaba̅b̅aba̅b̅aba̅b̅aba̅b̅aba̅b̅aba̅b̅aaba̅b̅aba̅b̅aba̅b̅aba̅b̅aba̅b̅aba̅b̅aaba̅b̅aba̅b̅aba̅b̅aba̅b̅aba̅b̅aba̅b̅aaba̅b̅aba̅b̅aba̅b̅aba̅b̅aba̅b̅aba̅b̅aaba̅b̅aba̅b̅aba̅b̅aba̅b̅aba̅b̅aba̅b̅aaba̅b̅aba̅b̅aba̅b̅aba̅b̅aba̅b̅aba̅b̅aab̅| ≤ 79.71111111111108 using |aba̅b̅aba̅b̅aaba̅b̅aba̅b̅aba̅b̅aba̅b̅aba̅b̅aba̅b̅aaba̅b̅aba̅b̅aba̅b̅aba̅b̅aba̅b̅aba̅b̅aaba̅b̅aba̅b̅aba̅b̅aba̅b̅aba̅b̅aba̅b̅aaba̅b̅aba̅b̅aba̅b̅aba̅b̅aba̅b̅aba̅b̅aaba̅b̅aba̅b̅aba̅b̅aba̅b̅aba̅b̅aba̅b̅aaba̅b̅aba̅b̅aba̅b̅aba̅b̅aba̅b̅aba̅b̅aaba̅b̅aba̅b̅aba̅b̅aba̅b̅aba̅b̅aba̅b̅aaba̅b̅aba̅b̅aba̅b̅aba̅b̅aba̅b̅aba̅b̅aaba̅b̅aba̅b̅aba̅b̅aba̅b̅aba̅b̅aba̅b̅aaba̅b̅aba̅b̅aba̅b̅aba̅b̅aba̅b̅aba̅b̅aaba̅b̅aba̅b̅aba̅b̅aba̅b̅aba̅b̅aba̅b̅aaba̅b̅aba̅b̅aba̅b̅aba̅b̅aba̅b̅aba̅b̅aaba̅b̅aba̅b̅aba̅b̅aba̅b̅aba̅b̅aba̅b̅aaba̅b̅aba̅b̅aba̅b̅aba̅b̅aba̅b̅aba̅b̅aaba̅b̅aba̅b̅aba̅b̅aba̅b̅aba̅b̅aba̅b̅aaba̅b̅aba̅b̅aba̅b̅aba̅b̅aba̅b̅aba̅b̅aa| ≤ 79.71111111111108\n",
       "160. |a̅b̅aba̅b̅aba̅b̅aba̅b̅aba̅b̅aba̅b̅| ≤ 5.1 using |a̅b̅aba̅b̅aba̅b̅aba̅b̅aba̅b̅a| ≤ 4.1 and |ba̅b̅| ≤ 1.0\n",
       "161. |b̅aba̅b̅aba̅b̅aaba̅b̅aba̅b̅aba̅b̅aba̅b̅aba̅b̅aba̅b̅aaba̅b̅aba̅b̅aba̅b̅aba̅b̅aba̅b̅aba̅b̅aaba̅b̅aba̅b̅aba̅b̅aba̅b̅aba̅b̅aba̅b̅aaba̅b̅aba̅b̅aba̅b̅aba̅b̅aba̅b̅aba̅b̅aaba̅b̅aba̅b̅aba̅b̅aba̅b̅aba̅b̅aba̅b̅aaba̅b̅aba̅b̅aba̅b̅aba̅b̅aba̅b̅aba̅b̅aaba̅b̅aba̅b̅aba̅b̅aba̅b̅aba̅b̅aba̅b̅aaba̅b̅aba̅b̅aba̅b̅aba̅b̅aba̅b̅aba̅b̅aaba̅b̅aba̅b̅aba̅b̅aba̅b̅aba̅b̅aba̅b̅aaba̅b̅aba̅b̅aba̅b̅aba̅b̅aba̅b̅aba̅b̅aaba̅b̅aba̅b̅aba̅b̅aba̅b̅aba̅b̅aba̅b̅aaba̅b̅aba̅b̅aba̅b̅aba̅b̅aba̅b̅aba̅b̅aaba̅b̅aba̅b̅aba̅b̅aba̅b̅aba̅b̅aba̅b̅aaba̅b̅aba̅b̅aba̅b̅aba̅b̅aba̅b̅aba̅b̅aaba̅b̅aba̅b̅aba̅b̅aba̅b̅aba̅b̅aba̅b̅aaba̅b̅aba̅b̅aba̅b̅aba̅b̅aba̅b̅aba̅b̅aaba̅b̅aba̅b̅aba̅b̅aba̅b̅aba̅b̅aba̅b̅| ≤ 84.81111111111107 using |b̅aba̅b̅aba̅b̅aaba̅b̅aba̅b̅aba̅b̅aba̅b̅aba̅b̅aba̅b̅aaba̅b̅aba̅b̅aba̅b̅aba̅b̅aba̅b̅aba̅b̅aaba̅b̅aba̅b̅aba̅b̅aba̅b̅aba̅b̅aba̅b̅aaba̅b̅aba̅b̅aba̅b̅aba̅b̅aba̅b̅aba̅b̅aaba̅b̅aba̅b̅aba̅b̅aba̅b̅aba̅b̅aba̅b̅aaba̅b̅aba̅b̅aba̅b̅aba̅b̅aba̅b̅aba̅b̅aaba̅b̅aba̅b̅aba̅b̅aba̅b̅aba̅b̅aba̅b̅aaba̅b̅aba̅b̅aba̅b̅aba̅b̅aba̅b̅aba̅b̅aaba̅b̅aba̅b̅aba̅b̅aba̅b̅aba̅b̅aba̅b̅aaba̅b̅aba̅b̅aba̅b̅aba̅b̅aba̅b̅aba̅b̅aaba̅b̅aba̅b̅aba̅b̅aba̅b̅aba̅b̅aba̅b̅aaba̅b̅aba̅b̅aba̅b̅aba̅b̅aba̅b̅aba̅b̅aaba̅b̅aba̅b̅aba̅b̅aba̅b̅aba̅b̅aba̅b̅aaba̅b̅aba̅b̅aba̅b̅aba̅b̅aba̅b̅aba̅b̅aaba̅b̅aba̅b̅aba̅b̅aba̅b̅aba̅b̅aba̅b̅aaba̅b̅aba̅b̅aba̅b̅aba̅b̅aba̅b̅aba̅b̅aab| ≤ 79.71111111111108 and |a̅b̅aba̅b̅aba̅b̅aba̅b̅aba̅b̅aba̅b̅| ≤ 5.1\n",
       "162. |ab̅aba̅b̅aba̅b̅aaba̅b̅aba̅b̅aba̅b̅aba̅b̅aba̅b̅aba̅b̅aaba̅b̅aba̅b̅aba̅b̅aba̅b̅aba̅b̅aba̅b̅aaba̅b̅aba̅b̅aba̅b̅aba̅b̅aba̅b̅aba̅b̅aaba̅b̅aba̅b̅aba̅b̅aba̅b̅aba̅b̅aba̅b̅aaba̅b̅aba̅b̅aba̅b̅aba̅b̅aba̅b̅aba̅b̅aaba̅b̅aba̅b̅aba̅b̅aba̅b̅aba̅b̅aba̅b̅aaba̅b̅aba̅b̅aba̅b̅aba̅b̅aba̅b̅aba̅b̅aaba̅b̅aba̅b̅aba̅b̅aba̅b̅aba̅b̅aba̅b̅aaba̅b̅aba̅b̅aba̅b̅aba̅b̅aba̅b̅aba̅b̅aaba̅b̅aba̅b̅aba̅b̅aba̅b̅aba̅b̅aba̅b̅aaba̅b̅aba̅b̅aba̅b̅aba̅b̅aba̅b̅aba̅b̅aaba̅b̅aba̅b̅aba̅b̅aba̅b̅aba̅b̅aba̅b̅aaba̅b̅aba̅b̅aba̅b̅aba̅b̅aba̅b̅aba̅b̅aaba̅b̅aba̅b̅aba̅b̅aba̅b̅aba̅b̅aba̅b̅aaba̅b̅aba̅b̅aba̅b̅aba̅b̅aba̅b̅aba̅b̅aaba̅b̅aba̅b̅aba̅b̅aba̅b̅aba̅b̅aba̅b̅aaba̅b̅aba̅b̅aba̅b̅aba̅b̅aba̅b̅aba̅b̅a̅| ≤ 84.81111111111107 using |b̅aba̅b̅aba̅b̅aaba̅b̅aba̅b̅aba̅b̅aba̅b̅aba̅b̅aba̅b̅aaba̅b̅aba̅b̅aba̅b̅aba̅b̅aba̅b̅aba̅b̅aaba̅b̅aba̅b̅aba̅b̅aba̅b̅aba̅b̅aba̅b̅aaba̅b̅aba̅b̅aba̅b̅aba̅b̅aba̅b̅aba̅b̅aaba̅b̅aba̅b̅aba̅b̅aba̅b̅aba̅b̅aba̅b̅aaba̅b̅aba̅b̅aba̅b̅aba̅b̅aba̅b̅aba̅b̅aaba̅b̅aba̅b̅aba̅b̅aba̅b̅aba̅b̅aba̅b̅aaba̅b̅aba̅b̅aba̅b̅aba̅b̅aba̅b̅aba̅b̅aaba̅b̅aba̅b̅aba̅b̅aba̅b̅aba̅b̅aba̅b̅aaba̅b̅aba̅b̅aba̅b̅aba̅b̅aba̅b̅aba̅b̅aaba̅b̅aba̅b̅aba̅b̅aba̅b̅aba̅b̅aba̅b̅aaba̅b̅aba̅b̅aba̅b̅aba̅b̅aba̅b̅aba̅b̅aaba̅b̅aba̅b̅aba̅b̅aba̅b̅aba̅b̅aba̅b̅aaba̅b̅aba̅b̅aba̅b̅aba̅b̅aba̅b̅aba̅b̅aaba̅b̅aba̅b̅aba̅b̅aba̅b̅aba̅b̅aba̅b̅aaba̅b̅aba̅b̅aba̅b̅aba̅b̅aba̅b̅aba̅b̅aaba̅b̅aba̅b̅aba̅b̅aba̅b̅aba̅b̅aba̅b̅| ≤ 84.81111111111107\n",
       "163. |a̅b̅aba̅b̅aba̅b̅aaba̅b̅aba̅b̅aba̅b̅aba̅b̅aba̅b̅aba̅b̅aaba̅b̅aba̅b̅aba̅b̅aba̅b̅aba̅b̅aba̅b̅aaba̅b̅aba̅b̅aba̅b̅aba̅b̅aba̅b̅aba̅b̅aaba̅b̅aba̅b̅aba̅b̅aba̅b̅aba̅b̅aba̅b̅aaba̅b̅aba̅b̅aba̅b̅aba̅b̅aba̅b̅aba̅b̅aaba̅b̅aba̅b̅aba̅b̅aba̅b̅aba̅b̅aba̅b̅aaba̅b̅aba̅b̅aba̅b̅aba̅b̅aba̅b̅aba̅b̅aaba̅b̅aba̅b̅aba̅b̅aba̅b̅aba̅b̅aba̅b̅aaba̅b̅aba̅b̅aba̅b̅aba̅b̅aba̅b̅aba̅b̅aaba̅b̅aba̅b̅aba̅b̅aba̅b̅aba̅b̅aba̅b̅aaba̅b̅aba̅b̅aba̅b̅aba̅b̅aba̅b̅aba̅b̅aaba̅b̅aba̅b̅aba̅b̅aba̅b̅aba̅b̅aba̅b̅aaba̅b̅aba̅b̅aba̅b̅aba̅b̅aba̅b̅aba̅b̅aaba̅b̅aba̅b̅aba̅b̅aba̅b̅aba̅b̅aba̅b̅aaba̅b̅aba̅b̅aba̅b̅aba̅b̅aba̅b̅aba̅b̅aaba̅b̅aba̅b̅aba̅b̅aba̅b̅aba̅b̅aba̅b̅aaba̅b̅aba̅b̅aba̅b̅aba̅b̅aba̅b̅aba̅b̅a| ≤ 84.81111111111107 using |a̅b̅aba̅b̅aba̅b̅aaba̅b̅aba̅b̅aba̅b̅aba̅b̅aba̅b̅aba̅b̅aaba̅b̅aba̅b̅aba̅b̅aba̅b̅aba̅b̅aba̅b̅aaba̅b̅aba̅b̅aba̅b̅aba̅b̅aba̅b̅aba̅b̅aaba̅b̅aba̅b̅aba̅b̅aba̅b̅aba̅b̅aba̅b̅aaba̅b̅aba̅b̅aba̅b̅aba̅b̅aba̅b̅aba̅b̅aaba̅b̅aba̅b̅aba̅b̅aba̅b̅aba̅b̅aba̅b̅aaba̅b̅aba̅b̅aba̅b̅aba̅b̅aba̅b̅aba̅b̅aaba̅b̅aba̅b̅aba̅b̅aba̅b̅aba̅b̅aba̅b̅aaba̅b̅aba̅b̅aba̅b̅aba̅b̅aba̅b̅aba̅b̅aaba̅b̅aba̅b̅aba̅b̅aba̅b̅aba̅b̅aba̅b̅aaba̅b̅aba̅b̅aba̅b̅aba̅b̅aba̅b̅aba̅b̅aaba̅b̅aba̅b̅aba̅b̅aba̅b̅aba̅b̅aba̅b̅aaba̅b̅aba̅b̅aba̅b̅aba̅b̅aba̅b̅aba̅b̅aaba̅b̅aba̅b̅aba̅b̅aba̅b̅aba̅b̅aba̅b̅aaba̅b̅aba̅b̅aba̅b̅aba̅b̅aba̅b̅aba̅b̅aaba̅b̅aba̅b̅aba̅b̅aba̅b̅aba̅b̅aba̅b̅aaba̅b̅aba̅b̅aba̅b̅aba̅b̅aba̅b̅aba̅b̅a| ≤ 84.81111111111107 and |e| ≤ 0.0\n",
       "164. |b̅aba̅b̅aba̅b̅aba̅b̅aba̅b̅aba̅b̅aaba̅b̅aba̅b̅aba̅b̅aba̅b̅aba̅b̅aba̅b̅aaba̅b̅aba̅b̅aba̅b̅aba̅b̅aba̅b̅aba̅b̅aaba̅b̅aba̅b̅aba̅b̅aba̅b̅aba̅b̅aba̅b̅aaba̅b̅aba̅b̅aba̅b̅aba̅b̅aba̅b̅aba̅b̅aaba̅b̅aba̅b̅aba̅b̅aba̅b̅aba̅b̅aba̅b̅aaba̅b̅aba̅b̅aba̅b̅aba̅b̅aba̅b̅aba̅b̅aaba̅b̅aba̅b̅aba̅b̅aba̅b̅aba̅b̅aba̅b̅aaba̅b̅aba̅b̅aba̅b̅aba̅b̅aba̅b̅aba̅b̅aaba̅b̅aba̅b̅aba̅b̅aba̅b̅aba̅b̅aba̅b̅aaba̅b̅aba̅b̅aba̅b̅aba̅b̅aba̅b̅aba̅b̅aaba̅b̅aba̅b̅aba̅b̅aba̅b̅aba̅b̅aba̅b̅aaba̅b̅aba̅b̅aba̅b̅aba̅b̅aba̅b̅aba̅b̅aaba̅b̅aba̅b̅aba̅b̅aba̅b̅aba̅b̅aba̅b̅aaba̅b̅aba̅b̅aba̅b̅aba̅b̅aba̅b̅aba̅b̅aaba̅b̅aba̅b̅aba̅b̅aba̅b̅aba̅b̅aba̅b̅aaba̅b̅aba̅b̅aba̅b̅aba̅b̅aba̅b̅aba̅b̅aaba̅b̅aba̅b̅aba̅b̅aba̅b̅aba̅b̅aba̅b̅a| ≤ 86.91111111111107 using |b̅aba̅b̅aba̅b̅ab| ≤ 2.1 and |a̅b̅aba̅b̅aba̅b̅aaba̅b̅aba̅b̅aba̅b̅aba̅b̅aba̅b̅aba̅b̅aaba̅b̅aba̅b̅aba̅b̅aba̅b̅aba̅b̅aba̅b̅aaba̅b̅aba̅b̅aba̅b̅aba̅b̅aba̅b̅aba̅b̅aaba̅b̅aba̅b̅aba̅b̅aba̅b̅aba̅b̅aba̅b̅aaba̅b̅aba̅b̅aba̅b̅aba̅b̅aba̅b̅aba̅b̅aaba̅b̅aba̅b̅aba̅b̅aba̅b̅aba̅b̅aba̅b̅aaba̅b̅aba̅b̅aba̅b̅aba̅b̅aba̅b̅aba̅b̅aaba̅b̅aba̅b̅aba̅b̅aba̅b̅aba̅b̅aba̅b̅aaba̅b̅aba̅b̅aba̅b̅aba̅b̅aba̅b̅aba̅b̅aaba̅b̅aba̅b̅aba̅b̅aba̅b̅aba̅b̅aba̅b̅aaba̅b̅aba̅b̅aba̅b̅aba̅b̅aba̅b̅aba̅b̅aaba̅b̅aba̅b̅aba̅b̅aba̅b̅aba̅b̅aba̅b̅aaba̅b̅aba̅b̅aba̅b̅aba̅b̅aba̅b̅aba̅b̅aaba̅b̅aba̅b̅aba̅b̅aba̅b̅aba̅b̅aba̅b̅aaba̅b̅aba̅b̅aba̅b̅aba̅b̅aba̅b̅aba̅b̅aaba̅b̅aba̅b̅aba̅b̅aba̅b̅aba̅b̅aba̅b̅aaba̅b̅aba̅b̅aba̅b̅aba̅b̅aba̅b̅aba̅b̅a| ≤ 84.81111111111107\n",
       "165. |aba̅b̅aba̅b̅aba̅b̅aba̅b̅aba̅b̅aba̅b̅aaba̅b̅aba̅b̅aba̅b̅aba̅b̅aba̅b̅aba̅b̅aaba̅b̅aba̅b̅aba̅b̅aba̅b̅aba̅b̅aba̅b̅aaba̅b̅aba̅b̅aba̅b̅aba̅b̅aba̅b̅aba̅b̅aaba̅b̅aba̅b̅aba̅b̅aba̅b̅aba̅b̅aba̅b̅aaba̅b̅aba̅b̅aba̅b̅aba̅b̅aba̅b̅aba̅b̅aaba̅b̅aba̅b̅aba̅b̅aba̅b̅aba̅b̅aba̅b̅aaba̅b̅aba̅b̅aba̅b̅aba̅b̅aba̅b̅aba̅b̅aaba̅b̅aba̅b̅aba̅b̅aba̅b̅aba̅b̅aba̅b̅aaba̅b̅aba̅b̅aba̅b̅aba̅b̅aba̅b̅aba̅b̅aaba̅b̅aba̅b̅aba̅b̅aba̅b̅aba̅b̅aba̅b̅aaba̅b̅aba̅b̅aba̅b̅aba̅b̅aba̅b̅aba̅b̅aaba̅b̅aba̅b̅aba̅b̅aba̅b̅aba̅b̅aba̅b̅aaba̅b̅aba̅b̅aba̅b̅aba̅b̅aba̅b̅aba̅b̅aaba̅b̅aba̅b̅aba̅b̅aba̅b̅aba̅b̅aba̅b̅aaba̅b̅aba̅b̅aba̅b̅aba̅b̅aba̅b̅aba̅b̅aaba̅b̅aba̅b̅aba̅b̅aba̅b̅aba̅b̅aba̅b̅aaba̅b̅aba̅b̅aba̅b̅aba̅b̅aba̅b̅aba̅b̅a| ≤ 87.91111111111107 using |aba̅| ≤ 1.0 and |b̅aba̅b̅aba̅b̅aba̅b̅aba̅b̅aba̅b̅aaba̅b̅aba̅b̅aba̅b̅aba̅b̅aba̅b̅aba̅b̅aaba̅b̅aba̅b̅aba̅b̅aba̅b̅aba̅b̅aba̅b̅aaba̅b̅aba̅b̅aba̅b̅aba̅b̅aba̅b̅aba̅b̅aaba̅b̅aba̅b̅aba̅b̅aba̅b̅aba̅b̅aba̅b̅aaba̅b̅aba̅b̅aba̅b̅aba̅b̅aba̅b̅aba̅b̅aaba̅b̅aba̅b̅aba̅b̅aba̅b̅aba̅b̅aba̅b̅aaba̅b̅aba̅b̅aba̅b̅aba̅b̅aba̅b̅aba̅b̅aaba̅b̅aba̅b̅aba̅b̅aba̅b̅aba̅b̅aba̅b̅aaba̅b̅aba̅b̅aba̅b̅aba̅b̅aba̅b̅aba̅b̅aaba̅b̅aba̅b̅aba̅b̅aba̅b̅aba̅b̅aba̅b̅aaba̅b̅aba̅b̅aba̅b̅aba̅b̅aba̅b̅aba̅b̅aaba̅b̅aba̅b̅aba̅b̅aba̅b̅aba̅b̅aba̅b̅aaba̅b̅aba̅b̅aba̅b̅aba̅b̅aba̅b̅aba̅b̅aaba̅b̅aba̅b̅aba̅b̅aba̅b̅aba̅b̅aba̅b̅aaba̅b̅aba̅b̅aba̅b̅aba̅b̅aba̅b̅aba̅b̅aaba̅b̅aba̅b̅aba̅b̅aba̅b̅aba̅b̅aba̅b̅aaba̅b̅aba̅b̅aba̅b̅aba̅b̅aba̅b̅aba̅b̅a| ≤ 86.91111111111107\n",
       "166. |aba̅b̅aba̅b̅aba̅b̅aba̅b̅aba̅b̅aba̅b̅a| ≤ 4.883950617283948 using |aba̅b̅aba̅b̅aba̅b̅aba̅b̅aba̅b̅aba̅b̅aaba̅b̅aba̅b̅aba̅b̅aba̅b̅aba̅b̅aba̅b̅aaba̅b̅aba̅b̅aba̅b̅aba̅b̅aba̅b̅aba̅b̅aaba̅b̅aba̅b̅aba̅b̅aba̅b̅aba̅b̅aba̅b̅aaba̅b̅aba̅b̅aba̅b̅aba̅b̅aba̅b̅aba̅b̅aaba̅b̅aba̅b̅aba̅b̅aba̅b̅aba̅b̅aba̅b̅aaba̅b̅aba̅b̅aba̅b̅aba̅b̅aba̅b̅aba̅b̅aaba̅b̅aba̅b̅aba̅b̅aba̅b̅aba̅b̅aba̅b̅aaba̅b̅aba̅b̅aba̅b̅aba̅b̅aba̅b̅aba̅b̅aaba̅b̅aba̅b̅aba̅b̅aba̅b̅aba̅b̅aba̅b̅aaba̅b̅aba̅b̅aba̅b̅aba̅b̅aba̅b̅aba̅b̅aaba̅b̅aba̅b̅aba̅b̅aba̅b̅aba̅b̅aba̅b̅aaba̅b̅aba̅b̅aba̅b̅aba̅b̅aba̅b̅aba̅b̅aaba̅b̅aba̅b̅aba̅b̅aba̅b̅aba̅b̅aba̅b̅aaba̅b̅aba̅b̅aba̅b̅aba̅b̅aba̅b̅aba̅b̅aaba̅b̅aba̅b̅aba̅b̅aba̅b̅aba̅b̅aba̅b̅aaba̅b̅aba̅b̅aba̅b̅aba̅b̅aba̅b̅aba̅b̅aaba̅b̅aba̅b̅aba̅b̅aba̅b̅aba̅b̅aba̅b̅a| ≤ 87.91111111111107 by taking 18th power\n",
       "167. |baba̅b̅aba̅b̅aba̅b̅aba̅b̅aba̅b̅aba̅b̅ab̅| ≤ 4.883950617283948 using |aba̅b̅aba̅b̅aba̅b̅aba̅b̅aba̅b̅aba̅b̅a| ≤ 4.883950617283948\n",
       "168. |b̅aba̅b̅aba̅b̅aba̅b̅aba̅b̅aba̅b̅aba̅b̅aba̅b̅aba̅b̅| ≤ 6.883950617283948 using |b̅aba̅b̅aba̅b̅aba̅b̅aba̅b̅aba̅b̅aba̅b̅ab| ≤ 4.883950617283948 and |a̅b̅aba̅b̅| ≤ 2.0\n",
       "169. |ab̅aba̅b̅aba̅b̅aba̅b̅aba̅b̅aba̅b̅aba̅b̅aba̅b̅aba̅b̅a̅| ≤ 6.883950617283948 using |b̅aba̅b̅aba̅b̅aba̅b̅aba̅b̅aba̅b̅aba̅b̅aba̅b̅aba̅b̅| ≤ 6.883950617283948\n",
       "170. |a̅b̅aba̅b̅aba̅b̅aba̅b̅aba̅b̅aba̅b̅aba̅b̅aba̅b̅aba̅b̅aba̅b̅| ≤ 7.883950617283948 using |a̅b̅aba̅b̅aba̅b̅aba̅b̅aba̅b̅aba̅b̅aba̅b̅aba̅b̅aba̅b̅a| ≤ 6.883950617283948 and |ba̅b̅| ≤ 1.0\n",
       "171. |b̅aba̅b̅aba̅b̅aba̅b̅aba̅b̅aba̅b̅aba̅b̅aba̅b̅aba̅b̅aba̅b̅aba̅b̅aba̅b̅aba̅b̅aba̅b̅aba̅b̅aba̅b̅aba̅b̅| ≤ 12.767901234567896 using |b̅aba̅b̅aba̅b̅aba̅b̅aba̅b̅aba̅b̅aba̅b̅ab| ≤ 4.883950617283948 and |a̅b̅aba̅b̅aba̅b̅aba̅b̅aba̅b̅aba̅b̅aba̅b̅aba̅b̅aba̅b̅aba̅b̅| ≤ 7.883950617283948\n",
       "172. |aba̅b̅aba̅b̅aba̅b̅aba̅b̅aba̅b̅aba̅b̅aba̅b̅aba̅b̅aba̅b̅aba̅b̅aba̅b̅aba̅b̅aba̅b̅aba̅b̅aba̅b̅aba̅b̅aba̅b̅| ≤ 13.767901234567896 using |aba̅| ≤ 1.0 and |b̅aba̅b̅aba̅b̅aba̅b̅aba̅b̅aba̅b̅aba̅b̅aba̅b̅aba̅b̅aba̅b̅aba̅b̅aba̅b̅aba̅b̅aba̅b̅aba̅b̅aba̅b̅aba̅b̅| ≤ 12.767901234567896\n",
       "173. |aba̅b̅| ≤ 0.8098765432098762 using |aba̅b̅aba̅b̅aba̅b̅aba̅b̅aba̅b̅aba̅b̅aba̅b̅aba̅b̅aba̅b̅aba̅b̅aba̅b̅aba̅b̅aba̅b̅aba̅b̅aba̅b̅aba̅b̅aba̅b̅| ≤ 13.767901234567896 by taking 17th power\n"
      ]
     },
     "metadata": {},
     "output_type": "display_data"
    },
    {
     "data": {
      "text/plain": [
       "\u001b[36mres2\u001b[39m: \u001b[32mTry\u001b[39m[\u001b[32mUnit\u001b[39m] = \u001b[33mSuccess\u001b[39m(())"
      ]
     },
     "execution_count": 3,
     "metadata": {},
     "output_type": "execute_result"
    }
   ],
   "source": [
    "Try(Display.markdown(proofFuture.value.get.get._1))"
   ]
  },
  {
   "cell_type": "markdown",
   "metadata": {},
   "source": [
    "To ensure correctness, a proof with arbitrary precision rational numbers is also generated."
   ]
  },
  {
   "cell_type": "code",
   "execution_count": 4,
   "metadata": {
    "scrolled": true
   },
   "outputs": [
    {
     "data": {
      "text/markdown": [
       "## Proof output with rational coefficients \n",
       "\n",
       "1. |b| ≤ 1\n",
       "2. |a̅ba| ≤ 1 using |b| ≤ 1\n",
       "3. |a| ≤ 1\n",
       "4. |bab̅| ≤ 1 using |a| ≤ 1\n",
       "5. |b̅| ≤ 1\n",
       "6. |ab̅a̅| ≤ 1 using |b̅| ≤ 1\n",
       "7. |a̅b̅a| ≤ 1 using |a̅b̅a| ≤ 1 and |e| ≤ 0\n",
       "8. |b̅aba̅b̅a| ≤ 2 using |b̅ab| ≤ 1 and |a̅b̅a| ≤ 1\n",
       "9. |ab̅aba̅b̅aa̅| ≤ 2 using |b̅aba̅b̅a| ≤ 2\n",
       "10. |a̅| ≤ 1\n",
       "11. |b̅a̅b| ≤ 1 using |a̅| ≤ 1\n",
       "12. |b̅ab| ≤ 1 using |b̅ab| ≤ 1 and |e| ≤ 0\n",
       "13. |aba̅b̅ab| ≤ 2 using |aba̅| ≤ 1 and |b̅ab| ≤ 1\n",
       "14. |a̅aba̅b̅aba| ≤ 2 using |aba̅b̅ab| ≤ 2\n",
       "15. |aaba̅b̅aba̅| ≤ 2 using |aaba̅b̅aba̅| ≤ 2 and |e| ≤ 0\n",
       "16. |ba̅b̅aaba̅b̅aba̅| ≤ 3 using |ba̅b̅| ≤ 1 and |aaba̅b̅aba̅| ≤ 2\n",
       "17. |a̅b̅aba̅b̅aaba̅b̅aba̅| ≤ 4 using |a̅b̅a| ≤ 1 and |ba̅b̅aaba̅b̅aba̅| ≤ 3\n",
       "18. |b̅a̅b̅aba̅b̅aaba̅b̅aba̅b| ≤ 4 using |a̅b̅aba̅b̅aaba̅b̅aba̅| ≤ 4\n",
       "19. |ba̅b̅aba̅b̅aaba̅b̅aba̅b̅aaba̅b̅aba̅| ≤ 6 using |ba̅b̅aba̅b̅aaba̅b̅aba̅b̅| ≤ 4 and |aaba̅b̅aba̅| ≤ 2\n",
       "20. |a̅b̅aba̅b̅aaba̅b̅aba̅b̅aaba̅b̅aba̅b̅aaba̅b̅aba̅| ≤ 8 using |a̅b̅aba̅b̅aa| ≤ 2 and |ba̅b̅aba̅b̅aaba̅b̅aba̅b̅aaba̅b̅aba̅| ≤ 6\n",
       "21. |b̅a̅b̅aba̅b̅aaba̅b̅aba̅b̅aaba̅b̅aba̅b̅aaba̅b̅aba̅b| ≤ 8 using |a̅b̅aba̅b̅aaba̅b̅aba̅b̅aaba̅b̅aba̅b̅aaba̅b̅aba̅| ≤ 8\n",
       "22. |ba̅b̅aba̅b̅aaba̅b̅aba̅b̅aaba̅b̅aba̅b̅aaba̅b̅aba̅b̅aaba̅b̅aba̅| ≤ 10 using |ba̅b̅aba̅b̅aaba̅b̅aba̅b̅aaba̅b̅aba̅b̅aaba̅b̅aba̅b̅| ≤ 8 and |aaba̅b̅aba̅| ≤ 2\n",
       "23. |a̅b̅aba̅b̅aaba̅b̅aba̅b̅aaba̅b̅aba̅b̅aaba̅b̅aba̅b̅aaba̅b̅aba̅b̅aaba̅b̅aba̅| ≤ 12 using |a̅b̅aba̅b̅aa| ≤ 2 and |ba̅b̅aba̅b̅aaba̅b̅aba̅b̅aaba̅b̅aba̅b̅aaba̅b̅aba̅b̅aaba̅b̅aba̅| ≤ 10\n",
       "24. |b̅a̅b̅aba̅b̅aaba̅b̅aba̅b̅aaba̅b̅aba̅b̅aaba̅b̅aba̅b̅aaba̅b̅aba̅b̅aaba̅b̅aba̅b| ≤ 12 using |a̅b̅aba̅b̅aaba̅b̅aba̅b̅aaba̅b̅aba̅b̅aaba̅b̅aba̅b̅aaba̅b̅aba̅b̅aaba̅b̅aba̅| ≤ 12\n",
       "25. |ba̅b̅aba̅b̅aaba̅b̅aba̅b̅aaba̅b̅aba̅b̅aaba̅b̅aba̅b̅aaba̅b̅aba̅b̅aaba̅b̅aba̅b̅aaba̅b̅aba̅| ≤ 14 using |ba̅b̅aba̅b̅aaba̅b̅aba̅b̅aaba̅b̅aba̅b̅aaba̅b̅aba̅b̅aaba̅b̅aba̅b̅aaba̅b̅aba̅b̅| ≤ 12 and |aaba̅b̅aba̅| ≤ 2\n",
       "26. |a̅b̅aba̅b̅aaba̅b̅aba̅b̅aaba̅b̅aba̅b̅aaba̅b̅aba̅b̅aaba̅b̅aba̅b̅aaba̅b̅aba̅b̅aaba̅b̅aba̅b̅aaba̅b̅aba̅| ≤ 16 using |a̅b̅aba̅b̅aa| ≤ 2 and |ba̅b̅aba̅b̅aaba̅b̅aba̅b̅aaba̅b̅aba̅b̅aaba̅b̅aba̅b̅aaba̅b̅aba̅b̅aaba̅b̅aba̅b̅aaba̅b̅aba̅| ≤ 14\n",
       "27. |b̅a̅b̅aba̅b̅aaba̅b̅aba̅b̅aaba̅b̅aba̅b̅aaba̅b̅aba̅b̅aaba̅b̅aba̅b̅aaba̅b̅aba̅b̅aaba̅b̅aba̅b̅aaba̅b̅aba̅b| ≤ 16 using |a̅b̅aba̅b̅aaba̅b̅aba̅b̅aaba̅b̅aba̅b̅aaba̅b̅aba̅b̅aaba̅b̅aba̅b̅aaba̅b̅aba̅b̅aaba̅b̅aba̅b̅aaba̅b̅aba̅| ≤ 16\n",
       "28. |ba̅b̅aba̅b̅aaba̅b̅aba̅b̅aaba̅b̅aba̅b̅aaba̅b̅aba̅b̅aaba̅b̅aba̅b̅aaba̅b̅aba̅b̅aaba̅b̅aba̅b̅aaba̅b̅aba̅b̅aaba̅b̅aba̅| ≤ 18 using |ba̅b̅aba̅b̅aaba̅b̅aba̅b̅aaba̅b̅aba̅b̅aaba̅b̅aba̅b̅aaba̅b̅aba̅b̅aaba̅b̅aba̅b̅aaba̅b̅aba̅b̅aaba̅b̅aba̅b̅| ≤ 16 and |aaba̅b̅aba̅| ≤ 2\n",
       "29. |a̅b̅aba̅b̅aaba̅b̅aba̅b̅aaba̅b̅aba̅b̅aaba̅b̅aba̅b̅aaba̅b̅aba̅b̅aaba̅b̅aba̅b̅aaba̅b̅aba̅b̅aaba̅b̅aba̅b̅aaba̅b̅aba̅b̅aaba̅b̅aba̅| ≤ 20 using |a̅b̅aba̅b̅aa| ≤ 2 and |ba̅b̅aba̅b̅aaba̅b̅aba̅b̅aaba̅b̅aba̅b̅aaba̅b̅aba̅b̅aaba̅b̅aba̅b̅aaba̅b̅aba̅b̅aaba̅b̅aba̅b̅aaba̅b̅aba̅b̅aaba̅b̅aba̅| ≤ 18\n",
       "30. |b̅a̅b̅aba̅b̅aaba̅b̅aba̅b̅aaba̅b̅aba̅b̅aaba̅b̅aba̅b̅aaba̅b̅aba̅b̅aaba̅b̅aba̅b̅aaba̅b̅aba̅b̅aaba̅b̅aba̅b̅aaba̅b̅aba̅b̅aaba̅b̅aba̅b| ≤ 20 using |a̅b̅aba̅b̅aaba̅b̅aba̅b̅aaba̅b̅aba̅b̅aaba̅b̅aba̅b̅aaba̅b̅aba̅b̅aaba̅b̅aba̅b̅aaba̅b̅aba̅b̅aaba̅b̅aba̅b̅aaba̅b̅aba̅b̅aaba̅b̅aba̅| ≤ 20\n",
       "31. |ba̅b̅aba̅b̅aaba̅b̅aba̅b̅aaba̅b̅aba̅b̅aaba̅b̅aba̅b̅aaba̅b̅aba̅b̅aaba̅b̅aba̅b̅aaba̅b̅aba̅b̅aaba̅b̅aba̅b̅aaba̅b̅aba̅b̅aaba̅b̅aba̅b̅aaba̅b̅aba̅| ≤ 22 using |ba̅b̅aba̅b̅aaba̅b̅aba̅b̅aaba̅b̅aba̅b̅aaba̅b̅aba̅b̅aaba̅b̅aba̅b̅aaba̅b̅aba̅b̅aaba̅b̅aba̅b̅aaba̅b̅aba̅b̅aaba̅b̅aba̅b̅aaba̅b̅aba̅b̅| ≤ 20 and |aaba̅b̅aba̅| ≤ 2\n",
       "32. |a̅b̅aba̅b̅aaba̅b̅aba̅b̅aaba̅b̅aba̅b̅aaba̅b̅aba̅b̅aaba̅b̅aba̅b̅aaba̅b̅aba̅b̅aaba̅b̅aba̅b̅aaba̅b̅aba̅b̅aaba̅b̅aba̅b̅aaba̅b̅aba̅b̅aaba̅b̅aba̅b̅aaba̅b̅aba̅| ≤ 24 using |a̅b̅aba̅b̅aa| ≤ 2 and |ba̅b̅aba̅b̅aaba̅b̅aba̅b̅aaba̅b̅aba̅b̅aaba̅b̅aba̅b̅aaba̅b̅aba̅b̅aaba̅b̅aba̅b̅aaba̅b̅aba̅b̅aaba̅b̅aba̅b̅aaba̅b̅aba̅b̅aaba̅b̅aba̅b̅aaba̅b̅aba̅| ≤ 22\n",
       "33. |b̅a̅b̅aba̅b̅aaba̅b̅aba̅b̅aaba̅b̅aba̅b̅aaba̅b̅aba̅b̅aaba̅b̅aba̅b̅aaba̅b̅aba̅b̅aaba̅b̅aba̅b̅aaba̅b̅aba̅b̅aaba̅b̅aba̅b̅aaba̅b̅aba̅b̅aaba̅b̅aba̅b̅aaba̅b̅aba̅b| ≤ 24 using |a̅b̅aba̅b̅aaba̅b̅aba̅b̅aaba̅b̅aba̅b̅aaba̅b̅aba̅b̅aaba̅b̅aba̅b̅aaba̅b̅aba̅b̅aaba̅b̅aba̅b̅aaba̅b̅aba̅b̅aaba̅b̅aba̅b̅aaba̅b̅aba̅b̅aaba̅b̅aba̅b̅aaba̅b̅aba̅| ≤ 24\n",
       "34. |ba̅b̅aba̅b̅aaba̅b̅aba̅b̅aaba̅b̅aba̅b̅aaba̅b̅aba̅b̅aaba̅b̅aba̅b̅aaba̅b̅aba̅b̅aaba̅b̅aba̅b̅aaba̅b̅aba̅b̅aaba̅b̅aba̅b̅aaba̅b̅aba̅b̅aaba̅b̅aba̅b̅aaba̅b̅aba̅b̅aaba̅b̅aba̅| ≤ 26 using |ba̅b̅aba̅b̅aaba̅b̅aba̅b̅aaba̅b̅aba̅b̅aaba̅b̅aba̅b̅aaba̅b̅aba̅b̅aaba̅b̅aba̅b̅aaba̅b̅aba̅b̅aaba̅b̅aba̅b̅aaba̅b̅aba̅b̅aaba̅b̅aba̅b̅aaba̅b̅aba̅b̅aaba̅b̅aba̅b̅| ≤ 24 and |aaba̅b̅aba̅| ≤ 2\n",
       "35. |a̅b̅aba̅b̅aaba̅b̅aba̅b̅aaba̅b̅aba̅b̅aaba̅b̅aba̅b̅aaba̅b̅aba̅b̅aaba̅b̅aba̅b̅aaba̅b̅aba̅b̅aaba̅b̅aba̅b̅aaba̅b̅aba̅b̅aaba̅b̅aba̅b̅aaba̅b̅aba̅b̅aaba̅b̅aba̅b̅aaba̅b̅aba̅b̅aaba̅b̅aba̅| ≤ 28 using |a̅b̅aba̅b̅aa| ≤ 2 and |ba̅b̅aba̅b̅aaba̅b̅aba̅b̅aaba̅b̅aba̅b̅aaba̅b̅aba̅b̅aaba̅b̅aba̅b̅aaba̅b̅aba̅b̅aaba̅b̅aba̅b̅aaba̅b̅aba̅b̅aaba̅b̅aba̅b̅aaba̅b̅aba̅b̅aaba̅b̅aba̅b̅aaba̅b̅aba̅b̅aaba̅b̅aba̅| ≤ 26\n",
       "36. |b̅a̅b̅aba̅b̅aaba̅b̅aba̅b̅aaba̅b̅aba̅b̅aaba̅b̅aba̅b̅aaba̅b̅aba̅b̅aaba̅b̅aba̅b̅aaba̅b̅aba̅b̅aaba̅b̅aba̅b̅aaba̅b̅aba̅b̅aaba̅b̅aba̅b̅aaba̅b̅aba̅b̅aaba̅b̅aba̅b̅aaba̅b̅aba̅b̅aaba̅b̅aba̅b| ≤ 28 using |a̅b̅aba̅b̅aaba̅b̅aba̅b̅aaba̅b̅aba̅b̅aaba̅b̅aba̅b̅aaba̅b̅aba̅b̅aaba̅b̅aba̅b̅aaba̅b̅aba̅b̅aaba̅b̅aba̅b̅aaba̅b̅aba̅b̅aaba̅b̅aba̅b̅aaba̅b̅aba̅b̅aaba̅b̅aba̅b̅aaba̅b̅aba̅b̅aaba̅b̅aba̅| ≤ 28\n",
       "37. |ba̅b̅aba̅b̅aaba̅b̅aba̅b̅aaba̅b̅aba̅b̅aaba̅b̅aba̅b̅aaba̅b̅aba̅b̅aaba̅b̅aba̅b̅aaba̅b̅aba̅b̅aaba̅b̅aba̅b̅aaba̅b̅aba̅b̅aaba̅b̅aba̅b̅aaba̅b̅aba̅b̅aaba̅b̅aba̅b̅aaba̅b̅aba̅b̅aaba̅b̅aba̅b̅aaba̅b̅aba̅| ≤ 30 using |ba̅b̅aba̅b̅aaba̅b̅aba̅b̅aaba̅b̅aba̅b̅aaba̅b̅aba̅b̅aaba̅b̅aba̅b̅aaba̅b̅aba̅b̅aaba̅b̅aba̅b̅aaba̅b̅aba̅b̅aaba̅b̅aba̅b̅aaba̅b̅aba̅b̅aaba̅b̅aba̅b̅aaba̅b̅aba̅b̅aaba̅b̅aba̅b̅aaba̅b̅aba̅b̅| ≤ 28 and |aaba̅b̅aba̅| ≤ 2\n",
       "38. |a̅b̅aba̅b̅aaba̅b̅aba̅b̅aaba̅b̅aba̅b̅aaba̅b̅aba̅b̅aaba̅b̅aba̅b̅aaba̅b̅aba̅b̅aaba̅b̅aba̅b̅aaba̅b̅aba̅b̅aaba̅b̅aba̅b̅aaba̅b̅aba̅b̅aaba̅b̅aba̅b̅aaba̅b̅aba̅b̅aaba̅b̅aba̅b̅aaba̅b̅aba̅b̅aaba̅b̅aba̅b̅aaba̅b̅aba̅| ≤ 32 using |a̅b̅aba̅b̅aa| ≤ 2 and |ba̅b̅aba̅b̅aaba̅b̅aba̅b̅aaba̅b̅aba̅b̅aaba̅b̅aba̅b̅aaba̅b̅aba̅b̅aaba̅b̅aba̅b̅aaba̅b̅aba̅b̅aaba̅b̅aba̅b̅aaba̅b̅aba̅b̅aaba̅b̅aba̅b̅aaba̅b̅aba̅b̅aaba̅b̅aba̅b̅aaba̅b̅aba̅b̅aaba̅b̅aba̅b̅aaba̅b̅aba̅| ≤ 30\n",
       "39. |b̅a̅b̅aba̅b̅aaba̅b̅aba̅b̅aaba̅b̅aba̅b̅aaba̅b̅aba̅b̅aaba̅b̅aba̅b̅aaba̅b̅aba̅b̅aaba̅b̅aba̅b̅aaba̅b̅aba̅b̅aaba̅b̅aba̅b̅aaba̅b̅aba̅b̅aaba̅b̅aba̅b̅aaba̅b̅aba̅b̅aaba̅b̅aba̅b̅aaba̅b̅aba̅b̅aaba̅b̅aba̅b̅aaba̅b̅aba̅b| ≤ 32 using |a̅b̅aba̅b̅aaba̅b̅aba̅b̅aaba̅b̅aba̅b̅aaba̅b̅aba̅b̅aaba̅b̅aba̅b̅aaba̅b̅aba̅b̅aaba̅b̅aba̅b̅aaba̅b̅aba̅b̅aaba̅b̅aba̅b̅aaba̅b̅aba̅b̅aaba̅b̅aba̅b̅aaba̅b̅aba̅b̅aaba̅b̅aba̅b̅aaba̅b̅aba̅b̅aaba̅b̅aba̅b̅aaba̅b̅aba̅| ≤ 32\n",
       "40. |ba̅b̅aba̅b̅aaba̅b̅aba̅b̅aaba̅b̅aba̅b̅aaba̅b̅aba̅b̅aaba̅b̅aba̅b̅aaba̅b̅aba̅b̅aaba̅b̅aba̅b̅aaba̅b̅aba̅b̅aaba̅b̅aba̅b̅aaba̅b̅aba̅b̅aaba̅b̅aba̅b̅aaba̅b̅aba̅b̅aaba̅b̅aba̅b̅aaba̅b̅aba̅b̅aaba̅b̅aba̅b̅aaba̅b̅aba̅b̅aaba̅b̅aba̅| ≤ 34 using |ba̅b̅aba̅b̅aaba̅b̅aba̅b̅aaba̅b̅aba̅b̅aaba̅b̅aba̅b̅aaba̅b̅aba̅b̅aaba̅b̅aba̅b̅aaba̅b̅aba̅b̅aaba̅b̅aba̅b̅aaba̅b̅aba̅b̅aaba̅b̅aba̅b̅aaba̅b̅aba̅b̅aaba̅b̅aba̅b̅aaba̅b̅aba̅b̅aaba̅b̅aba̅b̅aaba̅b̅aba̅b̅aaba̅b̅aba̅b̅| ≤ 32 and |aaba̅b̅aba̅| ≤ 2\n",
       "41. |a̅b̅aba̅b̅aaba̅b̅aba̅b̅aaba̅b̅aba̅b̅aaba̅b̅aba̅b̅aaba̅b̅aba̅b̅aaba̅b̅aba̅b̅aaba̅b̅aba̅b̅aaba̅b̅aba̅b̅aaba̅b̅aba̅b̅aaba̅b̅aba̅b̅aaba̅b̅aba̅b̅aaba̅b̅aba̅b̅aaba̅b̅aba̅b̅aaba̅b̅aba̅b̅aaba̅b̅aba̅b̅aaba̅b̅aba̅b̅aaba̅b̅aba̅b̅aaba̅b̅aba̅| ≤ 36 using |a̅b̅aba̅b̅aa| ≤ 2 and |ba̅b̅aba̅b̅aaba̅b̅aba̅b̅aaba̅b̅aba̅b̅aaba̅b̅aba̅b̅aaba̅b̅aba̅b̅aaba̅b̅aba̅b̅aaba̅b̅aba̅b̅aaba̅b̅aba̅b̅aaba̅b̅aba̅b̅aaba̅b̅aba̅b̅aaba̅b̅aba̅b̅aaba̅b̅aba̅b̅aaba̅b̅aba̅b̅aaba̅b̅aba̅b̅aaba̅b̅aba̅b̅aaba̅b̅aba̅b̅aaba̅b̅aba̅| ≤ 34\n",
       "42. |b̅a̅b̅aba̅b̅aaba̅b̅aba̅b̅aaba̅b̅aba̅b̅aaba̅b̅aba̅b̅aaba̅b̅aba̅b̅aaba̅b̅aba̅b̅aaba̅b̅aba̅b̅aaba̅b̅aba̅b̅aaba̅b̅aba̅b̅aaba̅b̅aba̅b̅aaba̅b̅aba̅b̅aaba̅b̅aba̅b̅aaba̅b̅aba̅b̅aaba̅b̅aba̅b̅aaba̅b̅aba̅b̅aaba̅b̅aba̅b̅aaba̅b̅aba̅b̅aaba̅b̅aba̅b| ≤ 36 using |a̅b̅aba̅b̅aaba̅b̅aba̅b̅aaba̅b̅aba̅b̅aaba̅b̅aba̅b̅aaba̅b̅aba̅b̅aaba̅b̅aba̅b̅aaba̅b̅aba̅b̅aaba̅b̅aba̅b̅aaba̅b̅aba̅b̅aaba̅b̅aba̅b̅aaba̅b̅aba̅b̅aaba̅b̅aba̅b̅aaba̅b̅aba̅b̅aaba̅b̅aba̅b̅aaba̅b̅aba̅b̅aaba̅b̅aba̅b̅aaba̅b̅aba̅b̅aaba̅b̅aba̅| ≤ 36\n",
       "43. |ba̅b̅aba̅b̅aaba̅b̅aba̅b̅aaba̅b̅aba̅b̅aaba̅b̅aba̅b̅aaba̅b̅aba̅b̅aaba̅b̅aba̅b̅aaba̅b̅aba̅b̅aaba̅b̅aba̅b̅aaba̅b̅aba̅b̅aaba̅b̅aba̅b̅aaba̅b̅aba̅b̅aaba̅b̅aba̅b̅aaba̅b̅aba̅b̅aaba̅b̅aba̅b̅aaba̅b̅aba̅b̅aaba̅b̅aba̅b̅aaba̅b̅aba̅b̅aaba̅b̅aba̅b̅aaba̅b̅aba̅| ≤ 38 using |ba̅b̅aba̅b̅aaba̅b̅aba̅b̅aaba̅b̅aba̅b̅aaba̅b̅aba̅b̅aaba̅b̅aba̅b̅aaba̅b̅aba̅b̅aaba̅b̅aba̅b̅aaba̅b̅aba̅b̅aaba̅b̅aba̅b̅aaba̅b̅aba̅b̅aaba̅b̅aba̅b̅aaba̅b̅aba̅b̅aaba̅b̅aba̅b̅aaba̅b̅aba̅b̅aaba̅b̅aba̅b̅aaba̅b̅aba̅b̅aaba̅b̅aba̅b̅aaba̅b̅aba̅b̅| ≤ 36 and |aaba̅b̅aba̅| ≤ 2\n",
       "44. |a̅b̅aba̅b̅aaba̅b̅aba̅b̅aaba̅b̅aba̅b̅aaba̅b̅aba̅b̅aaba̅b̅aba̅b̅aaba̅b̅aba̅b̅aaba̅b̅aba̅b̅aaba̅b̅aba̅b̅aaba̅b̅aba̅b̅aaba̅b̅aba̅b̅aaba̅b̅aba̅b̅aaba̅b̅aba̅b̅aaba̅b̅aba̅b̅aaba̅b̅aba̅b̅aaba̅b̅aba̅b̅aaba̅b̅aba̅b̅aaba̅b̅aba̅b̅aaba̅b̅aba̅b̅aaba̅b̅aba̅b̅aaba̅b̅aba̅| ≤ 40 using |a̅b̅aba̅b̅aa| ≤ 2 and |ba̅b̅aba̅b̅aaba̅b̅aba̅b̅aaba̅b̅aba̅b̅aaba̅b̅aba̅b̅aaba̅b̅aba̅b̅aaba̅b̅aba̅b̅aaba̅b̅aba̅b̅aaba̅b̅aba̅b̅aaba̅b̅aba̅b̅aaba̅b̅aba̅b̅aaba̅b̅aba̅b̅aaba̅b̅aba̅b̅aaba̅b̅aba̅b̅aaba̅b̅aba̅b̅aaba̅b̅aba̅b̅aaba̅b̅aba̅b̅aaba̅b̅aba̅b̅aaba̅b̅aba̅b̅aaba̅b̅aba̅| ≤ 38\n",
       "45. |b̅a̅b̅aba̅b̅aaba̅b̅aba̅b̅aaba̅b̅aba̅b̅aaba̅b̅aba̅b̅aaba̅b̅aba̅b̅aaba̅b̅aba̅b̅aaba̅b̅aba̅b̅aaba̅b̅aba̅b̅aaba̅b̅aba̅b̅aaba̅b̅aba̅b̅aaba̅b̅aba̅b̅aaba̅b̅aba̅b̅aaba̅b̅aba̅b̅aaba̅b̅aba̅b̅aaba̅b̅aba̅b̅aaba̅b̅aba̅b̅aaba̅b̅aba̅b̅aaba̅b̅aba̅b̅aaba̅b̅aba̅b̅aaba̅b̅aba̅b| ≤ 40 using |a̅b̅aba̅b̅aaba̅b̅aba̅b̅aaba̅b̅aba̅b̅aaba̅b̅aba̅b̅aaba̅b̅aba̅b̅aaba̅b̅aba̅b̅aaba̅b̅aba̅b̅aaba̅b̅aba̅b̅aaba̅b̅aba̅b̅aaba̅b̅aba̅b̅aaba̅b̅aba̅b̅aaba̅b̅aba̅b̅aaba̅b̅aba̅b̅aaba̅b̅aba̅b̅aaba̅b̅aba̅b̅aaba̅b̅aba̅b̅aaba̅b̅aba̅b̅aaba̅b̅aba̅b̅aaba̅b̅aba̅b̅aaba̅b̅aba̅| ≤ 40\n",
       "46. |ba̅b̅aba̅b̅aaba̅b̅aba̅b̅aaba̅b̅aba̅b̅aaba̅b̅aba̅b̅aaba̅b̅aba̅b̅aaba̅b̅aba̅b̅aaba̅b̅aba̅b̅aaba̅b̅aba̅b̅aaba̅b̅aba̅b̅aaba̅b̅aba̅b̅aaba̅b̅aba̅b̅aaba̅b̅aba̅b̅aaba̅b̅aba̅b̅aaba̅b̅aba̅b̅aaba̅b̅aba̅b̅aaba̅b̅aba̅b̅aaba̅b̅aba̅b̅aaba̅b̅aba̅b̅aaba̅b̅aba̅b̅aaba̅b̅aba̅b̅a| ≤ 41 using |ba̅b̅aba̅b̅aaba̅b̅aba̅b̅aaba̅b̅aba̅b̅aaba̅b̅aba̅b̅aaba̅b̅aba̅b̅aaba̅b̅aba̅b̅aaba̅b̅aba̅b̅aaba̅b̅aba̅b̅aaba̅b̅aba̅b̅aaba̅b̅aba̅b̅aaba̅b̅aba̅b̅aaba̅b̅aba̅b̅aaba̅b̅aba̅b̅aaba̅b̅aba̅b̅aaba̅b̅aba̅b̅aaba̅b̅aba̅b̅aaba̅b̅aba̅b̅aaba̅b̅aba̅b̅aaba̅b̅aba̅b̅aaba̅b̅aba̅b̅| ≤ 40 and |a| ≤ 1\n",
       "47. |aba̅b̅aba̅b̅aaba̅b̅aba̅b̅aaba̅b̅aba̅b̅aaba̅b̅aba̅b̅aaba̅b̅aba̅b̅aaba̅b̅aba̅b̅aaba̅b̅aba̅b̅aaba̅b̅aba̅b̅aaba̅b̅aba̅b̅aaba̅b̅aba̅b̅aaba̅b̅aba̅b̅aaba̅b̅aba̅b̅aaba̅b̅aba̅b̅aaba̅b̅aba̅b̅aaba̅b̅aba̅b̅aaba̅b̅aba̅b̅aaba̅b̅aba̅b̅aaba̅b̅aba̅b̅aaba̅b̅aba̅b̅aaba̅b̅aba̅b̅a| ≤ 42 using |a| ≤ 1 and |ba̅b̅aba̅b̅aaba̅b̅aba̅b̅aaba̅b̅aba̅b̅aaba̅b̅aba̅b̅aaba̅b̅aba̅b̅aaba̅b̅aba̅b̅aaba̅b̅aba̅b̅aaba̅b̅aba̅b̅aaba̅b̅aba̅b̅aaba̅b̅aba̅b̅aaba̅b̅aba̅b̅aaba̅b̅aba̅b̅aaba̅b̅aba̅b̅aaba̅b̅aba̅b̅aaba̅b̅aba̅b̅aaba̅b̅aba̅b̅aaba̅b̅aba̅b̅aaba̅b̅aba̅b̅aaba̅b̅aba̅b̅aaba̅b̅aba̅b̅a| ≤ 41\n",
       "48. |aba̅b̅aba̅b̅a| ≤ 21/10 using |aba̅b̅aba̅b̅aaba̅b̅aba̅b̅aaba̅b̅aba̅b̅aaba̅b̅aba̅b̅aaba̅b̅aba̅b̅aaba̅b̅aba̅b̅aaba̅b̅aba̅b̅aaba̅b̅aba̅b̅aaba̅b̅aba̅b̅aaba̅b̅aba̅b̅aaba̅b̅aba̅b̅aaba̅b̅aba̅b̅aaba̅b̅aba̅b̅aaba̅b̅aba̅b̅aaba̅b̅aba̅b̅aaba̅b̅aba̅b̅aaba̅b̅aba̅b̅aaba̅b̅aba̅b̅aaba̅b̅aba̅b̅aaba̅b̅aba̅b̅a| ≤ 42 by taking 20th power\n",
       "49. |baba̅b̅aba̅b̅ab̅| ≤ 21/10 using |aba̅b̅aba̅b̅a| ≤ 21/10\n",
       "50. |aba̅| ≤ 1 using |aba̅| ≤ 1 and |e| ≤ 0\n",
       "51. |a̅b̅aaba̅| ≤ 2 using |a̅b̅a| ≤ 1 and |aba̅| ≤ 1\n",
       "52. |b̅a̅b̅aaba̅b| ≤ 2 using |a̅b̅aaba̅| ≤ 2\n",
       "53. |aa| ≤ 2 using |a| ≤ 1 and |a| ≤ 1\n",
       "54. |baab̅| ≤ 2 using |aa| ≤ 2\n",
       "55. |b̅aab| ≤ 2 using |b̅aab| ≤ 2 and |e| ≤ 0\n",
       "56. |aba̅b̅aab| ≤ 3 using |aba̅| ≤ 1 and |b̅aab| ≤ 2\n",
       "57. |a̅aba̅b̅aaba| ≤ 3 using |aba̅b̅aab| ≤ 3\n",
       "58. |b̅aaba̅b̅a| ≤ 3 using |b̅aab| ≤ 2 and |a̅b̅a| ≤ 1\n",
       "59. |ab̅aaba̅b̅aa̅| ≤ 3 using |b̅aaba̅b̅a| ≤ 3\n",
       "60. |aaba̅b̅aaba̅b̅aab| ≤ 5 using |aaba̅b̅aaba̅| ≤ 3 and |b̅aab| ≤ 2\n",
       "61. |ba̅b̅aaba̅b̅aaba̅b̅aaba̅b̅aab| ≤ 7 using |ba̅b̅aaba̅b̅| ≤ 2 and |aaba̅b̅aaba̅b̅aab| ≤ 5\n",
       "62. |a̅ba̅b̅aaba̅b̅aaba̅b̅aaba̅b̅aaba| ≤ 7 using |ba̅b̅aaba̅b̅aaba̅b̅aaba̅b̅aab| ≤ 7\n",
       "63. |aba̅b̅aaba̅b̅aaba̅b̅aaba̅b̅aaba̅| ≤ 7 using |aba̅b̅aaba̅b̅aaba̅b̅aaba̅b̅aaba̅| ≤ 7 and |e| ≤ 0\n",
       "64. |a̅b̅aaba̅b̅aaba̅b̅aaba̅b̅aaba̅b̅aaba̅| ≤ 8 using |a̅b̅a| ≤ 1 and |aba̅b̅aaba̅b̅aaba̅b̅aaba̅b̅aaba̅| ≤ 7\n",
       "65. |b̅a̅b̅aaba̅b̅aaba̅b̅aaba̅b̅aaba̅b̅aaba̅b| ≤ 8 using |a̅b̅aaba̅b̅aaba̅b̅aaba̅b̅aaba̅b̅aaba̅| ≤ 8\n",
       "66. |ba̅b̅aaba̅b̅aaba̅b̅aaba̅b̅aaba̅b̅aaba̅b̅| ≤ 8 using |ba̅b̅aaba̅b̅aaba̅b̅aaba̅b̅aaba̅b̅aaba̅b̅| ≤ 8 and |e| ≤ 0\n",
       "67. |a̅b̅aaba̅b̅aaba̅b̅aaba̅b̅aaba̅b̅aaba̅b̅aaba̅b̅aaba̅b̅| ≤ 11 using |a̅b̅aaba̅b̅aa| ≤ 3 and |ba̅b̅aaba̅b̅aaba̅b̅aaba̅b̅aaba̅b̅aaba̅b̅| ≤ 8\n",
       "68. |b̅aaba̅b̅aaba̅b̅aaba̅b̅aaba̅b̅aaba̅b̅aaba̅b̅aaba̅b̅aaba̅b̅| ≤ 13 using |b̅aab| ≤ 2 and |a̅b̅aaba̅b̅aaba̅b̅aaba̅b̅aaba̅b̅aaba̅b̅aaba̅b̅aaba̅b̅| ≤ 11\n",
       "69. |ab̅aaba̅b̅aaba̅b̅aaba̅b̅aaba̅b̅aaba̅b̅aaba̅b̅aaba̅b̅aaba̅b̅a̅| ≤ 13 using |b̅aaba̅b̅aaba̅b̅aaba̅b̅aaba̅b̅aaba̅b̅aaba̅b̅aaba̅b̅aaba̅b̅| ≤ 13\n",
       "70. |a̅b̅aaba̅b̅aaba̅b̅aaba̅b̅aaba̅b̅aaba̅b̅aaba̅b̅aaba̅b̅aaba̅b̅a| ≤ 13 using |a̅b̅aaba̅b̅aaba̅b̅aaba̅b̅aaba̅b̅aaba̅b̅aaba̅b̅aaba̅b̅aaba̅b̅a| ≤ 13 and |e| ≤ 0\n",
       "71. |b̅aaba̅b̅aaba̅b̅aaba̅b̅aaba̅b̅aaba̅b̅aaba̅b̅aaba̅b̅aaba̅b̅aaba̅b̅a| ≤ 15 using |b̅aab| ≤ 2 and |a̅b̅aaba̅b̅aaba̅b̅aaba̅b̅aaba̅b̅aaba̅b̅aaba̅b̅aaba̅b̅aaba̅b̅a| ≤ 13\n",
       "72. |ab̅aaba̅b̅aaba̅b̅aaba̅b̅aaba̅b̅aaba̅b̅aaba̅b̅aaba̅b̅aaba̅b̅aaba̅b̅aa̅| ≤ 15 using |b̅aaba̅b̅aaba̅b̅aaba̅b̅aaba̅b̅aaba̅b̅aaba̅b̅aaba̅b̅aaba̅b̅aaba̅b̅a| ≤ 15\n",
       "73. |a̅b̅aaba̅b̅aaba̅b̅aaba̅b̅aaba̅b̅aaba̅b̅aaba̅b̅aaba̅b̅aaba̅b̅aaba̅b̅aa| ≤ 15 using |a̅b̅aaba̅b̅aaba̅b̅aaba̅b̅aaba̅b̅aaba̅b̅aaba̅b̅aaba̅b̅aaba̅b̅aaba̅b̅aa| ≤ 15 and |e| ≤ 0\n",
       "74. |b̅aaba̅b̅aaba̅b̅aaba̅b̅aaba̅b̅aaba̅b̅aaba̅b̅aaba̅b̅aaba̅b̅aaba̅b̅aaba̅b̅aa| ≤ 17 using |b̅aab| ≤ 2 and |a̅b̅aaba̅b̅aaba̅b̅aaba̅b̅aaba̅b̅aaba̅b̅aaba̅b̅aaba̅b̅aaba̅b̅aaba̅b̅aa| ≤ 15\n",
       "75. |aaba̅b̅aaba̅b̅aaba̅b̅aaba̅b̅aaba̅b̅aaba̅b̅aaba̅b̅aaba̅b̅aaba̅b̅aaba̅b̅aaba̅b̅aaba̅b̅aa| ≤ 20 using |aaba̅b̅aaba̅| ≤ 3 and |b̅aaba̅b̅aaba̅b̅aaba̅b̅aaba̅b̅aaba̅b̅aaba̅b̅aaba̅b̅aaba̅b̅aaba̅b̅aaba̅b̅aa| ≤ 17\n",
       "76. |baaba̅b̅aaba̅b̅aaba̅b̅aaba̅b̅aaba̅b̅aaba̅b̅aaba̅b̅aaba̅b̅aaba̅b̅aaba̅b̅aaba̅b̅aaba̅b̅aab̅| ≤ 20 using |aaba̅b̅aaba̅b̅aaba̅b̅aaba̅b̅aaba̅b̅aaba̅b̅aaba̅b̅aaba̅b̅aaba̅b̅aaba̅b̅aaba̅b̅aaba̅b̅aa| ≤ 20\n",
       "77. |b̅aaba̅b̅aaba̅b̅aaba̅b̅aaba̅b̅aaba̅b̅aaba̅b̅aaba̅b̅aaba̅b̅aaba̅b̅aaba̅b̅aaba̅b̅aaba̅b̅aab| ≤ 20 using |b̅aaba̅b̅aaba̅b̅aaba̅b̅aaba̅b̅aaba̅b̅aaba̅b̅aaba̅b̅aaba̅b̅aaba̅b̅aaba̅b̅aaba̅b̅aaba̅b̅aab| ≤ 20 and |e| ≤ 0\n",
       "78. |aaba̅b̅aaba̅b̅aaba̅b̅aaba̅b̅aaba̅b̅aaba̅b̅aaba̅b̅aaba̅b̅aaba̅b̅aaba̅b̅aaba̅b̅aaba̅b̅aaba̅b̅aaba̅b̅aab| ≤ 23 using |aaba̅b̅aaba̅| ≤ 3 and |b̅aaba̅b̅aaba̅b̅aaba̅b̅aaba̅b̅aaba̅b̅aaba̅b̅aaba̅b̅aaba̅b̅aaba̅b̅aaba̅b̅aaba̅b̅aaba̅b̅aab| ≤ 20\n",
       "79. |ba̅b̅aaba̅b̅aaba̅b̅aaba̅b̅aaba̅b̅aaba̅b̅aaba̅b̅aaba̅b̅aaba̅b̅aaba̅b̅aaba̅b̅aaba̅b̅aaba̅b̅aaba̅b̅aaba̅b̅aaba̅b̅aab| ≤ 25 using |ba̅b̅aaba̅b̅| ≤ 2 and |aaba̅b̅aaba̅b̅aaba̅b̅aaba̅b̅aaba̅b̅aaba̅b̅aaba̅b̅aaba̅b̅aaba̅b̅aaba̅b̅aaba̅b̅aaba̅b̅aaba̅b̅aaba̅b̅aab| ≤ 23\n",
       "80. |a̅ba̅b̅aaba̅b̅aaba̅b̅aaba̅b̅aaba̅b̅aaba̅b̅aaba̅b̅aaba̅b̅aaba̅b̅aaba̅b̅aaba̅b̅aaba̅b̅aaba̅b̅aaba̅b̅aaba̅b̅aaba̅b̅aaba| ≤ 25 using |ba̅b̅aaba̅b̅aaba̅b̅aaba̅b̅aaba̅b̅aaba̅b̅aaba̅b̅aaba̅b̅aaba̅b̅aaba̅b̅aaba̅b̅aaba̅b̅aaba̅b̅aaba̅b̅aaba̅b̅aaba̅b̅aab| ≤ 25\n",
       "81. |aba̅b̅aaba̅b̅aaba̅b̅aaba̅b̅aaba̅b̅aaba̅b̅aaba̅b̅aaba̅b̅aaba̅b̅aaba̅b̅aaba̅b̅aaba̅b̅aaba̅b̅aaba̅b̅aaba̅b̅aaba̅b̅aaba̅| ≤ 25 using |aba̅b̅aaba̅b̅aaba̅b̅aaba̅b̅aaba̅b̅aaba̅b̅aaba̅b̅aaba̅b̅aaba̅b̅aaba̅b̅aaba̅b̅aaba̅b̅aaba̅b̅aaba̅b̅aaba̅b̅aaba̅b̅aaba̅| ≤ 25 and |e| ≤ 0\n",
       "82. |a̅b̅aaba̅b̅aaba̅b̅aaba̅b̅aaba̅b̅aaba̅b̅aaba̅b̅aaba̅b̅aaba̅b̅aaba̅b̅aaba̅b̅aaba̅b̅aaba̅b̅aaba̅b̅aaba̅b̅aaba̅b̅aaba̅b̅aaba̅| ≤ 26 using |a̅b̅a| ≤ 1 and |aba̅b̅aaba̅b̅aaba̅b̅aaba̅b̅aaba̅b̅aaba̅b̅aaba̅b̅aaba̅b̅aaba̅b̅aaba̅b̅aaba̅b̅aaba̅b̅aaba̅b̅aaba̅b̅aaba̅b̅aaba̅b̅aaba̅| ≤ 25\n",
       "83. |b̅a̅b̅aaba̅b̅aaba̅b̅aaba̅b̅aaba̅b̅aaba̅b̅aaba̅b̅aaba̅b̅aaba̅b̅aaba̅b̅aaba̅b̅aaba̅b̅aaba̅b̅aaba̅b̅aaba̅b̅aaba̅b̅aaba̅b̅aaba̅b| ≤ 26 using |a̅b̅aaba̅b̅aaba̅b̅aaba̅b̅aaba̅b̅aaba̅b̅aaba̅b̅aaba̅b̅aaba̅b̅aaba̅b̅aaba̅b̅aaba̅b̅aaba̅b̅aaba̅b̅aaba̅b̅aaba̅b̅aaba̅b̅aaba̅| ≤ 26\n",
       "84. |ba̅b̅aaba̅b̅aaba̅b̅aaba̅b̅aaba̅b̅aaba̅b̅aaba̅b̅aaba̅b̅aaba̅b̅aaba̅b̅aaba̅b̅aaba̅b̅aaba̅b̅aaba̅b̅aaba̅b̅aaba̅b̅aaba̅b̅aaba̅b̅a| ≤ 27 using |ba̅b̅aaba̅b̅aaba̅b̅aaba̅b̅aaba̅b̅aaba̅b̅aaba̅b̅aaba̅b̅aaba̅b̅aaba̅b̅aaba̅b̅aaba̅b̅aaba̅b̅aaba̅b̅aaba̅b̅aaba̅b̅aaba̅b̅aaba̅b̅| ≤ 26 and |a| ≤ 1\n",
       "85. |aba̅b̅aaba̅b̅aaba̅b̅aaba̅b̅aaba̅b̅aaba̅b̅aaba̅b̅aaba̅b̅aaba̅b̅aaba̅b̅aaba̅b̅aaba̅b̅aaba̅b̅aaba̅b̅aaba̅b̅aaba̅b̅aaba̅b̅aaba̅b̅a| ≤ 28 using |a| ≤ 1 and |ba̅b̅aaba̅b̅aaba̅b̅aaba̅b̅aaba̅b̅aaba̅b̅aaba̅b̅aaba̅b̅aaba̅b̅aaba̅b̅aaba̅b̅aaba̅b̅aaba̅b̅aaba̅b̅aaba̅b̅aaba̅b̅aaba̅b̅aaba̅b̅a| ≤ 27\n",
       "86. |aba̅b̅a| ≤ 14/9 using |aba̅b̅aaba̅b̅aaba̅b̅aaba̅b̅aaba̅b̅aaba̅b̅aaba̅b̅aaba̅b̅aaba̅b̅aaba̅b̅aaba̅b̅aaba̅b̅aaba̅b̅aaba̅b̅aaba̅b̅aaba̅b̅aaba̅b̅aaba̅b̅a| ≤ 28 by taking 18th power\n",
       "87. |baba̅b̅ab̅| ≤ 14/9 using |aba̅b̅a| ≤ 14/9\n",
       "88. |b̅aba̅b̅ab| ≤ 14/9 using |b̅aba̅b̅ab| ≤ 14/9 and |e| ≤ 0\n",
       "89. |aba̅b̅aba̅b̅ab| ≤ 23/9 using |aba̅| ≤ 1 and |b̅aba̅b̅ab| ≤ 14/9\n",
       "90. |a̅aba̅b̅aba̅b̅aba| ≤ 23/9 using |aba̅b̅aba̅b̅ab| ≤ 23/9\n",
       "91. |b̅aba̅b̅aba̅b̅ab| ≤ 21/10 using |b̅aba̅b̅aba̅b̅ab| ≤ 21/10 and |e| ≤ 0\n",
       "92. |aaba̅b̅aba̅b̅aba̅b̅aba̅b̅aba̅b̅ab| ≤ 419/90 using |aaba̅b̅aba̅b̅aba̅| ≤ 23/9 and |b̅aba̅b̅aba̅b̅ab| ≤ 21/10\n",
       "93. |ba̅b̅aaba̅b̅aba̅b̅aba̅b̅aba̅b̅aba̅b̅ab| ≤ 509/90 using |ba̅b̅| ≤ 1 and |aaba̅b̅aba̅b̅aba̅b̅aba̅b̅aba̅b̅ab| ≤ 419/90\n",
       "94. |a̅ba̅b̅aaba̅b̅aba̅b̅aba̅b̅aba̅b̅aba̅b̅aba| ≤ 509/90 using |ba̅b̅aaba̅b̅aba̅b̅aba̅b̅aba̅b̅aba̅b̅ab| ≤ 509/90\n",
       "95. |aba̅b̅aba̅b̅aba̅b̅ab| ≤ 31/10 using |aba̅| ≤ 1 and |b̅aba̅b̅aba̅b̅ab| ≤ 21/10\n",
       "96. |a̅aba̅b̅aba̅b̅aba̅b̅aba| ≤ 31/10 using |aba̅b̅aba̅b̅aba̅b̅ab| ≤ 31/10\n",
       "97. |b̅aba̅b̅aba̅b̅aba̅b̅a| ≤ 31/10 using |b̅aba̅b̅aba̅b̅ab| ≤ 21/10 and |a̅b̅a| ≤ 1\n",
       "98. |ab̅aba̅b̅aba̅b̅aba̅b̅aa̅| ≤ 31/10 using |b̅aba̅b̅aba̅b̅aba̅b̅a| ≤ 31/10\n",
       "99. |ba̅b̅| ≤ 1 using |ba̅b̅| ≤ 1 and |e| ≤ 0\n",
       "100. |a̅b̅aba̅b̅aba̅b̅aba̅b̅aaba̅b̅| ≤ 41/10 using |a̅b̅aba̅b̅aba̅b̅aba̅b̅aa| ≤ 31/10 and |ba̅b̅| ≤ 1\n",
       "101. |b̅aba̅b̅aba̅b̅aba̅b̅aba̅b̅aba̅b̅aaba̅b̅| ≤ 509/90 using |b̅aba̅b̅ab| ≤ 14/9 and |a̅b̅aba̅b̅aba̅b̅aba̅b̅aaba̅b̅| ≤ 41/10\n",
       "102. |ab̅aba̅b̅aba̅b̅aba̅b̅aba̅b̅aba̅b̅aaba̅b̅a̅| ≤ 509/90 using |b̅aba̅b̅aba̅b̅aba̅b̅aba̅b̅aba̅b̅aaba̅b̅| ≤ 509/90\n",
       "103. |ba̅b̅aba̅b̅aba̅b̅aba̅b̅ab| ≤ 41/10 using |ba̅b̅| ≤ 1 and |aba̅b̅aba̅b̅aba̅b̅ab| ≤ 31/10\n",
       "104. |a̅ba̅b̅aba̅b̅aba̅b̅aba̅b̅aba| ≤ 41/10 using |ba̅b̅aba̅b̅aba̅b̅aba̅b̅ab| ≤ 41/10\n",
       "105. |aba̅b̅aba̅b̅aba̅b̅aba̅b̅aba̅| ≤ 41/10 using |aba̅b̅aba̅b̅aba̅b̅aba̅b̅aba̅| ≤ 41/10 and |e| ≤ 0\n",
       "106. |ba̅b̅aba̅b̅aba̅b̅aba̅b̅aba̅b̅aba̅| ≤ 51/10 using |ba̅b̅| ≤ 1 and |aba̅b̅aba̅b̅aba̅b̅aba̅b̅aba̅| ≤ 41/10\n",
       "107. |a̅b̅aba̅b̅aba̅b̅aba̅b̅aaba̅b̅aba̅b̅aba̅b̅aba̅b̅aba̅b̅aba̅| ≤ 41/5 using |a̅b̅aba̅b̅aba̅b̅aba̅b̅aa| ≤ 31/10 and |ba̅b̅aba̅b̅aba̅b̅aba̅b̅aba̅b̅aba̅| ≤ 51/10\n",
       "108. |b̅a̅b̅aba̅b̅aba̅b̅aba̅b̅aaba̅b̅aba̅b̅aba̅b̅aba̅b̅aba̅b̅aba̅b| ≤ 41/5 using |a̅b̅aba̅b̅aba̅b̅aba̅b̅aaba̅b̅aba̅b̅aba̅b̅aba̅b̅aba̅b̅aba̅| ≤ 41/5\n",
       "109. |ba̅b̅aba̅b̅aba̅b̅aba̅b̅aaba̅b̅aba̅b̅aba̅b̅aba̅b̅aba̅b̅aba̅b̅aaba̅b̅aba̅b̅aba̅b̅aba̅b̅aba̅b̅ab| ≤ 1157/90 using |ba̅b̅aba̅b̅aba̅b̅aba̅b̅aaba̅b̅aba̅b̅aba̅b̅aba̅b̅aba̅b̅aba̅b̅| ≤ 41/5 and |aaba̅b̅aba̅b̅aba̅b̅aba̅b̅aba̅b̅ab| ≤ 419/90\n",
       "110. |a̅ba̅b̅aba̅b̅aba̅b̅aba̅b̅aaba̅b̅aba̅b̅aba̅b̅aba̅b̅aba̅b̅aba̅b̅aaba̅b̅aba̅b̅aba̅b̅aba̅b̅aba̅b̅aba| ≤ 1157/90 using |ba̅b̅aba̅b̅aba̅b̅aba̅b̅aaba̅b̅aba̅b̅aba̅b̅aba̅b̅aba̅b̅aba̅b̅aaba̅b̅aba̅b̅aba̅b̅aba̅b̅aba̅b̅ab| ≤ 1157/90\n",
       "111. |aba̅b̅aba̅b̅aba̅b̅aba̅b̅aaba̅b̅aba̅b̅aba̅b̅aba̅b̅aba̅b̅aba̅b̅aaba̅b̅aba̅b̅aba̅b̅aba̅b̅aba̅b̅aba̅| ≤ 1157/90 using |aba̅b̅aba̅b̅aba̅b̅aba̅b̅aaba̅b̅aba̅b̅aba̅b̅aba̅b̅aba̅b̅aba̅b̅aaba̅b̅aba̅b̅aba̅b̅aba̅b̅aba̅b̅aba̅| ≤ 1157/90 and |e| ≤ 0\n",
       "112. |ba̅b̅aba̅b̅aba̅b̅aba̅b̅aba̅b̅aaba̅b̅aba̅b̅aba̅b̅aba̅b̅aba̅b̅aba̅b̅aaba̅b̅aba̅b̅aba̅b̅aba̅b̅aba̅b̅aba̅| ≤ 1247/90 using |ba̅b̅| ≤ 1 and |aba̅b̅aba̅b̅aba̅b̅aba̅b̅aaba̅b̅aba̅b̅aba̅b̅aba̅b̅aba̅b̅aba̅b̅aaba̅b̅aba̅b̅aba̅b̅aba̅b̅aba̅b̅aba̅| ≤ 1157/90\n",
       "113. |a̅b̅aba̅b̅aba̅b̅aba̅b̅aba̅b̅aba̅b̅aaba̅b̅aba̅b̅aba̅b̅aba̅b̅aba̅b̅aba̅b̅aaba̅b̅aba̅b̅aba̅b̅aba̅b̅aba̅b̅aba̅b̅aaba̅b̅aba̅b̅aba̅b̅aba̅b̅aba̅b̅aba̅| ≤ 878/45 using |a̅b̅aba̅b̅aba̅b̅aba̅b̅aba̅b̅aba̅b̅aaba̅b̅a| ≤ 509/90 and |ba̅b̅aba̅b̅aba̅b̅aba̅b̅aba̅b̅aaba̅b̅aba̅b̅aba̅b̅aba̅b̅aba̅b̅aba̅b̅aaba̅b̅aba̅b̅aba̅b̅aba̅b̅aba̅b̅aba̅| ≤ 1247/90\n",
       "114. |b̅a̅b̅aba̅b̅aba̅b̅aba̅b̅aba̅b̅aba̅b̅aaba̅b̅aba̅b̅aba̅b̅aba̅b̅aba̅b̅aba̅b̅aaba̅b̅aba̅b̅aba̅b̅aba̅b̅aba̅b̅aba̅b̅aaba̅b̅aba̅b̅aba̅b̅aba̅b̅aba̅b̅aba̅b| ≤ 878/45 using |a̅b̅aba̅b̅aba̅b̅aba̅b̅aba̅b̅aba̅b̅aaba̅b̅aba̅b̅aba̅b̅aba̅b̅aba̅b̅aba̅b̅aaba̅b̅aba̅b̅aba̅b̅aba̅b̅aba̅b̅aba̅b̅aaba̅b̅aba̅b̅aba̅b̅aba̅b̅aba̅b̅aba̅| ≤ 878/45\n",
       "115. |ba̅b̅aba̅b̅aba̅b̅aba̅b̅aba̅b̅aba̅b̅aaba̅b̅aba̅b̅aba̅b̅aba̅b̅aba̅b̅aba̅b̅aaba̅b̅aba̅b̅aba̅b̅aba̅b̅aba̅b̅aba̅b̅aaba̅b̅aba̅b̅aba̅b̅aba̅b̅aba̅b̅aba̅b̅aaba̅b̅aba̅b̅aba̅b̅aba̅b̅aba̅b̅ab| ≤ 145/6 using |ba̅b̅aba̅b̅aba̅b̅aba̅b̅aba̅b̅aba̅b̅aaba̅b̅aba̅b̅aba̅b̅aba̅b̅aba̅b̅aba̅b̅aaba̅b̅aba̅b̅aba̅b̅aba̅b̅aba̅b̅aba̅b̅aaba̅b̅aba̅b̅aba̅b̅aba̅b̅aba̅b̅aba̅b̅| ≤ 878/45 and |aaba̅b̅aba̅b̅aba̅b̅aba̅b̅aba̅b̅ab| ≤ 419/90\n",
       "116. |a̅ba̅b̅aba̅b̅aba̅b̅aba̅b̅aba̅b̅aba̅b̅aaba̅b̅aba̅b̅aba̅b̅aba̅b̅aba̅b̅aba̅b̅aaba̅b̅aba̅b̅aba̅b̅aba̅b̅aba̅b̅aba̅b̅aaba̅b̅aba̅b̅aba̅b̅aba̅b̅aba̅b̅aba̅b̅aaba̅b̅aba̅b̅aba̅b̅aba̅b̅aba̅b̅aba| ≤ 145/6 using |ba̅b̅aba̅b̅aba̅b̅aba̅b̅aba̅b̅aba̅b̅aaba̅b̅aba̅b̅aba̅b̅aba̅b̅aba̅b̅aba̅b̅aaba̅b̅aba̅b̅aba̅b̅aba̅b̅aba̅b̅aba̅b̅aaba̅b̅aba̅b̅aba̅b̅aba̅b̅aba̅b̅aba̅b̅aaba̅b̅aba̅b̅aba̅b̅aba̅b̅aba̅b̅ab| ≤ 145/6\n",
       "117. |aaba̅b̅aba̅b̅aba̅b̅aba̅b̅aba̅b̅a| ≤ 51/10 using |aaba̅b̅aba̅| ≤ 2 and |b̅aba̅b̅aba̅b̅aba̅b̅a| ≤ 31/10\n",
       "118. |baaba̅b̅aba̅b̅aba̅b̅aba̅b̅aba̅b̅ab̅| ≤ 51/10 using |aaba̅b̅aba̅b̅aba̅b̅aba̅b̅aba̅b̅a| ≤ 51/10\n",
       "119. |b̅aaba̅b̅aba̅b̅aba̅b̅aba̅b̅aba̅b̅aba̅b̅a| ≤ 61/10 using |b̅aaba̅b̅aba̅b̅aba̅b̅aba̅b̅aba̅b̅ab| ≤ 51/10 and |a̅b̅a| ≤ 1\n",
       "120. |ab̅aaba̅b̅aba̅b̅aba̅b̅aba̅b̅aba̅b̅aba̅b̅aa̅| ≤ 61/10 using |b̅aaba̅b̅aba̅b̅aba̅b̅aba̅b̅aba̅b̅aba̅b̅a| ≤ 61/10\n",
       "121. |a̅b̅aaba̅b̅aba̅b̅aba̅b̅aba̅b̅aba̅b̅aba̅b̅aa| ≤ 61/10 using |a̅b̅aaba̅b̅aba̅b̅aba̅b̅aba̅b̅aba̅b̅aba̅b̅aa| ≤ 61/10 and |e| ≤ 0\n",
       "122. |b̅aba̅b̅aba̅b̅aba̅b̅aaba̅b̅aba̅b̅aba̅b̅aba̅b̅aba̅b̅aba̅b̅aa| ≤ 41/5 using |b̅aba̅b̅aba̅b̅ab| ≤ 21/10 and |a̅b̅aaba̅b̅aba̅b̅aba̅b̅aba̅b̅aba̅b̅aba̅b̅aa| ≤ 61/10\n",
       "123. |aaba̅b̅aba̅b̅aba̅b̅aba̅b̅aba̅b̅aba̅b̅aaba̅b̅aba̅b̅aba̅b̅aba̅b̅aba̅b̅aba̅b̅aa| ≤ 484/45 using |aaba̅b̅aba̅b̅aba̅| ≤ 23/9 and |b̅aba̅b̅aba̅b̅aba̅b̅aaba̅b̅aba̅b̅aba̅b̅aba̅b̅aba̅b̅aba̅b̅aa| ≤ 41/5\n",
       "124. |baaba̅b̅aba̅b̅aba̅b̅aba̅b̅aba̅b̅aba̅b̅aaba̅b̅aba̅b̅aba̅b̅aba̅b̅aba̅b̅aba̅b̅aab̅| ≤ 484/45 using |aaba̅b̅aba̅b̅aba̅b̅aba̅b̅aba̅b̅aba̅b̅aaba̅b̅aba̅b̅aba̅b̅aba̅b̅aba̅b̅aba̅b̅aa| ≤ 484/45\n",
       "125. |b̅aaba̅b̅aba̅b̅aba̅b̅aba̅b̅aba̅b̅aba̅b̅aaba̅b̅aba̅b̅aba̅b̅aba̅b̅aba̅b̅aba̅b̅aab| ≤ 484/45 using |b̅aaba̅b̅aba̅b̅aba̅b̅aba̅b̅aba̅b̅aba̅b̅aaba̅b̅aba̅b̅aba̅b̅aba̅b̅aba̅b̅aba̅b̅aab| ≤ 484/45 and |e| ≤ 0\n",
       "126. |aba̅b̅aba̅b̅aba̅b̅aba̅b̅aba̅b̅aba̅b̅aaba̅b̅aba̅b̅aba̅b̅aba̅b̅aba̅b̅aba̅b̅aaba̅b̅aba̅b̅aba̅b̅aba̅b̅aba̅b̅aba̅b̅aaba̅b̅aba̅b̅aba̅b̅aba̅b̅aba̅b̅aba̅b̅aaba̅b̅aba̅b̅aba̅b̅aba̅b̅aba̅b̅aba̅b̅aaba̅b̅aba̅b̅aba̅b̅aba̅b̅aba̅b̅aba̅b̅aaba̅b̅aba̅b̅aba̅b̅aba̅b̅aba̅b̅aba̅b̅aab| ≤ 3143/90 using |aba̅b̅aba̅b̅aba̅b̅aba̅b̅aba̅b̅aba̅b̅aaba̅b̅aba̅b̅aba̅b̅aba̅b̅aba̅b̅aba̅b̅aaba̅b̅aba̅b̅aba̅b̅aba̅b̅aba̅b̅aba̅b̅aaba̅b̅aba̅b̅aba̅b̅aba̅b̅aba̅b̅aba̅b̅aaba̅b̅aba̅b̅aba̅b̅aba̅b̅aba̅b̅aba̅| ≤ 145/6 and |b̅aaba̅b̅aba̅b̅aba̅b̅aba̅b̅aba̅b̅aba̅b̅aaba̅b̅aba̅b̅aba̅b̅aba̅b̅aba̅b̅aba̅b̅aab| ≤ 484/45\n",
       "127. |a̅aba̅b̅aba̅b̅aba̅b̅aba̅b̅aba̅b̅aba̅b̅aaba̅b̅aba̅b̅aba̅b̅aba̅b̅aba̅b̅aba̅b̅aaba̅b̅aba̅b̅aba̅b̅aba̅b̅aba̅b̅aba̅b̅aaba̅b̅aba̅b̅aba̅b̅aba̅b̅aba̅b̅aba̅b̅aaba̅b̅aba̅b̅aba̅b̅aba̅b̅aba̅b̅aba̅b̅aaba̅b̅aba̅b̅aba̅b̅aba̅b̅aba̅b̅aba̅b̅aaba̅b̅aba̅b̅aba̅b̅aba̅b̅aba̅b̅aba̅b̅aaba| ≤ 3143/90 using |aba̅b̅aba̅b̅aba̅b̅aba̅b̅aba̅b̅aba̅b̅aaba̅b̅aba̅b̅aba̅b̅aba̅b̅aba̅b̅aba̅b̅aaba̅b̅aba̅b̅aba̅b̅aba̅b̅aba̅b̅aba̅b̅aaba̅b̅aba̅b̅aba̅b̅aba̅b̅aba̅b̅aba̅b̅aaba̅b̅aba̅b̅aba̅b̅aba̅b̅aba̅b̅aba̅b̅aaba̅b̅aba̅b̅aba̅b̅aba̅b̅aba̅b̅aba̅b̅aaba̅b̅aba̅b̅aba̅b̅aba̅b̅aba̅b̅aba̅b̅aab| ≤ 3143/90\n",
       "128. |b̅aba̅b̅aba̅b̅a| ≤ 23/9 using |b̅aba̅b̅ab| ≤ 14/9 and |a̅b̅a| ≤ 1\n",
       "129. |ab̅aba̅b̅aba̅b̅aa̅| ≤ 23/9 using |b̅aba̅b̅aba̅b̅a| ≤ 23/9\n",
       "130. |a̅b̅aba̅b̅aba̅b̅aa| ≤ 23/9 using |a̅b̅aba̅b̅aba̅b̅aa| ≤ 23/9 and |e| ≤ 0\n",
       "131. |b̅aba̅b̅aba̅b̅aba̅b̅aba̅b̅aba̅b̅aa| ≤ 419/90 using |b̅aba̅b̅aba̅b̅ab| ≤ 21/10 and |a̅b̅aba̅b̅aba̅b̅aa| ≤ 23/9\n",
       "132. |aaba̅b̅aba̅b̅aba̅b̅aba̅b̅aba̅b̅aba̅b̅aaba̅b̅aba̅b̅aba̅b̅aba̅b̅aba̅b̅aba̅b̅aaba̅b̅aba̅b̅aba̅b̅aba̅b̅aba̅b̅aba̅b̅aaba̅b̅aba̅b̅aba̅b̅aba̅b̅aba̅b̅aba̅b̅aaba̅b̅aba̅b̅aba̅b̅aba̅b̅aba̅b̅aba̅b̅aaba̅b̅aba̅b̅aba̅b̅aba̅b̅aba̅b̅aba̅b̅aaba̅b̅aba̅b̅aba̅b̅aba̅b̅aba̅b̅aba̅b̅aaba̅b̅aba̅b̅aba̅b̅aba̅b̅aba̅b̅aba̅b̅aa| ≤ 1781/45 using |aaba̅b̅aba̅b̅aba̅b̅aba̅b̅aba̅b̅aba̅b̅aaba̅b̅aba̅b̅aba̅b̅aba̅b̅aba̅b̅aba̅b̅aaba̅b̅aba̅b̅aba̅b̅aba̅b̅aba̅b̅aba̅b̅aaba̅b̅aba̅b̅aba̅b̅aba̅b̅aba̅b̅aba̅b̅aaba̅b̅aba̅b̅aba̅b̅aba̅b̅aba̅b̅aba̅b̅aaba̅b̅aba̅b̅aba̅b̅aba̅b̅aba̅b̅aba̅b̅aaba̅b̅aba̅b̅aba̅b̅aba̅b̅aba̅b̅aba̅b̅aaba̅| ≤ 3143/90 and |b̅aba̅b̅aba̅b̅aba̅b̅aba̅b̅aba̅b̅aa| ≤ 419/90\n",
       "133. |baaba̅b̅aba̅b̅aba̅b̅aba̅b̅aba̅b̅aba̅b̅aaba̅b̅aba̅b̅aba̅b̅aba̅b̅aba̅b̅aba̅b̅aaba̅b̅aba̅b̅aba̅b̅aba̅b̅aba̅b̅aba̅b̅aaba̅b̅aba̅b̅aba̅b̅aba̅b̅aba̅b̅aba̅b̅aaba̅b̅aba̅b̅aba̅b̅aba̅b̅aba̅b̅aba̅b̅aaba̅b̅aba̅b̅aba̅b̅aba̅b̅aba̅b̅aba̅b̅aaba̅b̅aba̅b̅aba̅b̅aba̅b̅aba̅b̅aba̅b̅aaba̅b̅aba̅b̅aba̅b̅aba̅b̅aba̅b̅aba̅b̅aab̅| ≤ 1781/45 using |aaba̅b̅aba̅b̅aba̅b̅aba̅b̅aba̅b̅aba̅b̅aaba̅b̅aba̅b̅aba̅b̅aba̅b̅aba̅b̅aba̅b̅aaba̅b̅aba̅b̅aba̅b̅aba̅b̅aba̅b̅aba̅b̅aaba̅b̅aba̅b̅aba̅b̅aba̅b̅aba̅b̅aba̅b̅aaba̅b̅aba̅b̅aba̅b̅aba̅b̅aba̅b̅aba̅b̅aaba̅b̅aba̅b̅aba̅b̅aba̅b̅aba̅b̅aba̅b̅aaba̅b̅aba̅b̅aba̅b̅aba̅b̅aba̅b̅aba̅b̅aaba̅b̅aba̅b̅aba̅b̅aba̅b̅aba̅b̅aba̅b̅aa| ≤ 1781/45\n",
       "134. |b̅aaba̅b̅aba̅b̅aba̅b̅aba̅b̅aba̅b̅aba̅b̅aaba̅b̅aba̅b̅aba̅b̅aba̅b̅aba̅b̅aba̅b̅aaba̅b̅aba̅b̅aba̅b̅aba̅b̅aba̅b̅aba̅b̅aaba̅b̅aba̅b̅aba̅b̅aba̅b̅aba̅b̅aba̅b̅aaba̅b̅aba̅b̅aba̅b̅aba̅b̅aba̅b̅aba̅b̅aaba̅b̅aba̅b̅aba̅b̅aba̅b̅aba̅b̅aba̅b̅aaba̅b̅aba̅b̅aba̅b̅aba̅b̅aba̅b̅aba̅b̅aaba̅b̅aba̅b̅aba̅b̅aba̅b̅aba̅b̅aba̅b̅aab| ≤ 1781/45 using |b̅aaba̅b̅aba̅b̅aba̅b̅aba̅b̅aba̅b̅aba̅b̅aaba̅b̅aba̅b̅aba̅b̅aba̅b̅aba̅b̅aba̅b̅aaba̅b̅aba̅b̅aba̅b̅aba̅b̅aba̅b̅aba̅b̅aaba̅b̅aba̅b̅aba̅b̅aba̅b̅aba̅b̅aba̅b̅aaba̅b̅aba̅b̅aba̅b̅aba̅b̅aba̅b̅aba̅b̅aaba̅b̅aba̅b̅aba̅b̅aba̅b̅aba̅b̅aba̅b̅aaba̅b̅aba̅b̅aba̅b̅aba̅b̅aba̅b̅aba̅b̅aaba̅b̅aba̅b̅aba̅b̅aba̅b̅aba̅b̅aba̅b̅aab| ≤ 1781/45 and |e| ≤ 0\n",
       "135. |aba̅b̅aaba̅b̅aba̅b̅aba̅b̅aba̅b̅aba̅b̅aba̅b̅aaba̅b̅aba̅b̅aba̅b̅aba̅b̅aba̅b̅aba̅b̅aaba̅b̅aba̅b̅aba̅b̅aba̅b̅aba̅b̅aba̅b̅aaba̅b̅aba̅b̅aba̅b̅aba̅b̅aba̅b̅aba̅b̅aaba̅b̅aba̅b̅aba̅b̅aba̅b̅aba̅b̅aba̅b̅aaba̅b̅aba̅b̅aba̅b̅aba̅b̅aba̅b̅aba̅b̅aaba̅b̅aba̅b̅aba̅b̅aba̅b̅aba̅b̅aba̅b̅aaba̅b̅aba̅b̅aba̅b̅aba̅b̅aba̅b̅aba̅b̅aaba̅b̅aba̅b̅aba̅b̅aba̅b̅aba̅b̅aba̅b̅aab| ≤ 1357/30 using |aba̅b̅aaba̅b̅aba̅b̅aba̅b̅aba̅b̅aba̅b̅aba̅| ≤ 509/90 and |b̅aaba̅b̅aba̅b̅aba̅b̅aba̅b̅aba̅b̅aba̅b̅aaba̅b̅aba̅b̅aba̅b̅aba̅b̅aba̅b̅aba̅b̅aaba̅b̅aba̅b̅aba̅b̅aba̅b̅aba̅b̅aba̅b̅aaba̅b̅aba̅b̅aba̅b̅aba̅b̅aba̅b̅aba̅b̅aaba̅b̅aba̅b̅aba̅b̅aba̅b̅aba̅b̅aba̅b̅aaba̅b̅aba̅b̅aba̅b̅aba̅b̅aba̅b̅aba̅b̅aaba̅b̅aba̅b̅aba̅b̅aba̅b̅aba̅b̅aba̅b̅aaba̅b̅aba̅b̅aba̅b̅aba̅b̅aba̅b̅aba̅b̅aab| ≤ 1781/45\n",
       "136. |ba̅b̅aba̅b̅aaba̅b̅aba̅b̅aba̅b̅aba̅b̅aba̅b̅aba̅b̅aaba̅b̅aba̅b̅aba̅b̅aba̅b̅aba̅b̅aba̅b̅aaba̅b̅aba̅b̅aba̅b̅aba̅b̅aba̅b̅aba̅b̅aaba̅b̅aba̅b̅aba̅b̅aba̅b̅aba̅b̅aba̅b̅aaba̅b̅aba̅b̅aba̅b̅aba̅b̅aba̅b̅aba̅b̅aaba̅b̅aba̅b̅aba̅b̅aba̅b̅aba̅b̅aba̅b̅aaba̅b̅aba̅b̅aba̅b̅aba̅b̅aba̅b̅aba̅b̅aaba̅b̅aba̅b̅aba̅b̅aba̅b̅aba̅b̅aba̅b̅aaba̅b̅aba̅b̅aba̅b̅aba̅b̅aba̅b̅aba̅b̅aab| ≤ 1387/30 using |ba̅b̅| ≤ 1 and |aba̅b̅aaba̅b̅aba̅b̅aba̅b̅aba̅b̅aba̅b̅aba̅b̅aaba̅b̅aba̅b̅aba̅b̅aba̅b̅aba̅b̅aba̅b̅aaba̅b̅aba̅b̅aba̅b̅aba̅b̅aba̅b̅aba̅b̅aaba̅b̅aba̅b̅aba̅b̅aba̅b̅aba̅b̅aba̅b̅aaba̅b̅aba̅b̅aba̅b̅aba̅b̅aba̅b̅aba̅b̅aaba̅b̅aba̅b̅aba̅b̅aba̅b̅aba̅b̅aba̅b̅aaba̅b̅aba̅b̅aba̅b̅aba̅b̅aba̅b̅aba̅b̅aaba̅b̅aba̅b̅aba̅b̅aba̅b̅aba̅b̅aba̅b̅aaba̅b̅aba̅b̅aba̅b̅aba̅b̅aba̅b̅aba̅b̅aab| ≤ 1357/30\n",
       "137. |a̅ba̅b̅aba̅b̅aaba̅b̅aba̅b̅aba̅b̅aba̅b̅aba̅b̅aba̅b̅aaba̅b̅aba̅b̅aba̅b̅aba̅b̅aba̅b̅aba̅b̅aaba̅b̅aba̅b̅aba̅b̅aba̅b̅aba̅b̅aba̅b̅aaba̅b̅aba̅b̅aba̅b̅aba̅b̅aba̅b̅aba̅b̅aaba̅b̅aba̅b̅aba̅b̅aba̅b̅aba̅b̅aba̅b̅aaba̅b̅aba̅b̅aba̅b̅aba̅b̅aba̅b̅aba̅b̅aaba̅b̅aba̅b̅aba̅b̅aba̅b̅aba̅b̅aba̅b̅aaba̅b̅aba̅b̅aba̅b̅aba̅b̅aba̅b̅aba̅b̅aaba̅b̅aba̅b̅aba̅b̅aba̅b̅aba̅b̅aba̅b̅aaba| ≤ 1387/30 using |ba̅b̅aba̅b̅aaba̅b̅aba̅b̅aba̅b̅aba̅b̅aba̅b̅aba̅b̅aaba̅b̅aba̅b̅aba̅b̅aba̅b̅aba̅b̅aba̅b̅aaba̅b̅aba̅b̅aba̅b̅aba̅b̅aba̅b̅aba̅b̅aaba̅b̅aba̅b̅aba̅b̅aba̅b̅aba̅b̅aba̅b̅aaba̅b̅aba̅b̅aba̅b̅aba̅b̅aba̅b̅aba̅b̅aaba̅b̅aba̅b̅aba̅b̅aba̅b̅aba̅b̅aba̅b̅aaba̅b̅aba̅b̅aba̅b̅aba̅b̅aba̅b̅aba̅b̅aaba̅b̅aba̅b̅aba̅b̅aba̅b̅aba̅b̅aba̅b̅aaba̅b̅aba̅b̅aba̅b̅aba̅b̅aba̅b̅aba̅b̅aab| ≤ 1387/30\n",
       "138. |aba̅b̅aba̅b̅aaba̅b̅aba̅b̅aba̅b̅aba̅b̅aba̅b̅aba̅b̅aaba̅b̅aba̅b̅aba̅b̅aba̅b̅aba̅b̅aba̅b̅aaba̅b̅aba̅b̅aba̅b̅aba̅b̅aba̅b̅aba̅b̅aaba̅b̅aba̅b̅aba̅b̅aba̅b̅aba̅b̅aba̅b̅aaba̅b̅aba̅b̅aba̅b̅aba̅b̅aba̅b̅aba̅b̅aaba̅b̅aba̅b̅aba̅b̅aba̅b̅aba̅b̅aba̅b̅aaba̅b̅aba̅b̅aba̅b̅aba̅b̅aba̅b̅aba̅b̅aaba̅b̅aba̅b̅aba̅b̅aba̅b̅aba̅b̅aba̅b̅aaba̅b̅aba̅b̅aba̅b̅aba̅b̅aba̅b̅aba̅b̅aaba̅b̅aba̅b̅aba̅b̅aba̅b̅aba̅b̅aba̅b̅aa| ≤ 458/9 using |aba̅b̅aba̅b̅aaba̅b̅aba̅b̅aba̅b̅aba̅b̅aba̅b̅aba̅b̅aaba̅b̅aba̅b̅aba̅b̅aba̅b̅aba̅b̅aba̅b̅aaba̅b̅aba̅b̅aba̅b̅aba̅b̅aba̅b̅aba̅b̅aaba̅b̅aba̅b̅aba̅b̅aba̅b̅aba̅b̅aba̅b̅aaba̅b̅aba̅b̅aba̅b̅aba̅b̅aba̅b̅aba̅b̅aaba̅b̅aba̅b̅aba̅b̅aba̅b̅aba̅b̅aba̅b̅aaba̅b̅aba̅b̅aba̅b̅aba̅b̅aba̅b̅aba̅b̅aaba̅b̅aba̅b̅aba̅b̅aba̅b̅aba̅b̅aba̅b̅aaba̅b̅aba̅b̅aba̅b̅aba̅b̅aba̅b̅aba̅b̅aaba̅| ≤ 1387/30 and |b̅aba̅b̅aba̅b̅aba̅b̅aba̅b̅aba̅b̅aa| ≤ 419/90\n",
       "139. |baba̅b̅aba̅b̅aaba̅b̅aba̅b̅aba̅b̅aba̅b̅aba̅b̅aba̅b̅aaba̅b̅aba̅b̅aba̅b̅aba̅b̅aba̅b̅aba̅b̅aaba̅b̅aba̅b̅aba̅b̅aba̅b̅aba̅b̅aba̅b̅aaba̅b̅aba̅b̅aba̅b̅aba̅b̅aba̅b̅aba̅b̅aaba̅b̅aba̅b̅aba̅b̅aba̅b̅aba̅b̅aba̅b̅aaba̅b̅aba̅b̅aba̅b̅aba̅b̅aba̅b̅aba̅b̅aaba̅b̅aba̅b̅aba̅b̅aba̅b̅aba̅b̅aba̅b̅aaba̅b̅aba̅b̅aba̅b̅aba̅b̅aba̅b̅aba̅b̅aaba̅b̅aba̅b̅aba̅b̅aba̅b̅aba̅b̅aba̅b̅aaba̅b̅aba̅b̅aba̅b̅aba̅b̅aba̅b̅aba̅b̅aab̅| ≤ 458/9 using |aba̅b̅aba̅b̅aaba̅b̅aba̅b̅aba̅b̅aba̅b̅aba̅b̅aba̅b̅aaba̅b̅aba̅b̅aba̅b̅aba̅b̅aba̅b̅aba̅b̅aaba̅b̅aba̅b̅aba̅b̅aba̅b̅aba̅b̅aba̅b̅aaba̅b̅aba̅b̅aba̅b̅aba̅b̅aba̅b̅aba̅b̅aaba̅b̅aba̅b̅aba̅b̅aba̅b̅aba̅b̅aba̅b̅aaba̅b̅aba̅b̅aba̅b̅aba̅b̅aba̅b̅aba̅b̅aaba̅b̅aba̅b̅aba̅b̅aba̅b̅aba̅b̅aba̅b̅aaba̅b̅aba̅b̅aba̅b̅aba̅b̅aba̅b̅aba̅b̅aaba̅b̅aba̅b̅aba̅b̅aba̅b̅aba̅b̅aba̅b̅aaba̅b̅aba̅b̅aba̅b̅aba̅b̅aba̅b̅aba̅b̅aa| ≤ 458/9\n",
       "140. |a̅b̅aba̅b̅aba̅b̅aba̅b̅aba̅b̅aba̅b̅aaba̅b̅a| ≤ 509/90 using |a̅b̅aba̅b̅aba̅b̅aba̅b̅aba̅b̅aba̅b̅aaba̅b̅a| ≤ 509/90 and |e| ≤ 0\n",
       "141. |b̅aba̅b̅aba̅b̅aaba̅b̅aba̅b̅aba̅b̅aba̅b̅aba̅b̅aba̅b̅aaba̅b̅aba̅b̅aba̅b̅aba̅b̅aba̅b̅aba̅b̅aaba̅b̅aba̅b̅aba̅b̅aba̅b̅aba̅b̅aba̅b̅aaba̅b̅aba̅b̅aba̅b̅aba̅b̅aba̅b̅aba̅b̅aaba̅b̅aba̅b̅aba̅b̅aba̅b̅aba̅b̅aba̅b̅aaba̅b̅aba̅b̅aba̅b̅aba̅b̅aba̅b̅aba̅b̅aaba̅b̅aba̅b̅aba̅b̅aba̅b̅aba̅b̅aba̅b̅aaba̅b̅aba̅b̅aba̅b̅aba̅b̅aba̅b̅aba̅b̅aaba̅b̅aba̅b̅aba̅b̅aba̅b̅aba̅b̅aba̅b̅aaba̅b̅aba̅b̅aba̅b̅aba̅b̅aba̅b̅aba̅b̅aaba̅b̅aba̅b̅aba̅b̅aba̅b̅aba̅b̅aba̅b̅aaba̅b̅a| ≤ 5089/90 using |b̅aba̅b̅aba̅b̅aaba̅b̅aba̅b̅aba̅b̅aba̅b̅aba̅b̅aba̅b̅aaba̅b̅aba̅b̅aba̅b̅aba̅b̅aba̅b̅aba̅b̅aaba̅b̅aba̅b̅aba̅b̅aba̅b̅aba̅b̅aba̅b̅aaba̅b̅aba̅b̅aba̅b̅aba̅b̅aba̅b̅aba̅b̅aaba̅b̅aba̅b̅aba̅b̅aba̅b̅aba̅b̅aba̅b̅aaba̅b̅aba̅b̅aba̅b̅aba̅b̅aba̅b̅aba̅b̅aaba̅b̅aba̅b̅aba̅b̅aba̅b̅aba̅b̅aba̅b̅aaba̅b̅aba̅b̅aba̅b̅aba̅b̅aba̅b̅aba̅b̅aaba̅b̅aba̅b̅aba̅b̅aba̅b̅aba̅b̅aba̅b̅aaba̅b̅aba̅b̅aba̅b̅aba̅b̅aba̅b̅aba̅b̅aab| ≤ 458/9 and |a̅b̅aba̅b̅aba̅b̅aba̅b̅aba̅b̅aba̅b̅aaba̅b̅a| ≤ 509/90\n",
       "142. |aaba̅b̅aba̅b̅aba̅b̅aba̅b̅aba̅b̅aba̅b̅aaba̅b̅aba̅b̅aba̅b̅aba̅b̅aba̅b̅aba̅b̅aaba̅b̅aba̅b̅aba̅b̅aba̅b̅aba̅b̅aba̅b̅aaba̅b̅aba̅b̅aba̅b̅aba̅b̅aba̅b̅aba̅b̅aaba̅b̅aba̅b̅aba̅b̅aba̅b̅aba̅b̅aba̅b̅aaba̅b̅aba̅b̅aba̅b̅aba̅b̅aba̅b̅aba̅b̅aaba̅b̅aba̅b̅aba̅b̅aba̅b̅aba̅b̅aba̅b̅aaba̅b̅aba̅b̅aba̅b̅aba̅b̅aba̅b̅aba̅b̅aaba̅b̅aba̅b̅aba̅b̅aba̅b̅aba̅b̅aba̅b̅aaba̅b̅aba̅b̅aba̅b̅aba̅b̅aba̅b̅aba̅b̅aaba̅b̅aba̅b̅aba̅b̅aba̅b̅aba̅b̅aba̅b̅aaba̅b̅aba̅b̅aba̅b̅aba̅b̅aba̅b̅aba̅b̅aaba̅b̅a| ≤ 2684/45 using |aaba̅b̅aba̅b̅aba̅b̅aba̅| ≤ 31/10 and |b̅aba̅b̅aba̅b̅aaba̅b̅aba̅b̅aba̅b̅aba̅b̅aba̅b̅aba̅b̅aaba̅b̅aba̅b̅aba̅b̅aba̅b̅aba̅b̅aba̅b̅aaba̅b̅aba̅b̅aba̅b̅aba̅b̅aba̅b̅aba̅b̅aaba̅b̅aba̅b̅aba̅b̅aba̅b̅aba̅b̅aba̅b̅aaba̅b̅aba̅b̅aba̅b̅aba̅b̅aba̅b̅aba̅b̅aaba̅b̅aba̅b̅aba̅b̅aba̅b̅aba̅b̅aba̅b̅aaba̅b̅aba̅b̅aba̅b̅aba̅b̅aba̅b̅aba̅b̅aaba̅b̅aba̅b̅aba̅b̅aba̅b̅aba̅b̅aba̅b̅aaba̅b̅aba̅b̅aba̅b̅aba̅b̅aba̅b̅aba̅b̅aaba̅b̅aba̅b̅aba̅b̅aba̅b̅aba̅b̅aba̅b̅aaba̅b̅aba̅b̅aba̅b̅aba̅b̅aba̅b̅aba̅b̅aaba̅b̅a| ≤ 5089/90\n",
       "143. |baaba̅b̅aba̅b̅aba̅b̅aba̅b̅aba̅b̅aba̅b̅aaba̅b̅aba̅b̅aba̅b̅aba̅b̅aba̅b̅aba̅b̅aaba̅b̅aba̅b̅aba̅b̅aba̅b̅aba̅b̅aba̅b̅aaba̅b̅aba̅b̅aba̅b̅aba̅b̅aba̅b̅aba̅b̅aaba̅b̅aba̅b̅aba̅b̅aba̅b̅aba̅b̅aba̅b̅aaba̅b̅aba̅b̅aba̅b̅aba̅b̅aba̅b̅aba̅b̅aaba̅b̅aba̅b̅aba̅b̅aba̅b̅aba̅b̅aba̅b̅aaba̅b̅aba̅b̅aba̅b̅aba̅b̅aba̅b̅aba̅b̅aaba̅b̅aba̅b̅aba̅b̅aba̅b̅aba̅b̅aba̅b̅aaba̅b̅aba̅b̅aba̅b̅aba̅b̅aba̅b̅aba̅b̅aaba̅b̅aba̅b̅aba̅b̅aba̅b̅aba̅b̅aba̅b̅aaba̅b̅aba̅b̅aba̅b̅aba̅b̅aba̅b̅aba̅b̅aaba̅b̅ab̅| ≤ 2684/45 using |aaba̅b̅aba̅b̅aba̅b̅aba̅b̅aba̅b̅aba̅b̅aaba̅b̅aba̅b̅aba̅b̅aba̅b̅aba̅b̅aba̅b̅aaba̅b̅aba̅b̅aba̅b̅aba̅b̅aba̅b̅aba̅b̅aaba̅b̅aba̅b̅aba̅b̅aba̅b̅aba̅b̅aba̅b̅aaba̅b̅aba̅b̅aba̅b̅aba̅b̅aba̅b̅aba̅b̅aaba̅b̅aba̅b̅aba̅b̅aba̅b̅aba̅b̅aba̅b̅aaba̅b̅aba̅b̅aba̅b̅aba̅b̅aba̅b̅aba̅b̅aaba̅b̅aba̅b̅aba̅b̅aba̅b̅aba̅b̅aba̅b̅aaba̅b̅aba̅b̅aba̅b̅aba̅b̅aba̅b̅aba̅b̅aaba̅b̅aba̅b̅aba̅b̅aba̅b̅aba̅b̅aba̅b̅aaba̅b̅aba̅b̅aba̅b̅aba̅b̅aba̅b̅aba̅b̅aaba̅b̅aba̅b̅aba̅b̅aba̅b̅aba̅b̅aba̅b̅aaba̅b̅a| ≤ 2684/45\n",
       "144. |a̅b̅aba̅b̅| ≤ 2 using |a̅b̅a| ≤ 1 and |ba̅b̅| ≤ 1\n",
       "145. |b̅aba̅b̅aba̅b̅aba̅b̅aba̅b̅| ≤ 41/10 using |b̅aba̅b̅aba̅b̅ab| ≤ 21/10 and |a̅b̅aba̅b̅| ≤ 2\n",
       "146. |ab̅aba̅b̅aba̅b̅aba̅b̅aba̅b̅a̅| ≤ 41/10 using |b̅aba̅b̅aba̅b̅aba̅b̅aba̅b̅| ≤ 41/10\n",
       "147. |a̅b̅aba̅b̅aba̅b̅aba̅b̅aba̅b̅a| ≤ 41/10 using |a̅b̅aba̅b̅aba̅b̅aba̅b̅aba̅b̅a| ≤ 41/10 and |e| ≤ 0\n",
       "148. |b̅aaba̅b̅aba̅b̅aba̅b̅aba̅b̅aba̅b̅aba̅b̅aaba̅b̅aba̅b̅aba̅b̅aba̅b̅aba̅b̅aba̅b̅aaba̅b̅aba̅b̅aba̅b̅aba̅b̅aba̅b̅aba̅b̅aaba̅b̅aba̅b̅aba̅b̅aba̅b̅aba̅b̅aba̅b̅aaba̅b̅aba̅b̅aba̅b̅aba̅b̅aba̅b̅aba̅b̅aaba̅b̅aba̅b̅aba̅b̅aba̅b̅aba̅b̅aba̅b̅aaba̅b̅aba̅b̅aba̅b̅aba̅b̅aba̅b̅aba̅b̅aaba̅b̅aba̅b̅aba̅b̅aba̅b̅aba̅b̅aba̅b̅aaba̅b̅aba̅b̅aba̅b̅aba̅b̅aba̅b̅aba̅b̅aaba̅b̅aba̅b̅aba̅b̅aba̅b̅aba̅b̅aba̅b̅aaba̅b̅aba̅b̅aba̅b̅aba̅b̅aba̅b̅aba̅b̅aaba̅b̅aba̅b̅aba̅b̅aba̅b̅aba̅b̅aba̅b̅aaba̅b̅aba̅b̅aba̅b̅aba̅b̅aba̅b̅aba̅b̅a| ≤ 5737/90 using |b̅aaba̅b̅aba̅b̅aba̅b̅aba̅b̅aba̅b̅aba̅b̅aaba̅b̅aba̅b̅aba̅b̅aba̅b̅aba̅b̅aba̅b̅aaba̅b̅aba̅b̅aba̅b̅aba̅b̅aba̅b̅aba̅b̅aaba̅b̅aba̅b̅aba̅b̅aba̅b̅aba̅b̅aba̅b̅aaba̅b̅aba̅b̅aba̅b̅aba̅b̅aba̅b̅aba̅b̅aaba̅b̅aba̅b̅aba̅b̅aba̅b̅aba̅b̅aba̅b̅aaba̅b̅aba̅b̅aba̅b̅aba̅b̅aba̅b̅aba̅b̅aaba̅b̅aba̅b̅aba̅b̅aba̅b̅aba̅b̅aba̅b̅aaba̅b̅aba̅b̅aba̅b̅aba̅b̅aba̅b̅aba̅b̅aaba̅b̅aba̅b̅aba̅b̅aba̅b̅aba̅b̅aba̅b̅aaba̅b̅aba̅b̅aba̅b̅aba̅b̅aba̅b̅aba̅b̅aaba̅b̅aba̅b̅aba̅b̅aba̅b̅aba̅b̅aba̅b̅aaba̅b̅ab| ≤ 2684/45 and |a̅b̅aba̅b̅aba̅b̅aba̅b̅aba̅b̅a| ≤ 41/10\n",
       "149. |ab̅aaba̅b̅aba̅b̅aba̅b̅aba̅b̅aba̅b̅aba̅b̅aaba̅b̅aba̅b̅aba̅b̅aba̅b̅aba̅b̅aba̅b̅aaba̅b̅aba̅b̅aba̅b̅aba̅b̅aba̅b̅aba̅b̅aaba̅b̅aba̅b̅aba̅b̅aba̅b̅aba̅b̅aba̅b̅aaba̅b̅aba̅b̅aba̅b̅aba̅b̅aba̅b̅aba̅b̅aaba̅b̅aba̅b̅aba̅b̅aba̅b̅aba̅b̅aba̅b̅aaba̅b̅aba̅b̅aba̅b̅aba̅b̅aba̅b̅aba̅b̅aaba̅b̅aba̅b̅aba̅b̅aba̅b̅aba̅b̅aba̅b̅aaba̅b̅aba̅b̅aba̅b̅aba̅b̅aba̅b̅aba̅b̅aaba̅b̅aba̅b̅aba̅b̅aba̅b̅aba̅b̅aba̅b̅aaba̅b̅aba̅b̅aba̅b̅aba̅b̅aba̅b̅aba̅b̅aaba̅b̅aba̅b̅aba̅b̅aba̅b̅aba̅b̅aba̅b̅aaba̅b̅aba̅b̅aba̅b̅aba̅b̅aba̅b̅aba̅b̅aa̅| ≤ 5737/90 using |b̅aaba̅b̅aba̅b̅aba̅b̅aba̅b̅aba̅b̅aba̅b̅aaba̅b̅aba̅b̅aba̅b̅aba̅b̅aba̅b̅aba̅b̅aaba̅b̅aba̅b̅aba̅b̅aba̅b̅aba̅b̅aba̅b̅aaba̅b̅aba̅b̅aba̅b̅aba̅b̅aba̅b̅aba̅b̅aaba̅b̅aba̅b̅aba̅b̅aba̅b̅aba̅b̅aba̅b̅aaba̅b̅aba̅b̅aba̅b̅aba̅b̅aba̅b̅aba̅b̅aaba̅b̅aba̅b̅aba̅b̅aba̅b̅aba̅b̅aba̅b̅aaba̅b̅aba̅b̅aba̅b̅aba̅b̅aba̅b̅aba̅b̅aaba̅b̅aba̅b̅aba̅b̅aba̅b̅aba̅b̅aba̅b̅aaba̅b̅aba̅b̅aba̅b̅aba̅b̅aba̅b̅aba̅b̅aaba̅b̅aba̅b̅aba̅b̅aba̅b̅aba̅b̅aba̅b̅aaba̅b̅aba̅b̅aba̅b̅aba̅b̅aba̅b̅aba̅b̅aaba̅b̅aba̅b̅aba̅b̅aba̅b̅aba̅b̅aba̅b̅a| ≤ 5737/90\n",
       "150. |a̅b̅aaba̅b̅aba̅b̅aba̅b̅aba̅b̅aba̅b̅aba̅b̅aaba̅b̅aba̅b̅aba̅b̅aba̅b̅aba̅b̅aba̅b̅aaba̅b̅aba̅b̅aba̅b̅aba̅b̅aba̅b̅aba̅b̅aaba̅b̅aba̅b̅aba̅b̅aba̅b̅aba̅b̅aba̅b̅aaba̅b̅aba̅b̅aba̅b̅aba̅b̅aba̅b̅aba̅b̅aaba̅b̅aba̅b̅aba̅b̅aba̅b̅aba̅b̅aba̅b̅aaba̅b̅aba̅b̅aba̅b̅aba̅b̅aba̅b̅aba̅b̅aaba̅b̅aba̅b̅aba̅b̅aba̅b̅aba̅b̅aba̅b̅aaba̅b̅aba̅b̅aba̅b̅aba̅b̅aba̅b̅aba̅b̅aaba̅b̅aba̅b̅aba̅b̅aba̅b̅aba̅b̅aba̅b̅aaba̅b̅aba̅b̅aba̅b̅aba̅b̅aba̅b̅aba̅b̅aaba̅b̅aba̅b̅aba̅b̅aba̅b̅aba̅b̅aba̅b̅aaba̅b̅aba̅b̅aba̅b̅aba̅b̅aba̅b̅aba̅b̅aa| ≤ 5737/90 using |a̅b̅aaba̅b̅aba̅b̅aba̅b̅aba̅b̅aba̅b̅aba̅b̅aaba̅b̅aba̅b̅aba̅b̅aba̅b̅aba̅b̅aba̅b̅aaba̅b̅aba̅b̅aba̅b̅aba̅b̅aba̅b̅aba̅b̅aaba̅b̅aba̅b̅aba̅b̅aba̅b̅aba̅b̅aba̅b̅aaba̅b̅aba̅b̅aba̅b̅aba̅b̅aba̅b̅aba̅b̅aaba̅b̅aba̅b̅aba̅b̅aba̅b̅aba̅b̅aba̅b̅aaba̅b̅aba̅b̅aba̅b̅aba̅b̅aba̅b̅aba̅b̅aaba̅b̅aba̅b̅aba̅b̅aba̅b̅aba̅b̅aba̅b̅aaba̅b̅aba̅b̅aba̅b̅aba̅b̅aba̅b̅aba̅b̅aaba̅b̅aba̅b̅aba̅b̅aba̅b̅aba̅b̅aba̅b̅aaba̅b̅aba̅b̅aba̅b̅aba̅b̅aba̅b̅aba̅b̅aaba̅b̅aba̅b̅aba̅b̅aba̅b̅aba̅b̅aba̅b̅aaba̅b̅aba̅b̅aba̅b̅aba̅b̅aba̅b̅aba̅b̅aa| ≤ 5737/90 and |e| ≤ 0\n",
       "151. |b̅aba̅b̅aba̅b̅aba̅b̅aaba̅b̅aba̅b̅aba̅b̅aba̅b̅aba̅b̅aba̅b̅aaba̅b̅aba̅b̅aba̅b̅aba̅b̅aba̅b̅aba̅b̅aaba̅b̅aba̅b̅aba̅b̅aba̅b̅aba̅b̅aba̅b̅aaba̅b̅aba̅b̅aba̅b̅aba̅b̅aba̅b̅aba̅b̅aaba̅b̅aba̅b̅aba̅b̅aba̅b̅aba̅b̅aba̅b̅aaba̅b̅aba̅b̅aba̅b̅aba̅b̅aba̅b̅aba̅b̅aaba̅b̅aba̅b̅aba̅b̅aba̅b̅aba̅b̅aba̅b̅aaba̅b̅aba̅b̅aba̅b̅aba̅b̅aba̅b̅aba̅b̅aaba̅b̅aba̅b̅aba̅b̅aba̅b̅aba̅b̅aba̅b̅aaba̅b̅aba̅b̅aba̅b̅aba̅b̅aba̅b̅aba̅b̅aaba̅b̅aba̅b̅aba̅b̅aba̅b̅aba̅b̅aba̅b̅aaba̅b̅aba̅b̅aba̅b̅aba̅b̅aba̅b̅aba̅b̅aaba̅b̅aba̅b̅aba̅b̅aba̅b̅aba̅b̅aba̅b̅aa| ≤ 2963/45 using |b̅aba̅b̅aba̅b̅ab| ≤ 21/10 and |a̅b̅aaba̅b̅aba̅b̅aba̅b̅aba̅b̅aba̅b̅aba̅b̅aaba̅b̅aba̅b̅aba̅b̅aba̅b̅aba̅b̅aba̅b̅aaba̅b̅aba̅b̅aba̅b̅aba̅b̅aba̅b̅aba̅b̅aaba̅b̅aba̅b̅aba̅b̅aba̅b̅aba̅b̅aba̅b̅aaba̅b̅aba̅b̅aba̅b̅aba̅b̅aba̅b̅aba̅b̅aaba̅b̅aba̅b̅aba̅b̅aba̅b̅aba̅b̅aba̅b̅aaba̅b̅aba̅b̅aba̅b̅aba̅b̅aba̅b̅aba̅b̅aaba̅b̅aba̅b̅aba̅b̅aba̅b̅aba̅b̅aba̅b̅aaba̅b̅aba̅b̅aba̅b̅aba̅b̅aba̅b̅aba̅b̅aaba̅b̅aba̅b̅aba̅b̅aba̅b̅aba̅b̅aba̅b̅aaba̅b̅aba̅b̅aba̅b̅aba̅b̅aba̅b̅aba̅b̅aaba̅b̅aba̅b̅aba̅b̅aba̅b̅aba̅b̅aba̅b̅aaba̅b̅aba̅b̅aba̅b̅aba̅b̅aba̅b̅aba̅b̅aa| ≤ 5737/90\n",
       "152. |aaba̅b̅aba̅b̅aba̅b̅aba̅b̅aba̅b̅aba̅b̅aaba̅b̅aba̅b̅aba̅b̅aba̅b̅aba̅b̅aba̅b̅aaba̅b̅aba̅b̅aba̅b̅aba̅b̅aba̅b̅aba̅b̅aaba̅b̅aba̅b̅aba̅b̅aba̅b̅aba̅b̅aba̅b̅aaba̅b̅aba̅b̅aba̅b̅aba̅b̅aba̅b̅aba̅b̅aaba̅b̅aba̅b̅aba̅b̅aba̅b̅aba̅b̅aba̅b̅aaba̅b̅aba̅b̅aba̅b̅aba̅b̅aba̅b̅aba̅b̅aaba̅b̅aba̅b̅aba̅b̅aba̅b̅aba̅b̅aba̅b̅aaba̅b̅aba̅b̅aba̅b̅aba̅b̅aba̅b̅aba̅b̅aaba̅b̅aba̅b̅aba̅b̅aba̅b̅aba̅b̅aba̅b̅aaba̅b̅aba̅b̅aba̅b̅aba̅b̅aba̅b̅aba̅b̅aaba̅b̅aba̅b̅aba̅b̅aba̅b̅aba̅b̅aba̅b̅aaba̅b̅aba̅b̅aba̅b̅aba̅b̅aba̅b̅aba̅b̅aaba̅b̅aba̅b̅aba̅b̅aba̅b̅aba̅b̅aba̅b̅aa| ≤ 342/5 using |aaba̅b̅aba̅b̅aba̅| ≤ 23/9 and |b̅aba̅b̅aba̅b̅aba̅b̅aaba̅b̅aba̅b̅aba̅b̅aba̅b̅aba̅b̅aba̅b̅aaba̅b̅aba̅b̅aba̅b̅aba̅b̅aba̅b̅aba̅b̅aaba̅b̅aba̅b̅aba̅b̅aba̅b̅aba̅b̅aba̅b̅aaba̅b̅aba̅b̅aba̅b̅aba̅b̅aba̅b̅aba̅b̅aaba̅b̅aba̅b̅aba̅b̅aba̅b̅aba̅b̅aba̅b̅aaba̅b̅aba̅b̅aba̅b̅aba̅b̅aba̅b̅aba̅b̅aaba̅b̅aba̅b̅aba̅b̅aba̅b̅aba̅b̅aba̅b̅aaba̅b̅aba̅b̅aba̅b̅aba̅b̅aba̅b̅aba̅b̅aaba̅b̅aba̅b̅aba̅b̅aba̅b̅aba̅b̅aba̅b̅aaba̅b̅aba̅b̅aba̅b̅aba̅b̅aba̅b̅aba̅b̅aaba̅b̅aba̅b̅aba̅b̅aba̅b̅aba̅b̅aba̅b̅aaba̅b̅aba̅b̅aba̅b̅aba̅b̅aba̅b̅aba̅b̅aaba̅b̅aba̅b̅aba̅b̅aba̅b̅aba̅b̅aba̅b̅aa| ≤ 2963/45\n",
       "153. |baaba̅b̅aba̅b̅aba̅b̅aba̅b̅aba̅b̅aba̅b̅aaba̅b̅aba̅b̅aba̅b̅aba̅b̅aba̅b̅aba̅b̅aaba̅b̅aba̅b̅aba̅b̅aba̅b̅aba̅b̅aba̅b̅aaba̅b̅aba̅b̅aba̅b̅aba̅b̅aba̅b̅aba̅b̅aaba̅b̅aba̅b̅aba̅b̅aba̅b̅aba̅b̅aba̅b̅aaba̅b̅aba̅b̅aba̅b̅aba̅b̅aba̅b̅aba̅b̅aaba̅b̅aba̅b̅aba̅b̅aba̅b̅aba̅b̅aba̅b̅aaba̅b̅aba̅b̅aba̅b̅aba̅b̅aba̅b̅aba̅b̅aaba̅b̅aba̅b̅aba̅b̅aba̅b̅aba̅b̅aba̅b̅aaba̅b̅aba̅b̅aba̅b̅aba̅b̅aba̅b̅aba̅b̅aaba̅b̅aba̅b̅aba̅b̅aba̅b̅aba̅b̅aba̅b̅aaba̅b̅aba̅b̅aba̅b̅aba̅b̅aba̅b̅aba̅b̅aaba̅b̅aba̅b̅aba̅b̅aba̅b̅aba̅b̅aba̅b̅aaba̅b̅aba̅b̅aba̅b̅aba̅b̅aba̅b̅aba̅b̅aab̅| ≤ 342/5 using |aaba̅b̅aba̅b̅aba̅b̅aba̅b̅aba̅b̅aba̅b̅aaba̅b̅aba̅b̅aba̅b̅aba̅b̅aba̅b̅aba̅b̅aaba̅b̅aba̅b̅aba̅b̅aba̅b̅aba̅b̅aba̅b̅aaba̅b̅aba̅b̅aba̅b̅aba̅b̅aba̅b̅aba̅b̅aaba̅b̅aba̅b̅aba̅b̅aba̅b̅aba̅b̅aba̅b̅aaba̅b̅aba̅b̅aba̅b̅aba̅b̅aba̅b̅aba̅b̅aaba̅b̅aba̅b̅aba̅b̅aba̅b̅aba̅b̅aba̅b̅aaba̅b̅aba̅b̅aba̅b̅aba̅b̅aba̅b̅aba̅b̅aaba̅b̅aba̅b̅aba̅b̅aba̅b̅aba̅b̅aba̅b̅aaba̅b̅aba̅b̅aba̅b̅aba̅b̅aba̅b̅aba̅b̅aaba̅b̅aba̅b̅aba̅b̅aba̅b̅aba̅b̅aba̅b̅aaba̅b̅aba̅b̅aba̅b̅aba̅b̅aba̅b̅aba̅b̅aaba̅b̅aba̅b̅aba̅b̅aba̅b̅aba̅b̅aba̅b̅aaba̅b̅aba̅b̅aba̅b̅aba̅b̅aba̅b̅aba̅b̅aa| ≤ 342/5\n",
       "154. |b̅aaba̅b̅aba̅b̅aba̅b̅aba̅b̅aba̅b̅aba̅b̅aaba̅b̅aba̅b̅aba̅b̅aba̅b̅aba̅b̅aba̅b̅aaba̅b̅aba̅b̅aba̅b̅aba̅b̅aba̅b̅aba̅b̅aaba̅b̅aba̅b̅aba̅b̅aba̅b̅aba̅b̅aba̅b̅aaba̅b̅aba̅b̅aba̅b̅aba̅b̅aba̅b̅aba̅b̅aaba̅b̅aba̅b̅aba̅b̅aba̅b̅aba̅b̅aba̅b̅aaba̅b̅aba̅b̅aba̅b̅aba̅b̅aba̅b̅aba̅b̅aaba̅b̅aba̅b̅aba̅b̅aba̅b̅aba̅b̅aba̅b̅aaba̅b̅aba̅b̅aba̅b̅aba̅b̅aba̅b̅aba̅b̅aaba̅b̅aba̅b̅aba̅b̅aba̅b̅aba̅b̅aba̅b̅aaba̅b̅aba̅b̅aba̅b̅aba̅b̅aba̅b̅aba̅b̅aaba̅b̅aba̅b̅aba̅b̅aba̅b̅aba̅b̅aba̅b̅aaba̅b̅aba̅b̅aba̅b̅aba̅b̅aba̅b̅aba̅b̅aaba̅b̅aba̅b̅aba̅b̅aba̅b̅aba̅b̅aba̅b̅aab| ≤ 342/5 using |b̅aaba̅b̅aba̅b̅aba̅b̅aba̅b̅aba̅b̅aba̅b̅aaba̅b̅aba̅b̅aba̅b̅aba̅b̅aba̅b̅aba̅b̅aaba̅b̅aba̅b̅aba̅b̅aba̅b̅aba̅b̅aba̅b̅aaba̅b̅aba̅b̅aba̅b̅aba̅b̅aba̅b̅aba̅b̅aaba̅b̅aba̅b̅aba̅b̅aba̅b̅aba̅b̅aba̅b̅aaba̅b̅aba̅b̅aba̅b̅aba̅b̅aba̅b̅aba̅b̅aaba̅b̅aba̅b̅aba̅b̅aba̅b̅aba̅b̅aba̅b̅aaba̅b̅aba̅b̅aba̅b̅aba̅b̅aba̅b̅aba̅b̅aaba̅b̅aba̅b̅aba̅b̅aba̅b̅aba̅b̅aba̅b̅aaba̅b̅aba̅b̅aba̅b̅aba̅b̅aba̅b̅aba̅b̅aaba̅b̅aba̅b̅aba̅b̅aba̅b̅aba̅b̅aba̅b̅aaba̅b̅aba̅b̅aba̅b̅aba̅b̅aba̅b̅aba̅b̅aaba̅b̅aba̅b̅aba̅b̅aba̅b̅aba̅b̅aba̅b̅aaba̅b̅aba̅b̅aba̅b̅aba̅b̅aba̅b̅aba̅b̅aab| ≤ 342/5 and |e| ≤ 0\n",
       "155. |aba̅b̅aaba̅b̅aba̅b̅aba̅b̅aba̅b̅aba̅b̅aba̅b̅aaba̅b̅aba̅b̅aba̅b̅aba̅b̅aba̅b̅aba̅b̅aaba̅b̅aba̅b̅aba̅b̅aba̅b̅aba̅b̅aba̅b̅aaba̅b̅aba̅b̅aba̅b̅aba̅b̅aba̅b̅aba̅b̅aaba̅b̅aba̅b̅aba̅b̅aba̅b̅aba̅b̅aba̅b̅aaba̅b̅aba̅b̅aba̅b̅aba̅b̅aba̅b̅aba̅b̅aaba̅b̅aba̅b̅aba̅b̅aba̅b̅aba̅b̅aba̅b̅aaba̅b̅aba̅b̅aba̅b̅aba̅b̅aba̅b̅aba̅b̅aaba̅b̅aba̅b̅aba̅b̅aba̅b̅aba̅b̅aba̅b̅aaba̅b̅aba̅b̅aba̅b̅aba̅b̅aba̅b̅aba̅b̅aaba̅b̅aba̅b̅aba̅b̅aba̅b̅aba̅b̅aba̅b̅aaba̅b̅aba̅b̅aba̅b̅aba̅b̅aba̅b̅aba̅b̅aaba̅b̅aba̅b̅aba̅b̅aba̅b̅aba̅b̅aba̅b̅aaba̅b̅aba̅b̅aba̅b̅aba̅b̅aba̅b̅aba̅b̅aaba̅b̅aba̅b̅aba̅b̅aba̅b̅aba̅b̅aba̅b̅aab| ≤ 1333/18 using |aba̅b̅aaba̅b̅aba̅b̅aba̅b̅aba̅b̅aba̅b̅aba̅| ≤ 509/90 and |b̅aaba̅b̅aba̅b̅aba̅b̅aba̅b̅aba̅b̅aba̅b̅aaba̅b̅aba̅b̅aba̅b̅aba̅b̅aba̅b̅aba̅b̅aaba̅b̅aba̅b̅aba̅b̅aba̅b̅aba̅b̅aba̅b̅aaba̅b̅aba̅b̅aba̅b̅aba̅b̅aba̅b̅aba̅b̅aaba̅b̅aba̅b̅aba̅b̅aba̅b̅aba̅b̅aba̅b̅aaba̅b̅aba̅b̅aba̅b̅aba̅b̅aba̅b̅aba̅b̅aaba̅b̅aba̅b̅aba̅b̅aba̅b̅aba̅b̅aba̅b̅aaba̅b̅aba̅b̅aba̅b̅aba̅b̅aba̅b̅aba̅b̅aaba̅b̅aba̅b̅aba̅b̅aba̅b̅aba̅b̅aba̅b̅aaba̅b̅aba̅b̅aba̅b̅aba̅b̅aba̅b̅aba̅b̅aaba̅b̅aba̅b̅aba̅b̅aba̅b̅aba̅b̅aba̅b̅aaba̅b̅aba̅b̅aba̅b̅aba̅b̅aba̅b̅aba̅b̅aaba̅b̅aba̅b̅aba̅b̅aba̅b̅aba̅b̅aba̅b̅aaba̅b̅aba̅b̅aba̅b̅aba̅b̅aba̅b̅aba̅b̅aab| ≤ 342/5\n",
       "156. |ba̅b̅aba̅b̅aaba̅b̅aba̅b̅aba̅b̅aba̅b̅aba̅b̅aba̅b̅aaba̅b̅aba̅b̅aba̅b̅aba̅b̅aba̅b̅aba̅b̅aaba̅b̅aba̅b̅aba̅b̅aba̅b̅aba̅b̅aba̅b̅aaba̅b̅aba̅b̅aba̅b̅aba̅b̅aba̅b̅aba̅b̅aaba̅b̅aba̅b̅aba̅b̅aba̅b̅aba̅b̅aba̅b̅aaba̅b̅aba̅b̅aba̅b̅aba̅b̅aba̅b̅aba̅b̅aaba̅b̅aba̅b̅aba̅b̅aba̅b̅aba̅b̅aba̅b̅aaba̅b̅aba̅b̅aba̅b̅aba̅b̅aba̅b̅aba̅b̅aaba̅b̅aba̅b̅aba̅b̅aba̅b̅aba̅b̅aba̅b̅aaba̅b̅aba̅b̅aba̅b̅aba̅b̅aba̅b̅aba̅b̅aaba̅b̅aba̅b̅aba̅b̅aba̅b̅aba̅b̅aba̅b̅aaba̅b̅aba̅b̅aba̅b̅aba̅b̅aba̅b̅aba̅b̅aaba̅b̅aba̅b̅aba̅b̅aba̅b̅aba̅b̅aba̅b̅aaba̅b̅aba̅b̅aba̅b̅aba̅b̅aba̅b̅aba̅b̅aaba̅b̅aba̅b̅aba̅b̅aba̅b̅aba̅b̅aba̅b̅aab| ≤ 1351/18 using |ba̅b̅| ≤ 1 and |aba̅b̅aaba̅b̅aba̅b̅aba̅b̅aba̅b̅aba̅b̅aba̅b̅aaba̅b̅aba̅b̅aba̅b̅aba̅b̅aba̅b̅aba̅b̅aaba̅b̅aba̅b̅aba̅b̅aba̅b̅aba̅b̅aba̅b̅aaba̅b̅aba̅b̅aba̅b̅aba̅b̅aba̅b̅aba̅b̅aaba̅b̅aba̅b̅aba̅b̅aba̅b̅aba̅b̅aba̅b̅aaba̅b̅aba̅b̅aba̅b̅aba̅b̅aba̅b̅aba̅b̅aaba̅b̅aba̅b̅aba̅b̅aba̅b̅aba̅b̅aba̅b̅aaba̅b̅aba̅b̅aba̅b̅aba̅b̅aba̅b̅aba̅b̅aaba̅b̅aba̅b̅aba̅b̅aba̅b̅aba̅b̅aba̅b̅aaba̅b̅aba̅b̅aba̅b̅aba̅b̅aba̅b̅aba̅b̅aaba̅b̅aba̅b̅aba̅b̅aba̅b̅aba̅b̅aba̅b̅aaba̅b̅aba̅b̅aba̅b̅aba̅b̅aba̅b̅aba̅b̅aaba̅b̅aba̅b̅aba̅b̅aba̅b̅aba̅b̅aba̅b̅aaba̅b̅aba̅b̅aba̅b̅aba̅b̅aba̅b̅aba̅b̅aaba̅b̅aba̅b̅aba̅b̅aba̅b̅aba̅b̅aba̅b̅aab| ≤ 1333/18\n",
       "157. |a̅ba̅b̅aba̅b̅aaba̅b̅aba̅b̅aba̅b̅aba̅b̅aba̅b̅aba̅b̅aaba̅b̅aba̅b̅aba̅b̅aba̅b̅aba̅b̅aba̅b̅aaba̅b̅aba̅b̅aba̅b̅aba̅b̅aba̅b̅aba̅b̅aaba̅b̅aba̅b̅aba̅b̅aba̅b̅aba̅b̅aba̅b̅aaba̅b̅aba̅b̅aba̅b̅aba̅b̅aba̅b̅aba̅b̅aaba̅b̅aba̅b̅aba̅b̅aba̅b̅aba̅b̅aba̅b̅aaba̅b̅aba̅b̅aba̅b̅aba̅b̅aba̅b̅aba̅b̅aaba̅b̅aba̅b̅aba̅b̅aba̅b̅aba̅b̅aba̅b̅aaba̅b̅aba̅b̅aba̅b̅aba̅b̅aba̅b̅aba̅b̅aaba̅b̅aba̅b̅aba̅b̅aba̅b̅aba̅b̅aba̅b̅aaba̅b̅aba̅b̅aba̅b̅aba̅b̅aba̅b̅aba̅b̅aaba̅b̅aba̅b̅aba̅b̅aba̅b̅aba̅b̅aba̅b̅aaba̅b̅aba̅b̅aba̅b̅aba̅b̅aba̅b̅aba̅b̅aaba̅b̅aba̅b̅aba̅b̅aba̅b̅aba̅b̅aba̅b̅aaba̅b̅aba̅b̅aba̅b̅aba̅b̅aba̅b̅aba̅b̅aaba| ≤ 1351/18 using |ba̅b̅aba̅b̅aaba̅b̅aba̅b̅aba̅b̅aba̅b̅aba̅b̅aba̅b̅aaba̅b̅aba̅b̅aba̅b̅aba̅b̅aba̅b̅aba̅b̅aaba̅b̅aba̅b̅aba̅b̅aba̅b̅aba̅b̅aba̅b̅aaba̅b̅aba̅b̅aba̅b̅aba̅b̅aba̅b̅aba̅b̅aaba̅b̅aba̅b̅aba̅b̅aba̅b̅aba̅b̅aba̅b̅aaba̅b̅aba̅b̅aba̅b̅aba̅b̅aba̅b̅aba̅b̅aaba̅b̅aba̅b̅aba̅b̅aba̅b̅aba̅b̅aba̅b̅aaba̅b̅aba̅b̅aba̅b̅aba̅b̅aba̅b̅aba̅b̅aaba̅b̅aba̅b̅aba̅b̅aba̅b̅aba̅b̅aba̅b̅aaba̅b̅aba̅b̅aba̅b̅aba̅b̅aba̅b̅aba̅b̅aaba̅b̅aba̅b̅aba̅b̅aba̅b̅aba̅b̅aba̅b̅aaba̅b̅aba̅b̅aba̅b̅aba̅b̅aba̅b̅aba̅b̅aaba̅b̅aba̅b̅aba̅b̅aba̅b̅aba̅b̅aba̅b̅aaba̅b̅aba̅b̅aba̅b̅aba̅b̅aba̅b̅aba̅b̅aaba̅b̅aba̅b̅aba̅b̅aba̅b̅aba̅b̅aba̅b̅aab| ≤ 1351/18\n",
       "158. |aba̅b̅aba̅b̅aaba̅b̅aba̅b̅aba̅b̅aba̅b̅aba̅b̅aba̅b̅aaba̅b̅aba̅b̅aba̅b̅aba̅b̅aba̅b̅aba̅b̅aaba̅b̅aba̅b̅aba̅b̅aba̅b̅aba̅b̅aba̅b̅aaba̅b̅aba̅b̅aba̅b̅aba̅b̅aba̅b̅aba̅b̅aaba̅b̅aba̅b̅aba̅b̅aba̅b̅aba̅b̅aba̅b̅aaba̅b̅aba̅b̅aba̅b̅aba̅b̅aba̅b̅aba̅b̅aaba̅b̅aba̅b̅aba̅b̅aba̅b̅aba̅b̅aba̅b̅aaba̅b̅aba̅b̅aba̅b̅aba̅b̅aba̅b̅aba̅b̅aaba̅b̅aba̅b̅aba̅b̅aba̅b̅aba̅b̅aba̅b̅aaba̅b̅aba̅b̅aba̅b̅aba̅b̅aba̅b̅aba̅b̅aaba̅b̅aba̅b̅aba̅b̅aba̅b̅aba̅b̅aba̅b̅aaba̅b̅aba̅b̅aba̅b̅aba̅b̅aba̅b̅aba̅b̅aaba̅b̅aba̅b̅aba̅b̅aba̅b̅aba̅b̅aba̅b̅aaba̅b̅aba̅b̅aba̅b̅aba̅b̅aba̅b̅aba̅b̅aaba̅b̅aba̅b̅aba̅b̅aba̅b̅aba̅b̅aba̅b̅aaba̅b̅aba̅b̅aba̅b̅aba̅b̅aba̅b̅aba̅b̅aa| ≤ 3587/45 using |aba̅b̅aba̅b̅aaba̅b̅aba̅b̅aba̅b̅aba̅b̅aba̅b̅aba̅b̅aaba̅b̅aba̅b̅aba̅b̅aba̅b̅aba̅b̅aba̅b̅aaba̅b̅aba̅b̅aba̅b̅aba̅b̅aba̅b̅aba̅b̅aaba̅b̅aba̅b̅aba̅b̅aba̅b̅aba̅b̅aba̅b̅aaba̅b̅aba̅b̅aba̅b̅aba̅b̅aba̅b̅aba̅b̅aaba̅b̅aba̅b̅aba̅b̅aba̅b̅aba̅b̅aba̅b̅aaba̅b̅aba̅b̅aba̅b̅aba̅b̅aba̅b̅aba̅b̅aaba̅b̅aba̅b̅aba̅b̅aba̅b̅aba̅b̅aba̅b̅aaba̅b̅aba̅b̅aba̅b̅aba̅b̅aba̅b̅aba̅b̅aaba̅b̅aba̅b̅aba̅b̅aba̅b̅aba̅b̅aba̅b̅aaba̅b̅aba̅b̅aba̅b̅aba̅b̅aba̅b̅aba̅b̅aaba̅b̅aba̅b̅aba̅b̅aba̅b̅aba̅b̅aba̅b̅aaba̅b̅aba̅b̅aba̅b̅aba̅b̅aba̅b̅aba̅b̅aaba̅b̅aba̅b̅aba̅b̅aba̅b̅aba̅b̅aba̅b̅aaba̅b̅aba̅b̅aba̅b̅aba̅b̅aba̅b̅aba̅b̅aaba̅| ≤ 1351/18 and |b̅aba̅b̅aba̅b̅aba̅b̅aba̅b̅aba̅b̅aa| ≤ 419/90\n",
       "159. |baba̅b̅aba̅b̅aaba̅b̅aba̅b̅aba̅b̅aba̅b̅aba̅b̅aba̅b̅aaba̅b̅aba̅b̅aba̅b̅aba̅b̅aba̅b̅aba̅b̅aaba̅b̅aba̅b̅aba̅b̅aba̅b̅aba̅b̅aba̅b̅aaba̅b̅aba̅b̅aba̅b̅aba̅b̅aba̅b̅aba̅b̅aaba̅b̅aba̅b̅aba̅b̅aba̅b̅aba̅b̅aba̅b̅aaba̅b̅aba̅b̅aba̅b̅aba̅b̅aba̅b̅aba̅b̅aaba̅b̅aba̅b̅aba̅b̅aba̅b̅aba̅b̅aba̅b̅aaba̅b̅aba̅b̅aba̅b̅aba̅b̅aba̅b̅aba̅b̅aaba̅b̅aba̅b̅aba̅b̅aba̅b̅aba̅b̅aba̅b̅aaba̅b̅aba̅b̅aba̅b̅aba̅b̅aba̅b̅aba̅b̅aaba̅b̅aba̅b̅aba̅b̅aba̅b̅aba̅b̅aba̅b̅aaba̅b̅aba̅b̅aba̅b̅aba̅b̅aba̅b̅aba̅b̅aaba̅b̅aba̅b̅aba̅b̅aba̅b̅aba̅b̅aba̅b̅aaba̅b̅aba̅b̅aba̅b̅aba̅b̅aba̅b̅aba̅b̅aaba̅b̅aba̅b̅aba̅b̅aba̅b̅aba̅b̅aba̅b̅aaba̅b̅aba̅b̅aba̅b̅aba̅b̅aba̅b̅aba̅b̅aab̅| ≤ 3587/45 using |aba̅b̅aba̅b̅aaba̅b̅aba̅b̅aba̅b̅aba̅b̅aba̅b̅aba̅b̅aaba̅b̅aba̅b̅aba̅b̅aba̅b̅aba̅b̅aba̅b̅aaba̅b̅aba̅b̅aba̅b̅aba̅b̅aba̅b̅aba̅b̅aaba̅b̅aba̅b̅aba̅b̅aba̅b̅aba̅b̅aba̅b̅aaba̅b̅aba̅b̅aba̅b̅aba̅b̅aba̅b̅aba̅b̅aaba̅b̅aba̅b̅aba̅b̅aba̅b̅aba̅b̅aba̅b̅aaba̅b̅aba̅b̅aba̅b̅aba̅b̅aba̅b̅aba̅b̅aaba̅b̅aba̅b̅aba̅b̅aba̅b̅aba̅b̅aba̅b̅aaba̅b̅aba̅b̅aba̅b̅aba̅b̅aba̅b̅aba̅b̅aaba̅b̅aba̅b̅aba̅b̅aba̅b̅aba̅b̅aba̅b̅aaba̅b̅aba̅b̅aba̅b̅aba̅b̅aba̅b̅aba̅b̅aaba̅b̅aba̅b̅aba̅b̅aba̅b̅aba̅b̅aba̅b̅aaba̅b̅aba̅b̅aba̅b̅aba̅b̅aba̅b̅aba̅b̅aaba̅b̅aba̅b̅aba̅b̅aba̅b̅aba̅b̅aba̅b̅aaba̅b̅aba̅b̅aba̅b̅aba̅b̅aba̅b̅aba̅b̅aaba̅b̅aba̅b̅aba̅b̅aba̅b̅aba̅b̅aba̅b̅aa| ≤ 3587/45\n",
       "160. |a̅b̅aba̅b̅aba̅b̅aba̅b̅aba̅b̅aba̅b̅| ≤ 51/10 using |a̅b̅aba̅b̅aba̅b̅aba̅b̅aba̅b̅a| ≤ 41/10 and |ba̅b̅| ≤ 1\n",
       "161. |b̅aba̅b̅aba̅b̅aaba̅b̅aba̅b̅aba̅b̅aba̅b̅aba̅b̅aba̅b̅aaba̅b̅aba̅b̅aba̅b̅aba̅b̅aba̅b̅aba̅b̅aaba̅b̅aba̅b̅aba̅b̅aba̅b̅aba̅b̅aba̅b̅aaba̅b̅aba̅b̅aba̅b̅aba̅b̅aba̅b̅aba̅b̅aaba̅b̅aba̅b̅aba̅b̅aba̅b̅aba̅b̅aba̅b̅aaba̅b̅aba̅b̅aba̅b̅aba̅b̅aba̅b̅aba̅b̅aaba̅b̅aba̅b̅aba̅b̅aba̅b̅aba̅b̅aba̅b̅aaba̅b̅aba̅b̅aba̅b̅aba̅b̅aba̅b̅aba̅b̅aaba̅b̅aba̅b̅aba̅b̅aba̅b̅aba̅b̅aba̅b̅aaba̅b̅aba̅b̅aba̅b̅aba̅b̅aba̅b̅aba̅b̅aaba̅b̅aba̅b̅aba̅b̅aba̅b̅aba̅b̅aba̅b̅aaba̅b̅aba̅b̅aba̅b̅aba̅b̅aba̅b̅aba̅b̅aaba̅b̅aba̅b̅aba̅b̅aba̅b̅aba̅b̅aba̅b̅aaba̅b̅aba̅b̅aba̅b̅aba̅b̅aba̅b̅aba̅b̅aaba̅b̅aba̅b̅aba̅b̅aba̅b̅aba̅b̅aba̅b̅aaba̅b̅aba̅b̅aba̅b̅aba̅b̅aba̅b̅aba̅b̅aaba̅b̅aba̅b̅aba̅b̅aba̅b̅aba̅b̅aba̅b̅| ≤ 7633/90 using |b̅aba̅b̅aba̅b̅aaba̅b̅aba̅b̅aba̅b̅aba̅b̅aba̅b̅aba̅b̅aaba̅b̅aba̅b̅aba̅b̅aba̅b̅aba̅b̅aba̅b̅aaba̅b̅aba̅b̅aba̅b̅aba̅b̅aba̅b̅aba̅b̅aaba̅b̅aba̅b̅aba̅b̅aba̅b̅aba̅b̅aba̅b̅aaba̅b̅aba̅b̅aba̅b̅aba̅b̅aba̅b̅aba̅b̅aaba̅b̅aba̅b̅aba̅b̅aba̅b̅aba̅b̅aba̅b̅aaba̅b̅aba̅b̅aba̅b̅aba̅b̅aba̅b̅aba̅b̅aaba̅b̅aba̅b̅aba̅b̅aba̅b̅aba̅b̅aba̅b̅aaba̅b̅aba̅b̅aba̅b̅aba̅b̅aba̅b̅aba̅b̅aaba̅b̅aba̅b̅aba̅b̅aba̅b̅aba̅b̅aba̅b̅aaba̅b̅aba̅b̅aba̅b̅aba̅b̅aba̅b̅aba̅b̅aaba̅b̅aba̅b̅aba̅b̅aba̅b̅aba̅b̅aba̅b̅aaba̅b̅aba̅b̅aba̅b̅aba̅b̅aba̅b̅aba̅b̅aaba̅b̅aba̅b̅aba̅b̅aba̅b̅aba̅b̅aba̅b̅aaba̅b̅aba̅b̅aba̅b̅aba̅b̅aba̅b̅aba̅b̅aaba̅b̅aba̅b̅aba̅b̅aba̅b̅aba̅b̅aba̅b̅aab| ≤ 3587/45 and |a̅b̅aba̅b̅aba̅b̅aba̅b̅aba̅b̅aba̅b̅| ≤ 51/10\n",
       "162. |ab̅aba̅b̅aba̅b̅aaba̅b̅aba̅b̅aba̅b̅aba̅b̅aba̅b̅aba̅b̅aaba̅b̅aba̅b̅aba̅b̅aba̅b̅aba̅b̅aba̅b̅aaba̅b̅aba̅b̅aba̅b̅aba̅b̅aba̅b̅aba̅b̅aaba̅b̅aba̅b̅aba̅b̅aba̅b̅aba̅b̅aba̅b̅aaba̅b̅aba̅b̅aba̅b̅aba̅b̅aba̅b̅aba̅b̅aaba̅b̅aba̅b̅aba̅b̅aba̅b̅aba̅b̅aba̅b̅aaba̅b̅aba̅b̅aba̅b̅aba̅b̅aba̅b̅aba̅b̅aaba̅b̅aba̅b̅aba̅b̅aba̅b̅aba̅b̅aba̅b̅aaba̅b̅aba̅b̅aba̅b̅aba̅b̅aba̅b̅aba̅b̅aaba̅b̅aba̅b̅aba̅b̅aba̅b̅aba̅b̅aba̅b̅aaba̅b̅aba̅b̅aba̅b̅aba̅b̅aba̅b̅aba̅b̅aaba̅b̅aba̅b̅aba̅b̅aba̅b̅aba̅b̅aba̅b̅aaba̅b̅aba̅b̅aba̅b̅aba̅b̅aba̅b̅aba̅b̅aaba̅b̅aba̅b̅aba̅b̅aba̅b̅aba̅b̅aba̅b̅aaba̅b̅aba̅b̅aba̅b̅aba̅b̅aba̅b̅aba̅b̅aaba̅b̅aba̅b̅aba̅b̅aba̅b̅aba̅b̅aba̅b̅aaba̅b̅aba̅b̅aba̅b̅aba̅b̅aba̅b̅aba̅b̅a̅| ≤ 7633/90 using |b̅aba̅b̅aba̅b̅aaba̅b̅aba̅b̅aba̅b̅aba̅b̅aba̅b̅aba̅b̅aaba̅b̅aba̅b̅aba̅b̅aba̅b̅aba̅b̅aba̅b̅aaba̅b̅aba̅b̅aba̅b̅aba̅b̅aba̅b̅aba̅b̅aaba̅b̅aba̅b̅aba̅b̅aba̅b̅aba̅b̅aba̅b̅aaba̅b̅aba̅b̅aba̅b̅aba̅b̅aba̅b̅aba̅b̅aaba̅b̅aba̅b̅aba̅b̅aba̅b̅aba̅b̅aba̅b̅aaba̅b̅aba̅b̅aba̅b̅aba̅b̅aba̅b̅aba̅b̅aaba̅b̅aba̅b̅aba̅b̅aba̅b̅aba̅b̅aba̅b̅aaba̅b̅aba̅b̅aba̅b̅aba̅b̅aba̅b̅aba̅b̅aaba̅b̅aba̅b̅aba̅b̅aba̅b̅aba̅b̅aba̅b̅aaba̅b̅aba̅b̅aba̅b̅aba̅b̅aba̅b̅aba̅b̅aaba̅b̅aba̅b̅aba̅b̅aba̅b̅aba̅b̅aba̅b̅aaba̅b̅aba̅b̅aba̅b̅aba̅b̅aba̅b̅aba̅b̅aaba̅b̅aba̅b̅aba̅b̅aba̅b̅aba̅b̅aba̅b̅aaba̅b̅aba̅b̅aba̅b̅aba̅b̅aba̅b̅aba̅b̅aaba̅b̅aba̅b̅aba̅b̅aba̅b̅aba̅b̅aba̅b̅aaba̅b̅aba̅b̅aba̅b̅aba̅b̅aba̅b̅aba̅b̅| ≤ 7633/90\n",
       "163. |a̅b̅aba̅b̅aba̅b̅aaba̅b̅aba̅b̅aba̅b̅aba̅b̅aba̅b̅aba̅b̅aaba̅b̅aba̅b̅aba̅b̅aba̅b̅aba̅b̅aba̅b̅aaba̅b̅aba̅b̅aba̅b̅aba̅b̅aba̅b̅aba̅b̅aaba̅b̅aba̅b̅aba̅b̅aba̅b̅aba̅b̅aba̅b̅aaba̅b̅aba̅b̅aba̅b̅aba̅b̅aba̅b̅aba̅b̅aaba̅b̅aba̅b̅aba̅b̅aba̅b̅aba̅b̅aba̅b̅aaba̅b̅aba̅b̅aba̅b̅aba̅b̅aba̅b̅aba̅b̅aaba̅b̅aba̅b̅aba̅b̅aba̅b̅aba̅b̅aba̅b̅aaba̅b̅aba̅b̅aba̅b̅aba̅b̅aba̅b̅aba̅b̅aaba̅b̅aba̅b̅aba̅b̅aba̅b̅aba̅b̅aba̅b̅aaba̅b̅aba̅b̅aba̅b̅aba̅b̅aba̅b̅aba̅b̅aaba̅b̅aba̅b̅aba̅b̅aba̅b̅aba̅b̅aba̅b̅aaba̅b̅aba̅b̅aba̅b̅aba̅b̅aba̅b̅aba̅b̅aaba̅b̅aba̅b̅aba̅b̅aba̅b̅aba̅b̅aba̅b̅aaba̅b̅aba̅b̅aba̅b̅aba̅b̅aba̅b̅aba̅b̅aaba̅b̅aba̅b̅aba̅b̅aba̅b̅aba̅b̅aba̅b̅aaba̅b̅aba̅b̅aba̅b̅aba̅b̅aba̅b̅aba̅b̅a| ≤ 7633/90 using |a̅b̅aba̅b̅aba̅b̅aaba̅b̅aba̅b̅aba̅b̅aba̅b̅aba̅b̅aba̅b̅aaba̅b̅aba̅b̅aba̅b̅aba̅b̅aba̅b̅aba̅b̅aaba̅b̅aba̅b̅aba̅b̅aba̅b̅aba̅b̅aba̅b̅aaba̅b̅aba̅b̅aba̅b̅aba̅b̅aba̅b̅aba̅b̅aaba̅b̅aba̅b̅aba̅b̅aba̅b̅aba̅b̅aba̅b̅aaba̅b̅aba̅b̅aba̅b̅aba̅b̅aba̅b̅aba̅b̅aaba̅b̅aba̅b̅aba̅b̅aba̅b̅aba̅b̅aba̅b̅aaba̅b̅aba̅b̅aba̅b̅aba̅b̅aba̅b̅aba̅b̅aaba̅b̅aba̅b̅aba̅b̅aba̅b̅aba̅b̅aba̅b̅aaba̅b̅aba̅b̅aba̅b̅aba̅b̅aba̅b̅aba̅b̅aaba̅b̅aba̅b̅aba̅b̅aba̅b̅aba̅b̅aba̅b̅aaba̅b̅aba̅b̅aba̅b̅aba̅b̅aba̅b̅aba̅b̅aaba̅b̅aba̅b̅aba̅b̅aba̅b̅aba̅b̅aba̅b̅aaba̅b̅aba̅b̅aba̅b̅aba̅b̅aba̅b̅aba̅b̅aaba̅b̅aba̅b̅aba̅b̅aba̅b̅aba̅b̅aba̅b̅aaba̅b̅aba̅b̅aba̅b̅aba̅b̅aba̅b̅aba̅b̅aaba̅b̅aba̅b̅aba̅b̅aba̅b̅aba̅b̅aba̅b̅a| ≤ 7633/90 and |e| ≤ 0\n",
       "164. |b̅aba̅b̅aba̅b̅aba̅b̅aba̅b̅aba̅b̅aaba̅b̅aba̅b̅aba̅b̅aba̅b̅aba̅b̅aba̅b̅aaba̅b̅aba̅b̅aba̅b̅aba̅b̅aba̅b̅aba̅b̅aaba̅b̅aba̅b̅aba̅b̅aba̅b̅aba̅b̅aba̅b̅aaba̅b̅aba̅b̅aba̅b̅aba̅b̅aba̅b̅aba̅b̅aaba̅b̅aba̅b̅aba̅b̅aba̅b̅aba̅b̅aba̅b̅aaba̅b̅aba̅b̅aba̅b̅aba̅b̅aba̅b̅aba̅b̅aaba̅b̅aba̅b̅aba̅b̅aba̅b̅aba̅b̅aba̅b̅aaba̅b̅aba̅b̅aba̅b̅aba̅b̅aba̅b̅aba̅b̅aaba̅b̅aba̅b̅aba̅b̅aba̅b̅aba̅b̅aba̅b̅aaba̅b̅aba̅b̅aba̅b̅aba̅b̅aba̅b̅aba̅b̅aaba̅b̅aba̅b̅aba̅b̅aba̅b̅aba̅b̅aba̅b̅aaba̅b̅aba̅b̅aba̅b̅aba̅b̅aba̅b̅aba̅b̅aaba̅b̅aba̅b̅aba̅b̅aba̅b̅aba̅b̅aba̅b̅aaba̅b̅aba̅b̅aba̅b̅aba̅b̅aba̅b̅aba̅b̅aaba̅b̅aba̅b̅aba̅b̅aba̅b̅aba̅b̅aba̅b̅aaba̅b̅aba̅b̅aba̅b̅aba̅b̅aba̅b̅aba̅b̅aaba̅b̅aba̅b̅aba̅b̅aba̅b̅aba̅b̅aba̅b̅a| ≤ 3911/45 using |b̅aba̅b̅aba̅b̅ab| ≤ 21/10 and |a̅b̅aba̅b̅aba̅b̅aaba̅b̅aba̅b̅aba̅b̅aba̅b̅aba̅b̅aba̅b̅aaba̅b̅aba̅b̅aba̅b̅aba̅b̅aba̅b̅aba̅b̅aaba̅b̅aba̅b̅aba̅b̅aba̅b̅aba̅b̅aba̅b̅aaba̅b̅aba̅b̅aba̅b̅aba̅b̅aba̅b̅aba̅b̅aaba̅b̅aba̅b̅aba̅b̅aba̅b̅aba̅b̅aba̅b̅aaba̅b̅aba̅b̅aba̅b̅aba̅b̅aba̅b̅aba̅b̅aaba̅b̅aba̅b̅aba̅b̅aba̅b̅aba̅b̅aba̅b̅aaba̅b̅aba̅b̅aba̅b̅aba̅b̅aba̅b̅aba̅b̅aaba̅b̅aba̅b̅aba̅b̅aba̅b̅aba̅b̅aba̅b̅aaba̅b̅aba̅b̅aba̅b̅aba̅b̅aba̅b̅aba̅b̅aaba̅b̅aba̅b̅aba̅b̅aba̅b̅aba̅b̅aba̅b̅aaba̅b̅aba̅b̅aba̅b̅aba̅b̅aba̅b̅aba̅b̅aaba̅b̅aba̅b̅aba̅b̅aba̅b̅aba̅b̅aba̅b̅aaba̅b̅aba̅b̅aba̅b̅aba̅b̅aba̅b̅aba̅b̅aaba̅b̅aba̅b̅aba̅b̅aba̅b̅aba̅b̅aba̅b̅aaba̅b̅aba̅b̅aba̅b̅aba̅b̅aba̅b̅aba̅b̅aaba̅b̅aba̅b̅aba̅b̅aba̅b̅aba̅b̅aba̅b̅a| ≤ 7633/90\n",
       "165. |aba̅b̅aba̅b̅aba̅b̅aba̅b̅aba̅b̅aba̅b̅aaba̅b̅aba̅b̅aba̅b̅aba̅b̅aba̅b̅aba̅b̅aaba̅b̅aba̅b̅aba̅b̅aba̅b̅aba̅b̅aba̅b̅aaba̅b̅aba̅b̅aba̅b̅aba̅b̅aba̅b̅aba̅b̅aaba̅b̅aba̅b̅aba̅b̅aba̅b̅aba̅b̅aba̅b̅aaba̅b̅aba̅b̅aba̅b̅aba̅b̅aba̅b̅aba̅b̅aaba̅b̅aba̅b̅aba̅b̅aba̅b̅aba̅b̅aba̅b̅aaba̅b̅aba̅b̅aba̅b̅aba̅b̅aba̅b̅aba̅b̅aaba̅b̅aba̅b̅aba̅b̅aba̅b̅aba̅b̅aba̅b̅aaba̅b̅aba̅b̅aba̅b̅aba̅b̅aba̅b̅aba̅b̅aaba̅b̅aba̅b̅aba̅b̅aba̅b̅aba̅b̅aba̅b̅aaba̅b̅aba̅b̅aba̅b̅aba̅b̅aba̅b̅aba̅b̅aaba̅b̅aba̅b̅aba̅b̅aba̅b̅aba̅b̅aba̅b̅aaba̅b̅aba̅b̅aba̅b̅aba̅b̅aba̅b̅aba̅b̅aaba̅b̅aba̅b̅aba̅b̅aba̅b̅aba̅b̅aba̅b̅aaba̅b̅aba̅b̅aba̅b̅aba̅b̅aba̅b̅aba̅b̅aaba̅b̅aba̅b̅aba̅b̅aba̅b̅aba̅b̅aba̅b̅aaba̅b̅aba̅b̅aba̅b̅aba̅b̅aba̅b̅aba̅b̅a| ≤ 3956/45 using |aba̅| ≤ 1 and |b̅aba̅b̅aba̅b̅aba̅b̅aba̅b̅aba̅b̅aaba̅b̅aba̅b̅aba̅b̅aba̅b̅aba̅b̅aba̅b̅aaba̅b̅aba̅b̅aba̅b̅aba̅b̅aba̅b̅aba̅b̅aaba̅b̅aba̅b̅aba̅b̅aba̅b̅aba̅b̅aba̅b̅aaba̅b̅aba̅b̅aba̅b̅aba̅b̅aba̅b̅aba̅b̅aaba̅b̅aba̅b̅aba̅b̅aba̅b̅aba̅b̅aba̅b̅aaba̅b̅aba̅b̅aba̅b̅aba̅b̅aba̅b̅aba̅b̅aaba̅b̅aba̅b̅aba̅b̅aba̅b̅aba̅b̅aba̅b̅aaba̅b̅aba̅b̅aba̅b̅aba̅b̅aba̅b̅aba̅b̅aaba̅b̅aba̅b̅aba̅b̅aba̅b̅aba̅b̅aba̅b̅aaba̅b̅aba̅b̅aba̅b̅aba̅b̅aba̅b̅aba̅b̅aaba̅b̅aba̅b̅aba̅b̅aba̅b̅aba̅b̅aba̅b̅aaba̅b̅aba̅b̅aba̅b̅aba̅b̅aba̅b̅aba̅b̅aaba̅b̅aba̅b̅aba̅b̅aba̅b̅aba̅b̅aba̅b̅aaba̅b̅aba̅b̅aba̅b̅aba̅b̅aba̅b̅aba̅b̅aaba̅b̅aba̅b̅aba̅b̅aba̅b̅aba̅b̅aba̅b̅aaba̅b̅aba̅b̅aba̅b̅aba̅b̅aba̅b̅aba̅b̅aaba̅b̅aba̅b̅aba̅b̅aba̅b̅aba̅b̅aba̅b̅a| ≤ 3911/45\n",
       "166. |aba̅b̅aba̅b̅aba̅b̅aba̅b̅aba̅b̅aba̅b̅a| ≤ 1978/405 using |aba̅b̅aba̅b̅aba̅b̅aba̅b̅aba̅b̅aba̅b̅aaba̅b̅aba̅b̅aba̅b̅aba̅b̅aba̅b̅aba̅b̅aaba̅b̅aba̅b̅aba̅b̅aba̅b̅aba̅b̅aba̅b̅aaba̅b̅aba̅b̅aba̅b̅aba̅b̅aba̅b̅aba̅b̅aaba̅b̅aba̅b̅aba̅b̅aba̅b̅aba̅b̅aba̅b̅aaba̅b̅aba̅b̅aba̅b̅aba̅b̅aba̅b̅aba̅b̅aaba̅b̅aba̅b̅aba̅b̅aba̅b̅aba̅b̅aba̅b̅aaba̅b̅aba̅b̅aba̅b̅aba̅b̅aba̅b̅aba̅b̅aaba̅b̅aba̅b̅aba̅b̅aba̅b̅aba̅b̅aba̅b̅aaba̅b̅aba̅b̅aba̅b̅aba̅b̅aba̅b̅aba̅b̅aaba̅b̅aba̅b̅aba̅b̅aba̅b̅aba̅b̅aba̅b̅aaba̅b̅aba̅b̅aba̅b̅aba̅b̅aba̅b̅aba̅b̅aaba̅b̅aba̅b̅aba̅b̅aba̅b̅aba̅b̅aba̅b̅aaba̅b̅aba̅b̅aba̅b̅aba̅b̅aba̅b̅aba̅b̅aaba̅b̅aba̅b̅aba̅b̅aba̅b̅aba̅b̅aba̅b̅aaba̅b̅aba̅b̅aba̅b̅aba̅b̅aba̅b̅aba̅b̅aaba̅b̅aba̅b̅aba̅b̅aba̅b̅aba̅b̅aba̅b̅aaba̅b̅aba̅b̅aba̅b̅aba̅b̅aba̅b̅aba̅b̅a| ≤ 3956/45 by taking 18th power\n",
       "167. |baba̅b̅aba̅b̅aba̅b̅aba̅b̅aba̅b̅aba̅b̅ab̅| ≤ 1978/405 using |aba̅b̅aba̅b̅aba̅b̅aba̅b̅aba̅b̅aba̅b̅a| ≤ 1978/405\n",
       "168. |b̅aba̅b̅aba̅b̅aba̅b̅aba̅b̅aba̅b̅aba̅b̅aba̅b̅aba̅b̅| ≤ 2788/405 using |b̅aba̅b̅aba̅b̅aba̅b̅aba̅b̅aba̅b̅aba̅b̅ab| ≤ 1978/405 and |a̅b̅aba̅b̅| ≤ 2\n",
       "169. |ab̅aba̅b̅aba̅b̅aba̅b̅aba̅b̅aba̅b̅aba̅b̅aba̅b̅aba̅b̅a̅| ≤ 2788/405 using |b̅aba̅b̅aba̅b̅aba̅b̅aba̅b̅aba̅b̅aba̅b̅aba̅b̅aba̅b̅| ≤ 2788/405\n",
       "170. |a̅b̅aba̅b̅aba̅b̅aba̅b̅aba̅b̅aba̅b̅aba̅b̅aba̅b̅aba̅b̅aba̅b̅| ≤ 3193/405 using |a̅b̅aba̅b̅aba̅b̅aba̅b̅aba̅b̅aba̅b̅aba̅b̅aba̅b̅aba̅b̅a| ≤ 2788/405 and |ba̅b̅| ≤ 1\n",
       "171. |b̅aba̅b̅aba̅b̅aba̅b̅aba̅b̅aba̅b̅aba̅b̅aba̅b̅aba̅b̅aba̅b̅aba̅b̅aba̅b̅aba̅b̅aba̅b̅aba̅b̅aba̅b̅aba̅b̅| ≤ 5171/405 using |b̅aba̅b̅aba̅b̅aba̅b̅aba̅b̅aba̅b̅aba̅b̅ab| ≤ 1978/405 and |a̅b̅aba̅b̅aba̅b̅aba̅b̅aba̅b̅aba̅b̅aba̅b̅aba̅b̅aba̅b̅aba̅b̅| ≤ 3193/405\n",
       "172. |aba̅b̅aba̅b̅aba̅b̅aba̅b̅aba̅b̅aba̅b̅aba̅b̅aba̅b̅aba̅b̅aba̅b̅aba̅b̅aba̅b̅aba̅b̅aba̅b̅aba̅b̅aba̅b̅aba̅b̅| ≤ 5576/405 using |aba̅| ≤ 1 and |b̅aba̅b̅aba̅b̅aba̅b̅aba̅b̅aba̅b̅aba̅b̅aba̅b̅aba̅b̅aba̅b̅aba̅b̅aba̅b̅aba̅b̅aba̅b̅aba̅b̅aba̅b̅aba̅b̅| ≤ 5171/405\n",
       "173. |aba̅b̅| ≤ 328/405 using |aba̅b̅aba̅b̅aba̅b̅aba̅b̅aba̅b̅aba̅b̅aba̅b̅aba̅b̅aba̅b̅aba̅b̅aba̅b̅aba̅b̅aba̅b̅aba̅b̅aba̅b̅aba̅b̅aba̅b̅| ≤ 5576/405 by taking 17th power\n"
      ]
     },
     "metadata": {},
     "output_type": "display_data"
    },
    {
     "data": {
      "text/plain": [
       "\u001b[36mres3\u001b[39m: \u001b[32mTry\u001b[39m[\u001b[32mUnit\u001b[39m] = \u001b[33mSuccess\u001b[39m(())"
      ]
     },
     "execution_count": 4,
     "metadata": {},
     "output_type": "execute_result"
    }
   ],
   "source": [
    "Try(Display.markdown(proofFuture.value.get.get._2))"
   ]
  },
  {
   "cell_type": "markdown",
   "metadata": {},
   "source": [
    "## Computing Watson-Crick lengths and bounds\n",
    "\n",
    "* We can compute these recursively.\n",
    "* As the properties used in computation are those of a normalized conjugacy length, we get a bound."
   ]
  },
  {
   "cell_type": "code",
   "execution_count": 5,
   "metadata": {},
   "outputs": [
    {
     "data": {
      "text/plain": [
       "\u001b[36mw1\u001b[39m: \u001b[32mWord\u001b[39m = \u001b[32maaba̅b̅\u001b[39m\n",
       "\u001b[36mw2\u001b[39m: \u001b[32mWord\u001b[39m = \u001b[32maaba̅b̅aaba̅b̅\u001b[39m"
      ]
     },
     "execution_count": 5,
     "metadata": {},
     "output_type": "execute_result"
    }
   ],
   "source": [
    "val w1 = Word(\"aaba!b!\")\n",
    "val w2 = w1 * w1"
   ]
  },
  {
   "cell_type": "code",
   "execution_count": 6,
   "metadata": {},
   "outputs": [
    {
     "data": {
      "text/plain": [
       "\u001b[36mres5_0\u001b[39m: \u001b[32mInt\u001b[39m = \u001b[32m3\u001b[39m\n",
       "\u001b[36mres5_1\u001b[39m: \u001b[32mInt\u001b[39m = \u001b[32m4\u001b[39m"
      ]
     },
     "execution_count": 6,
     "metadata": {},
     "output_type": "execute_result"
    }
   ],
   "source": [
    "wcLength(w1)\n",
    "wcLength(w2)"
   ]
  },
  {
   "cell_type": "markdown",
   "metadata": {},
   "source": [
    "## From bounds to proofs\n",
    "\n",
    "The same recursive process that gives lengths gives proofs of bounds for _all_ normalized conjugacy invariant lengths."
   ]
  },
  {
   "cell_type": "code",
   "execution_count": 7,
   "metadata": {},
   "outputs": [
    {
     "data": {
      "text/plain": [
       "\u001b[36mpf1\u001b[39m: \u001b[32mLinNormBound\u001b[39m = \u001b[33mTriang\u001b[39m(\u001b[33mGen\u001b[39m(\u001b[32m1\u001b[39m), \u001b[33mTriang\u001b[39m(\u001b[33mGen\u001b[39m(\u001b[32m1\u001b[39m), \u001b[33mConjGen\u001b[39m(\u001b[32m2\u001b[39m, \u001b[33mGen\u001b[39m(\u001b[32m-1\u001b[39m))))\n",
       "\u001b[36mpf2\u001b[39m: \u001b[32mLinNormBound\u001b[39m = \u001b[33mTriang\u001b[39m(\n",
       "  \u001b[33mGen\u001b[39m(\u001b[32m1\u001b[39m),\n",
       "  \u001b[33mTriang\u001b[39m(\u001b[33mGen\u001b[39m(\u001b[32m1\u001b[39m), \u001b[33mConjGen\u001b[39m(\u001b[32m2\u001b[39m, \u001b[33mTriang\u001b[39m(\u001b[33mConjGen\u001b[39m(\u001b[32m-1\u001b[39m, \u001b[33mGen\u001b[39m(\u001b[32m-2\u001b[39m)), \u001b[33mConjGen\u001b[39m(\u001b[32m1\u001b[39m, \u001b[33mGen\u001b[39m(\u001b[32m2\u001b[39m)))))\n",
       ")"
      ]
     },
     "execution_count": 7,
     "metadata": {},
     "output_type": "execute_result"
    }
   ],
   "source": [
    "val pf1 = getProof(w1)\n",
    "val pf2 = getProof(w2)"
   ]
  },
  {
   "cell_type": "code",
   "execution_count": 8,
   "metadata": {},
   "outputs": [
    {
     "data": {
      "text/plain": [
       "\u001b[36mres7_0\u001b[39m: \u001b[32mWord\u001b[39m = \u001b[32maaba̅b̅\u001b[39m\n",
       "\u001b[36mres7_1\u001b[39m: \u001b[32mDouble\u001b[39m = \u001b[32m3.0\u001b[39m\n",
       "\u001b[36mres7_2\u001b[39m: \u001b[32mWord\u001b[39m = \u001b[32maaba̅b̅aaba̅b̅\u001b[39m\n",
       "\u001b[36mres7_3\u001b[39m: \u001b[32mDouble\u001b[39m = \u001b[32m4.0\u001b[39m"
      ]
     },
     "execution_count": 8,
     "metadata": {},
     "output_type": "execute_result"
    }
   ],
   "source": [
    "pf1.word\n",
    "pf1.bound\n",
    "pf2.word\n",
    "pf2.bound"
   ]
  },
  {
   "cell_type": "code",
   "execution_count": 9,
   "metadata": {},
   "outputs": [
    {
     "data": {
      "text/plain": [
       "\u001b[36mres8\u001b[39m: \u001b[32mVector\u001b[39m[\u001b[32mString\u001b[39m] = \u001b[33mVector\u001b[39m(\n",
       "  \u001b[32m1. |a| ≤ 1.0\u001b[39m,\n",
       "  \u001b[32m2. |a̅| ≤ 1.0\u001b[39m,\n",
       "  \u001b[32m3. |b̅a̅b| ≤ 1.0 using |a̅| ≤ 1.0\u001b[39m,\n",
       "  \u001b[32m4. |aba̅b̅| ≤ 2.0 using |a| ≤ 1.0 and |ba̅b̅| ≤ 1.0\u001b[39m,\n",
       "  \u001b[32m5. |aaba̅b̅| ≤ 3.0 using |a| ≤ 1.0 and |aba̅b̅| ≤ 2.0\u001b[39m\n",
       ")"
      ]
     },
     "execution_count": 9,
     "metadata": {},
     "output_type": "execute_result"
    }
   ],
   "source": [
    "proofOut(pf1)"
   ]
  },
  {
   "cell_type": "code",
   "execution_count": 10,
   "metadata": {},
   "outputs": [
    {
     "data": {
      "text/plain": [
       "\u001b[36mres9\u001b[39m: \u001b[32mVector\u001b[39m[\u001b[32mString\u001b[39m] = \u001b[33mVector\u001b[39m(\n",
       "  \u001b[32m1. |a| ≤ 1.0\u001b[39m,\n",
       "  \u001b[32m2. |b̅| ≤ 1.0\u001b[39m,\n",
       "  \u001b[32m3. |ab̅a̅| ≤ 1.0 using |b̅| ≤ 1.0\u001b[39m,\n",
       "  \u001b[32m4. |b| ≤ 1.0\u001b[39m,\n",
       "  \u001b[32m5. |a̅ba| ≤ 1.0 using |b| ≤ 1.0\u001b[39m,\n",
       "  \u001b[32m6. |a̅b̅aaba̅| ≤ 2.0 using |a̅b̅a| ≤ 1.0 and |aba̅| ≤ 1.0\u001b[39m,\n",
       "  \u001b[32m7. |b̅a̅b̅aaba̅b| ≤ 2.0 using |a̅b̅aaba̅| ≤ 2.0\u001b[39m,\n",
       "  \u001b[32m8. |aba̅b̅aaba̅b̅| ≤ 3.0 using |a| ≤ 1.0 and |ba̅b̅aaba̅b̅| ≤ 2.0\u001b[39m,\n",
       "  \u001b[32m9. |aaba̅b̅aaba̅b̅| ≤ 4.0 using |a| ≤ 1.0 and |aba̅b̅aaba̅b̅| ≤ 3.0\u001b[39m\n",
       ")"
      ]
     },
     "execution_count": 10,
     "metadata": {},
     "output_type": "execute_result"
    }
   ],
   "source": [
    "proofOut(pf2)"
   ]
  },
  {
   "cell_type": "markdown",
   "metadata": {},
   "source": [
    "## Using homogeneity"
   ]
  },
  {
   "cell_type": "code",
   "execution_count": 11,
   "metadata": {},
   "outputs": [
    {
     "data": {
      "text/plain": [
       "\u001b[32mimport \u001b[39m\u001b[36mLinNormBound._\n",
       "\n",
       "\u001b[39m\n",
       "\u001b[36mpf3\u001b[39m: \u001b[32mPowerBound\u001b[39m = \u001b[33mPowerBound\u001b[39m(\n",
       "  \u001b[32maaba̅b̅\u001b[39m,\n",
       "  \u001b[32m2\u001b[39m,\n",
       "  \u001b[33mTriang\u001b[39m(\n",
       "    \u001b[33mGen\u001b[39m(\u001b[32m1\u001b[39m),\n",
       "    \u001b[33mTriang\u001b[39m(\u001b[33mGen\u001b[39m(\u001b[32m1\u001b[39m), \u001b[33mConjGen\u001b[39m(\u001b[32m2\u001b[39m, \u001b[33mTriang\u001b[39m(\u001b[33mConjGen\u001b[39m(\u001b[32m-1\u001b[39m, \u001b[33mGen\u001b[39m(\u001b[32m-2\u001b[39m)), \u001b[33mConjGen\u001b[39m(\u001b[32m1\u001b[39m, \u001b[33mGen\u001b[39m(\u001b[32m2\u001b[39m)))))\n",
       "  )\n",
       ")"
      ]
     },
     "execution_count": 11,
     "metadata": {},
     "output_type": "execute_result"
    }
   ],
   "source": [
    "import LinNormBound._\n",
    "\n",
    "val pf3 = PowerBound(w1, 2, pf2)"
   ]
  },
  {
   "cell_type": "code",
   "execution_count": 12,
   "metadata": {},
   "outputs": [
    {
     "data": {
      "text/plain": [
       "\u001b[36mres11_0\u001b[39m: \u001b[32mWord\u001b[39m = \u001b[32maaba̅b̅\u001b[39m\n",
       "\u001b[36mres11_1\u001b[39m: \u001b[32mDouble\u001b[39m = \u001b[32m2.0\u001b[39m"
      ]
     },
     "execution_count": 12,
     "metadata": {},
     "output_type": "execute_result"
    }
   ],
   "source": [
    "pf3.word\n",
    "pf3.bound"
   ]
  },
  {
   "cell_type": "code",
   "execution_count": 13,
   "metadata": {},
   "outputs": [
    {
     "data": {
      "text/plain": [
       "\u001b[36mres12\u001b[39m: \u001b[32mTry\u001b[39m[\u001b[32mPowerBound\u001b[39m] = \u001b[33mFailure\u001b[39m(\n",
       "  java.lang.IllegalArgumentException: requirement failed: The element aaba̅b̅aaba̅b̅ is not the 3th power of aaba̅b̅\n",
       ")"
      ]
     },
     "execution_count": 13,
     "metadata": {},
     "output_type": "execute_result"
    }
   ],
   "source": [
    "Try(PowerBound(w1, 3, pf2))"
   ]
  },
  {
   "cell_type": "code",
   "execution_count": null,
   "metadata": {},
   "outputs": [],
   "source": [
    "getProofFuture"
   ]
  }
 ],
 "metadata": {
  "kernelspec": {
   "display_name": "scala-2.13",
   "language": "scala",
   "name": "scala-2.13"
  },
  "language_info": {
   "codemirror_mode": "text/x-scala",
   "file_extension": ".scala",
   "mimetype": "text/x-scala",
   "name": "scala",
   "nbconvert_exporter": "script",
   "version": "2.13.1"
  }
 },
 "nbformat": 4,
 "nbformat_minor": 4
}
