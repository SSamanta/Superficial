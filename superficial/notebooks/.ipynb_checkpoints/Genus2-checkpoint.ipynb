{
 "cells": [
  {
   "cell_type": "markdown",
   "metadata": {},
   "source": [
    "## The simplest pants decompositions\n",
    "\n",
    "Here we explore, test, and correct code written earlier for enumerating pants decompositions. A component to illustrate these has been added"
   ]
  },
  {
   "cell_type": "code",
   "execution_count": 1,
   "metadata": {},
   "outputs": [
    {
     "data": {
      "text/plain": [
       "\u001b[32mimport \u001b[39m\u001b[36m$cp.$                \u001b[39m"
      ]
     },
     "execution_count": 1,
     "metadata": {},
     "output_type": "execute_result"
    }
   ],
   "source": [
    "import $cp.`superficial.jar`"
   ]
  },
  {
   "cell_type": "code",
   "execution_count": 2,
   "metadata": {},
   "outputs": [
    {
     "data": {
      "text/plain": [
       "\u001b[32mimport \u001b[39m\u001b[36msuperficial._\u001b[39m"
      ]
     },
     "execution_count": 2,
     "metadata": {},
     "output_type": "execute_result"
    }
   ],
   "source": [
    "import superficial._"
   ]
  },
  {
   "cell_type": "markdown",
   "metadata": {},
   "source": [
    "We enumerate all the pants decompositions with 2 pairs of pants, i.e., for surfaces of genus 2, up to isomorphism. There are two such decompositions."
   ]
  },
  {
   "cell_type": "code",
   "execution_count": 3,
   "metadata": {},
   "outputs": [
    {
     "data": {
      "text/plain": [
       "\u001b[36mgenus2\u001b[39m: \u001b[32mVector\u001b[39m[\u001b[32mPantsSurface\u001b[39m] = \u001b[33mVector\u001b[39m(\n",
       "  \u001b[33mPantsSurface\u001b[39m(\n",
       "    \u001b[32m2\u001b[39m,\n",
       "    \u001b[33mSet\u001b[39m(\n",
       "      \u001b[33mCurve\u001b[39m(\u001b[33mPantsBoundary\u001b[39m(\u001b[32m0\u001b[39m, \u001b[33mZ3\u001b[39m(\u001b[32m0\u001b[39m)), \u001b[33mPantsBoundary\u001b[39m(\u001b[32m1\u001b[39m, \u001b[33mZ3\u001b[39m(\u001b[32m0\u001b[39m))),\n",
       "      \u001b[33mCurve\u001b[39m(\u001b[33mPantsBoundary\u001b[39m(\u001b[32m0\u001b[39m, \u001b[33mZ3\u001b[39m(\u001b[32m1\u001b[39m)), \u001b[33mPantsBoundary\u001b[39m(\u001b[32m1\u001b[39m, \u001b[33mZ3\u001b[39m(\u001b[32m1\u001b[39m))),\n",
       "      \u001b[33mCurve\u001b[39m(\u001b[33mPantsBoundary\u001b[39m(\u001b[32m0\u001b[39m, \u001b[33mZ3\u001b[39m(\u001b[32m2\u001b[39m)), \u001b[33mPantsBoundary\u001b[39m(\u001b[32m1\u001b[39m, \u001b[33mZ3\u001b[39m(\u001b[32m2\u001b[39m)))\n",
       "    )\n",
       "  ),\n",
       "  \u001b[33mPantsSurface\u001b[39m(\n",
       "    \u001b[32m2\u001b[39m,\n",
       "    \u001b[33mSet\u001b[39m(\n",
       "      \u001b[33mCurve\u001b[39m(\u001b[33mPantsBoundary\u001b[39m(\u001b[32m0\u001b[39m, \u001b[33mZ3\u001b[39m(\u001b[32m0\u001b[39m)), \u001b[33mPantsBoundary\u001b[39m(\u001b[32m0\u001b[39m, \u001b[33mZ3\u001b[39m(\u001b[32m1\u001b[39m))),\n",
       "      \u001b[33mCurve\u001b[39m(\u001b[33mPantsBoundary\u001b[39m(\u001b[32m0\u001b[39m, \u001b[33mZ3\u001b[39m(\u001b[32m2\u001b[39m)), \u001b[33mPantsBoundary\u001b[39m(\u001b[32m1\u001b[39m, \u001b[33mZ3\u001b[39m(\u001b[32m0\u001b[39m))),\n",
       "      \u001b[33mCurve\u001b[39m(\u001b[33mPantsBoundary\u001b[39m(\u001b[32m1\u001b[39m, \u001b[33mZ3\u001b[39m(\u001b[32m1\u001b[39m)), \u001b[33mPantsBoundary\u001b[39m(\u001b[32m1\u001b[39m, \u001b[33mZ3\u001b[39m(\u001b[32m2\u001b[39m)))\n",
       "    )\n",
       "  )\n",
       ")\n",
       "\u001b[36mres2_1\u001b[39m: \u001b[32mInt\u001b[39m = \u001b[32m2\u001b[39m"
      ]
     },
     "execution_count": 3,
     "metadata": {},
     "output_type": "execute_result"
    }
   ],
   "source": [
    "val genus2 = PantsSurface.allClosed(2).toVector\n",
    "genus2.size"
   ]
  },
  {
   "cell_type": "code",
   "execution_count": 4,
   "metadata": {},
   "outputs": [
    {
     "data": {
      "text/plain": [
       "\u001b[36msurf1\u001b[39m: \u001b[32mPantsSurface\u001b[39m = \u001b[33mPantsSurface\u001b[39m(\n",
       "  \u001b[32m2\u001b[39m,\n",
       "  \u001b[33mSet\u001b[39m(\n",
       "    \u001b[33mCurve\u001b[39m(\u001b[33mPantsBoundary\u001b[39m(\u001b[32m0\u001b[39m, \u001b[33mZ3\u001b[39m(\u001b[32m0\u001b[39m)), \u001b[33mPantsBoundary\u001b[39m(\u001b[32m1\u001b[39m, \u001b[33mZ3\u001b[39m(\u001b[32m0\u001b[39m))),\n",
       "    \u001b[33mCurve\u001b[39m(\u001b[33mPantsBoundary\u001b[39m(\u001b[32m0\u001b[39m, \u001b[33mZ3\u001b[39m(\u001b[32m1\u001b[39m)), \u001b[33mPantsBoundary\u001b[39m(\u001b[32m1\u001b[39m, \u001b[33mZ3\u001b[39m(\u001b[32m1\u001b[39m))),\n",
       "    \u001b[33mCurve\u001b[39m(\u001b[33mPantsBoundary\u001b[39m(\u001b[32m0\u001b[39m, \u001b[33mZ3\u001b[39m(\u001b[32m2\u001b[39m)), \u001b[33mPantsBoundary\u001b[39m(\u001b[32m1\u001b[39m, \u001b[33mZ3\u001b[39m(\u001b[32m2\u001b[39m)))\n",
       "  )\n",
       ")\n",
       "\u001b[36msurf2\u001b[39m: \u001b[32mPantsSurface\u001b[39m = \u001b[33mPantsSurface\u001b[39m(\n",
       "  \u001b[32m2\u001b[39m,\n",
       "  \u001b[33mSet\u001b[39m(\n",
       "    \u001b[33mCurve\u001b[39m(\u001b[33mPantsBoundary\u001b[39m(\u001b[32m0\u001b[39m, \u001b[33mZ3\u001b[39m(\u001b[32m0\u001b[39m)), \u001b[33mPantsBoundary\u001b[39m(\u001b[32m0\u001b[39m, \u001b[33mZ3\u001b[39m(\u001b[32m1\u001b[39m))),\n",
       "    \u001b[33mCurve\u001b[39m(\u001b[33mPantsBoundary\u001b[39m(\u001b[32m0\u001b[39m, \u001b[33mZ3\u001b[39m(\u001b[32m2\u001b[39m)), \u001b[33mPantsBoundary\u001b[39m(\u001b[32m1\u001b[39m, \u001b[33mZ3\u001b[39m(\u001b[32m0\u001b[39m))),\n",
       "    \u001b[33mCurve\u001b[39m(\u001b[33mPantsBoundary\u001b[39m(\u001b[32m1\u001b[39m, \u001b[33mZ3\u001b[39m(\u001b[32m1\u001b[39m)), \u001b[33mPantsBoundary\u001b[39m(\u001b[32m1\u001b[39m, \u001b[33mZ3\u001b[39m(\u001b[32m2\u001b[39m)))\n",
       "  )\n",
       ")"
      ]
     },
     "execution_count": 4,
     "metadata": {},
     "output_type": "execute_result"
    }
   ],
   "source": [
    "val Vector(surf1, surf2) = genus2"
   ]
  },
  {
   "cell_type": "markdown",
   "metadata": {},
   "source": [
    "We now make pictures for these. First we generate these as `svg` using `scala.xml`"
   ]
  },
  {
   "cell_type": "code",
   "execution_count": 5,
   "metadata": {},
   "outputs": [
    {
     "data": {
      "text/plain": [
       "\u001b[36mpics\u001b[39m: \u001b[32mVector\u001b[39m[\u001b[32mxml\u001b[39m.\u001b[32mElem\u001b[39m] = \u001b[33mVector\u001b[39m(\n",
       "  <svg version=\"1.1\" baseProfile=\"full\" viewBox=\"0 0 600 300\" xmlns=\"http://www.w3.org/2000/svg\">\n",
       "           <line x1=\"125\" x2=\"100\" y1=\"75\" y2=\"118\" stroke=\"hsl(365, 100%, 50%)\" stroke-width=\"1\" xmlns=\"http://www.w3.org/2000/svg\"></line><line x1=\"106\" x2=\"105\" y1=\"107\" y2=\"103\" stroke=\"black\" stroke-width=\"1\" xmlns=\"http://www.w3.org/2000/svg\"></line><line x1=\"106\" x2=\"110\" y1=\"107\" y2=\"106\" stroke=\"black\" stroke-width=\"1\" xmlns=\"http://www.w3.org/2000/svg\"></line><text x=\"118\" y=\"85\">6</text><line x1=\"100\" x2=\"50\" y1=\"118\" y2=\"118\" stroke=\"hsl(803, 100%, 50%)\" stroke-width=\"1\" xmlns=\"http://www.w3.org/2000/svg\"></line><line x1=\"62\" x2=\"65\" y1=\"118\" y2=\"115\" stroke=\"black\" stroke-width=\"1\" xmlns=\"http://www.w3.org/2000/svg\"></line><line x1=\"62\" x2=\"65\" y1=\"118\" y2=\"121\" stroke=\"black\" stroke-width=\"1\" xmlns=\"http://www.w3.org/2000/svg\"></line><text x=\"87\" y=\"118\">12</text><line x1=\"50\" x2=\"25\" y1=\"118\" y2=\"75\" stroke=\"hsl(219, 100%, 50%)\" stroke-width=\"1\" xmlns=\"http://www.w3.org/2000/svg\"></line><line x1=\"31\" x2=\"35\" y1=\"85\" y2=\"86\" stroke=\"black\" stroke-width=\"1\" xmlns=\"http://www.w3.org/2000/svg\"></line><line x1=\"31\" x2=\"30\" y1=\"85\" y2=\"89\" stroke=\"black\" stroke-width=\"1\" xmlns=\"http://www.w3.org/2000/svg\"></line><text x=\"43\" y=\"107\">4</text><line x1=\"25\" x2=\"49\" y1=\"75\" y2=\"31\" stroke=\"hsl(511, 100%, 50%)\" stroke-width=\"1\" xmlns=\"http://www.w3.org/2000/svg\"></line><line x1=\"43\" x2=\"44\" y1=\"42\" y2=\"46\" stroke=\"black\" stroke-width=\"1\" xmlns=\"http://www.w3.org/2000/svg\"></line><line x1=\"43\" x2=\"39\" y1=\"42\" y2=\"43\" stroke=\"black\" stroke-width=\"1\" xmlns=\"http://www.w3.org/2000/svg\"></line><text x=\"31\" y=\"64\">8</text><line x1=\"49\" x2=\"100\" y1=\"31\" y2=\"31\" stroke=\"hsl(730, 100%, 50%)\" stroke-width=\"1\" xmlns=\"http://www.w3.org/2000/svg\"></line><line x1=\"87\" x2=\"84\" y1=\"31\" y2=\"34\" stroke=\"black\" stroke-width=\"1\" xmlns=\"http://www.w3.org/2000/svg\"></line><line x1=\"87\" x2=\"84\" y1=\"31\" y2=\"28\" stroke=\"black\" stroke-width=\"1\" xmlns=\"http://www.w3.org/2000/svg\"></line><text x=\"62\" y=\"31\">11</text><line x1=\"100\" x2=\"125\" y1=\"31\" y2=\"74\" stroke=\"hsl(146, 100%, 50%)\" stroke-width=\"1\" xmlns=\"http://www.w3.org/2000/svg\"></line><line x1=\"118\" x2=\"114\" y1=\"64\" y2=\"63\" stroke=\"black\" stroke-width=\"1\" xmlns=\"http://www.w3.org/2000/svg\"></line><line x1=\"118\" x2=\"119\" y1=\"64\" y2=\"60\" stroke=\"black\" stroke-width=\"1\" xmlns=\"http://www.w3.org/2000/svg\"></line><text x=\"106\" y=\"42\">3</text><line x1=\"125\" x2=\"100\" y1=\"225\" y2=\"268\" stroke=\"hsl(73, 100%, 50%)\" stroke-width=\"1\" xmlns=\"http://www.w3.org/2000/svg\"></line><line x1=\"106\" x2=\"105\" y1=\"257\" y2=\"253\" stroke=\"black\" stroke-width=\"1\" xmlns=\"http://www.w3.org/2000/svg\"></line><line x1=\"106\" x2=\"110\" y1=\"257\" y2=\"256\" stroke=\"black\" stroke-width=\"1\" xmlns=\"http://www.w3.org/2000/svg\"></line><text x=\"118\" y=\"235\">2</text><line x1=\"100\" x2=\"50\" y1=\"268\" y2=\"268\" stroke=\"hsl(803, 100%, 50%)\" stroke-width=\"1\" xmlns=\"http://www.w3.org/2000/svg\"></line><line x1=\"62\" x2=\"65\" y1=\"268\" y2=\"265\" stroke=\"b..."
      ]
     },
     "execution_count": 5,
     "metadata": {},
     "output_type": "execute_result"
    }
   ],
   "source": [
    "val pics = genus2.map(SvgPlot.plotPantsSurface)"
   ]
  },
  {
   "cell_type": "markdown",
   "metadata": {},
   "source": [
    "Now we can view them."
   ]
  },
  {
   "cell_type": "code",
   "execution_count": 6,
   "metadata": {},
   "outputs": [
    {
     "data": {
      "text/plain": [
       "\u001b[32mimport \u001b[39m\u001b[36malmond.interpreter.api._\n",
       "\u001b[39m\n",
       "\u001b[36mpicData\u001b[39m: \u001b[32mVector\u001b[39m[\u001b[32mDisplayData\u001b[39m] = \u001b[33mVector\u001b[39m(\n",
       "  \u001b[33mDisplayData\u001b[39m(\n",
       "    \u001b[33mMap\u001b[39m(\n",
       "      \u001b[32m\"image/svg+xml\"\u001b[39m -> \u001b[32m\"\"\"<svg version=\"1.1\" baseProfile=\"full\" viewBox=\"0 0 600 300\" xmlns=\"http://www.w3.org/2000/svg\">\n",
       "           <line x1=\"125\" x2=\"100\" y1=\"75\" y2=\"118\" stroke=\"hsl(365, 100%, 50%)\" stroke-width=\"1\" xmlns=\"http://www.w3.org/2000/svg\"></line><line x1=\"106\" x2=\"105\" y1=\"107\" y2=\"103\" stroke=\"black\" stroke-width=\"1\" xmlns=\"http://www.w3.org/2000/svg\"></line><line x1=\"106\" x2=\"110\" y1=\"107\" y2=\"106\" stroke=\"black\" stroke-width=\"1\" xmlns=\"http://www.w3.org/2000/svg\"></line><text x=\"118\" y=\"85\">6</text><line x1=\"100\" x2=\"50\" y1=\"118\" y2=\"118\" stroke=\"hsl(803, 100%, 50%)\" stroke-width=\"1\" xmlns=\"http://www.w3.org/2000/svg\"></line><line x1=\"62\" x2=\"65\" y1=\"118\" y2=\"115\" stroke=\"black\" stroke-width=\"1\" xmlns=\"http://www.w3.org/2000/svg\"></line><line x1=\"62\" x2=\"65\" y1=\"118\" y2=\"121\" stroke=\"black\" stroke-width=\"1\" xmlns=\"http://www.w3.org/2000/svg\"></line><text x=\"87\" y=\"118\">12</text><line x1=\"50\" x2=\"25\" y1=\"118\" y2=\"75\" stroke=\"hsl(219, 100%, 50%)\" stroke-width=\"1\" xmlns=\"http://www.w3.org/2000/svg\"></line><line x1=\"31\" x2=\"35\" y1=\"85\" y2=\"86\" stroke=\"black\" stroke-width=\"1\" xmlns=\"http://www.w3.org/2000/svg\"></line><line x1=\"31\" x2=\"30\" y1=\"85\" y2=\"89\" stroke=\"black\" stroke-width=\"1\" xmlns=\"http://www.w3.org/2000/svg\"></line><text x=\"43\" y=\"107\">4</text><line x1=\"25\" x2=\"49\" y1=\"75\" y2=\"31\" stroke=\"hsl(511, 100%, 50%)\" stroke-width=\"1\" xmlns=\"http://www.w3.org/2000/svg\"></line><line x1=\"43\" x2=\"44\" y1=\"42\" y2=\"46\" stroke=\"black\" stroke-width=\"1\" xmlns=\"http://www.w3.org/2000/svg\"></line><line x1=\"43\" x2=\"39\" y1=\"42\" y2=\"43\" stroke=\"black\" stroke-width=\"1\" xmlns=\"http://www.w3.org/2000/svg\"></line><text x=\"31\" y=\"64\">8</text><line x1=\"49\" x2=\"100\" y1=\"31\" y2=\"31\" stroke=\"hsl(730, 100%, 50%)\" stroke-width=\"1\" xmlns=\"http://www.w3.org/2000/svg\"></line><line x1=\"87\" x2=\"84\" y1=\"31\" y2=\"34\" stroke=\"black\" stroke-width=\"1\" xmlns=\"http://www.w3.org/2000/svg\"></line><line x1=\"87\" x2=\"84\" y1=\"31\" y2=\"28\" stroke=\"black\" stroke-width=\"1\" xmlns=\"http://www.w3.org/2000/svg\"></line><text x=\"62\" y=\"31\">11</text><line x1=\"100\" x2=\"125\" y1=\"31\" y2=\"74\" stroke=\"hsl(146, 100%, 50%)\" stroke-width=\"1\" xmlns=\"http://www.w3.org/2000/svg\"></line><line x1=\"118\" x2=\"114\" y1=\"64\" y2=\"63\" stroke=\"black\" stroke-width=\"1\" xmlns=\"http://www.w3.org/2000/svg\"></line><line x1=\"118\" x2=\"119\" y1=\"64\" y2=\"60\" stroke=\"black\" stroke-width=\"1\" xmlns=\"http://www.w3.org/2000/svg\"></line><text x=\"106\" y=\"42\">3</text><line x1=\"125\" x2=\"100\" y1=\"225\" y2=\"268\" stroke=\"hsl(73, 100%, 50%)\" stroke-width=\"1\" xmlns=\"http://www.w3.org/2000/svg\"></line><line x1=\"106\" x2=\"105\" y1=\"257\" y2=\"253\" stroke=\"black\" stroke-width=\"1\" xmlns=\"http://www.w3.org/2000/svg\"></line><line x1=\"106\" x2=\"110\" y1=\"257\" y2=\"256\" stroke=\"black\" stroke-width=\"1\" xmlns=\"http://www.w3.org/2000/svg\"></line><text x=\"118\" y=\"235\">2</text><line x1=\"100\" x2=\u001b[39m..."
      ]
     },
     "execution_count": 6,
     "metadata": {},
     "output_type": "execute_result"
    }
   ],
   "source": [
    "import almond.interpreter.api._\n",
    "val picData = pics.map(p => DisplayData.svg(p.toString))"
   ]
  },
  {
   "cell_type": "code",
   "execution_count": 7,
   "metadata": {},
   "outputs": [
    {
     "data": {
      "image/svg+xml": [
       "<svg version=\"1.1\" baseProfile=\"full\" viewBox=\"0 0 600 300\" xmlns=\"http://www.w3.org/2000/svg\">\n",
       "           <line x1=\"125\" x2=\"100\" y1=\"75\" y2=\"118\" stroke=\"hsl(365, 100%, 50%)\" stroke-width=\"1\" xmlns=\"http://www.w3.org/2000/svg\"></line><line x1=\"106\" x2=\"105\" y1=\"107\" y2=\"103\" stroke=\"black\" stroke-width=\"1\" xmlns=\"http://www.w3.org/2000/svg\"></line><line x1=\"106\" x2=\"110\" y1=\"107\" y2=\"106\" stroke=\"black\" stroke-width=\"1\" xmlns=\"http://www.w3.org/2000/svg\"></line><text x=\"118\" y=\"85\">6</text><line x1=\"100\" x2=\"50\" y1=\"118\" y2=\"118\" stroke=\"hsl(803, 100%, 50%)\" stroke-width=\"1\" xmlns=\"http://www.w3.org/2000/svg\"></line><line x1=\"62\" x2=\"65\" y1=\"118\" y2=\"115\" stroke=\"black\" stroke-width=\"1\" xmlns=\"http://www.w3.org/2000/svg\"></line><line x1=\"62\" x2=\"65\" y1=\"118\" y2=\"121\" stroke=\"black\" stroke-width=\"1\" xmlns=\"http://www.w3.org/2000/svg\"></line><text x=\"87\" y=\"118\">12</text><line x1=\"50\" x2=\"25\" y1=\"118\" y2=\"75\" stroke=\"hsl(219, 100%, 50%)\" stroke-width=\"1\" xmlns=\"http://www.w3.org/2000/svg\"></line><line x1=\"31\" x2=\"35\" y1=\"85\" y2=\"86\" stroke=\"black\" stroke-width=\"1\" xmlns=\"http://www.w3.org/2000/svg\"></line><line x1=\"31\" x2=\"30\" y1=\"85\" y2=\"89\" stroke=\"black\" stroke-width=\"1\" xmlns=\"http://www.w3.org/2000/svg\"></line><text x=\"43\" y=\"107\">4</text><line x1=\"25\" x2=\"49\" y1=\"75\" y2=\"31\" stroke=\"hsl(511, 100%, 50%)\" stroke-width=\"1\" xmlns=\"http://www.w3.org/2000/svg\"></line><line x1=\"43\" x2=\"44\" y1=\"42\" y2=\"46\" stroke=\"black\" stroke-width=\"1\" xmlns=\"http://www.w3.org/2000/svg\"></line><line x1=\"43\" x2=\"39\" y1=\"42\" y2=\"43\" stroke=\"black\" stroke-width=\"1\" xmlns=\"http://www.w3.org/2000/svg\"></line><text x=\"31\" y=\"64\">8</text><line x1=\"49\" x2=\"100\" y1=\"31\" y2=\"31\" stroke=\"hsl(730, 100%, 50%)\" stroke-width=\"1\" xmlns=\"http://www.w3.org/2000/svg\"></line><line x1=\"87\" x2=\"84\" y1=\"31\" y2=\"34\" stroke=\"black\" stroke-width=\"1\" xmlns=\"http://www.w3.org/2000/svg\"></line><line x1=\"87\" x2=\"84\" y1=\"31\" y2=\"28\" stroke=\"black\" stroke-width=\"1\" xmlns=\"http://www.w3.org/2000/svg\"></line><text x=\"62\" y=\"31\">11</text><line x1=\"100\" x2=\"125\" y1=\"31\" y2=\"74\" stroke=\"hsl(146, 100%, 50%)\" stroke-width=\"1\" xmlns=\"http://www.w3.org/2000/svg\"></line><line x1=\"118\" x2=\"114\" y1=\"64\" y2=\"63\" stroke=\"black\" stroke-width=\"1\" xmlns=\"http://www.w3.org/2000/svg\"></line><line x1=\"118\" x2=\"119\" y1=\"64\" y2=\"60\" stroke=\"black\" stroke-width=\"1\" xmlns=\"http://www.w3.org/2000/svg\"></line><text x=\"106\" y=\"42\">3</text><line x1=\"125\" x2=\"100\" y1=\"225\" y2=\"268\" stroke=\"hsl(73, 100%, 50%)\" stroke-width=\"1\" xmlns=\"http://www.w3.org/2000/svg\"></line><line x1=\"106\" x2=\"105\" y1=\"257\" y2=\"253\" stroke=\"black\" stroke-width=\"1\" xmlns=\"http://www.w3.org/2000/svg\"></line><line x1=\"106\" x2=\"110\" y1=\"257\" y2=\"256\" stroke=\"black\" stroke-width=\"1\" xmlns=\"http://www.w3.org/2000/svg\"></line><text x=\"118\" y=\"235\">2</text><line x1=\"100\" x2=\"50\" y1=\"268\" y2=\"268\" stroke=\"hsl(803, 100%, 50%)\" stroke-width=\"1\" xmlns=\"http://www.w3.org/2000/svg\"></line><line x1=\"62\" x2=\"65\" y1=\"268\" y2=\"265\" stroke=\"black\" stroke-width=\"1\" xmlns=\"http://www.w3.org/2000/svg\"></line><line x1=\"62\" x2=\"65\" y1=\"268\" y2=\"271\" stroke=\"black\" stroke-width=\"1\" xmlns=\"http://www.w3.org/2000/svg\"></line><text x=\"87\" y=\"268\">12</text><line x1=\"50\" x2=\"25\" y1=\"268\" y2=\"225\" stroke=\"hsl(657, 100%, 50%)\" stroke-width=\"1\" xmlns=\"http://www.w3.org/2000/svg\"></line><line x1=\"31\" x2=\"35\" y1=\"235\" y2=\"236\" stroke=\"black\" stroke-width=\"1\" xmlns=\"http://www.w3.org/2000/svg\"></line><line x1=\"31\" x2=\"30\" y1=\"235\" y2=\"239\" stroke=\"black\" stroke-width=\"1\" xmlns=\"http://www.w3.org/2000/svg\"></line><text x=\"43\" y=\"257\">10</text><line x1=\"25\" x2=\"49\" y1=\"225\" y2=\"181\" stroke=\"hsl(511, 100%, 50%)\" stroke-width=\"1\" xmlns=\"http://www.w3.org/2000/svg\"></line><line x1=\"43\" x2=\"44\" y1=\"192\" y2=\"196\" stroke=\"black\" stroke-width=\"1\" xmlns=\"http://www.w3.org/2000/svg\"></line><line x1=\"43\" x2=\"39\" y1=\"192\" y2=\"193\" stroke=\"black\" stroke-width=\"1\" xmlns=\"http://www.w3.org/2000/svg\"></line><text x=\"31\" y=\"214\">8</text><line x1=\"49\" x2=\"100\" y1=\"181\" y2=\"181\" stroke=\"hsl(584, 100%, 50%)\" stroke-width=\"1\" xmlns=\"http://www.w3.org/2000/svg\"></line><line x1=\"87\" x2=\"84\" y1=\"181\" y2=\"184\" stroke=\"black\" stroke-width=\"1\" xmlns=\"http://www.w3.org/2000/svg\"></line><line x1=\"87\" x2=\"84\" y1=\"181\" y2=\"178\" stroke=\"black\" stroke-width=\"1\" xmlns=\"http://www.w3.org/2000/svg\"></line><text x=\"62\" y=\"181\">9</text><line x1=\"100\" x2=\"125\" y1=\"181\" y2=\"225\" stroke=\"hsl(146, 100%, 50%)\" stroke-width=\"1\" xmlns=\"http://www.w3.org/2000/svg\"></line><line x1=\"118\" x2=\"114\" y1=\"214\" y2=\"213\" stroke=\"black\" stroke-width=\"1\" xmlns=\"http://www.w3.org/2000/svg\"></line><line x1=\"118\" x2=\"119\" y1=\"214\" y2=\"210\" stroke=\"black\" stroke-width=\"1\" xmlns=\"http://www.w3.org/2000/svg\"></line><text x=\"106\" y=\"192\">3</text><line x1=\"250\" x2=\"275\" y1=\"118\" y2=\"75\" stroke=\"hsl(365, 100%, 50%)\" stroke-width=\"1\" xmlns=\"http://www.w3.org/2000/svg\"></line><line x1=\"268\" x2=\"269\" y1=\"85\" y2=\"89\" stroke=\"black\" stroke-width=\"1\" xmlns=\"http://www.w3.org/2000/svg\"></line><line x1=\"268\" x2=\"264\" y1=\"85\" y2=\"86\" stroke=\"black\" stroke-width=\"1\" xmlns=\"http://www.w3.org/2000/svg\"></line><text x=\"256\" y=\"107\">6</text><line x1=\"250\" x2=\"200\" y1=\"118\" y2=\"118\" stroke=\"hsl(292, 100%, 50%)\" stroke-width=\"1\" xmlns=\"http://www.w3.org/2000/svg\"></line><line x1=\"212\" x2=\"215\" y1=\"118\" y2=\"115\" stroke=\"black\" stroke-width=\"1\" xmlns=\"http://www.w3.org/2000/svg\"></line><line x1=\"212\" x2=\"215\" y1=\"118\" y2=\"121\" stroke=\"black\" stroke-width=\"1\" xmlns=\"http://www.w3.org/2000/svg\"></line><text x=\"237\" y=\"118\">5</text><line x1=\"175\" x2=\"200\" y1=\"75\" y2=\"118\" stroke=\"hsl(219, 100%, 50%)\" stroke-width=\"1\" xmlns=\"http://www.w3.org/2000/svg\"></line><line x1=\"193\" x2=\"189\" y1=\"107\" y2=\"106\" stroke=\"black\" stroke-width=\"1\" xmlns=\"http://www.w3.org/2000/svg\"></line><line x1=\"193\" x2=\"194\" y1=\"107\" y2=\"103\" stroke=\"black\" stroke-width=\"1\" xmlns=\"http://www.w3.org/2000/svg\"></line><text x=\"181\" y=\"85\">4</text><line x1=\"175\" x2=\"199\" y1=\"75\" y2=\"31\" stroke=\"hsl(438, 100%, 50%)\" stroke-width=\"1\" xmlns=\"http://www.w3.org/2000/svg\"></line><line x1=\"193\" x2=\"194\" y1=\"42\" y2=\"46\" stroke=\"black\" stroke-width=\"1\" xmlns=\"http://www.w3.org/2000/svg\"></line><line x1=\"193\" x2=\"189\" y1=\"42\" y2=\"43\" stroke=\"black\" stroke-width=\"1\" xmlns=\"http://www.w3.org/2000/svg\"></line><text x=\"181\" y=\"64\">7</text><line x1=\"250\" x2=\"199\" y1=\"31\" y2=\"31\" stroke=\"hsl(730, 100%, 50%)\" stroke-width=\"1\" xmlns=\"http://www.w3.org/2000/svg\"></line><line x1=\"212\" x2=\"215\" y1=\"31\" y2=\"28\" stroke=\"black\" stroke-width=\"1\" xmlns=\"http://www.w3.org/2000/svg\"></line><line x1=\"212\" x2=\"215\" y1=\"31\" y2=\"34\" stroke=\"black\" stroke-width=\"1\" xmlns=\"http://www.w3.org/2000/svg\"></line><text x=\"237\" y=\"31\">11</text><line x1=\"250\" x2=\"275\" y1=\"31\" y2=\"74\" stroke=\"hsl(0, 100%, 50%)\" stroke-width=\"1\" xmlns=\"http://www.w3.org/2000/svg\"></line><line x1=\"268\" x2=\"264\" y1=\"64\" y2=\"63\" stroke=\"black\" stroke-width=\"1\" xmlns=\"http://www.w3.org/2000/svg\"></line><line x1=\"268\" x2=\"269\" y1=\"64\" y2=\"60\" stroke=\"black\" stroke-width=\"1\" xmlns=\"http://www.w3.org/2000/svg\"></line><text x=\"256\" y=\"42\">1</text><line x1=\"250\" x2=\"275\" y1=\"268\" y2=\"225\" stroke=\"hsl(73, 100%, 50%)\" stroke-width=\"1\" xmlns=\"http://www.w3.org/2000/svg\"></line><line x1=\"268\" x2=\"269\" y1=\"235\" y2=\"239\" stroke=\"black\" stroke-width=\"1\" xmlns=\"http://www.w3.org/2000/svg\"></line><line x1=\"268\" x2=\"264\" y1=\"235\" y2=\"236\" stroke=\"black\" stroke-width=\"1\" xmlns=\"http://www.w3.org/2000/svg\"></line><text x=\"256\" y=\"257\">2</text><line x1=\"250\" x2=\"200\" y1=\"268\" y2=\"268\" stroke=\"hsl(292, 100%, 50%)\" stroke-width=\"1\" xmlns=\"http://www.w3.org/2000/svg\"></line><line x1=\"212\" x2=\"215\" y1=\"268\" y2=\"265\" stroke=\"black\" stroke-width=\"1\" xmlns=\"http://www.w3.org/2000/svg\"></line><line x1=\"212\" x2=\"215\" y1=\"268\" y2=\"271\" stroke=\"black\" stroke-width=\"1\" xmlns=\"http://www.w3.org/2000/svg\"></line><text x=\"237\" y=\"268\">5</text><line x1=\"175\" x2=\"200\" y1=\"225\" y2=\"268\" stroke=\"hsl(657, 100%, 50%)\" stroke-width=\"1\" xmlns=\"http://www.w3.org/2000/svg\"></line><line x1=\"193\" x2=\"189\" y1=\"257\" y2=\"256\" stroke=\"black\" stroke-width=\"1\" xmlns=\"http://www.w3.org/2000/svg\"></line><line x1=\"193\" x2=\"194\" y1=\"257\" y2=\"253\" stroke=\"black\" stroke-width=\"1\" xmlns=\"http://www.w3.org/2000/svg\"></line><text x=\"181\" y=\"235\">10</text><line x1=\"175\" x2=\"199\" y1=\"225\" y2=\"181\" stroke=\"hsl(438, 100%, 50%)\" stroke-width=\"1\" xmlns=\"http://www.w3.org/2000/svg\"></line><line x1=\"193\" x2=\"194\" y1=\"192\" y2=\"196\" stroke=\"black\" stroke-width=\"1\" xmlns=\"http://www.w3.org/2000/svg\"></line><line x1=\"193\" x2=\"189\" y1=\"192\" y2=\"193\" stroke=\"black\" stroke-width=\"1\" xmlns=\"http://www.w3.org/2000/svg\"></line><text x=\"181\" y=\"214\">7</text><line x1=\"250\" x2=\"199\" y1=\"181\" y2=\"181\" stroke=\"hsl(584, 100%, 50%)\" stroke-width=\"1\" xmlns=\"http://www.w3.org/2000/svg\"></line><line x1=\"212\" x2=\"215\" y1=\"181\" y2=\"178\" stroke=\"black\" stroke-width=\"1\" xmlns=\"http://www.w3.org/2000/svg\"></line><line x1=\"212\" x2=\"215\" y1=\"181\" y2=\"184\" stroke=\"black\" stroke-width=\"1\" xmlns=\"http://www.w3.org/2000/svg\"></line><text x=\"237\" y=\"181\">9</text><line x1=\"250\" x2=\"275\" y1=\"181\" y2=\"225\" stroke=\"hsl(0, 100%, 50%)\" stroke-width=\"1\" xmlns=\"http://www.w3.org/2000/svg\"></line><line x1=\"268\" x2=\"264\" y1=\"214\" y2=\"213\" stroke=\"black\" stroke-width=\"1\" xmlns=\"http://www.w3.org/2000/svg\"></line><line x1=\"268\" x2=\"269\" y1=\"214\" y2=\"210\" stroke=\"black\" stroke-width=\"1\" xmlns=\"http://www.w3.org/2000/svg\"></line><text x=\"256\" y=\"192\">1</text> </svg>"
      ]
     },
     "metadata": {},
     "output_type": "display_data"
    }
   ],
   "source": [
    "display(picData(0))"
   ]
  },
  {
   "cell_type": "code",
   "execution_count": 8,
   "metadata": {},
   "outputs": [
    {
     "data": {
      "image/svg+xml": [
       "<svg version=\"1.1\" baseProfile=\"full\" viewBox=\"0 0 600 300\" xmlns=\"http://www.w3.org/2000/svg\">\n",
       "           <line x1=\"125\" x2=\"100\" y1=\"75\" y2=\"118\" stroke=\"hsl(73, 100%, 50%)\" stroke-width=\"1\" xmlns=\"http://www.w3.org/2000/svg\"></line><line x1=\"106\" x2=\"105\" y1=\"107\" y2=\"103\" stroke=\"black\" stroke-width=\"1\" xmlns=\"http://www.w3.org/2000/svg\"></line><line x1=\"106\" x2=\"110\" y1=\"107\" y2=\"106\" stroke=\"black\" stroke-width=\"1\" xmlns=\"http://www.w3.org/2000/svg\"></line><text x=\"118\" y=\"85\">2</text><line x1=\"100\" x2=\"50\" y1=\"118\" y2=\"118\" stroke=\"hsl(584, 100%, 50%)\" stroke-width=\"1\" xmlns=\"http://www.w3.org/2000/svg\"></line><line x1=\"62\" x2=\"65\" y1=\"118\" y2=\"115\" stroke=\"black\" stroke-width=\"1\" xmlns=\"http://www.w3.org/2000/svg\"></line><line x1=\"62\" x2=\"65\" y1=\"118\" y2=\"121\" stroke=\"black\" stroke-width=\"1\" xmlns=\"http://www.w3.org/2000/svg\"></line><text x=\"87\" y=\"118\">9</text><line x1=\"25\" x2=\"50\" y1=\"75\" y2=\"118\" stroke=\"hsl(73, 100%, 50%)\" stroke-width=\"1\" xmlns=\"http://www.w3.org/2000/svg\"></line><line x1=\"43\" x2=\"39\" y1=\"107\" y2=\"106\" stroke=\"black\" stroke-width=\"1\" xmlns=\"http://www.w3.org/2000/svg\"></line><line x1=\"43\" x2=\"44\" y1=\"107\" y2=\"103\" stroke=\"black\" stroke-width=\"1\" xmlns=\"http://www.w3.org/2000/svg\"></line><text x=\"31\" y=\"85\">2</text><line x1=\"25\" x2=\"49\" y1=\"75\" y2=\"31\" stroke=\"hsl(730, 100%, 50%)\" stroke-width=\"1\" xmlns=\"http://www.w3.org/2000/svg\"></line><line x1=\"43\" x2=\"44\" y1=\"42\" y2=\"46\" stroke=\"black\" stroke-width=\"1\" xmlns=\"http://www.w3.org/2000/svg\"></line><line x1=\"43\" x2=\"39\" y1=\"42\" y2=\"43\" stroke=\"black\" stroke-width=\"1\" xmlns=\"http://www.w3.org/2000/svg\"></line><text x=\"31\" y=\"64\">11</text><line x1=\"49\" x2=\"100\" y1=\"31\" y2=\"31\" stroke=\"hsl(511, 100%, 50%)\" stroke-width=\"1\" xmlns=\"http://www.w3.org/2000/svg\"></line><line x1=\"87\" x2=\"84\" y1=\"31\" y2=\"34\" stroke=\"black\" stroke-width=\"1\" xmlns=\"http://www.w3.org/2000/svg\"></line><line x1=\"87\" x2=\"84\" y1=\"31\" y2=\"28\" stroke=\"black\" stroke-width=\"1\" xmlns=\"http://www.w3.org/2000/svg\"></line><text x=\"62\" y=\"31\">8</text><line x1=\"100\" x2=\"125\" y1=\"31\" y2=\"74\" stroke=\"hsl(803, 100%, 50%)\" stroke-width=\"1\" xmlns=\"http://www.w3.org/2000/svg\"></line><line x1=\"118\" x2=\"114\" y1=\"64\" y2=\"63\" stroke=\"black\" stroke-width=\"1\" xmlns=\"http://www.w3.org/2000/svg\"></line><line x1=\"118\" x2=\"119\" y1=\"64\" y2=\"60\" stroke=\"black\" stroke-width=\"1\" xmlns=\"http://www.w3.org/2000/svg\"></line><text x=\"106\" y=\"42\">12</text><line x1=\"125\" x2=\"100\" y1=\"225\" y2=\"268\" stroke=\"hsl(0, 100%, 50%)\" stroke-width=\"1\" xmlns=\"http://www.w3.org/2000/svg\"></line><line x1=\"106\" x2=\"105\" y1=\"257\" y2=\"253\" stroke=\"black\" stroke-width=\"1\" xmlns=\"http://www.w3.org/2000/svg\"></line><line x1=\"106\" x2=\"110\" y1=\"257\" y2=\"256\" stroke=\"black\" stroke-width=\"1\" xmlns=\"http://www.w3.org/2000/svg\"></line><text x=\"118\" y=\"235\">1</text><line x1=\"100\" x2=\"50\" y1=\"268\" y2=\"268\" stroke=\"hsl(584, 100%, 50%)\" stroke-width=\"1\" xmlns=\"http://www.w3.org/2000/svg\"></line><line x1=\"62\" x2=\"65\" y1=\"268\" y2=\"265\" stroke=\"black\" stroke-width=\"1\" xmlns=\"http://www.w3.org/2000/svg\"></line><line x1=\"62\" x2=\"65\" y1=\"268\" y2=\"271\" stroke=\"black\" stroke-width=\"1\" xmlns=\"http://www.w3.org/2000/svg\"></line><text x=\"87\" y=\"268\">9</text><line x1=\"25\" x2=\"50\" y1=\"225\" y2=\"268\" stroke=\"hsl(0, 100%, 50%)\" stroke-width=\"1\" xmlns=\"http://www.w3.org/2000/svg\"></line><line x1=\"43\" x2=\"39\" y1=\"257\" y2=\"256\" stroke=\"black\" stroke-width=\"1\" xmlns=\"http://www.w3.org/2000/svg\"></line><line x1=\"43\" x2=\"44\" y1=\"257\" y2=\"253\" stroke=\"black\" stroke-width=\"1\" xmlns=\"http://www.w3.org/2000/svg\"></line><text x=\"31\" y=\"235\">1</text><line x1=\"25\" x2=\"49\" y1=\"225\" y2=\"181\" stroke=\"hsl(730, 100%, 50%)\" stroke-width=\"1\" xmlns=\"http://www.w3.org/2000/svg\"></line><line x1=\"43\" x2=\"44\" y1=\"192\" y2=\"196\" stroke=\"black\" stroke-width=\"1\" xmlns=\"http://www.w3.org/2000/svg\"></line><line x1=\"43\" x2=\"39\" y1=\"192\" y2=\"193\" stroke=\"black\" stroke-width=\"1\" xmlns=\"http://www.w3.org/2000/svg\"></line><text x=\"31\" y=\"214\">11</text><line x1=\"49\" x2=\"100\" y1=\"181\" y2=\"181\" stroke=\"hsl(146, 100%, 50%)\" stroke-width=\"1\" xmlns=\"http://www.w3.org/2000/svg\"></line><line x1=\"87\" x2=\"84\" y1=\"181\" y2=\"184\" stroke=\"black\" stroke-width=\"1\" xmlns=\"http://www.w3.org/2000/svg\"></line><line x1=\"87\" x2=\"84\" y1=\"181\" y2=\"178\" stroke=\"black\" stroke-width=\"1\" xmlns=\"http://www.w3.org/2000/svg\"></line><text x=\"62\" y=\"181\">3</text><line x1=\"100\" x2=\"125\" y1=\"181\" y2=\"225\" stroke=\"hsl(803, 100%, 50%)\" stroke-width=\"1\" xmlns=\"http://www.w3.org/2000/svg\"></line><line x1=\"118\" x2=\"114\" y1=\"214\" y2=\"213\" stroke=\"black\" stroke-width=\"1\" xmlns=\"http://www.w3.org/2000/svg\"></line><line x1=\"118\" x2=\"119\" y1=\"214\" y2=\"210\" stroke=\"black\" stroke-width=\"1\" xmlns=\"http://www.w3.org/2000/svg\"></line><text x=\"106\" y=\"192\">12</text><line x1=\"250\" x2=\"275\" y1=\"118\" y2=\"75\" stroke=\"hsl(511, 100%, 50%)\" stroke-width=\"1\" xmlns=\"http://www.w3.org/2000/svg\"></line><line x1=\"268\" x2=\"269\" y1=\"85\" y2=\"89\" stroke=\"black\" stroke-width=\"1\" xmlns=\"http://www.w3.org/2000/svg\"></line><line x1=\"268\" x2=\"264\" y1=\"85\" y2=\"86\" stroke=\"black\" stroke-width=\"1\" xmlns=\"http://www.w3.org/2000/svg\"></line><text x=\"256\" y=\"107\">8</text><line x1=\"250\" x2=\"200\" y1=\"118\" y2=\"118\" stroke=\"hsl(365, 100%, 50%)\" stroke-width=\"1\" xmlns=\"http://www.w3.org/2000/svg\"></line><line x1=\"212\" x2=\"215\" y1=\"118\" y2=\"115\" stroke=\"black\" stroke-width=\"1\" xmlns=\"http://www.w3.org/2000/svg\"></line><line x1=\"212\" x2=\"215\" y1=\"118\" y2=\"121\" stroke=\"black\" stroke-width=\"1\" xmlns=\"http://www.w3.org/2000/svg\"></line><text x=\"237\" y=\"118\">6</text><line x1=\"200\" x2=\"175\" y1=\"118\" y2=\"75\" stroke=\"hsl(292, 100%, 50%)\" stroke-width=\"1\" xmlns=\"http://www.w3.org/2000/svg\"></line><line x1=\"181\" x2=\"185\" y1=\"85\" y2=\"86\" stroke=\"black\" stroke-width=\"1\" xmlns=\"http://www.w3.org/2000/svg\"></line><line x1=\"181\" x2=\"180\" y1=\"85\" y2=\"89\" stroke=\"black\" stroke-width=\"1\" xmlns=\"http://www.w3.org/2000/svg\"></line><text x=\"193\" y=\"107\">5</text><line x1=\"175\" x2=\"199\" y1=\"75\" y2=\"31\" stroke=\"hsl(438, 100%, 50%)\" stroke-width=\"1\" xmlns=\"http://www.w3.org/2000/svg\"></line><line x1=\"193\" x2=\"194\" y1=\"42\" y2=\"46\" stroke=\"black\" stroke-width=\"1\" xmlns=\"http://www.w3.org/2000/svg\"></line><line x1=\"193\" x2=\"189\" y1=\"42\" y2=\"43\" stroke=\"black\" stroke-width=\"1\" xmlns=\"http://www.w3.org/2000/svg\"></line><text x=\"181\" y=\"64\">7</text><line x1=\"250\" x2=\"199\" y1=\"31\" y2=\"31\" stroke=\"hsl(292, 100%, 50%)\" stroke-width=\"1\" xmlns=\"http://www.w3.org/2000/svg\"></line><line x1=\"212\" x2=\"215\" y1=\"31\" y2=\"28\" stroke=\"black\" stroke-width=\"1\" xmlns=\"http://www.w3.org/2000/svg\"></line><line x1=\"212\" x2=\"215\" y1=\"31\" y2=\"34\" stroke=\"black\" stroke-width=\"1\" xmlns=\"http://www.w3.org/2000/svg\"></line><text x=\"237\" y=\"31\">5</text><line x1=\"250\" x2=\"275\" y1=\"31\" y2=\"74\" stroke=\"hsl(219, 100%, 50%)\" stroke-width=\"1\" xmlns=\"http://www.w3.org/2000/svg\"></line><line x1=\"268\" x2=\"264\" y1=\"64\" y2=\"63\" stroke=\"black\" stroke-width=\"1\" xmlns=\"http://www.w3.org/2000/svg\"></line><line x1=\"268\" x2=\"269\" y1=\"64\" y2=\"60\" stroke=\"black\" stroke-width=\"1\" xmlns=\"http://www.w3.org/2000/svg\"></line><text x=\"256\" y=\"42\">4</text><line x1=\"250\" x2=\"275\" y1=\"268\" y2=\"225\" stroke=\"hsl(146, 100%, 50%)\" stroke-width=\"1\" xmlns=\"http://www.w3.org/2000/svg\"></line><line x1=\"268\" x2=\"269\" y1=\"235\" y2=\"239\" stroke=\"black\" stroke-width=\"1\" xmlns=\"http://www.w3.org/2000/svg\"></line><line x1=\"268\" x2=\"264\" y1=\"235\" y2=\"236\" stroke=\"black\" stroke-width=\"1\" xmlns=\"http://www.w3.org/2000/svg\"></line><text x=\"256\" y=\"257\">3</text><line x1=\"250\" x2=\"200\" y1=\"268\" y2=\"268\" stroke=\"hsl(365, 100%, 50%)\" stroke-width=\"1\" xmlns=\"http://www.w3.org/2000/svg\"></line><line x1=\"212\" x2=\"215\" y1=\"268\" y2=\"265\" stroke=\"black\" stroke-width=\"1\" xmlns=\"http://www.w3.org/2000/svg\"></line><line x1=\"212\" x2=\"215\" y1=\"268\" y2=\"271\" stroke=\"black\" stroke-width=\"1\" xmlns=\"http://www.w3.org/2000/svg\"></line><text x=\"237\" y=\"268\">6</text><line x1=\"200\" x2=\"175\" y1=\"268\" y2=\"225\" stroke=\"hsl(657, 100%, 50%)\" stroke-width=\"1\" xmlns=\"http://www.w3.org/2000/svg\"></line><line x1=\"181\" x2=\"185\" y1=\"235\" y2=\"236\" stroke=\"black\" stroke-width=\"1\" xmlns=\"http://www.w3.org/2000/svg\"></line><line x1=\"181\" x2=\"180\" y1=\"235\" y2=\"239\" stroke=\"black\" stroke-width=\"1\" xmlns=\"http://www.w3.org/2000/svg\"></line><text x=\"193\" y=\"257\">10</text><line x1=\"175\" x2=\"199\" y1=\"225\" y2=\"181\" stroke=\"hsl(438, 100%, 50%)\" stroke-width=\"1\" xmlns=\"http://www.w3.org/2000/svg\"></line><line x1=\"193\" x2=\"194\" y1=\"192\" y2=\"196\" stroke=\"black\" stroke-width=\"1\" xmlns=\"http://www.w3.org/2000/svg\"></line><line x1=\"193\" x2=\"189\" y1=\"192\" y2=\"193\" stroke=\"black\" stroke-width=\"1\" xmlns=\"http://www.w3.org/2000/svg\"></line><text x=\"181\" y=\"214\">7</text><line x1=\"250\" x2=\"199\" y1=\"181\" y2=\"181\" stroke=\"hsl(657, 100%, 50%)\" stroke-width=\"1\" xmlns=\"http://www.w3.org/2000/svg\"></line><line x1=\"212\" x2=\"215\" y1=\"181\" y2=\"178\" stroke=\"black\" stroke-width=\"1\" xmlns=\"http://www.w3.org/2000/svg\"></line><line x1=\"212\" x2=\"215\" y1=\"181\" y2=\"184\" stroke=\"black\" stroke-width=\"1\" xmlns=\"http://www.w3.org/2000/svg\"></line><text x=\"237\" y=\"181\">10</text><line x1=\"250\" x2=\"275\" y1=\"181\" y2=\"225\" stroke=\"hsl(219, 100%, 50%)\" stroke-width=\"1\" xmlns=\"http://www.w3.org/2000/svg\"></line><line x1=\"268\" x2=\"264\" y1=\"214\" y2=\"213\" stroke=\"black\" stroke-width=\"1\" xmlns=\"http://www.w3.org/2000/svg\"></line><line x1=\"268\" x2=\"269\" y1=\"214\" y2=\"210\" stroke=\"black\" stroke-width=\"1\" xmlns=\"http://www.w3.org/2000/svg\"></line><text x=\"256\" y=\"192\">4</text> </svg>"
      ]
     },
     "metadata": {},
     "output_type": "display_data"
    }
   ],
   "source": [
    "display(picData(1))"
   ]
  },
  {
   "cell_type": "code",
   "execution_count": null,
   "metadata": {},
   "outputs": [],
   "source": []
  }
 ],
 "metadata": {
  "kernelspec": {
   "display_name": "Scala",
   "language": "scala",
   "name": "scala"
  },
  "language_info": {
   "codemirror_mode": "text/x-scala",
   "file_extension": ".scala",
   "mimetype": "text/x-scala",
   "name": "scala",
   "nbconvert_exporter": "script",
   "version": "2.12.8"
  }
 },
 "nbformat": 4,
 "nbformat_minor": 2
}
