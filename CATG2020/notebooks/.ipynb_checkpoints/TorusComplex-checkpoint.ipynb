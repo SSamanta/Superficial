{
 "cells": [
  {
   "cell_type": "markdown",
   "metadata": {},
   "source": [
    "# Torus as a two-comples\n",
    "\n",
    "This is an introduction to the implementation of two-complexes, including issues with scala, ending with constructing a torus. To start with we load the compiled code."
   ]
  },
  {
   "cell_type": "code",
   "execution_count": null,
   "metadata": {},
   "outputs": [],
   "source": [
    "import $cp.bin.`superficial-c3516ca6f4.jar`\n",
    "import superficial._"
   ]
  },
  {
   "cell_type": "markdown",
   "metadata": {},
   "source": [
    "## A vertex\n",
    "\n",
    "The code for vertices is rather simple.\n",
    "\n",
    "```scala\n",
    "class Vertex\n",
    "```\n",
    "\n",
    "Let us first create a vertex. As it has no abstract methods, we can just ask for a new one. "
   ]
  },
  {
   "cell_type": "code",
   "execution_count": null,
   "metadata": {},
   "outputs": [],
   "source": [
    "val v0 = new Vertex"
   ]
  },
  {
   "cell_type": "markdown",
   "metadata": {},
   "source": [
    "Alternatively, we can declare a new object."
   ]
  },
  {
   "cell_type": "code",
   "execution_count": null,
   "metadata": {},
   "outputs": [],
   "source": [
    "object v1 extends Vertex"
   ]
  },
  {
   "cell_type": "markdown",
   "metadata": {},
   "source": [
    "## Edges\n",
    "\n",
    "Edges come in pairs, an edge and the same with the opposite orientation (i.e., flipped). Further, each edge has an initial and terminal vertex. We can also describe the boundary as a formal sum. This is _trait_, i.e., an _abstract class_. This means some of its fields are undefined, and have to be defined in a subclass/object with this trait.\n",
    "\n",
    "```scala\n",
    "trait Edge {\n",
    "  /**\n",
    "   * the same edge with the opposite orientation.\n",
    "   */\n",
    "  def flip: Edge\n",
    "\n",
    "  def terminal: Vertex\n",
    "\n",
    "  def initial: Vertex\n",
    "\n",
    "  def del : FormalSum[Vertex] = FormalSum.reduced(Vector(terminal -> 1, initial -> -1))\n",
    "}\n",
    "```"
   ]
  },
  {
   "cell_type": "markdown",
   "metadata": {},
   "source": [
    "### A loop\n",
    "\n",
    "We construct a _loop_ at `v0`, i.e., an edge beginning and ending at `v0`. But note that we cannot construct just one, as we need to flip it. Instead we will construct a pair of edges, each a flip of the other. "
   ]
  },
  {
   "cell_type": "code",
   "execution_count": null,
   "metadata": {},
   "outputs": [],
   "source": [
    "object E1 extends Edge{\n",
    "    lazy val flip = E2\n",
    "    \n",
    "    val terminal = v0\n",
    "    \n",
    "    val initial = v0        \n",
    "}\n",
    "\n",
    "object E2 extends Edge{\n",
    "    lazy val flip = E1\n",
    "    \n",
    "    val terminal = v0\n",
    "    \n",
    "    val initial = v0        \n",
    "}"
   ]
  },
  {
   "cell_type": "markdown",
   "metadata": {},
   "source": [
    "Note a key feature above - we have defined the flip of each of the edges as `lazy val`. This means this is not computed until it is needed. Otherwise defining each of `E1` and `E2` leads to an infinite loop. \n",
    "\n",
    "We can see some computations on demand."
   ]
  },
  {
   "cell_type": "code",
   "execution_count": null,
   "metadata": {},
   "outputs": [],
   "source": [
    "E1.flip"
   ]
  },
  {
   "cell_type": "code",
   "execution_count": null,
   "metadata": {},
   "outputs": [],
   "source": [
    "E1.flip == E2"
   ]
  },
  {
   "cell_type": "code",
   "execution_count": null,
   "metadata": {},
   "outputs": [],
   "source": [
    "E1.flip.flip == E1"
   ]
  },
  {
   "cell_type": "code",
   "execution_count": null,
   "metadata": {},
   "outputs": [],
   "source": [
    "E1 == E2"
   ]
  },
  {
   "cell_type": "markdown",
   "metadata": {},
   "source": [
    "## Torus time\n",
    "\n",
    "We now turn to constructing a torus. Recall that this has a single vertex, two edges that become loops and a single face. We will follow the same pattern as above but give things nicer names. We will also make objects `case object` definitions. This means the names are cleaner (as is equality)."
   ]
  },
  {
   "cell_type": "code",
   "execution_count": null,
   "metadata": {},
   "outputs": [],
   "source": [
    "case object V extends Vertex"
   ]
  },
  {
   "cell_type": "code",
   "execution_count": null,
   "metadata": {},
   "outputs": [],
   "source": [
    "case object A extends Edge{\n",
    "    lazy val flip = Abar\n",
    "    \n",
    "    val terminal = v0\n",
    "    \n",
    "    val initial = v0        \n",
    "}\n",
    "\n",
    "case object Abar extends Edge{\n",
    "    lazy val flip = A\n",
    "    \n",
    "    val terminal = v0\n",
    "    \n",
    "    val initial = v0        \n",
    "}"
   ]
  },
  {
   "cell_type": "code",
   "execution_count": null,
   "metadata": {},
   "outputs": [],
   "source": [
    "case object B extends Edge{\n",
    "    lazy val flip = Bbar\n",
    "    \n",
    "    val terminal = v0\n",
    "    \n",
    "    val initial = v0        \n",
    "}\n",
    "\n",
    "case object Bbar extends Edge{\n",
    "    lazy val flip = B\n",
    "    \n",
    "    val terminal = v0\n",
    "    \n",
    "    val initial = v0        \n",
    "}\n"
   ]
  },
  {
   "cell_type": "markdown",
   "metadata": {},
   "source": [
    "Now we construct the face of the torus. Here is an extract from the code for defining a polygon. We have omitted  _concrete_ methods, i.e., methods in the trait that are defined, so need not be implemented in subclasses/objects.\n",
    "\n",
    "```scala\n",
    "trait Polygon extends TwoComplex {\n",
    "  val sides: Int\n",
    "\n",
    "  val boundary: Vector[Edge]\n",
    "\n",
    "  val vertices: Set[Vertex]\n",
    "}\n",
    "```\n",
    "\n",
    "Note that this is a two-complex, so we are constructing a torus."
   ]
  },
  {
   "cell_type": "code",
   "execution_count": null,
   "metadata": {},
   "outputs": [],
   "source": [
    "case object Torus extends Polygon{\n",
    "    val sides = 4\n",
    "    \n",
    "    val boundary = Vector(A, B, Abar, Bbar)\n",
    "    \n",
    "    val vertices = Set(V)\n",
    "}"
   ]
  },
  {
   "cell_type": "code",
   "execution_count": null,
   "metadata": {},
   "outputs": [],
   "source": [
    "Torus.faces"
   ]
  },
  {
   "cell_type": "code",
   "execution_count": null,
   "metadata": {},
   "outputs": [],
   "source": [
    "Torus.edges"
   ]
  },
  {
   "cell_type": "markdown",
   "metadata": {},
   "source": [
    "Note that there are subclasses that let us construct more directly, but for now (i.e. as of Jan 13, 2020) they are not sufficient. We took a more direct approach to illustrate the structures."
   ]
  }
 ],
 "metadata": {
  "kernelspec": {
   "display_name": "scala-2.13",
   "language": "scala",
   "name": "scala-2.13"
  },
  "language_info": {
   "codemirror_mode": "text/x-scala",
   "file_extension": ".scala",
   "mimetype": "text/x-scala",
   "name": "scala",
   "nbconvert_exporter": "script",
   "version": "2.13.1"
  }
 },
 "nbformat": 4,
 "nbformat_minor": 2
}
