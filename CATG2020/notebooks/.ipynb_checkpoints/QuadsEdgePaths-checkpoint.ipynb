{
 "cells": [
  {
   "cell_type": "markdown",
   "metadata": {},
   "source": [
    "## Quadrangulations and Edge paths\n",
    "\n",
    "This is a demo of code due to Arka Ghosh and Chinmaya Kausik"
   ]
  },
  {
   "cell_type": "code",
   "execution_count": 1,
   "metadata": {},
   "outputs": [
    {
     "data": {
      "text/plain": [
       "\u001b[32mimport \u001b[39m\u001b[36m$cp.$                               \n",
       "\u001b[39m\n",
       "\u001b[32mimport \u001b[39m\u001b[36msuperficial._\u001b[39m"
      ]
     },
     "execution_count": 1,
     "metadata": {},
     "output_type": "execute_result"
    }
   ],
   "source": [
    "import $cp.bin.`superficial-59af60d121.jar`\n",
    "import superficial._"
   ]
  },
  {
   "cell_type": "code",
   "execution_count": 2,
   "metadata": {},
   "outputs": [
    {
     "data": {
      "text/plain": [
       "\u001b[32mimport \u001b[39m\u001b[36mSphereComplex._\u001b[39m"
      ]
     },
     "execution_count": 2,
     "metadata": {},
     "output_type": "execute_result"
    }
   ],
   "source": [
    "import SphereComplex._"
   ]
  },
  {
   "cell_type": "code",
   "execution_count": 3,
   "metadata": {},
   "outputs": [
    {
     "data": {
      "text/plain": [
       "\u001b[32mimport \u001b[39m\u001b[36mTriangles._\u001b[39m"
      ]
     },
     "execution_count": 3,
     "metadata": {},
     "output_type": "execute_result"
    }
   ],
   "source": [
    "import Triangles._"
   ]
  },
  {
   "cell_type": "code",
   "execution_count": 4,
   "metadata": {},
   "outputs": [
    {
     "data": {
      "text/plain": [
       "\u001b[32mimport \u001b[39m\u001b[36mNonPosQuad._\n",
       "\u001b[39m"
      ]
     },
     "execution_count": 4,
     "metadata": {},
     "output_type": "execute_result"
    }
   ],
   "source": [
    "import NonPosQuad._\n"
   ]
  },
  {
   "cell_type": "code",
   "execution_count": 5,
   "metadata": {},
   "outputs": [
    {
     "data": {
      "text/plain": [
       "\u001b[32mimport \u001b[39m\u001b[36mEdgePath._\n",
       "\u001b[39m"
      ]
     },
     "execution_count": 5,
     "metadata": {},
     "output_type": "execute_result"
    }
   ],
   "source": [
    "import EdgePath._\n"
   ]
  },
  {
   "cell_type": "code",
   "execution_count": 6,
   "metadata": {},
   "outputs": [
    {
     "data": {
      "text/plain": [
       "\u001b[32mimport \u001b[39m\u001b[36mQuadrangulation._\u001b[39m"
      ]
     },
     "execution_count": 6,
     "metadata": {},
     "output_type": "execute_result"
    }
   ],
   "source": [
    "import Quadrangulation._"
   ]
  },
  {
   "cell_type": "code",
   "execution_count": 7,
   "metadata": {},
   "outputs": [
    {
     "data": {
      "text/plain": [
       "\u001b[32mimport \u001b[39m\u001b[36mStandardSurface._\n",
       "\u001b[39m"
      ]
     },
     "execution_count": 7,
     "metadata": {},
     "output_type": "execute_result"
    }
   ],
   "source": [
    "import StandardSurface._\n"
   ]
  },
  {
   "cell_type": "code",
   "execution_count": 8,
   "metadata": {},
   "outputs": [
    {
     "data": {
      "text/plain": [
       "\u001b[32mimport \u001b[39m\u001b[36mSvgPlot._\n",
       "\u001b[39m"
      ]
     },
     "execution_count": 8,
     "metadata": {},
     "output_type": "execute_result"
    }
   ],
   "source": [
    "import SvgPlot._\n"
   ]
  },
  {
   "cell_type": "code",
   "execution_count": 9,
   "metadata": {},
   "outputs": [
    {
     "data": {
      "text/plain": [
       "\u001b[32mimport \u001b[39m\u001b[36malmond.interpreter.api._\u001b[39m"
      ]
     },
     "execution_count": 9,
     "metadata": {},
     "output_type": "execute_result"
    }
   ],
   "source": [
    "import almond.interpreter.api._"
   ]
  },
  {
   "cell_type": "code",
   "execution_count": 10,
   "metadata": {},
   "outputs": [
    {
     "data": {
      "text/plain": [
       "defined \u001b[32mfunction\u001b[39m \u001b[36mshowPlot\u001b[39m"
      ]
     },
     "execution_count": 10,
     "metadata": {},
     "output_type": "execute_result"
    }
   ],
   "source": [
    "def showPlot(c: TwoComplex) = kernel.publish.display(DisplayData.svg(SvgPlot.plotComplex(c).toString))"
   ]
  },
  {
   "cell_type": "code",
   "execution_count": 12,
   "metadata": {},
   "outputs": [
    {
     "data": {
      "image/svg+xml": [
       "<svg version=\"1.1\" baseProfile=\"full\" viewBox=\"0 0 300 150\" xmlns=\"http://www.w3.org/2000/svg\">\n",
       "           <line x1=\"125\" x2=\"25\" y1=\"75\" y2=\"75\" stroke=\"hsl(0, 100%, 50%)\" stroke-width=\"1\" xmlns=\"http://www.w3.org/2000/svg\"></line><line x1=\"50\" x2=\"53\" y1=\"75\" y2=\"72\" stroke=\"black\" stroke-width=\"1\" xmlns=\"http://www.w3.org/2000/svg\"></line><line x1=\"50\" x2=\"53\" y1=\"75\" y2=\"78\" stroke=\"black\" stroke-width=\"1\" xmlns=\"http://www.w3.org/2000/svg\"></line><text x=\"100\" y=\"75\">1</text><circle cx=\"125\" cy=\"75\" r=\"3\" fill=\"hsl(40, 100%, 50%)\"/><line x1=\"25\" x2=\"125\" y1=\"75\" y2=\"74\" stroke=\"hsl(81, 100%, 50%)\" stroke-width=\"1\" xmlns=\"http://www.w3.org/2000/svg\"></line><line x1=\"100\" x2=\"97\" y1=\"74\" y2=\"77\" stroke=\"black\" stroke-width=\"1\" xmlns=\"http://www.w3.org/2000/svg\"></line><line x1=\"100\" x2=\"97\" y1=\"74\" y2=\"71\" stroke=\"black\" stroke-width=\"1\" xmlns=\"http://www.w3.org/2000/svg\"></line><text x=\"50\" y=\"75\">2</text><circle cx=\"25\" cy=\"75\" r=\"3\" fill=\"hsl(121, 100%, 50%)\"/><line x1=\"175\" x2=\"275\" y1=\"75\" y2=\"75\" stroke=\"hsl(81, 100%, 50%)\" stroke-width=\"1\" xmlns=\"http://www.w3.org/2000/svg\"></line><line x1=\"250\" x2=\"247\" y1=\"75\" y2=\"78\" stroke=\"black\" stroke-width=\"1\" xmlns=\"http://www.w3.org/2000/svg\"></line><line x1=\"250\" x2=\"247\" y1=\"75\" y2=\"72\" stroke=\"black\" stroke-width=\"1\" xmlns=\"http://www.w3.org/2000/svg\"></line><text x=\"200\" y=\"75\">2</text><circle cx=\"275\" cy=\"75\" r=\"3\" fill=\"hsl(40, 100%, 50%)\"/><line x1=\"275\" x2=\"175\" y1=\"74\" y2=\"75\" stroke=\"hsl(0, 100%, 50%)\" stroke-width=\"1\" xmlns=\"http://www.w3.org/2000/svg\"></line><line x1=\"200\" x2=\"203\" y1=\"75\" y2=\"72\" stroke=\"black\" stroke-width=\"1\" xmlns=\"http://www.w3.org/2000/svg\"></line><line x1=\"200\" x2=\"203\" y1=\"75\" y2=\"78\" stroke=\"black\" stroke-width=\"1\" xmlns=\"http://www.w3.org/2000/svg\"></line><text x=\"250\" y=\"74\">1</text><circle cx=\"175\" cy=\"75\" r=\"3\" fill=\"hsl(121, 100%, 50%)\"/> </svg>"
      ]
     },
     "metadata": {},
     "output_type": "display_data"
    }
   ],
   "source": [
    "showPlot(doubleBigon)\n"
   ]
  },
  {
   "cell_type": "code",
   "execution_count": 13,
   "metadata": {},
   "outputs": [
    {
     "data": {
      "image/svg+xml": [
       "<svg version=\"1.1\" baseProfile=\"full\" viewBox=\"0 0 300 150\" xmlns=\"http://www.w3.org/2000/svg\">\n",
       "           <line x1=\"125\" x2=\"75\" y1=\"75\" y2=\"125\" stroke=\"hsl(0, 100%, 50%)\" stroke-width=\"1\" xmlns=\"http://www.w3.org/2000/svg\"></line><line x1=\"87\" x2=\"87\" y1=\"112\" y2=\"108\" stroke=\"black\" stroke-width=\"1\" xmlns=\"http://www.w3.org/2000/svg\"></line><line x1=\"87\" x2=\"91\" y1=\"112\" y2=\"112\" stroke=\"black\" stroke-width=\"1\" xmlns=\"http://www.w3.org/2000/svg\"></line><text x=\"112\" y=\"87\">1</text><circle cx=\"125\" cy=\"75\" r=\"3\" fill=\"hsl(40, 100%, 50%)\"/><line x1=\"25\" x2=\"75\" y1=\"75\" y2=\"125\" stroke=\"hsl(81, 100%, 50%)\" stroke-width=\"1\" xmlns=\"http://www.w3.org/2000/svg\"></line><line x1=\"62\" x2=\"58\" y1=\"112\" y2=\"112\" stroke=\"black\" stroke-width=\"1\" xmlns=\"http://www.w3.org/2000/svg\"></line><line x1=\"62\" x2=\"62\" y1=\"112\" y2=\"108\" stroke=\"black\" stroke-width=\"1\" xmlns=\"http://www.w3.org/2000/svg\"></line><text x=\"37\" y=\"87\">2</text><circle cx=\"75\" cy=\"125\" r=\"3\" fill=\"hsl(121, 100%, 50%)\"/><line x1=\"25\" x2=\"74\" y1=\"75\" y2=\"25\" stroke=\"hsl(162, 100%, 50%)\" stroke-width=\"1\" xmlns=\"http://www.w3.org/2000/svg\"></line><line x1=\"62\" x2=\"62\" y1=\"37\" y2=\"41\" stroke=\"black\" stroke-width=\"1\" xmlns=\"http://www.w3.org/2000/svg\"></line><line x1=\"62\" x2=\"58\" y1=\"37\" y2=\"37\" stroke=\"black\" stroke-width=\"1\" xmlns=\"http://www.w3.org/2000/svg\"></line><text x=\"37\" y=\"62\">3</text><circle cx=\"25\" cy=\"75\" r=\"3\" fill=\"hsl(202, 100%, 50%)\"/><line x1=\"125\" x2=\"74\" y1=\"74\" y2=\"25\" stroke=\"hsl(243, 100%, 50%)\" stroke-width=\"1\" xmlns=\"http://www.w3.org/2000/svg\"></line><line x1=\"87\" x2=\"91\" y1=\"37\" y2=\"37\" stroke=\"black\" stroke-width=\"1\" xmlns=\"http://www.w3.org/2000/svg\"></line><line x1=\"87\" x2=\"87\" y1=\"37\" y2=\"41\" stroke=\"black\" stroke-width=\"1\" xmlns=\"http://www.w3.org/2000/svg\"></line><text x=\"112\" y=\"62\">4</text><circle cx=\"74\" cy=\"25\" r=\"3\" fill=\"hsl(283, 100%, 50%)\"/><line x1=\"275\" x2=\"225\" y1=\"75\" y2=\"125\" stroke=\"hsl(243, 100%, 50%)\" stroke-width=\"1\" xmlns=\"http://www.w3.org/2000/svg\"></line><line x1=\"237\" x2=\"237\" y1=\"112\" y2=\"108\" stroke=\"black\" stroke-width=\"1\" xmlns=\"http://www.w3.org/2000/svg\"></line><line x1=\"237\" x2=\"241\" y1=\"112\" y2=\"112\" stroke=\"black\" stroke-width=\"1\" xmlns=\"http://www.w3.org/2000/svg\"></line><text x=\"262\" y=\"87\">4</text><circle cx=\"275\" cy=\"75\" r=\"3\" fill=\"hsl(40, 100%, 50%)\"/><line x1=\"175\" x2=\"225\" y1=\"75\" y2=\"125\" stroke=\"hsl(162, 100%, 50%)\" stroke-width=\"1\" xmlns=\"http://www.w3.org/2000/svg\"></line><line x1=\"212\" x2=\"208\" y1=\"112\" y2=\"112\" stroke=\"black\" stroke-width=\"1\" xmlns=\"http://www.w3.org/2000/svg\"></line><line x1=\"212\" x2=\"212\" y1=\"112\" y2=\"108\" stroke=\"black\" stroke-width=\"1\" xmlns=\"http://www.w3.org/2000/svg\"></line><text x=\"187\" y=\"87\">3</text><circle cx=\"225\" cy=\"125\" r=\"3\" fill=\"hsl(283, 100%, 50%)\"/><line x1=\"175\" x2=\"225\" y1=\"75\" y2=\"25\" stroke=\"hsl(81, 100%, 50%)\" stroke-width=\"1\" xmlns=\"http://www.w3.org/2000/svg\"></line><line x1=\"212\" x2=\"212\" y1=\"37\" y2=\"41\" stroke=\"black\" stroke-width=\"1\" xmlns=\"http://www.w3.org/2000/svg\"></line><line x1=\"212\" x2=\"208\" y1=\"37\" y2=\"37\" stroke=\"black\" stroke-width=\"1\" xmlns=\"http://www.w3.org/2000/svg\"></line><text x=\"187\" y=\"62\">2</text><circle cx=\"175\" cy=\"75\" r=\"3\" fill=\"hsl(202, 100%, 50%)\"/><line x1=\"275\" x2=\"225\" y1=\"74\" y2=\"25\" stroke=\"hsl(0, 100%, 50%)\" stroke-width=\"1\" xmlns=\"http://www.w3.org/2000/svg\"></line><line x1=\"237\" x2=\"241\" y1=\"37\" y2=\"37\" stroke=\"black\" stroke-width=\"1\" xmlns=\"http://www.w3.org/2000/svg\"></line><line x1=\"237\" x2=\"237\" y1=\"37\" y2=\"41\" stroke=\"black\" stroke-width=\"1\" xmlns=\"http://www.w3.org/2000/svg\"></line><text x=\"262\" y=\"62\">1</text><circle cx=\"225\" cy=\"25\" r=\"3\" fill=\"hsl(121, 100%, 50%)\"/> </svg>"
      ]
     },
     "metadata": {},
     "output_type": "display_data"
    }
   ],
   "source": [
    "showPlot(quadrangulate(doubleBigon)._1)"
   ]
  },
  {
   "cell_type": "code",
   "execution_count": 14,
   "metadata": {},
   "outputs": [
    {
     "data": {
      "image/svg+xml": [
       "<svg version=\"1.1\" baseProfile=\"full\" viewBox=\"0 0 300 150\" xmlns=\"http://www.w3.org/2000/svg\">\n",
       "           <line x1=\"125\" x2=\"50\" y1=\"75\" y2=\"118\" stroke=\"hsl(0, 100%, 50%)\" stroke-width=\"1\" xmlns=\"http://www.w3.org/2000/svg\"></line><line x1=\"68\" x2=\"69\" y1=\"107\" y2=\"103\" stroke=\"black\" stroke-width=\"1\" xmlns=\"http://www.w3.org/2000/svg\"></line><line x1=\"68\" x2=\"72\" y1=\"107\" y2=\"108\" stroke=\"black\" stroke-width=\"1\" xmlns=\"http://www.w3.org/2000/svg\"></line><text x=\"106\" y=\"85\">1</text><circle cx=\"125\" cy=\"75\" r=\"3\" fill=\"hsl(40, 100%, 50%)\"/><line x1=\"50\" x2=\"49\" y1=\"118\" y2=\"31\" stroke=\"hsl(81, 100%, 50%)\" stroke-width=\"1\" xmlns=\"http://www.w3.org/2000/svg\"></line><line x1=\"49\" x2=\"52\" y1=\"53\" y2=\"56\" stroke=\"black\" stroke-width=\"1\" xmlns=\"http://www.w3.org/2000/svg\"></line><line x1=\"49\" x2=\"46\" y1=\"53\" y2=\"56\" stroke=\"black\" stroke-width=\"1\" xmlns=\"http://www.w3.org/2000/svg\"></line><text x=\"50\" y=\"96\">2</text><circle cx=\"50\" cy=\"118\" r=\"3\" fill=\"hsl(121, 100%, 50%)\"/><line x1=\"49\" x2=\"125\" y1=\"31\" y2=\"74\" stroke=\"hsl(162, 100%, 50%)\" stroke-width=\"1\" xmlns=\"http://www.w3.org/2000/svg\"></line><line x1=\"106\" x2=\"102\" y1=\"64\" y2=\"65\" stroke=\"black\" stroke-width=\"1\" xmlns=\"http://www.w3.org/2000/svg\"></line><line x1=\"106\" x2=\"105\" y1=\"64\" y2=\"60\" stroke=\"black\" stroke-width=\"1\" xmlns=\"http://www.w3.org/2000/svg\"></line><text x=\"68\" y=\"42\">3</text><circle cx=\"49\" cy=\"31\" r=\"3\" fill=\"hsl(202, 100%, 50%)\"/><line x1=\"200\" x2=\"275\" y1=\"118\" y2=\"75\" stroke=\"hsl(162, 100%, 50%)\" stroke-width=\"1\" xmlns=\"http://www.w3.org/2000/svg\"></line><line x1=\"256\" x2=\"255\" y1=\"85\" y2=\"89\" stroke=\"black\" stroke-width=\"1\" xmlns=\"http://www.w3.org/2000/svg\"></line><line x1=\"256\" x2=\"252\" y1=\"85\" y2=\"84\" stroke=\"black\" stroke-width=\"1\" xmlns=\"http://www.w3.org/2000/svg\"></line><text x=\"218\" y=\"107\">3</text><circle cx=\"275\" cy=\"75\" r=\"3\" fill=\"hsl(40, 100%, 50%)\"/><line x1=\"199\" x2=\"200\" y1=\"31\" y2=\"118\" stroke=\"hsl(81, 100%, 50%)\" stroke-width=\"1\" xmlns=\"http://www.w3.org/2000/svg\"></line><line x1=\"200\" x2=\"197\" y1=\"96\" y2=\"93\" stroke=\"black\" stroke-width=\"1\" xmlns=\"http://www.w3.org/2000/svg\"></line><line x1=\"200\" x2=\"203\" y1=\"96\" y2=\"93\" stroke=\"black\" stroke-width=\"1\" xmlns=\"http://www.w3.org/2000/svg\"></line><text x=\"199\" y=\"53\">2</text><circle cx=\"200\" cy=\"118\" r=\"3\" fill=\"hsl(202, 100%, 50%)\"/><line x1=\"275\" x2=\"199\" y1=\"74\" y2=\"31\" stroke=\"hsl(0, 100%, 50%)\" stroke-width=\"1\" xmlns=\"http://www.w3.org/2000/svg\"></line><line x1=\"218\" x2=\"222\" y1=\"42\" y2=\"41\" stroke=\"black\" stroke-width=\"1\" xmlns=\"http://www.w3.org/2000/svg\"></line><line x1=\"218\" x2=\"219\" y1=\"42\" y2=\"46\" stroke=\"black\" stroke-width=\"1\" xmlns=\"http://www.w3.org/2000/svg\"></line><text x=\"256\" y=\"64\">1</text><circle cx=\"199\" cy=\"31\" r=\"3\" fill=\"hsl(121, 100%, 50%)\"/> </svg>"
      ]
     },
     "metadata": {},
     "output_type": "display_data"
    }
   ],
   "source": [
    "showPlot(doubleTriangle)"
   ]
  },
  {
   "cell_type": "code",
   "execution_count": 15,
   "metadata": {},
   "outputs": [
    {
     "data": {
      "image/svg+xml": [
       "<svg version=\"1.1\" baseProfile=\"full\" viewBox=\"0 0 450 150\" xmlns=\"http://www.w3.org/2000/svg\">\n",
       "           <line x1=\"125\" x2=\"75\" y1=\"75\" y2=\"125\" stroke=\"hsl(0, 100%, 50%)\" stroke-width=\"1\" xmlns=\"http://www.w3.org/2000/svg\"></line><line x1=\"87\" x2=\"87\" y1=\"112\" y2=\"108\" stroke=\"black\" stroke-width=\"1\" xmlns=\"http://www.w3.org/2000/svg\"></line><line x1=\"87\" x2=\"91\" y1=\"112\" y2=\"112\" stroke=\"black\" stroke-width=\"1\" xmlns=\"http://www.w3.org/2000/svg\"></line><text x=\"112\" y=\"87\">1</text><circle cx=\"125\" cy=\"75\" r=\"3\" fill=\"hsl(121, 100%, 50%)\"/><line x1=\"25\" x2=\"75\" y1=\"75\" y2=\"125\" stroke=\"hsl(81, 100%, 50%)\" stroke-width=\"1\" xmlns=\"http://www.w3.org/2000/svg\"></line><line x1=\"62\" x2=\"58\" y1=\"112\" y2=\"112\" stroke=\"black\" stroke-width=\"1\" xmlns=\"http://www.w3.org/2000/svg\"></line><line x1=\"62\" x2=\"62\" y1=\"112\" y2=\"108\" stroke=\"black\" stroke-width=\"1\" xmlns=\"http://www.w3.org/2000/svg\"></line><text x=\"37\" y=\"87\">2</text><circle cx=\"75\" cy=\"125\" r=\"3\" fill=\"hsl(202, 100%, 50%)\"/><line x1=\"25\" x2=\"74\" y1=\"75\" y2=\"25\" stroke=\"hsl(162, 100%, 50%)\" stroke-width=\"1\" xmlns=\"http://www.w3.org/2000/svg\"></line><line x1=\"62\" x2=\"62\" y1=\"37\" y2=\"41\" stroke=\"black\" stroke-width=\"1\" xmlns=\"http://www.w3.org/2000/svg\"></line><line x1=\"62\" x2=\"58\" y1=\"37\" y2=\"37\" stroke=\"black\" stroke-width=\"1\" xmlns=\"http://www.w3.org/2000/svg\"></line><text x=\"37\" y=\"62\">3</text><circle cx=\"25\" cy=\"75\" r=\"3\" fill=\"hsl(283, 100%, 50%)\"/><line x1=\"125\" x2=\"74\" y1=\"74\" y2=\"25\" stroke=\"hsl(243, 100%, 50%)\" stroke-width=\"1\" xmlns=\"http://www.w3.org/2000/svg\"></line><line x1=\"87\" x2=\"91\" y1=\"37\" y2=\"37\" stroke=\"black\" stroke-width=\"1\" xmlns=\"http://www.w3.org/2000/svg\"></line><line x1=\"87\" x2=\"87\" y1=\"37\" y2=\"41\" stroke=\"black\" stroke-width=\"1\" xmlns=\"http://www.w3.org/2000/svg\"></line><text x=\"112\" y=\"62\">4</text><circle cx=\"74\" cy=\"25\" r=\"3\" fill=\"hsl(40, 100%, 50%)\"/><line x1=\"275\" x2=\"225\" y1=\"75\" y2=\"125\" stroke=\"hsl(324, 100%, 50%)\" stroke-width=\"1\" xmlns=\"http://www.w3.org/2000/svg\"></line><line x1=\"237\" x2=\"237\" y1=\"112\" y2=\"108\" stroke=\"black\" stroke-width=\"1\" xmlns=\"http://www.w3.org/2000/svg\"></line><line x1=\"237\" x2=\"241\" y1=\"112\" y2=\"112\" stroke=\"black\" stroke-width=\"1\" xmlns=\"http://www.w3.org/2000/svg\"></line><text x=\"262\" y=\"87\">5</text><circle cx=\"275\" cy=\"75\" r=\"3\" fill=\"hsl(121, 100%, 50%)\"/><line x1=\"175\" x2=\"225\" y1=\"75\" y2=\"125\" stroke=\"hsl(45, 100%, 50%)\" stroke-width=\"1\" xmlns=\"http://www.w3.org/2000/svg\"></line><line x1=\"212\" x2=\"208\" y1=\"112\" y2=\"112\" stroke=\"black\" stroke-width=\"1\" xmlns=\"http://www.w3.org/2000/svg\"></line><line x1=\"212\" x2=\"212\" y1=\"112\" y2=\"108\" stroke=\"black\" stroke-width=\"1\" xmlns=\"http://www.w3.org/2000/svg\"></line><text x=\"187\" y=\"87\">6</text><circle cx=\"225\" cy=\"125\" r=\"3\" fill=\"hsl(4, 100%, 50%)\"/><line x1=\"175\" x2=\"225\" y1=\"75\" y2=\"25\" stroke=\"hsl(81, 100%, 50%)\" stroke-width=\"1\" xmlns=\"http://www.w3.org/2000/svg\"></line><line x1=\"212\" x2=\"212\" y1=\"37\" y2=\"41\" stroke=\"black\" stroke-width=\"1\" xmlns=\"http://www.w3.org/2000/svg\"></line><line x1=\"212\" x2=\"208\" y1=\"37\" y2=\"37\" stroke=\"black\" stroke-width=\"1\" xmlns=\"http://www.w3.org/2000/svg\"></line><text x=\"187\" y=\"62\">2</text><circle cx=\"175\" cy=\"75\" r=\"3\" fill=\"hsl(283, 100%, 50%)\"/><line x1=\"275\" x2=\"225\" y1=\"74\" y2=\"25\" stroke=\"hsl(0, 100%, 50%)\" stroke-width=\"1\" xmlns=\"http://www.w3.org/2000/svg\"></line><line x1=\"237\" x2=\"241\" y1=\"37\" y2=\"37\" stroke=\"black\" stroke-width=\"1\" xmlns=\"http://www.w3.org/2000/svg\"></line><line x1=\"237\" x2=\"237\" y1=\"37\" y2=\"41\" stroke=\"black\" stroke-width=\"1\" xmlns=\"http://www.w3.org/2000/svg\"></line><text x=\"262\" y=\"62\">1</text><circle cx=\"225\" cy=\"25\" r=\"3\" fill=\"hsl(202, 100%, 50%)\"/><line x1=\"425\" x2=\"375\" y1=\"75\" y2=\"125\" stroke=\"hsl(243, 100%, 50%)\" stroke-width=\"1\" xmlns=\"http://www.w3.org/2000/svg\"></line><line x1=\"387\" x2=\"387\" y1=\"112\" y2=\"108\" stroke=\"black\" stroke-width=\"1\" xmlns=\"http://www.w3.org/2000/svg\"></line><line x1=\"387\" x2=\"391\" y1=\"112\" y2=\"112\" stroke=\"black\" stroke-width=\"1\" xmlns=\"http://www.w3.org/2000/svg\"></line><text x=\"412\" y=\"87\">4</text><circle cx=\"425\" cy=\"75\" r=\"3\" fill=\"hsl(121, 100%, 50%)\"/><line x1=\"325\" x2=\"375\" y1=\"75\" y2=\"125\" stroke=\"hsl(162, 100%, 50%)\" stroke-width=\"1\" xmlns=\"http://www.w3.org/2000/svg\"></line><line x1=\"362\" x2=\"358\" y1=\"112\" y2=\"112\" stroke=\"black\" stroke-width=\"1\" xmlns=\"http://www.w3.org/2000/svg\"></line><line x1=\"362\" x2=\"362\" y1=\"112\" y2=\"108\" stroke=\"black\" stroke-width=\"1\" xmlns=\"http://www.w3.org/2000/svg\"></line><text x=\"337\" y=\"87\">3</text><circle cx=\"375\" cy=\"125\" r=\"3\" fill=\"hsl(40, 100%, 50%)\"/><line x1=\"325\" x2=\"375\" y1=\"75\" y2=\"25\" stroke=\"hsl(45, 100%, 50%)\" stroke-width=\"1\" xmlns=\"http://www.w3.org/2000/svg\"></line><line x1=\"362\" x2=\"362\" y1=\"37\" y2=\"41\" stroke=\"black\" stroke-width=\"1\" xmlns=\"http://www.w3.org/2000/svg\"></line><line x1=\"362\" x2=\"358\" y1=\"37\" y2=\"37\" stroke=\"black\" stroke-width=\"1\" xmlns=\"http://www.w3.org/2000/svg\"></line><text x=\"337\" y=\"62\">6</text><circle cx=\"325\" cy=\"75\" r=\"3\" fill=\"hsl(283, 100%, 50%)\"/><line x1=\"425\" x2=\"375\" y1=\"74\" y2=\"25\" stroke=\"hsl(324, 100%, 50%)\" stroke-width=\"1\" xmlns=\"http://www.w3.org/2000/svg\"></line><line x1=\"387\" x2=\"391\" y1=\"37\" y2=\"37\" stroke=\"black\" stroke-width=\"1\" xmlns=\"http://www.w3.org/2000/svg\"></line><line x1=\"387\" x2=\"387\" y1=\"37\" y2=\"41\" stroke=\"black\" stroke-width=\"1\" xmlns=\"http://www.w3.org/2000/svg\"></line><text x=\"412\" y=\"62\">5</text><circle cx=\"375\" cy=\"25\" r=\"3\" fill=\"hsl(4, 100%, 50%)\"/> </svg>"
      ]
     },
     "metadata": {},
     "output_type": "display_data"
    }
   ],
   "source": [
    "showPlot(quadrangulate(doubleTriangle)._1)\n"
   ]
  },
  {
   "cell_type": "code",
   "execution_count": 16,
   "metadata": {},
   "outputs": [
    {
     "data": {
      "text/plain": [
       "\u001b[36mgenus2\u001b[39m: \u001b[32mStandardSurface\u001b[39m = superficial.StandardSurface@5bd01cc7"
      ]
     },
     "execution_count": 16,
     "metadata": {},
     "output_type": "execute_result"
    }
   ],
   "source": [
    "val genus2 = new StandardSurface(2)"
   ]
  },
  {
   "cell_type": "code",
   "execution_count": 17,
   "metadata": {},
   "outputs": [
    {
     "data": {
      "text/plain": [
       "\u001b[36mquad\u001b[39m: \u001b[32mTwoComplex\u001b[39m = superficial.Quadrangulation$quad$1$@7569521b"
      ]
     },
     "execution_count": 17,
     "metadata": {},
     "output_type": "execute_result"
    }
   ],
   "source": [
    "val quad = quadrangulate(genus2)._1"
   ]
  },
  {
   "cell_type": "code",
   "execution_count": 18,
   "metadata": {},
   "outputs": [
    {
     "data": {
      "image/svg+xml": [
       "<svg version=\"1.1\" baseProfile=\"full\" viewBox=\"0 0 150 150\" xmlns=\"http://www.w3.org/2000/svg\">\n",
       "           <line x1=\"125\" x2=\"110\" y1=\"75\" y2=\"110\" stroke=\"hsl(0, 100%, 50%)\" stroke-width=\"1\" xmlns=\"http://www.w3.org/2000/svg\"></line><line x1=\"114\" x2=\"112\" y1=\"101\" y2=\"97\" stroke=\"black\" stroke-width=\"1\" xmlns=\"http://www.w3.org/2000/svg\"></line><line x1=\"114\" x2=\"117\" y1=\"101\" y2=\"99\" stroke=\"black\" stroke-width=\"1\" xmlns=\"http://www.w3.org/2000/svg\"></line><text x=\"121\" y=\"83\">1</text><circle cx=\"125\" cy=\"75\" r=\"3\" fill=\"hsl(40, 100%, 50%)\"/><line x1=\"110\" x2=\"75\" y1=\"110\" y2=\"125\" stroke=\"hsl(243, 100%, 50%)\" stroke-width=\"1\" xmlns=\"http://www.w3.org/2000/svg\"></line><line x1=\"83\" x2=\"85\" y1=\"121\" y2=\"117\" stroke=\"black\" stroke-width=\"1\" xmlns=\"http://www.w3.org/2000/svg\"></line><line x1=\"83\" x2=\"87\" y1=\"121\" y2=\"122\" stroke=\"black\" stroke-width=\"1\" xmlns=\"http://www.w3.org/2000/svg\"></line><text x=\"101\" y=\"114\">4</text><circle cx=\"110\" cy=\"110\" r=\"3\" fill=\"hsl(40, 100%, 50%)\"/><line x1=\"39\" x2=\"75\" y1=\"110\" y2=\"125\" stroke=\"hsl(0, 100%, 50%)\" stroke-width=\"1\" xmlns=\"http://www.w3.org/2000/svg\"></line><line x1=\"66\" x2=\"62\" y1=\"121\" y2=\"122\" stroke=\"black\" stroke-width=\"1\" xmlns=\"http://www.w3.org/2000/svg\"></line><line x1=\"66\" x2=\"64\" y1=\"121\" y2=\"117\" stroke=\"black\" stroke-width=\"1\" xmlns=\"http://www.w3.org/2000/svg\"></line><text x=\"48\" y=\"114\">1</text><circle cx=\"75\" cy=\"125\" r=\"3\" fill=\"hsl(40, 100%, 50%)\"/><line x1=\"25\" x2=\"39\" y1=\"75\" y2=\"110\" stroke=\"hsl(243, 100%, 50%)\" stroke-width=\"1\" xmlns=\"http://www.w3.org/2000/svg\"></line><line x1=\"35\" x2=\"32\" y1=\"101\" y2=\"99\" stroke=\"black\" stroke-width=\"1\" xmlns=\"http://www.w3.org/2000/svg\"></line><line x1=\"35\" x2=\"37\" y1=\"101\" y2=\"97\" stroke=\"black\" stroke-width=\"1\" xmlns=\"http://www.w3.org/2000/svg\"></line><text x=\"28\" y=\"83\">4</text><circle cx=\"39\" cy=\"110\" r=\"3\" fill=\"hsl(40, 100%, 50%)\"/><line x1=\"39\" x2=\"25\" y1=\"39\" y2=\"75\" stroke=\"hsl(81, 100%, 50%)\" stroke-width=\"1\" xmlns=\"http://www.w3.org/2000/svg\"></line><line x1=\"28\" x2=\"27\" y1=\"66\" y2=\"62\" stroke=\"black\" stroke-width=\"1\" xmlns=\"http://www.w3.org/2000/svg\"></line><line x1=\"28\" x2=\"32\" y1=\"66\" y2=\"64\" stroke=\"black\" stroke-width=\"1\" xmlns=\"http://www.w3.org/2000/svg\"></line><text x=\"35\" y=\"48\">2</text><circle cx=\"25\" cy=\"75\" r=\"3\" fill=\"hsl(40, 100%, 50%)\"/><line x1=\"74\" x2=\"39\" y1=\"25\" y2=\"39\" stroke=\"hsl(162, 100%, 50%)\" stroke-width=\"1\" xmlns=\"http://www.w3.org/2000/svg\"></line><line x1=\"48\" x2=\"50\" y1=\"35\" y2=\"32\" stroke=\"black\" stroke-width=\"1\" xmlns=\"http://www.w3.org/2000/svg\"></line><line x1=\"48\" x2=\"52\" y1=\"35\" y2=\"37\" stroke=\"black\" stroke-width=\"1\" xmlns=\"http://www.w3.org/2000/svg\"></line><text x=\"66\" y=\"28\">3</text><circle cx=\"39\" cy=\"39\" r=\"3\" fill=\"hsl(40, 100%, 50%)\"/><line x1=\"74\" x2=\"110\" y1=\"25\" y2=\"39\" stroke=\"hsl(81, 100%, 50%)\" stroke-width=\"1\" xmlns=\"http://www.w3.org/2000/svg\"></line><line x1=\"101\" x2=\"97\" y1=\"35\" y2=\"37\" stroke=\"black\" stroke-width=\"1\" xmlns=\"http://www.w3.org/2000/svg\"></line><line x1=\"101\" x2=\"99\" y1=\"35\" y2=\"32\" stroke=\"black\" stroke-width=\"1\" xmlns=\"http://www.w3.org/2000/svg\"></line><text x=\"83\" y=\"28\">2</text><circle cx=\"74\" cy=\"25\" r=\"3\" fill=\"hsl(40, 100%, 50%)\"/><line x1=\"110\" x2=\"125\" y1=\"39\" y2=\"74\" stroke=\"hsl(162, 100%, 50%)\" stroke-width=\"1\" xmlns=\"http://www.w3.org/2000/svg\"></line><line x1=\"121\" x2=\"117\" y1=\"66\" y2=\"64\" stroke=\"black\" stroke-width=\"1\" xmlns=\"http://www.w3.org/2000/svg\"></line><line x1=\"121\" x2=\"122\" y1=\"66\" y2=\"62\" stroke=\"black\" stroke-width=\"1\" xmlns=\"http://www.w3.org/2000/svg\"></line><text x=\"114\" y=\"48\">3</text><circle cx=\"110\" cy=\"39\" r=\"3\" fill=\"hsl(40, 100%, 50%)\"/> </svg>"
      ]
     },
     "metadata": {},
     "output_type": "display_data"
    }
   ],
   "source": [
    "showPlot(genus2)"
   ]
  },
  {
   "cell_type": "code",
   "execution_count": 20,
   "metadata": {},
   "outputs": [
    {
     "data": {
      "image/svg+xml": [
       "<svg version=\"1.1\" baseProfile=\"full\" viewBox=\"0 0 600 150\" xmlns=\"http://www.w3.org/2000/svg\">\n",
       "           <line x1=\"125\" x2=\"75\" y1=\"75\" y2=\"125\" stroke=\"hsl(0, 100%, 50%)\" stroke-width=\"1\" xmlns=\"http://www.w3.org/2000/svg\"></line><line x1=\"87\" x2=\"87\" y1=\"112\" y2=\"108\" stroke=\"black\" stroke-width=\"1\" xmlns=\"http://www.w3.org/2000/svg\"></line><line x1=\"87\" x2=\"91\" y1=\"112\" y2=\"112\" stroke=\"black\" stroke-width=\"1\" xmlns=\"http://www.w3.org/2000/svg\"></line><text x=\"112\" y=\"87\">1</text><circle cx=\"125\" cy=\"75\" r=\"3\" fill=\"hsl(40, 100%, 50%)\"/><line x1=\"25\" x2=\"75\" y1=\"75\" y2=\"125\" stroke=\"hsl(81, 100%, 50%)\" stroke-width=\"1\" xmlns=\"http://www.w3.org/2000/svg\"></line><line x1=\"62\" x2=\"58\" y1=\"112\" y2=\"112\" stroke=\"black\" stroke-width=\"1\" xmlns=\"http://www.w3.org/2000/svg\"></line><line x1=\"62\" x2=\"62\" y1=\"112\" y2=\"108\" stroke=\"black\" stroke-width=\"1\" xmlns=\"http://www.w3.org/2000/svg\"></line><text x=\"37\" y=\"87\">2</text><circle cx=\"75\" cy=\"125\" r=\"3\" fill=\"hsl(121, 100%, 50%)\"/><line x1=\"25\" x2=\"74\" y1=\"75\" y2=\"25\" stroke=\"hsl(162, 100%, 50%)\" stroke-width=\"1\" xmlns=\"http://www.w3.org/2000/svg\"></line><line x1=\"62\" x2=\"62\" y1=\"37\" y2=\"41\" stroke=\"black\" stroke-width=\"1\" xmlns=\"http://www.w3.org/2000/svg\"></line><line x1=\"62\" x2=\"58\" y1=\"37\" y2=\"37\" stroke=\"black\" stroke-width=\"1\" xmlns=\"http://www.w3.org/2000/svg\"></line><text x=\"37\" y=\"62\">3</text><circle cx=\"25\" cy=\"75\" r=\"3\" fill=\"hsl(40, 100%, 50%)\"/><line x1=\"125\" x2=\"74\" y1=\"74\" y2=\"25\" stroke=\"hsl(243, 100%, 50%)\" stroke-width=\"1\" xmlns=\"http://www.w3.org/2000/svg\"></line><line x1=\"87\" x2=\"91\" y1=\"37\" y2=\"37\" stroke=\"black\" stroke-width=\"1\" xmlns=\"http://www.w3.org/2000/svg\"></line><line x1=\"87\" x2=\"87\" y1=\"37\" y2=\"41\" stroke=\"black\" stroke-width=\"1\" xmlns=\"http://www.w3.org/2000/svg\"></line><text x=\"112\" y=\"62\">4</text><circle cx=\"74\" cy=\"25\" r=\"3\" fill=\"hsl(121, 100%, 50%)\"/><line x1=\"275\" x2=\"225\" y1=\"75\" y2=\"125\" stroke=\"hsl(324, 100%, 50%)\" stroke-width=\"1\" xmlns=\"http://www.w3.org/2000/svg\"></line><line x1=\"237\" x2=\"237\" y1=\"112\" y2=\"108\" stroke=\"black\" stroke-width=\"1\" xmlns=\"http://www.w3.org/2000/svg\"></line><line x1=\"237\" x2=\"241\" y1=\"112\" y2=\"112\" stroke=\"black\" stroke-width=\"1\" xmlns=\"http://www.w3.org/2000/svg\"></line><text x=\"262\" y=\"87\">5</text><circle cx=\"275\" cy=\"75\" r=\"3\" fill=\"hsl(40, 100%, 50%)\"/><line x1=\"175\" x2=\"225\" y1=\"75\" y2=\"125\" stroke=\"hsl(45, 100%, 50%)\" stroke-width=\"1\" xmlns=\"http://www.w3.org/2000/svg\"></line><line x1=\"212\" x2=\"208\" y1=\"112\" y2=\"112\" stroke=\"black\" stroke-width=\"1\" xmlns=\"http://www.w3.org/2000/svg\"></line><line x1=\"212\" x2=\"212\" y1=\"112\" y2=\"108\" stroke=\"black\" stroke-width=\"1\" xmlns=\"http://www.w3.org/2000/svg\"></line><text x=\"187\" y=\"87\">6</text><circle cx=\"225\" cy=\"125\" r=\"3\" fill=\"hsl(121, 100%, 50%)\"/><line x1=\"175\" x2=\"225\" y1=\"75\" y2=\"25\" stroke=\"hsl(126, 100%, 50%)\" stroke-width=\"1\" xmlns=\"http://www.w3.org/2000/svg\"></line><line x1=\"212\" x2=\"212\" y1=\"37\" y2=\"41\" stroke=\"black\" stroke-width=\"1\" xmlns=\"http://www.w3.org/2000/svg\"></line><line x1=\"212\" x2=\"208\" y1=\"37\" y2=\"37\" stroke=\"black\" stroke-width=\"1\" xmlns=\"http://www.w3.org/2000/svg\"></line><text x=\"187\" y=\"62\">7</text><circle cx=\"175\" cy=\"75\" r=\"3\" fill=\"hsl(40, 100%, 50%)\"/><line x1=\"275\" x2=\"225\" y1=\"74\" y2=\"25\" stroke=\"hsl(207, 100%, 50%)\" stroke-width=\"1\" xmlns=\"http://www.w3.org/2000/svg\"></line><line x1=\"237\" x2=\"241\" y1=\"37\" y2=\"37\" stroke=\"black\" stroke-width=\"1\" xmlns=\"http://www.w3.org/2000/svg\"></line><line x1=\"237\" x2=\"237\" y1=\"37\" y2=\"41\" stroke=\"black\" stroke-width=\"1\" xmlns=\"http://www.w3.org/2000/svg\"></line><text x=\"262\" y=\"62\">8</text><circle cx=\"225\" cy=\"25\" r=\"3\" fill=\"hsl(121, 100%, 50%)\"/><line x1=\"425\" x2=\"375\" y1=\"75\" y2=\"125\" stroke=\"hsl(243, 100%, 50%)\" stroke-width=\"1\" xmlns=\"http://www.w3.org/2000/svg\"></line><line x1=\"387\" x2=\"387\" y1=\"112\" y2=\"108\" stroke=\"black\" stroke-width=\"1\" xmlns=\"http://www.w3.org/2000/svg\"></line><line x1=\"387\" x2=\"391\" y1=\"112\" y2=\"112\" stroke=\"black\" stroke-width=\"1\" xmlns=\"http://www.w3.org/2000/svg\"></line><text x=\"412\" y=\"87\">4</text><circle cx=\"425\" cy=\"75\" r=\"3\" fill=\"hsl(40, 100%, 50%)\"/><line x1=\"325\" x2=\"375\" y1=\"75\" y2=\"125\" stroke=\"hsl(126, 100%, 50%)\" stroke-width=\"1\" xmlns=\"http://www.w3.org/2000/svg\"></line><line x1=\"362\" x2=\"358\" y1=\"112\" y2=\"112\" stroke=\"black\" stroke-width=\"1\" xmlns=\"http://www.w3.org/2000/svg\"></line><line x1=\"362\" x2=\"362\" y1=\"112\" y2=\"108\" stroke=\"black\" stroke-width=\"1\" xmlns=\"http://www.w3.org/2000/svg\"></line><text x=\"337\" y=\"87\">7</text><circle cx=\"375\" cy=\"125\" r=\"3\" fill=\"hsl(121, 100%, 50%)\"/><line x1=\"325\" x2=\"375\" y1=\"75\" y2=\"25\" stroke=\"hsl(207, 100%, 50%)\" stroke-width=\"1\" xmlns=\"http://www.w3.org/2000/svg\"></line><line x1=\"362\" x2=\"362\" y1=\"37\" y2=\"41\" stroke=\"black\" stroke-width=\"1\" xmlns=\"http://www.w3.org/2000/svg\"></line><line x1=\"362\" x2=\"358\" y1=\"37\" y2=\"37\" stroke=\"black\" stroke-width=\"1\" xmlns=\"http://www.w3.org/2000/svg\"></line><text x=\"337\" y=\"62\">8</text><circle cx=\"325\" cy=\"75\" r=\"3\" fill=\"hsl(40, 100%, 50%)\"/><line x1=\"425\" x2=\"375\" y1=\"74\" y2=\"25\" stroke=\"hsl(324, 100%, 50%)\" stroke-width=\"1\" xmlns=\"http://www.w3.org/2000/svg\"></line><line x1=\"387\" x2=\"391\" y1=\"37\" y2=\"37\" stroke=\"black\" stroke-width=\"1\" xmlns=\"http://www.w3.org/2000/svg\"></line><line x1=\"387\" x2=\"387\" y1=\"37\" y2=\"41\" stroke=\"black\" stroke-width=\"1\" xmlns=\"http://www.w3.org/2000/svg\"></line><text x=\"412\" y=\"62\">5</text><circle cx=\"375\" cy=\"25\" r=\"3\" fill=\"hsl(121, 100%, 50%)\"/><line x1=\"575\" x2=\"525\" y1=\"75\" y2=\"125\" stroke=\"hsl(81, 100%, 50%)\" stroke-width=\"1\" xmlns=\"http://www.w3.org/2000/svg\"></line><line x1=\"537\" x2=\"537\" y1=\"112\" y2=\"108\" stroke=\"black\" stroke-width=\"1\" xmlns=\"http://www.w3.org/2000/svg\"></line><line x1=\"537\" x2=\"541\" y1=\"112\" y2=\"112\" stroke=\"black\" stroke-width=\"1\" xmlns=\"http://www.w3.org/2000/svg\"></line><text x=\"562\" y=\"87\">2</text><circle cx=\"575\" cy=\"75\" r=\"3\" fill=\"hsl(40, 100%, 50%)\"/><line x1=\"475\" x2=\"525\" y1=\"75\" y2=\"125\" stroke=\"hsl(162, 100%, 50%)\" stroke-width=\"1\" xmlns=\"http://www.w3.org/2000/svg\"></line><line x1=\"512\" x2=\"508\" y1=\"112\" y2=\"112\" stroke=\"black\" stroke-width=\"1\" xmlns=\"http://www.w3.org/2000/svg\"></line><line x1=\"512\" x2=\"512\" y1=\"112\" y2=\"108\" stroke=\"black\" stroke-width=\"1\" xmlns=\"http://www.w3.org/2000/svg\"></line><text x=\"487\" y=\"87\">3</text><circle cx=\"525\" cy=\"125\" r=\"3\" fill=\"hsl(121, 100%, 50%)\"/><line x1=\"475\" x2=\"525\" y1=\"75\" y2=\"25\" stroke=\"hsl(45, 100%, 50%)\" stroke-width=\"1\" xmlns=\"http://www.w3.org/2000/svg\"></line><line x1=\"512\" x2=\"512\" y1=\"37\" y2=\"41\" stroke=\"black\" stroke-width=\"1\" xmlns=\"http://www.w3.org/2000/svg\"></line><line x1=\"512\" x2=\"508\" y1=\"37\" y2=\"37\" stroke=\"black\" stroke-width=\"1\" xmlns=\"http://www.w3.org/2000/svg\"></line><text x=\"487\" y=\"62\">6</text><circle cx=\"475\" cy=\"75\" r=\"3\" fill=\"hsl(40, 100%, 50%)\"/><line x1=\"575\" x2=\"525\" y1=\"74\" y2=\"25\" stroke=\"hsl(0, 100%, 50%)\" stroke-width=\"1\" xmlns=\"http://www.w3.org/2000/svg\"></line><line x1=\"537\" x2=\"541\" y1=\"37\" y2=\"37\" stroke=\"black\" stroke-width=\"1\" xmlns=\"http://www.w3.org/2000/svg\"></line><line x1=\"537\" x2=\"537\" y1=\"37\" y2=\"41\" stroke=\"black\" stroke-width=\"1\" xmlns=\"http://www.w3.org/2000/svg\"></line><text x=\"562\" y=\"62\">1</text><circle cx=\"525\" cy=\"25\" r=\"3\" fill=\"hsl(121, 100%, 50%)\"/> </svg>"
      ]
     },
     "metadata": {},
     "output_type": "display_data"
    }
   ],
   "source": [
    "showPlot(quad)"
   ]
  },
  {
   "cell_type": "code",
   "execution_count": 22,
   "metadata": {},
   "outputs": [
    {
     "data": {
      "text/plain": [
       "\u001b[36mres21\u001b[39m: \u001b[32mSet\u001b[39m[\u001b[32mEdge\u001b[39m] = \u001b[33mHashSet\u001b[39m(\n",
       "  superficial.EdgePair@4bd51a4c.negative,\n",
       "  superficial.EdgePair@43413e75.negative,\n",
       "  superficial.EdgePair@7f1f8d08.negative,\n",
       "  superficial.EdgePair@3031e846.negative,\n",
       "  superficial.EdgePair@5f0d2c37.negative,\n",
       "  superficial.EdgePair@3d386e1e.negative,\n",
       "  superficial.EdgePair@3e4cc37c.negative,\n",
       "  superficial.EdgePair@1807f2b.negative,\n",
       "  superficial.EdgePair@4bd51a4c.positive,\n",
       "  superficial.EdgePair@43413e75.positive,\n",
       "  superficial.EdgePair@7f1f8d08.positive,\n",
       "  superficial.EdgePair@3031e846.positive,\n",
       "  superficial.EdgePair@5f0d2c37.positive,\n",
       "  superficial.EdgePair@3d386e1e.positive,\n",
       "  superficial.EdgePair@3e4cc37c.positive,\n",
       "  superficial.EdgePair@1807f2b.positive\n",
       ")"
      ]
     },
     "execution_count": 22,
     "metadata": {},
     "output_type": "execute_result"
    }
   ],
   "source": [
    "quad.edges\n"
   ]
  },
  {
   "cell_type": "code",
   "execution_count": 23,
   "metadata": {},
   "outputs": [
    {
     "data": {
      "text/plain": [
       "\u001b[36meds\u001b[39m: \u001b[32mVector\u001b[39m[\u001b[32mEdge\u001b[39m] = \u001b[33mVector\u001b[39m(\n",
       "  superficial.EdgePair@4bd51a4c.negative,\n",
       "  superficial.EdgePair@43413e75.negative,\n",
       "  superficial.EdgePair@7f1f8d08.negative,\n",
       "  superficial.EdgePair@3031e846.negative,\n",
       "  superficial.EdgePair@5f0d2c37.negative,\n",
       "  superficial.EdgePair@3d386e1e.negative,\n",
       "  superficial.EdgePair@3e4cc37c.negative,\n",
       "  superficial.EdgePair@1807f2b.negative,\n",
       "  superficial.EdgePair@4bd51a4c.positive,\n",
       "  superficial.EdgePair@43413e75.positive,\n",
       "  superficial.EdgePair@7f1f8d08.positive,\n",
       "  superficial.EdgePair@3031e846.positive,\n",
       "  superficial.EdgePair@5f0d2c37.positive,\n",
       "  superficial.EdgePair@3d386e1e.positive,\n",
       "  superficial.EdgePair@3e4cc37c.positive,\n",
       "  superficial.EdgePair@1807f2b.positive\n",
       ")"
      ]
     },
     "execution_count": 23,
     "metadata": {},
     "output_type": "execute_result"
    }
   ],
   "source": [
    "val eds = quad.edges.toVector"
   ]
  },
  {
   "cell_type": "code",
   "execution_count": 24,
   "metadata": {},
   "outputs": [
    {
     "data": {
      "text/plain": [
       "\u001b[36mres23\u001b[39m: \u001b[32mVector\u001b[39m[\u001b[32mVertex\u001b[39m] = \u001b[33mVector\u001b[39m(\n",
       "  superficial.Vertex@5d8c7cd9,\n",
       "  superficial.Vertex@5d8c7cd9,\n",
       "  superficial.Vertex@5d8c7cd9,\n",
       "  superficial.Vertex@5d8c7cd9,\n",
       "  superficial.Vertex@5d8c7cd9,\n",
       "  superficial.Vertex@5d8c7cd9,\n",
       "  superficial.Vertex@5d8c7cd9,\n",
       "  superficial.Vertex@5d8c7cd9,\n",
       "  superficial.Quadrangulation$bFace$1$@6fc6261b,\n",
       "  superficial.Quadrangulation$bFace$1$@6fc6261b,\n",
       "  superficial.Quadrangulation$bFace$1$@6fc6261b,\n",
       "  superficial.Quadrangulation$bFace$1$@6fc6261b,\n",
       "  superficial.Quadrangulation$bFace$1$@6fc6261b,\n",
       "  superficial.Quadrangulation$bFace$1$@6fc6261b,\n",
       "  superficial.Quadrangulation$bFace$1$@6fc6261b,\n",
       "  superficial.Quadrangulation$bFace$1$@6fc6261b\n",
       ")"
      ]
     },
     "execution_count": 24,
     "metadata": {},
     "output_type": "execute_result"
    }
   ],
   "source": [
    "eds.map(_.initial)"
   ]
  },
  {
   "cell_type": "code",
   "execution_count": 25,
   "metadata": {},
   "outputs": [
    {
     "data": {
      "text/plain": [
       "\u001b[36mres24\u001b[39m: \u001b[32mEdge\u001b[39m = superficial.EdgePair@4bd51a4c.negative"
      ]
     },
     "execution_count": 25,
     "metadata": {},
     "output_type": "execute_result"
    }
   ],
   "source": [
    "eds(0)"
   ]
  },
  {
   "cell_type": "code",
   "execution_count": 25,
   "metadata": {},
   "outputs": [
    {
     "name": "stderr",
     "output_type": "stream",
     "text": [
      "cmd25.sc:1: type mismatch;\n",
      " found   : superficial.TwoComplex\n",
      " required: superficial.NonPosQuad\n",
      "def randomPath = turnPathToEdgePath(eds(0), Vector(1,2,3,4,5,6), quad)\n",
      "                                                                 ^Compilation Failed"
     ]
    },
    {
     "ename": "",
     "evalue": "",
     "output_type": "error",
     "traceback": [
      "Compilation Failed"
     ]
    }
   ],
   "source": [
    "def randomPath = turnPathToEdgePath(eds(0), Vector(1,2,3,4,5,6), quad.asInstanceOf[NonPosQuad])"
   ]
  },
  {
   "cell_type": "code",
   "execution_count": null,
   "metadata": {},
   "outputs": [],
   "source": [
    "def randomPath = turnPathToEdgePath(eds(0), Vector(1,2,3,4,5,6))"
   ]
  }
 ],
 "metadata": {
  "kernelspec": {
   "display_name": "scala-2.13",
   "language": "scala",
   "name": "scala-2.13"
  },
  "language_info": {
   "codemirror_mode": "text/x-scala",
   "file_extension": ".scala",
   "mimetype": "text/x-scala",
   "name": "scala",
   "nbconvert_exporter": "script",
   "version": "2.13.1"
  }
 },
 "nbformat": 4,
 "nbformat_minor": 2
}
