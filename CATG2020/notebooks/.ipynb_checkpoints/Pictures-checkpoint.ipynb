{
 "cells": [
  {
   "cell_type": "markdown",
   "metadata": {},
   "source": [
    "# Standard surfaces, visualization\n",
    "\n",
    "This is to illustrate constructing and visualizing surfaces in a notebook. "
   ]
  },
  {
   "cell_type": "code",
   "execution_count": 1,
   "metadata": {},
   "outputs": [
    {
     "data": {
      "text/plain": [
       "\u001b[32mimport \u001b[39m\u001b[36m$cp.$                               \n",
       "\u001b[39m\n",
       "\u001b[32mimport \u001b[39m\u001b[36msuperficial._\u001b[39m"
      ]
     },
     "execution_count": 1,
     "metadata": {},
     "output_type": "execute_result"
    }
   ],
   "source": [
    "import $cp.bin.`superficial-6e81b70e5d.jar`\n",
    "import superficial._"
   ]
  },
  {
   "cell_type": "code",
   "execution_count": 2,
   "metadata": {},
   "outputs": [
    {
     "data": {
      "text/plain": [
       "\u001b[36mgenus2\u001b[39m: \u001b[32mStandardSurface\u001b[39m = superficial.StandardSurface@ba2d0d7"
      ]
     },
     "execution_count": 2,
     "metadata": {},
     "output_type": "execute_result"
    }
   ],
   "source": [
    "val genus2 = new StandardSurface(2)"
   ]
  },
  {
   "cell_type": "code",
   "execution_count": 3,
   "metadata": {},
   "outputs": [
    {
     "data": {
      "text/plain": [
       "\u001b[36mpic\u001b[39m: \u001b[32mxml\u001b[39m.\u001b[32mElem\u001b[39m = \u001b[33mSeq\u001b[39m(\n",
       "  \u001b[33mSeq\u001b[39m(\n",
       "    \u001b[33mSeq\u001b[39m(\n",
       "      \u001b[33mSeq\u001b[39m(\n",
       "        \u001b[33mSeq\u001b[39m(\n",
       "          \u001b[33mSeq\u001b[39m(\n",
       "            \u001b[33mSeq\u001b[39m(\n",
       "              \u001b[33mSeq\u001b[39m(\n",
       "                \u001b[33mSeq\u001b[39m(\n",
       "                  \u001b[33mSeq\u001b[39m(\n",
       "                    \u001b[33mSeq\u001b[39m(\n",
       "                      \u001b[33mSeq\u001b[39m(\n",
       "                        \u001b[33mSeq\u001b[39m(\n",
       "                          \u001b[33mSeq\u001b[39m(\n",
       "                            \u001b[33mSeq\u001b[39m(\n",
       "                              \u001b[33mSeq\u001b[39m(\n",
       "                                \u001b[33mSeq\u001b[39m(\n",
       "                                  \u001b[33mSeq\u001b[39m(\n",
       "                                    \u001b[33mSeq\u001b[39m(\n",
       "                                      \u001b[33mSeq\u001b[39m(\n",
       "                                        \u001b[33mSeq\u001b[39m(\n",
       "                                          \u001b[33mSeq\u001b[39m(\n",
       "                                            \u001b[33mSeq\u001b[39m(\n",
       "                                              \u001b[33mSeq\u001b[39m(\n",
       "                                                \u001b[33mSeq\u001b[39m(\n",
       "                                                  \u001b[33mSeq\u001b[39m(\n",
       "                                                    \u001b[33mSeq\u001b[39m(\n",
       "                                                      \u001b[33mSeq\u001b[39m(\n",
       "                                                        \u001b[33mSeq\u001b[39m(\n",
       "                                                          \u001b[33mSeq\u001b[39m(\n",
       "                                                            \u001b[33mSeq\u001b[39m(\n",
       "                                                              \u001b[33mSeq\u001b[39m(\n",
       "                                                                \u001b[33mSeq\u001b[39m(\n",
       "                                                                  \u001b[33mSeq\u001b[39m(\n",
       "                                                                    \u001b[33mSeq\u001b[39m(\n",
       "                                                                      \u001b[33mSeq\u001b[39m(\n",
       "                                                                        \u001b[33mSeq\u001b[39m(\n",
       "                                                                          \u001b[33mSeq\u001b[39m(\n",
       "                                                                            \u001b[33mSeq\u001b[39m(\n",
       "..."
      ]
     },
     "execution_count": 3,
     "metadata": {},
     "output_type": "execute_result"
    }
   ],
   "source": [
    "val pic = SvgPlot.plotComplex(genus2)"
   ]
  },
  {
   "cell_type": "code",
   "execution_count": 4,
   "metadata": {},
   "outputs": [
    {
     "data": {
      "text/plain": [
       "\u001b[32mimport \u001b[39m\u001b[36malmond.interpreter.api._\u001b[39m"
      ]
     },
     "execution_count": 4,
     "metadata": {},
     "output_type": "execute_result"
    }
   ],
   "source": [
    "import almond.interpreter.api._"
   ]
  },
  {
   "cell_type": "code",
   "execution_count": 5,
   "metadata": {},
   "outputs": [
    {
     "data": {
      "text/plain": [
       "\u001b[36mpicData\u001b[39m: \u001b[32mDisplayData\u001b[39m = \u001b[33mDisplayData\u001b[39m(\n",
       "  \u001b[33mMap\u001b[39m(\n",
       "    \u001b[32m\"image/svg+xml\"\u001b[39m -> \u001b[32m\"\"\"<svg version=\"1.1\" baseProfile=\"full\" viewBox=\"0 0 150 150\" xmlns=\"http://www.w3.org/2000/svg\">\n",
       "           <line x1=\"125\" x2=\"110\" y1=\"75\" y2=\"110\" stroke=\"hsl(0, 100%, 50%)\" stroke-width=\"1\" xmlns=\"http://www.w3.org/2000/svg\"></line><line x1=\"114\" x2=\"112\" y1=\"101\" y2=\"97\" stroke=\"black\" stroke-width=\"1\" xmlns=\"http://www.w3.org/2000/svg\"></line><line x1=\"114\" x2=\"117\" y1=\"101\" y2=\"99\" stroke=\"black\" stroke-width=\"1\" xmlns=\"http://www.w3.org/2000/svg\"></line><text x=\"121\" y=\"83\">1</text><circle cx=\"125\" cy=\"75\" r=\"3\" fill=\"hsl(40, 100%, 50%)\"/><line x1=\"75\" x2=\"110\" y1=\"125\" y2=\"110\" stroke=\"hsl(162, 100%, 50%)\" stroke-width=\"1\" xmlns=\"http://www.w3.org/2000/svg\"></line><line x1=\"101\" x2=\"99\" y1=\"114\" y2=\"117\" stroke=\"black\" stroke-width=\"1\" xmlns=\"http://www.w3.org/2000/svg\"></line><line x1=\"101\" x2=\"97\" y1=\"114\" y2=\"112\" stroke=\"black\" stroke-width=\"1\" xmlns=\"http://www.w3.org/2000/svg\"></line><text x=\"83\" y=\"121\">3</text><circle cx=\"110\" cy=\"110\" r=\"3\" fill=\"hsl(40, 100%, 50%)\"/><line x1=\"39\" x2=\"75\" y1=\"110\" y2=\"125\" stroke=\"hsl(0, 100%, 50%)\" stroke-width=\"1\" xmlns=\"http://www.w3.org/2000/svg\"></line><line x1=\"66\" x2=\"62\" y1=\"121\" y2=\"122\" stroke=\"black\" stroke-width=\"1\" xmlns=\"http://www.w3.org/2000/svg\"></line><line x1=\"66\" x2=\"64\" y1=\"121\" y2=\"117\" stroke=\"black\" stroke-width=\"1\" xmlns=\"http://www.w3.org/2000/svg\"></line><text x=\"48\" y=\"114\">1</text><circle cx=\"75\" cy=\"125\" r=\"3\" fill=\"hsl(40, 100%, 50%)\"/><line x1=\"39\" x2=\"25\" y1=\"110\" y2=\"75\" stroke=\"hsl(162, 100%, 50%)\" stroke-width=\"1\" xmlns=\"http://www.w3.org/2000/svg\"></line><line x1=\"28\" x2=\"32\" y1=\"83\" y2=\"85\" stroke=\"black\" stroke-width=\"1\" xmlns=\"http://www.w3.org/2000/svg\"></line><line x1=\"28\" x2=\"27\" y1=\"83\" y2=\"87\" stroke=\"black\" stroke-width=\"1\" xmlns=\"http://www.w3.org/2000/svg\"></line><text x=\"35\" y=\"101\">3</text><circle cx=\"39\" cy=\"110\" r=\"3\" fill=\"hsl(40, 100%, 50%)\"/><line x1=\"25\" x2=\"39\" y1=\"75\" y2=\"39\" stroke=\"hsl(243, 100%, 50%)\" stroke-width=\"1\" xmlns=\"http://www.w3.org/2000/svg\"></line><line x1=\"35\" x2=\"37\" y1=\"48\" y2=\"52\" stroke=\"black\" stroke-width=\"1\" xmlns=\"http://www.w3.org/2000/svg\"></line><line x1=\"35\" x2=\"32\" y1=\"48\" y2=\"50\" stroke=\"black\" stroke-width=\"1\" xmlns=\"http://www.w3.org/2000/svg\"></line><text x=\"28\" y=\"66\">4</text><circle cx=\"25\" cy=\"75\" r=\"3\" fill=\"hsl(40, 100%, 50%)\"/><line x1=\"39\" x2=\"74\" y1=\"39\" y2=\"25\" stroke=\"hsl(81, 100%, 50%)\" stroke-width=\"1\" xmlns=\"http://www.w3.org/2000/svg\"></line><line x1=\"66\" x2=\"64\" y1=\"28\" y2=\"32\" stroke=\"black\" stroke-width=\"1\" xmlns=\"http://www.w3.org/2000/svg\"></line><line x1=\"66\" x2=\"62\" y1=\"28\" y2=\"27\" stroke=\"black\" stroke-width=\"1\" xmlns=\"http://www.w3.org/2000/svg\"></line><text x=\"48\" y=\"35\">2</text><circle cx=\"39\" cy=\"39\" r=\"3\" fill=\"hsl(40, 100%, 50%)\"/><line x1=\"110\" x2=\"74\" y1=\"39\" y2=\"25\" stroke=\"hsl(243, 100%, 50%)\" stroke-width=\"1\" xmlns=\"http://www.w3.org/2000/svg\"></line><line x1=\"83\" x2=\"87\" y\u001b[39m..."
      ]
     },
     "execution_count": 5,
     "metadata": {},
     "output_type": "execute_result"
    }
   ],
   "source": [
    "val picData = DisplayData.svg(pic.toString)"
   ]
  },
  {
   "cell_type": "code",
   "execution_count": 6,
   "metadata": {},
   "outputs": [
    {
     "data": {
      "image/svg+xml": [
       "<svg version=\"1.1\" baseProfile=\"full\" viewBox=\"0 0 150 150\" xmlns=\"http://www.w3.org/2000/svg\">\n",
       "           <line x1=\"125\" x2=\"110\" y1=\"75\" y2=\"110\" stroke=\"hsl(0, 100%, 50%)\" stroke-width=\"1\" xmlns=\"http://www.w3.org/2000/svg\"></line><line x1=\"114\" x2=\"112\" y1=\"101\" y2=\"97\" stroke=\"black\" stroke-width=\"1\" xmlns=\"http://www.w3.org/2000/svg\"></line><line x1=\"114\" x2=\"117\" y1=\"101\" y2=\"99\" stroke=\"black\" stroke-width=\"1\" xmlns=\"http://www.w3.org/2000/svg\"></line><text x=\"121\" y=\"83\">1</text><circle cx=\"125\" cy=\"75\" r=\"3\" fill=\"hsl(40, 100%, 50%)\"/><line x1=\"75\" x2=\"110\" y1=\"125\" y2=\"110\" stroke=\"hsl(162, 100%, 50%)\" stroke-width=\"1\" xmlns=\"http://www.w3.org/2000/svg\"></line><line x1=\"101\" x2=\"99\" y1=\"114\" y2=\"117\" stroke=\"black\" stroke-width=\"1\" xmlns=\"http://www.w3.org/2000/svg\"></line><line x1=\"101\" x2=\"97\" y1=\"114\" y2=\"112\" stroke=\"black\" stroke-width=\"1\" xmlns=\"http://www.w3.org/2000/svg\"></line><text x=\"83\" y=\"121\">3</text><circle cx=\"110\" cy=\"110\" r=\"3\" fill=\"hsl(40, 100%, 50%)\"/><line x1=\"39\" x2=\"75\" y1=\"110\" y2=\"125\" stroke=\"hsl(0, 100%, 50%)\" stroke-width=\"1\" xmlns=\"http://www.w3.org/2000/svg\"></line><line x1=\"66\" x2=\"62\" y1=\"121\" y2=\"122\" stroke=\"black\" stroke-width=\"1\" xmlns=\"http://www.w3.org/2000/svg\"></line><line x1=\"66\" x2=\"64\" y1=\"121\" y2=\"117\" stroke=\"black\" stroke-width=\"1\" xmlns=\"http://www.w3.org/2000/svg\"></line><text x=\"48\" y=\"114\">1</text><circle cx=\"75\" cy=\"125\" r=\"3\" fill=\"hsl(40, 100%, 50%)\"/><line x1=\"39\" x2=\"25\" y1=\"110\" y2=\"75\" stroke=\"hsl(162, 100%, 50%)\" stroke-width=\"1\" xmlns=\"http://www.w3.org/2000/svg\"></line><line x1=\"28\" x2=\"32\" y1=\"83\" y2=\"85\" stroke=\"black\" stroke-width=\"1\" xmlns=\"http://www.w3.org/2000/svg\"></line><line x1=\"28\" x2=\"27\" y1=\"83\" y2=\"87\" stroke=\"black\" stroke-width=\"1\" xmlns=\"http://www.w3.org/2000/svg\"></line><text x=\"35\" y=\"101\">3</text><circle cx=\"39\" cy=\"110\" r=\"3\" fill=\"hsl(40, 100%, 50%)\"/><line x1=\"25\" x2=\"39\" y1=\"75\" y2=\"39\" stroke=\"hsl(243, 100%, 50%)\" stroke-width=\"1\" xmlns=\"http://www.w3.org/2000/svg\"></line><line x1=\"35\" x2=\"37\" y1=\"48\" y2=\"52\" stroke=\"black\" stroke-width=\"1\" xmlns=\"http://www.w3.org/2000/svg\"></line><line x1=\"35\" x2=\"32\" y1=\"48\" y2=\"50\" stroke=\"black\" stroke-width=\"1\" xmlns=\"http://www.w3.org/2000/svg\"></line><text x=\"28\" y=\"66\">4</text><circle cx=\"25\" cy=\"75\" r=\"3\" fill=\"hsl(40, 100%, 50%)\"/><line x1=\"39\" x2=\"74\" y1=\"39\" y2=\"25\" stroke=\"hsl(81, 100%, 50%)\" stroke-width=\"1\" xmlns=\"http://www.w3.org/2000/svg\"></line><line x1=\"66\" x2=\"64\" y1=\"28\" y2=\"32\" stroke=\"black\" stroke-width=\"1\" xmlns=\"http://www.w3.org/2000/svg\"></line><line x1=\"66\" x2=\"62\" y1=\"28\" y2=\"27\" stroke=\"black\" stroke-width=\"1\" xmlns=\"http://www.w3.org/2000/svg\"></line><text x=\"48\" y=\"35\">2</text><circle cx=\"39\" cy=\"39\" r=\"3\" fill=\"hsl(40, 100%, 50%)\"/><line x1=\"110\" x2=\"74\" y1=\"39\" y2=\"25\" stroke=\"hsl(243, 100%, 50%)\" stroke-width=\"1\" xmlns=\"http://www.w3.org/2000/svg\"></line><line x1=\"83\" x2=\"87\" y1=\"28\" y2=\"27\" stroke=\"black\" stroke-width=\"1\" xmlns=\"http://www.w3.org/2000/svg\"></line><line x1=\"83\" x2=\"85\" y1=\"28\" y2=\"32\" stroke=\"black\" stroke-width=\"1\" xmlns=\"http://www.w3.org/2000/svg\"></line><text x=\"101\" y=\"35\">4</text><circle cx=\"74\" cy=\"25\" r=\"3\" fill=\"hsl(40, 100%, 50%)\"/><line x1=\"125\" x2=\"110\" y1=\"74\" y2=\"39\" stroke=\"hsl(81, 100%, 50%)\" stroke-width=\"1\" xmlns=\"http://www.w3.org/2000/svg\"></line><line x1=\"114\" x2=\"117\" y1=\"48\" y2=\"50\" stroke=\"black\" stroke-width=\"1\" xmlns=\"http://www.w3.org/2000/svg\"></line><line x1=\"114\" x2=\"112\" y1=\"48\" y2=\"52\" stroke=\"black\" stroke-width=\"1\" xmlns=\"http://www.w3.org/2000/svg\"></line><text x=\"121\" y=\"66\">2</text><circle cx=\"110\" cy=\"39\" r=\"3\" fill=\"hsl(40, 100%, 50%)\"/> </svg>"
      ]
     },
     "metadata": {},
     "output_type": "display_data"
    }
   ],
   "source": [
    "kernel.publish.display(picData)"
   ]
  },
  {
   "cell_type": "code",
   "execution_count": 7,
   "metadata": {},
   "outputs": [
    {
     "data": {
      "text/plain": [
       "\u001b[36mq\u001b[39m: \u001b[32mTwoComplex\u001b[39m = superficial.TwoComplex$quad$1$@1ca04c4e"
      ]
     },
     "execution_count": 7,
     "metadata": {},
     "output_type": "execute_result"
    }
   ],
   "source": [
    "val q = genus2.quadrangulate"
   ]
  },
  {
   "cell_type": "code",
   "execution_count": 8,
   "metadata": {},
   "outputs": [
    {
     "data": {
      "image/svg+xml": [
       "<svg version=\"1.1\" baseProfile=\"full\" viewBox=\"0 0 600 150\" xmlns=\"http://www.w3.org/2000/svg\">\n",
       "           <line x1=\"125\" x2=\"75\" y1=\"75\" y2=\"125\" stroke=\"hsl(0, 100%, 50%)\" stroke-width=\"1\" xmlns=\"http://www.w3.org/2000/svg\"></line><line x1=\"87\" x2=\"87\" y1=\"112\" y2=\"108\" stroke=\"black\" stroke-width=\"1\" xmlns=\"http://www.w3.org/2000/svg\"></line><line x1=\"87\" x2=\"91\" y1=\"112\" y2=\"112\" stroke=\"black\" stroke-width=\"1\" xmlns=\"http://www.w3.org/2000/svg\"></line><text x=\"112\" y=\"87\">1</text><circle cx=\"125\" cy=\"75\" r=\"3\" fill=\"hsl(40, 100%, 50%)\"/><line x1=\"25\" x2=\"75\" y1=\"75\" y2=\"125\" stroke=\"hsl(81, 100%, 50%)\" stroke-width=\"1\" xmlns=\"http://www.w3.org/2000/svg\"></line><line x1=\"62\" x2=\"58\" y1=\"112\" y2=\"112\" stroke=\"black\" stroke-width=\"1\" xmlns=\"http://www.w3.org/2000/svg\"></line><line x1=\"62\" x2=\"62\" y1=\"112\" y2=\"108\" stroke=\"black\" stroke-width=\"1\" xmlns=\"http://www.w3.org/2000/svg\"></line><text x=\"37\" y=\"87\">2</text><circle cx=\"75\" cy=\"125\" r=\"3\" fill=\"hsl(121, 100%, 50%)\"/><line x1=\"25\" x2=\"74\" y1=\"75\" y2=\"25\" stroke=\"hsl(162, 100%, 50%)\" stroke-width=\"1\" xmlns=\"http://www.w3.org/2000/svg\"></line><line x1=\"62\" x2=\"62\" y1=\"37\" y2=\"41\" stroke=\"black\" stroke-width=\"1\" xmlns=\"http://www.w3.org/2000/svg\"></line><line x1=\"62\" x2=\"58\" y1=\"37\" y2=\"37\" stroke=\"black\" stroke-width=\"1\" xmlns=\"http://www.w3.org/2000/svg\"></line><text x=\"37\" y=\"62\">3</text><circle cx=\"25\" cy=\"75\" r=\"3\" fill=\"hsl(40, 100%, 50%)\"/><line x1=\"125\" x2=\"74\" y1=\"74\" y2=\"25\" stroke=\"hsl(243, 100%, 50%)\" stroke-width=\"1\" xmlns=\"http://www.w3.org/2000/svg\"></line><line x1=\"87\" x2=\"91\" y1=\"37\" y2=\"37\" stroke=\"black\" stroke-width=\"1\" xmlns=\"http://www.w3.org/2000/svg\"></line><line x1=\"87\" x2=\"87\" y1=\"37\" y2=\"41\" stroke=\"black\" stroke-width=\"1\" xmlns=\"http://www.w3.org/2000/svg\"></line><text x=\"112\" y=\"62\">4</text><circle cx=\"74\" cy=\"25\" r=\"3\" fill=\"hsl(121, 100%, 50%)\"/><line x1=\"275\" x2=\"225\" y1=\"75\" y2=\"125\" stroke=\"hsl(324, 100%, 50%)\" stroke-width=\"1\" xmlns=\"http://www.w3.org/2000/svg\"></line><line x1=\"237\" x2=\"237\" y1=\"112\" y2=\"108\" stroke=\"black\" stroke-width=\"1\" xmlns=\"http://www.w3.org/2000/svg\"></line><line x1=\"237\" x2=\"241\" y1=\"112\" y2=\"112\" stroke=\"black\" stroke-width=\"1\" xmlns=\"http://www.w3.org/2000/svg\"></line><text x=\"262\" y=\"87\">5</text><circle cx=\"275\" cy=\"75\" r=\"3\" fill=\"hsl(40, 100%, 50%)\"/><line x1=\"175\" x2=\"225\" y1=\"75\" y2=\"125\" stroke=\"hsl(45, 100%, 50%)\" stroke-width=\"1\" xmlns=\"http://www.w3.org/2000/svg\"></line><line x1=\"212\" x2=\"208\" y1=\"112\" y2=\"112\" stroke=\"black\" stroke-width=\"1\" xmlns=\"http://www.w3.org/2000/svg\"></line><line x1=\"212\" x2=\"212\" y1=\"112\" y2=\"108\" stroke=\"black\" stroke-width=\"1\" xmlns=\"http://www.w3.org/2000/svg\"></line><text x=\"187\" y=\"87\">6</text><circle cx=\"225\" cy=\"125\" r=\"3\" fill=\"hsl(121, 100%, 50%)\"/><line x1=\"175\" x2=\"225\" y1=\"75\" y2=\"25\" stroke=\"hsl(243, 100%, 50%)\" stroke-width=\"1\" xmlns=\"http://www.w3.org/2000/svg\"></line><line x1=\"212\" x2=\"212\" y1=\"37\" y2=\"41\" stroke=\"black\" stroke-width=\"1\" xmlns=\"http://www.w3.org/2000/svg\"></line><line x1=\"212\" x2=\"208\" y1=\"37\" y2=\"37\" stroke=\"black\" stroke-width=\"1\" xmlns=\"http://www.w3.org/2000/svg\"></line><text x=\"187\" y=\"62\">4</text><circle cx=\"175\" cy=\"75\" r=\"3\" fill=\"hsl(40, 100%, 50%)\"/><line x1=\"275\" x2=\"225\" y1=\"74\" y2=\"25\" stroke=\"hsl(126, 100%, 50%)\" stroke-width=\"1\" xmlns=\"http://www.w3.org/2000/svg\"></line><line x1=\"237\" x2=\"241\" y1=\"37\" y2=\"37\" stroke=\"black\" stroke-width=\"1\" xmlns=\"http://www.w3.org/2000/svg\"></line><line x1=\"237\" x2=\"237\" y1=\"37\" y2=\"41\" stroke=\"black\" stroke-width=\"1\" xmlns=\"http://www.w3.org/2000/svg\"></line><text x=\"262\" y=\"62\">7</text><circle cx=\"225\" cy=\"25\" r=\"3\" fill=\"hsl(121, 100%, 50%)\"/><line x1=\"425\" x2=\"375\" y1=\"75\" y2=\"125\" stroke=\"hsl(207, 100%, 50%)\" stroke-width=\"1\" xmlns=\"http://www.w3.org/2000/svg\"></line><line x1=\"387\" x2=\"387\" y1=\"112\" y2=\"108\" stroke=\"black\" stroke-width=\"1\" xmlns=\"http://www.w3.org/2000/svg\"></line><line x1=\"387\" x2=\"391\" y1=\"112\" y2=\"112\" stroke=\"black\" stroke-width=\"1\" xmlns=\"http://www.w3.org/2000/svg\"></line><text x=\"412\" y=\"87\">8</text><circle cx=\"425\" cy=\"75\" r=\"3\" fill=\"hsl(40, 100%, 50%)\"/><line x1=\"325\" x2=\"375\" y1=\"75\" y2=\"125\" stroke=\"hsl(0, 100%, 50%)\" stroke-width=\"1\" xmlns=\"http://www.w3.org/2000/svg\"></line><line x1=\"362\" x2=\"358\" y1=\"112\" y2=\"112\" stroke=\"black\" stroke-width=\"1\" xmlns=\"http://www.w3.org/2000/svg\"></line><line x1=\"362\" x2=\"362\" y1=\"112\" y2=\"108\" stroke=\"black\" stroke-width=\"1\" xmlns=\"http://www.w3.org/2000/svg\"></line><text x=\"337\" y=\"87\">1</text><circle cx=\"375\" cy=\"125\" r=\"3\" fill=\"hsl(121, 100%, 50%)\"/><line x1=\"325\" x2=\"375\" y1=\"75\" y2=\"25\" stroke=\"hsl(81, 100%, 50%)\" stroke-width=\"1\" xmlns=\"http://www.w3.org/2000/svg\"></line><line x1=\"362\" x2=\"362\" y1=\"37\" y2=\"41\" stroke=\"black\" stroke-width=\"1\" xmlns=\"http://www.w3.org/2000/svg\"></line><line x1=\"362\" x2=\"358\" y1=\"37\" y2=\"37\" stroke=\"black\" stroke-width=\"1\" xmlns=\"http://www.w3.org/2000/svg\"></line><text x=\"337\" y=\"62\">2</text><circle cx=\"325\" cy=\"75\" r=\"3\" fill=\"hsl(40, 100%, 50%)\"/><line x1=\"425\" x2=\"375\" y1=\"74\" y2=\"25\" stroke=\"hsl(162, 100%, 50%)\" stroke-width=\"1\" xmlns=\"http://www.w3.org/2000/svg\"></line><line x1=\"387\" x2=\"391\" y1=\"37\" y2=\"37\" stroke=\"black\" stroke-width=\"1\" xmlns=\"http://www.w3.org/2000/svg\"></line><line x1=\"387\" x2=\"387\" y1=\"37\" y2=\"41\" stroke=\"black\" stroke-width=\"1\" xmlns=\"http://www.w3.org/2000/svg\"></line><text x=\"412\" y=\"62\">3</text><circle cx=\"375\" cy=\"25\" r=\"3\" fill=\"hsl(121, 100%, 50%)\"/><line x1=\"575\" x2=\"525\" y1=\"75\" y2=\"125\" stroke=\"hsl(126, 100%, 50%)\" stroke-width=\"1\" xmlns=\"http://www.w3.org/2000/svg\"></line><line x1=\"537\" x2=\"537\" y1=\"112\" y2=\"108\" stroke=\"black\" stroke-width=\"1\" xmlns=\"http://www.w3.org/2000/svg\"></line><line x1=\"537\" x2=\"541\" y1=\"112\" y2=\"112\" stroke=\"black\" stroke-width=\"1\" xmlns=\"http://www.w3.org/2000/svg\"></line><text x=\"562\" y=\"87\">7</text><circle cx=\"575\" cy=\"75\" r=\"3\" fill=\"hsl(40, 100%, 50%)\"/><line x1=\"475\" x2=\"525\" y1=\"75\" y2=\"125\" stroke=\"hsl(324, 100%, 50%)\" stroke-width=\"1\" xmlns=\"http://www.w3.org/2000/svg\"></line><line x1=\"512\" x2=\"508\" y1=\"112\" y2=\"112\" stroke=\"black\" stroke-width=\"1\" xmlns=\"http://www.w3.org/2000/svg\"></line><line x1=\"512\" x2=\"512\" y1=\"112\" y2=\"108\" stroke=\"black\" stroke-width=\"1\" xmlns=\"http://www.w3.org/2000/svg\"></line><text x=\"487\" y=\"87\">5</text><circle cx=\"525\" cy=\"125\" r=\"3\" fill=\"hsl(121, 100%, 50%)\"/><line x1=\"475\" x2=\"525\" y1=\"75\" y2=\"25\" stroke=\"hsl(45, 100%, 50%)\" stroke-width=\"1\" xmlns=\"http://www.w3.org/2000/svg\"></line><line x1=\"512\" x2=\"512\" y1=\"37\" y2=\"41\" stroke=\"black\" stroke-width=\"1\" xmlns=\"http://www.w3.org/2000/svg\"></line><line x1=\"512\" x2=\"508\" y1=\"37\" y2=\"37\" stroke=\"black\" stroke-width=\"1\" xmlns=\"http://www.w3.org/2000/svg\"></line><text x=\"487\" y=\"62\">6</text><circle cx=\"475\" cy=\"75\" r=\"3\" fill=\"hsl(40, 100%, 50%)\"/><line x1=\"575\" x2=\"525\" y1=\"74\" y2=\"25\" stroke=\"hsl(207, 100%, 50%)\" stroke-width=\"1\" xmlns=\"http://www.w3.org/2000/svg\"></line><line x1=\"537\" x2=\"541\" y1=\"37\" y2=\"37\" stroke=\"black\" stroke-width=\"1\" xmlns=\"http://www.w3.org/2000/svg\"></line><line x1=\"537\" x2=\"537\" y1=\"37\" y2=\"41\" stroke=\"black\" stroke-width=\"1\" xmlns=\"http://www.w3.org/2000/svg\"></line><text x=\"562\" y=\"62\">8</text><circle cx=\"525\" cy=\"25\" r=\"3\" fill=\"hsl(121, 100%, 50%)\"/> </svg>"
      ]
     },
     "metadata": {},
     "output_type": "display_data"
    }
   ],
   "source": [
    "kernel.publish.display(DisplayData.svg(SvgPlot.plotComplex(q).toString))"
   ]
  },
  {
   "cell_type": "markdown",
   "metadata": {},
   "source": [
    "We can rerun stuff after correcting, by using `./mill -w superficial.bin` to recompile on change, and restarting kernel to load a fresh version."
   ]
  }
 ],
 "metadata": {
  "kernelspec": {
   "display_name": "scala-2.13",
   "language": "scala",
   "name": "scala-2.13"
  },
  "language_info": {
   "codemirror_mode": "text/x-scala",
   "file_extension": ".scala",
   "mimetype": "text/x-scala",
   "name": "scala",
   "nbconvert_exporter": "script",
   "version": "2.13.1"
  }
 },
 "nbformat": 4,
 "nbformat_minor": 2
}
